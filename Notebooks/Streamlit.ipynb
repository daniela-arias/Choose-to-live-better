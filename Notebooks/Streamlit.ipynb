{
 "cells": [
  {
   "cell_type": "markdown",
   "id": "4f419a42",
   "metadata": {},
   "source": [
    "## 1. Import libraries"
   ]
  },
  {
   "cell_type": "code",
   "execution_count": 1,
   "id": "635db1a1",
   "metadata": {},
   "outputs": [],
   "source": [
    "import nltk\n",
    "from nltk.sentiment.vader import SentimentIntensityAnalyzer\n",
    "import plotly.express as px"
   ]
  },
  {
   "cell_type": "code",
   "execution_count": 2,
   "id": "1241e609",
   "metadata": {},
   "outputs": [],
   "source": [
    "import pandas as pd\n",
    "import xlrd\n",
    "from geopy.geocoders import Nominatim"
   ]
  },
  {
   "cell_type": "code",
   "execution_count": 3,
   "id": "13d71af8",
   "metadata": {},
   "outputs": [],
   "source": [
    "import pandas as pd\n",
    "import numpy as np\n",
    "import sys\n",
    "sys.path.append(\"../\")"
   ]
  },
  {
   "cell_type": "markdown",
   "id": "65ffe159",
   "metadata": {},
   "source": [
    "## 2. Import Data"
   ]
  },
  {
   "cell_type": "code",
   "execution_count": 4,
   "id": "d9b86f89",
   "metadata": {},
   "outputs": [],
   "source": [
    "subdata0 = pd.read_csv(\"../Data/subdata0.csv\")"
   ]
  },
  {
   "cell_type": "code",
   "execution_count": 5,
   "id": "09697713",
   "metadata": {},
   "outputs": [],
   "source": [
    "subdata1 = pd.read_csv(\"../Data/subdata1.csv\")"
   ]
  },
  {
   "cell_type": "code",
   "execution_count": 6,
   "id": "2ceed6dc",
   "metadata": {},
   "outputs": [],
   "source": [
    "subdata2 = pd.read_csv(\"../Data/subdata2.csv\")"
   ]
  },
  {
   "cell_type": "markdown",
   "id": "110fd715",
   "metadata": {},
   "source": [
    "### We will eliminate the columns that we have already used previously in the profile determination."
   ]
  },
  {
   "cell_type": "code",
   "execution_count": 7,
   "id": "459305db",
   "metadata": {},
   "outputs": [],
   "source": [
    "subdata0.drop(['Unnamed: 0','Gun_related_deaths','VAT_Sales_Tax','GDP_per_capita', 'Growth_percentage','Unemployment_percentage','Housing', 'Culture','Travel_connectivity','Sport_venues'], axis=1, inplace=True)"
   ]
  },
  {
   "cell_type": "code",
   "execution_count": 8,
   "id": "20d4f1d7",
   "metadata": {},
   "outputs": [],
   "source": [
    "subdata1.drop(['Unnamed: 0','Gun_related_deaths','VAT_Sales_Tax','GDP_per_capita', 'Growth_percentage','Unemployment_percentage','Housing', 'Culture','Travel_connectivity','Sport_venues'], axis=1, inplace=True)"
   ]
  },
  {
   "cell_type": "code",
   "execution_count": 9,
   "id": "d9b69b03",
   "metadata": {},
   "outputs": [],
   "source": [
    "subdata2.drop(['Unnamed: 0','Gun_related_deaths','VAT_Sales_Tax','GDP_per_capita', 'Growth_percentage','Unemployment_percentage','Housing', 'Culture','Travel_connectivity','Sport_venues'], axis=1, inplace=True)"
   ]
  },
  {
   "cell_type": "code",
   "execution_count": 10,
   "id": "cd853d11",
   "metadata": {},
   "outputs": [],
   "source": [
    "New_names = {\"Pisa_ranking\": \"Education_Ranking\", \"Homosexuality_acceptance\":\"Tolerance\",\"Average_Annual_percent_sunshine\": \"Average_Annual_sunshine\",\"predict\": \"Cluster\"}"
   ]
  },
  {
   "cell_type": "code",
   "execution_count": 11,
   "id": "e9a44c7f",
   "metadata": {},
   "outputs": [],
   "source": [
    "subdata0.rename(columns=New_names, inplace=True)"
   ]
  },
  {
   "cell_type": "code",
   "execution_count": 12,
   "id": "205547a8",
   "metadata": {},
   "outputs": [],
   "source": [
    "subdata1.rename(columns=New_names, inplace=True)"
   ]
  },
  {
   "cell_type": "code",
   "execution_count": 13,
   "id": "23319671",
   "metadata": {},
   "outputs": [],
   "source": [
    "subdata2.rename(columns=New_names, inplace=True)"
   ]
  },
  {
   "cell_type": "code",
   "execution_count": 14,
   "id": "867cbbc3",
   "metadata": {},
   "outputs": [
    {
     "data": {
      "text/html": [
       "<div>\n",
       "<style scoped>\n",
       "    .dataframe tbody tr th:only-of-type {\n",
       "        vertical-align: middle;\n",
       "    }\n",
       "\n",
       "    .dataframe tbody tr th {\n",
       "        vertical-align: top;\n",
       "    }\n",
       "\n",
       "    .dataframe thead th {\n",
       "        text-align: right;\n",
       "    }\n",
       "</style>\n",
       "<table border=\"1\" class=\"dataframe\">\n",
       "  <thead>\n",
       "    <tr style=\"text-align: right;\">\n",
       "      <th></th>\n",
       "      <th>Education_Ranking</th>\n",
       "      <th>Cities</th>\n",
       "      <th>Tolerance</th>\n",
       "      <th>Average_Annual_sunshine</th>\n",
       "      <th>Cluster</th>\n",
       "    </tr>\n",
       "  </thead>\n",
       "  <tbody>\n",
       "    <tr>\n",
       "      <th>0</th>\n",
       "      <td>13</td>\n",
       "      <td>Aarhus</td>\n",
       "      <td>93.03</td>\n",
       "      <td>0.0</td>\n",
       "      <td>1</td>\n",
       "    </tr>\n",
       "    <tr>\n",
       "      <th>1</th>\n",
       "      <td>16</td>\n",
       "      <td>Adelaide</td>\n",
       "      <td>79.00</td>\n",
       "      <td>12.6</td>\n",
       "      <td>1</td>\n",
       "    </tr>\n",
       "    <tr>\n",
       "      <th>2</th>\n",
       "      <td>10</td>\n",
       "      <td>Amsterdam</td>\n",
       "      <td>97.37</td>\n",
       "      <td>12.9</td>\n",
       "      <td>1</td>\n",
       "    </tr>\n",
       "    <tr>\n",
       "      <th>3</th>\n",
       "      <td>12</td>\n",
       "      <td>Auckland</td>\n",
       "      <td>93.65</td>\n",
       "      <td>182.9</td>\n",
       "      <td>1</td>\n",
       "    </tr>\n",
       "    <tr>\n",
       "      <th>4</th>\n",
       "      <td>22</td>\n",
       "      <td>Barcelona</td>\n",
       "      <td>88.00</td>\n",
       "      <td>73.0</td>\n",
       "      <td>1</td>\n",
       "    </tr>\n",
       "  </tbody>\n",
       "</table>\n",
       "</div>"
      ],
      "text/plain": [
       "   Education_Ranking     Cities  Tolerance  Average_Annual_sunshine  Cluster\n",
       "0                 13     Aarhus      93.03                      0.0        1\n",
       "1                 16   Adelaide      79.00                     12.6        1\n",
       "2                 10  Amsterdam      97.37                     12.9        1\n",
       "3                 12   Auckland      93.65                    182.9        1\n",
       "4                 22  Barcelona      88.00                     73.0        1"
      ]
     },
     "execution_count": 14,
     "metadata": {},
     "output_type": "execute_result"
    }
   ],
   "source": [
    "subdata1.head()"
   ]
  },
  {
   "cell_type": "code",
   "execution_count": 34,
   "id": "a6f8748e",
   "metadata": {},
   "outputs": [
    {
     "name": "stdout",
     "output_type": "stream",
     "text": [
      "<class 'pandas.core.frame.DataFrame'>\n",
      "RangeIndex: 90 entries, 0 to 89\n",
      "Data columns (total 6 columns):\n",
      " #   Column                   Non-Null Count  Dtype  \n",
      "---  ------                   --------------  -----  \n",
      " 0   Education_Ranking        90 non-null     int64  \n",
      " 1   Cities                   90 non-null     object \n",
      " 2   Tolerance                90 non-null     float64\n",
      " 3   Average_Annual_sunshine  90 non-null     float64\n",
      " 4   Cluster                  90 non-null     int64  \n",
      " 5   Escala_de_Educacion      90 non-null     object \n",
      "dtypes: float64(2), int64(2), object(2)\n",
      "memory usage: 4.3+ KB\n"
     ]
    }
   ],
   "source": [
    "subdata0.info()"
   ]
  },
  {
   "cell_type": "code",
   "execution_count": 35,
   "id": "5061625e",
   "metadata": {},
   "outputs": [],
   "source": [
    "subdata0[\"Tolerance\"] = subdata0[\"Tolerance\"].astype(dtype=int)"
   ]
  },
  {
   "cell_type": "code",
   "execution_count": 36,
   "id": "72e46ce2",
   "metadata": {},
   "outputs": [],
   "source": [
    "subdata1[\"Tolerance\"] = subdata1[\"Tolerance\"].astype(dtype=int)"
   ]
  },
  {
   "cell_type": "code",
   "execution_count": 37,
   "id": "b10bcc91",
   "metadata": {},
   "outputs": [],
   "source": [
    "subdata2[\"Tolerance\"] = subdata2[\"Tolerance\"].astype(dtype=int)"
   ]
  },
  {
   "cell_type": "code",
   "execution_count": 39,
   "id": "4610165c",
   "metadata": {},
   "outputs": [],
   "source": [
    "subdata0[\"Average_Annual_sunshine\"] = subdata0[\"Average_Annual_sunshine\"].astype(dtype=int)"
   ]
  },
  {
   "cell_type": "code",
   "execution_count": 40,
   "id": "353a9a35",
   "metadata": {},
   "outputs": [],
   "source": [
    "subdata1[\"Average_Annual_sunshine\"] = subdata1[\"Average_Annual_sunshine\"].astype(dtype=int)"
   ]
  },
  {
   "cell_type": "code",
   "execution_count": 41,
   "id": "a1ab162d",
   "metadata": {},
   "outputs": [],
   "source": [
    "subdata2[\"Average_Annual_sunshine\"] = subdata2[\"Average_Annual_sunshine\"].astype(dtype=int)"
   ]
  },
  {
   "cell_type": "markdown",
   "id": "8fd624f6",
   "metadata": {},
   "source": [
    "## 3. We assign values through intervals to be used as a filter for the user."
   ]
  },
  {
   "cell_type": "markdown",
   "id": "09167b37",
   "metadata": {},
   "source": [
    "### 3.1 Education_Ranking"
   ]
  },
  {
   "cell_type": "code",
   "execution_count": 18,
   "id": "a9e77c3b",
   "metadata": {},
   "outputs": [],
   "source": [
    "def intervalos_edu(i):\n",
    "        if i < 25:\n",
    "            i = str(\"Alto\")\n",
    "        elif i > 25 & i > 40:\n",
    "            i = str(\"Medio\")\n",
    "        else:\n",
    "            i = str(\"Bajo\")\n",
    "        return i"
   ]
  },
  {
   "cell_type": "code",
   "execution_count": 15,
   "id": "75d8f8e9",
   "metadata": {},
   "outputs": [
    {
     "data": {
      "text/plain": [
       "array([39,  0, 43, 35, 48, 24, 47,  8, 51, 40, 31, 52, 14, 41, 22, 38, 18,\n",
       "       46, 34, 21, 25, 37, 36,  4, 49, 30, 10])"
      ]
     },
     "execution_count": 15,
     "metadata": {},
     "output_type": "execute_result"
    }
   ],
   "source": [
    "subdata0.Education_Ranking.unique()"
   ]
  },
  {
   "cell_type": "code",
   "execution_count": 16,
   "id": "c61368d6",
   "metadata": {},
   "outputs": [
    {
     "data": {
      "text/plain": [
       "52"
      ]
     },
     "execution_count": 16,
     "metadata": {},
     "output_type": "execute_result"
    }
   ],
   "source": [
    "subdata0.Education_Ranking.max()"
   ]
  },
  {
   "cell_type": "markdown",
   "id": "94ba2aaa",
   "metadata": {},
   "source": [
    "*Observamos que el máximo en el ranking a nivel educativo es el puesto 52, que seria el puesto más alto dentro de este cluster.* "
   ]
  },
  {
   "cell_type": "code",
   "execution_count": 19,
   "id": "becbebda",
   "metadata": {},
   "outputs": [],
   "source": [
    "# a 0 le pondria \"Nulo\" pero no me deja poner otro elif sin que me de error de sintaxis"
   ]
  },
  {
   "cell_type": "code",
   "execution_count": 20,
   "id": "0c0b5204",
   "metadata": {},
   "outputs": [],
   "source": [
    "subdata0[\"Escala_de_Educacion\"] = subdata0.Education_Ranking.apply(intervalos_edu0)"
   ]
  },
  {
   "cell_type": "code",
   "execution_count": 21,
   "id": "fb1cc78a",
   "metadata": {},
   "outputs": [
    {
     "data": {
      "text/html": [
       "<div>\n",
       "<style scoped>\n",
       "    .dataframe tbody tr th:only-of-type {\n",
       "        vertical-align: middle;\n",
       "    }\n",
       "\n",
       "    .dataframe tbody tr th {\n",
       "        vertical-align: top;\n",
       "    }\n",
       "\n",
       "    .dataframe thead th {\n",
       "        text-align: right;\n",
       "    }\n",
       "</style>\n",
       "<table border=\"1\" class=\"dataframe\">\n",
       "  <thead>\n",
       "    <tr style=\"text-align: right;\">\n",
       "      <th></th>\n",
       "      <th>Education_Ranking</th>\n",
       "      <th>Cities</th>\n",
       "      <th>Tolerance</th>\n",
       "      <th>Average_Annual_sunshine</th>\n",
       "      <th>Cluster</th>\n",
       "      <th>Escala_de_Educacion</th>\n",
       "    </tr>\n",
       "  </thead>\n",
       "  <tbody>\n",
       "    <tr>\n",
       "      <th>0</th>\n",
       "      <td>39</td>\n",
       "      <td>Almaty</td>\n",
       "      <td>66.56</td>\n",
       "      <td>64.0</td>\n",
       "      <td>0</td>\n",
       "      <td>Bajo</td>\n",
       "    </tr>\n",
       "    <tr>\n",
       "      <th>1</th>\n",
       "      <td>0</td>\n",
       "      <td>Andorra</td>\n",
       "      <td>73.05</td>\n",
       "      <td>0.0</td>\n",
       "      <td>0</td>\n",
       "      <td>Alto</td>\n",
       "    </tr>\n",
       "    <tr>\n",
       "      <th>2</th>\n",
       "      <td>43</td>\n",
       "      <td>Ankara</td>\n",
       "      <td>9.00</td>\n",
       "      <td>243.0</td>\n",
       "      <td>0</td>\n",
       "      <td>Bajo</td>\n",
       "    </tr>\n",
       "    <tr>\n",
       "      <th>3</th>\n",
       "      <td>0</td>\n",
       "      <td>Asuncion</td>\n",
       "      <td>49.54</td>\n",
       "      <td>12.5</td>\n",
       "      <td>0</td>\n",
       "      <td>Alto</td>\n",
       "    </tr>\n",
       "    <tr>\n",
       "      <th>4</th>\n",
       "      <td>35</td>\n",
       "      <td>Athens</td>\n",
       "      <td>53.00</td>\n",
       "      <td>266.7</td>\n",
       "      <td>0</td>\n",
       "      <td>Bajo</td>\n",
       "    </tr>\n",
       "  </tbody>\n",
       "</table>\n",
       "</div>"
      ],
      "text/plain": [
       "   Education_Ranking    Cities  Tolerance  Average_Annual_sunshine  Cluster  \\\n",
       "0                 39    Almaty      66.56                     64.0        0   \n",
       "1                  0   Andorra      73.05                      0.0        0   \n",
       "2                 43    Ankara       9.00                    243.0        0   \n",
       "3                  0  Asuncion      49.54                     12.5        0   \n",
       "4                 35    Athens      53.00                    266.7        0   \n",
       "\n",
       "  Escala_de_Educacion  \n",
       "0                Bajo  \n",
       "1                Alto  \n",
       "2                Bajo  \n",
       "3                Alto  \n",
       "4                Bajo  "
      ]
     },
     "execution_count": 21,
     "metadata": {},
     "output_type": "execute_result"
    }
   ],
   "source": [
    "subdata0.head()"
   ]
  },
  {
   "cell_type": "code",
   "execution_count": 82,
   "id": "9e7bb5db",
   "metadata": {},
   "outputs": [
    {
     "data": {
      "text/plain": [
       "Alto    57\n",
       "Bajo    33\n",
       "Name: Escala_de_Educacion, dtype: int64"
      ]
     },
     "execution_count": 82,
     "metadata": {},
     "output_type": "execute_result"
    }
   ],
   "source": [
    "subdata0.Escala_de_Educacion.value_counts()"
   ]
  },
  {
   "cell_type": "code",
   "execution_count": 22,
   "id": "ef51778f",
   "metadata": {},
   "outputs": [
    {
     "data": {
      "text/plain": [
       "array([13, 16, 10, 12, 22, 17, 26, 19, 34, 21, 15,  5,  9,  3,  6, 20, 39,\n",
       "       28,  7, 32,  0])"
      ]
     },
     "execution_count": 22,
     "metadata": {},
     "output_type": "execute_result"
    }
   ],
   "source": [
    "subdata1.Education_Ranking.unique()"
   ]
  },
  {
   "cell_type": "code",
   "execution_count": 23,
   "id": "b2f94937",
   "metadata": {},
   "outputs": [
    {
     "data": {
      "text/plain": [
       "39"
      ]
     },
     "execution_count": 23,
     "metadata": {},
     "output_type": "execute_result"
    }
   ],
   "source": [
    "subdata1.Education_Ranking.max()"
   ]
  },
  {
   "cell_type": "code",
   "execution_count": 24,
   "id": "e191d324",
   "metadata": {},
   "outputs": [],
   "source": [
    "subdata1[\"Escala_de_Educacion\"] = subdata1.Education_Ranking.apply(intervalos_edu)"
   ]
  },
  {
   "cell_type": "code",
   "execution_count": 25,
   "id": "3201ca35",
   "metadata": {},
   "outputs": [
    {
     "data": {
      "text/html": [
       "<div>\n",
       "<style scoped>\n",
       "    .dataframe tbody tr th:only-of-type {\n",
       "        vertical-align: middle;\n",
       "    }\n",
       "\n",
       "    .dataframe tbody tr th {\n",
       "        vertical-align: top;\n",
       "    }\n",
       "\n",
       "    .dataframe thead th {\n",
       "        text-align: right;\n",
       "    }\n",
       "</style>\n",
       "<table border=\"1\" class=\"dataframe\">\n",
       "  <thead>\n",
       "    <tr style=\"text-align: right;\">\n",
       "      <th></th>\n",
       "      <th>Education_Ranking</th>\n",
       "      <th>Cities</th>\n",
       "      <th>Tolerance</th>\n",
       "      <th>Average_Annual_sunshine</th>\n",
       "      <th>Cluster</th>\n",
       "      <th>Escala_de_Educacion</th>\n",
       "    </tr>\n",
       "  </thead>\n",
       "  <tbody>\n",
       "    <tr>\n",
       "      <th>0</th>\n",
       "      <td>13</td>\n",
       "      <td>Aarhus</td>\n",
       "      <td>93.03</td>\n",
       "      <td>0.0</td>\n",
       "      <td>1</td>\n",
       "      <td>Alto</td>\n",
       "    </tr>\n",
       "    <tr>\n",
       "      <th>1</th>\n",
       "      <td>16</td>\n",
       "      <td>Adelaide</td>\n",
       "      <td>79.00</td>\n",
       "      <td>12.6</td>\n",
       "      <td>1</td>\n",
       "      <td>Alto</td>\n",
       "    </tr>\n",
       "    <tr>\n",
       "      <th>2</th>\n",
       "      <td>10</td>\n",
       "      <td>Amsterdam</td>\n",
       "      <td>97.37</td>\n",
       "      <td>12.9</td>\n",
       "      <td>1</td>\n",
       "      <td>Alto</td>\n",
       "    </tr>\n",
       "    <tr>\n",
       "      <th>3</th>\n",
       "      <td>12</td>\n",
       "      <td>Auckland</td>\n",
       "      <td>93.65</td>\n",
       "      <td>182.9</td>\n",
       "      <td>1</td>\n",
       "      <td>Alto</td>\n",
       "    </tr>\n",
       "    <tr>\n",
       "      <th>4</th>\n",
       "      <td>22</td>\n",
       "      <td>Barcelona</td>\n",
       "      <td>88.00</td>\n",
       "      <td>73.0</td>\n",
       "      <td>1</td>\n",
       "      <td>Alto</td>\n",
       "    </tr>\n",
       "  </tbody>\n",
       "</table>\n",
       "</div>"
      ],
      "text/plain": [
       "   Education_Ranking     Cities  Tolerance  Average_Annual_sunshine  Cluster  \\\n",
       "0                 13     Aarhus      93.03                      0.0        1   \n",
       "1                 16   Adelaide      79.00                     12.6        1   \n",
       "2                 10  Amsterdam      97.37                     12.9        1   \n",
       "3                 12   Auckland      93.65                    182.9        1   \n",
       "4                 22  Barcelona      88.00                     73.0        1   \n",
       "\n",
       "  Escala_de_Educacion  \n",
       "0                Alto  \n",
       "1                Alto  \n",
       "2                Alto  \n",
       "3                Alto  \n",
       "4                Alto  "
      ]
     },
     "execution_count": 25,
     "metadata": {},
     "output_type": "execute_result"
    }
   ],
   "source": [
    "subdata1.head()"
   ]
  },
  {
   "cell_type": "code",
   "execution_count": 81,
   "id": "1165ca19",
   "metadata": {},
   "outputs": [
    {
     "data": {
      "text/plain": [
       "Alto    87\n",
       "Bajo    10\n",
       "Name: Escala_de_Educacion, dtype: int64"
      ]
     },
     "execution_count": 81,
     "metadata": {},
     "output_type": "execute_result"
    }
   ],
   "source": [
    "subdata1.Escala_de_Educacion.value_counts()"
   ]
  },
  {
   "cell_type": "code",
   "execution_count": 26,
   "id": "cf4296cd",
   "metadata": {},
   "outputs": [
    {
     "data": {
      "text/plain": [
       "array([24, 16, 13, 11,  9, 49, 41,  2, 25,  0,  1])"
      ]
     },
     "execution_count": 26,
     "metadata": {},
     "output_type": "execute_result"
    }
   ],
   "source": [
    "subdata2.Education_Ranking.unique()"
   ]
  },
  {
   "cell_type": "code",
   "execution_count": 27,
   "id": "04ebbe5d",
   "metadata": {},
   "outputs": [
    {
     "data": {
      "text/plain": [
       "49"
      ]
     },
     "execution_count": 27,
     "metadata": {},
     "output_type": "execute_result"
    }
   ],
   "source": [
    "subdata2.Education_Ranking.max()"
   ]
  },
  {
   "cell_type": "code",
   "execution_count": 28,
   "id": "5253ac0c",
   "metadata": {},
   "outputs": [],
   "source": [
    "subdata2[\"Escala_de_Educacion\"] = subdata2.Education_Ranking.apply(intervalos_edu)"
   ]
  },
  {
   "cell_type": "code",
   "execution_count": 29,
   "id": "c89484ee",
   "metadata": {},
   "outputs": [
    {
     "data": {
      "text/html": [
       "<div>\n",
       "<style scoped>\n",
       "    .dataframe tbody tr th:only-of-type {\n",
       "        vertical-align: middle;\n",
       "    }\n",
       "\n",
       "    .dataframe tbody tr th {\n",
       "        vertical-align: top;\n",
       "    }\n",
       "\n",
       "    .dataframe thead th {\n",
       "        text-align: right;\n",
       "    }\n",
       "</style>\n",
       "<table border=\"1\" class=\"dataframe\">\n",
       "  <thead>\n",
       "    <tr style=\"text-align: right;\">\n",
       "      <th></th>\n",
       "      <th>Education_Ranking</th>\n",
       "      <th>Cities</th>\n",
       "      <th>Tolerance</th>\n",
       "      <th>Average_Annual_sunshine</th>\n",
       "      <th>Cluster</th>\n",
       "      <th>Escala_de_Educacion</th>\n",
       "    </tr>\n",
       "  </thead>\n",
       "  <tbody>\n",
       "    <tr>\n",
       "      <th>0</th>\n",
       "      <td>24</td>\n",
       "      <td>Albuquerque</td>\n",
       "      <td>93.13</td>\n",
       "      <td>168.0</td>\n",
       "      <td>2</td>\n",
       "      <td>Alto</td>\n",
       "    </tr>\n",
       "    <tr>\n",
       "      <th>1</th>\n",
       "      <td>16</td>\n",
       "      <td>Anchorage</td>\n",
       "      <td>76.56</td>\n",
       "      <td>61.0</td>\n",
       "      <td>2</td>\n",
       "      <td>Alto</td>\n",
       "    </tr>\n",
       "    <tr>\n",
       "      <th>2</th>\n",
       "      <td>16</td>\n",
       "      <td>Asheville</td>\n",
       "      <td>67.58</td>\n",
       "      <td>101.0</td>\n",
       "      <td>2</td>\n",
       "      <td>Alto</td>\n",
       "    </tr>\n",
       "    <tr>\n",
       "      <th>3</th>\n",
       "      <td>24</td>\n",
       "      <td>Atlanta</td>\n",
       "      <td>70.00</td>\n",
       "      <td>110.0</td>\n",
       "      <td>2</td>\n",
       "      <td>Alto</td>\n",
       "    </tr>\n",
       "    <tr>\n",
       "      <th>4</th>\n",
       "      <td>24</td>\n",
       "      <td>Austin</td>\n",
       "      <td>64.44</td>\n",
       "      <td>116.0</td>\n",
       "      <td>2</td>\n",
       "      <td>Alto</td>\n",
       "    </tr>\n",
       "  </tbody>\n",
       "</table>\n",
       "</div>"
      ],
      "text/plain": [
       "   Education_Ranking       Cities  Tolerance  Average_Annual_sunshine  \\\n",
       "0                 24  Albuquerque      93.13                    168.0   \n",
       "1                 16    Anchorage      76.56                     61.0   \n",
       "2                 16    Asheville      67.58                    101.0   \n",
       "3                 24      Atlanta      70.00                    110.0   \n",
       "4                 24       Austin      64.44                    116.0   \n",
       "\n",
       "   Cluster Escala_de_Educacion  \n",
       "0        2                Alto  \n",
       "1        2                Alto  \n",
       "2        2                Alto  \n",
       "3        2                Alto  \n",
       "4        2                Alto  "
      ]
     },
     "execution_count": 29,
     "metadata": {},
     "output_type": "execute_result"
    }
   ],
   "source": [
    "subdata2.head()"
   ]
  },
  {
   "cell_type": "code",
   "execution_count": 80,
   "id": "a6b8964f",
   "metadata": {},
   "outputs": [
    {
     "data": {
      "text/plain": [
       "Alto    72\n",
       "Bajo     3\n",
       "Name: Escala_de_Educacion, dtype: int64"
      ]
     },
     "execution_count": 80,
     "metadata": {},
     "output_type": "execute_result"
    }
   ],
   "source": [
    "subdata2.Escala_de_Educacion.value_counts()"
   ]
  },
  {
   "cell_type": "markdown",
   "id": "835c601b",
   "metadata": {},
   "source": [
    "### 3.2 Tolerance"
   ]
  },
  {
   "cell_type": "code",
   "execution_count": 42,
   "id": "79f1b783",
   "metadata": {},
   "outputs": [],
   "source": [
    "def intervalos_tolerance(i):\n",
    "        if i < 75:\n",
    "            i = str(\"Alto\")\n",
    "        elif i > 75 & i > 40:\n",
    "            i = str(\"Medio\")\n",
    "        else:\n",
    "            i = str(\"Bajo\")\n",
    "        return i"
   ]
  },
  {
   "cell_type": "code",
   "execution_count": 30,
   "id": "ceb32503",
   "metadata": {},
   "outputs": [
    {
     "data": {
      "text/plain": [
       "array([66.56, 73.05,  9.  , 49.54, 53.  , 43.77,  3.  , 96.88, 61.15,\n",
       "       21.  , 18.  , 75.85, 24.29, 89.16, 77.95, 80.34, 74.  , 32.  ,\n",
       "       51.  ,  9.29, 71.12, 60.  , 26.32, 42.  , 89.  , 61.  , 80.03,\n",
       "       78.65, 55.27, 87.91, 71.98, 34.67,  1.  , 43.  , 69.04, 95.36,\n",
       "       83.04, 73.  , 56.93, 96.4 , 16.  ,  8.  ,  0.  , 60.76, 55.34,\n",
       "       86.69, 74.15, 77.43, 34.  , 68.  , 41.72, 78.59, 61.3 , 79.88,\n",
       "       75.08, 47.99, 80.63, 10.42, 23.49, 82.2 , 59.44, 80.17])"
      ]
     },
     "execution_count": 30,
     "metadata": {},
     "output_type": "execute_result"
    }
   ],
   "source": [
    "subdata0.Tolerance.unique()"
   ]
  },
  {
   "cell_type": "code",
   "execution_count": 31,
   "id": "d0be355a",
   "metadata": {},
   "outputs": [
    {
     "data": {
      "text/plain": [
       "96.88"
      ]
     },
     "execution_count": 31,
     "metadata": {},
     "output_type": "execute_result"
    }
   ],
   "source": [
    "subdata0.Tolerance.max()"
   ]
  },
  {
   "cell_type": "code",
   "execution_count": 43,
   "id": "f247febe",
   "metadata": {},
   "outputs": [],
   "source": [
    "subdata0[\"Escala_de_Tolerancia\"] = subdata0.Tolerance.apply(intervalos_tolerance)"
   ]
  },
  {
   "cell_type": "code",
   "execution_count": 44,
   "id": "2bdfa553",
   "metadata": {},
   "outputs": [
    {
     "data": {
      "text/html": [
       "<div>\n",
       "<style scoped>\n",
       "    .dataframe tbody tr th:only-of-type {\n",
       "        vertical-align: middle;\n",
       "    }\n",
       "\n",
       "    .dataframe tbody tr th {\n",
       "        vertical-align: top;\n",
       "    }\n",
       "\n",
       "    .dataframe thead th {\n",
       "        text-align: right;\n",
       "    }\n",
       "</style>\n",
       "<table border=\"1\" class=\"dataframe\">\n",
       "  <thead>\n",
       "    <tr style=\"text-align: right;\">\n",
       "      <th></th>\n",
       "      <th>Education_Ranking</th>\n",
       "      <th>Cities</th>\n",
       "      <th>Tolerance</th>\n",
       "      <th>Average_Annual_sunshine</th>\n",
       "      <th>Cluster</th>\n",
       "      <th>Escala_de_Educacion</th>\n",
       "      <th>Escala_de_Tolerancia</th>\n",
       "    </tr>\n",
       "  </thead>\n",
       "  <tbody>\n",
       "    <tr>\n",
       "      <th>0</th>\n",
       "      <td>39</td>\n",
       "      <td>Almaty</td>\n",
       "      <td>66</td>\n",
       "      <td>64</td>\n",
       "      <td>0</td>\n",
       "      <td>Bajo</td>\n",
       "      <td>Alto</td>\n",
       "    </tr>\n",
       "    <tr>\n",
       "      <th>1</th>\n",
       "      <td>0</td>\n",
       "      <td>Andorra</td>\n",
       "      <td>73</td>\n",
       "      <td>0</td>\n",
       "      <td>0</td>\n",
       "      <td>Alto</td>\n",
       "      <td>Alto</td>\n",
       "    </tr>\n",
       "    <tr>\n",
       "      <th>2</th>\n",
       "      <td>43</td>\n",
       "      <td>Ankara</td>\n",
       "      <td>9</td>\n",
       "      <td>243</td>\n",
       "      <td>0</td>\n",
       "      <td>Bajo</td>\n",
       "      <td>Alto</td>\n",
       "    </tr>\n",
       "    <tr>\n",
       "      <th>3</th>\n",
       "      <td>0</td>\n",
       "      <td>Asuncion</td>\n",
       "      <td>49</td>\n",
       "      <td>12</td>\n",
       "      <td>0</td>\n",
       "      <td>Alto</td>\n",
       "      <td>Alto</td>\n",
       "    </tr>\n",
       "    <tr>\n",
       "      <th>4</th>\n",
       "      <td>35</td>\n",
       "      <td>Athens</td>\n",
       "      <td>53</td>\n",
       "      <td>266</td>\n",
       "      <td>0</td>\n",
       "      <td>Bajo</td>\n",
       "      <td>Alto</td>\n",
       "    </tr>\n",
       "  </tbody>\n",
       "</table>\n",
       "</div>"
      ],
      "text/plain": [
       "   Education_Ranking    Cities  Tolerance  Average_Annual_sunshine  Cluster  \\\n",
       "0                 39    Almaty         66                       64        0   \n",
       "1                  0   Andorra         73                        0        0   \n",
       "2                 43    Ankara          9                      243        0   \n",
       "3                  0  Asuncion         49                       12        0   \n",
       "4                 35    Athens         53                      266        0   \n",
       "\n",
       "  Escala_de_Educacion Escala_de_Tolerancia  \n",
       "0                Bajo                 Alto  \n",
       "1                Alto                 Alto  \n",
       "2                Bajo                 Alto  \n",
       "3                Alto                 Alto  \n",
       "4                Bajo                 Alto  "
      ]
     },
     "execution_count": 44,
     "metadata": {},
     "output_type": "execute_result"
    }
   ],
   "source": [
    "subdata0.head()"
   ]
  },
  {
   "cell_type": "code",
   "execution_count": 79,
   "id": "03bb6f00",
   "metadata": {},
   "outputs": [
    {
     "data": {
      "text/plain": [
       "Alto     66\n",
       "Medio    21\n",
       "Bajo      3\n",
       "Name: Escala_de_Tolerancia, dtype: int64"
      ]
     },
     "execution_count": 79,
     "metadata": {},
     "output_type": "execute_result"
    }
   ],
   "source": [
    "subdata0.Escala_de_Tolerancia.value_counts()"
   ]
  },
  {
   "cell_type": "code",
   "execution_count": 45,
   "id": "a6d01ad4",
   "metadata": {},
   "outputs": [
    {
     "data": {
      "text/plain": [
       "array([93, 79, 97, 88, 76, 87, 74, 77, 69, 81, 92, 80, 54, 70, 73, 39, 66,\n",
       "       40])"
      ]
     },
     "execution_count": 45,
     "metadata": {},
     "output_type": "execute_result"
    }
   ],
   "source": [
    "subdata1.Tolerance.unique()"
   ]
  },
  {
   "cell_type": "code",
   "execution_count": 46,
   "id": "d47e87f7",
   "metadata": {},
   "outputs": [
    {
     "data": {
      "text/plain": [
       "97"
      ]
     },
     "execution_count": 46,
     "metadata": {},
     "output_type": "execute_result"
    }
   ],
   "source": [
    "subdata1.Tolerance.max()"
   ]
  },
  {
   "cell_type": "code",
   "execution_count": 47,
   "id": "0ca0bc9a",
   "metadata": {},
   "outputs": [],
   "source": [
    "subdata1[\"Escala_de_Tolerancia\"] = subdata1.Tolerance.apply(intervalos_tolerance)"
   ]
  },
  {
   "cell_type": "code",
   "execution_count": 78,
   "id": "87363f46",
   "metadata": {},
   "outputs": [
    {
     "data": {
      "text/plain": [
       "Medio    81\n",
       "Alto     16\n",
       "Name: Escala_de_Tolerancia, dtype: int64"
      ]
     },
     "execution_count": 78,
     "metadata": {},
     "output_type": "execute_result"
    }
   ],
   "source": [
    "subdata1.Escala_de_Tolerancia.value_counts()"
   ]
  },
  {
   "cell_type": "code",
   "execution_count": 48,
   "id": "0377504a",
   "metadata": {},
   "outputs": [
    {
     "data": {
      "text/plain": [
       "array([ 93,  76,  67,  70,  64,  81,  72,  96,  50,  86,  66,  85,  63,\n",
       "        15,  23,  55,  71,  89,  82,  80,   3,  92,  91,  31, 100])"
      ]
     },
     "execution_count": 48,
     "metadata": {},
     "output_type": "execute_result"
    }
   ],
   "source": [
    "subdata2.Tolerance.unique()"
   ]
  },
  {
   "cell_type": "code",
   "execution_count": 49,
   "id": "a302645a",
   "metadata": {},
   "outputs": [
    {
     "data": {
      "text/plain": [
       "100"
      ]
     },
     "execution_count": 49,
     "metadata": {},
     "output_type": "execute_result"
    }
   ],
   "source": [
    "subdata2.Tolerance.max()"
   ]
  },
  {
   "cell_type": "code",
   "execution_count": 50,
   "id": "ea28cc80",
   "metadata": {},
   "outputs": [],
   "source": [
    "subdata2[\"Escala_de_Tolerancia\"] = subdata2.Tolerance.apply(intervalos_tolerance)"
   ]
  },
  {
   "cell_type": "code",
   "execution_count": 77,
   "id": "5b2c1038",
   "metadata": {},
   "outputs": [
    {
     "data": {
      "text/plain": [
       "Medio    38\n",
       "Alto     37\n",
       "Name: Escala_de_Tolerancia, dtype: int64"
      ]
     },
     "execution_count": 77,
     "metadata": {},
     "output_type": "execute_result"
    }
   ],
   "source": [
    "subdata2.Escala_de_Tolerancia.value_counts()"
   ]
  },
  {
   "cell_type": "markdown",
   "id": "6cfa5351",
   "metadata": {},
   "source": [
    "### 3.3 Average_Annual_sunshine"
   ]
  },
  {
   "cell_type": "code",
   "execution_count": 56,
   "id": "dab63722",
   "metadata": {},
   "outputs": [],
   "source": [
    "def intervalos_sun(i):\n",
    "        if i < 240:\n",
    "            i = str(\"Alto\")\n",
    "        elif i > 240 & i > 130:\n",
    "            i = str(\"Medio\")\n",
    "        else:\n",
    "            i = str(\"Bajo\")\n",
    "        return i"
   ]
  },
  {
   "cell_type": "code",
   "execution_count": 57,
   "id": "26e71f99",
   "metadata": {},
   "outputs": [
    {
     "data": {
      "text/plain": [
       "array([ 64,   0, 243,  12, 266, 207,  75, 124, 254, 260, 228, 225, 181,\n",
       "       277, 222, 265, 246, 217, 312, 218,  31, 252,  13, 302, 102, 282,\n",
       "       242, 271,  70, 236, 113,  49, 286])"
      ]
     },
     "execution_count": 57,
     "metadata": {},
     "output_type": "execute_result"
    }
   ],
   "source": [
    "subdata0.Average_Annual_sunshine.unique()"
   ]
  },
  {
   "cell_type": "code",
   "execution_count": 58,
   "id": "112dc1ea",
   "metadata": {},
   "outputs": [
    {
     "data": {
      "text/plain": [
       "312"
      ]
     },
     "execution_count": 58,
     "metadata": {},
     "output_type": "execute_result"
    }
   ],
   "source": [
    "subdata0.Average_Annual_sunshine.max()"
   ]
  },
  {
   "cell_type": "code",
   "execution_count": 59,
   "id": "4c650501",
   "metadata": {},
   "outputs": [],
   "source": [
    "subdata0[\"Escala_de_Sunshine\"] = subdata0.Average_Annual_sunshine.apply(intervalos_sun)"
   ]
  },
  {
   "cell_type": "code",
   "execution_count": 76,
   "id": "14032c9f",
   "metadata": {},
   "outputs": [
    {
     "data": {
      "text/plain": [
       "Alto     76\n",
       "Bajo      9\n",
       "Medio     5\n",
       "Name: Escala_de_Sunshine, dtype: int64"
      ]
     },
     "execution_count": 76,
     "metadata": {},
     "output_type": "execute_result"
    }
   ],
   "source": [
    "subdata0.Escala_de_Sunshine.value_counts()"
   ]
  },
  {
   "cell_type": "code",
   "execution_count": 60,
   "id": "866523f0",
   "metadata": {},
   "outputs": [
    {
     "data": {
      "text/plain": [
       "array([  0,  12, 182,  73, 209, 160,  35, 288, 116, 297, 238, 138,  13,\n",
       "       298, 227, 281, 282, 302,  90, 198, 200, 296, 285,  65,  91, 290,\n",
       "        89, 241,  94, 107, 336, 246, 180, 130, 299, 250, 129, 161, 287,\n",
       "       291, 199, 213, 172])"
      ]
     },
     "execution_count": 60,
     "metadata": {},
     "output_type": "execute_result"
    }
   ],
   "source": [
    "subdata1.Average_Annual_sunshine.unique()"
   ]
  },
  {
   "cell_type": "code",
   "execution_count": 61,
   "id": "2ecd55f7",
   "metadata": {},
   "outputs": [
    {
     "data": {
      "text/plain": [
       "336"
      ]
     },
     "execution_count": 61,
     "metadata": {},
     "output_type": "execute_result"
    }
   ],
   "source": [
    "subdata1.Average_Annual_sunshine.max()"
   ]
  },
  {
   "cell_type": "code",
   "execution_count": 62,
   "id": "20f171da",
   "metadata": {},
   "outputs": [],
   "source": [
    "subdata1[\"Escala_de_Sunshine\"] = subdata1.Average_Annual_sunshine.apply(intervalos_sun)"
   ]
  },
  {
   "cell_type": "code",
   "execution_count": 72,
   "id": "a6db4c4f",
   "metadata": {},
   "outputs": [
    {
     "data": {
      "text/plain": [
       "Alto     79\n",
       "Bajo     15\n",
       "Medio     3\n",
       "Name: Escala_de_Sunshine, dtype: int64"
      ]
     },
     "execution_count": 72,
     "metadata": {},
     "output_type": "execute_result"
    }
   ],
   "source": [
    "subdata1.Escala_de_Sunshine.value_counts()"
   ]
  },
  {
   "cell_type": "code",
   "execution_count": 63,
   "id": "45ce3bde",
   "metadata": {},
   "outputs": [
    {
     "data": {
      "text/plain": [
       "array([168,  61, 101, 110, 116, 113, 213, 120,  98, 324, 326,  54, 259,\n",
       "       111, 105,  84,  82,  66, 127,  72, 161, 136, 115,  76,  12, 337,\n",
       "       174,  75, 330,  44,  90,  91,  88,  95, 121,  97, 211,   0, 147,\n",
       "        93, 118,  96, 103, 107, 139, 177,  58,  68,  99, 100, 125, 106,\n",
       "       298,  71, 102,  36])"
      ]
     },
     "execution_count": 63,
     "metadata": {},
     "output_type": "execute_result"
    }
   ],
   "source": [
    "subdata2.Average_Annual_sunshine.unique()"
   ]
  },
  {
   "cell_type": "code",
   "execution_count": 64,
   "id": "ea767069",
   "metadata": {},
   "outputs": [
    {
     "data": {
      "text/plain": [
       "337"
      ]
     },
     "execution_count": 64,
     "metadata": {},
     "output_type": "execute_result"
    }
   ],
   "source": [
    "subdata2.Average_Annual_sunshine.max()"
   ]
  },
  {
   "cell_type": "code",
   "execution_count": 74,
   "id": "02e03297",
   "metadata": {},
   "outputs": [],
   "source": [
    "subdata2[\"Escala_de_Sunshine\"] = subdata2.Average_Annual_sunshine.apply(intervalos_sun)"
   ]
  },
  {
   "cell_type": "code",
   "execution_count": 75,
   "id": "50b75d1d",
   "metadata": {},
   "outputs": [
    {
     "data": {
      "text/plain": [
       "Alto    68\n",
       "Bajo     7\n",
       "Name: Escala_de_Sunshine, dtype: int64"
      ]
     },
     "execution_count": 75,
     "metadata": {},
     "output_type": "execute_result"
    }
   ],
   "source": [
    "subdata2.Escala_de_Sunshine.value_counts()"
   ]
  },
  {
   "cell_type": "code",
   "execution_count": 83,
   "id": "a17d0aaa",
   "metadata": {},
   "outputs": [],
   "source": [
    "Innovator = subdata0"
   ]
  },
  {
   "cell_type": "code",
   "execution_count": 84,
   "id": "234574dc",
   "metadata": {},
   "outputs": [],
   "source": [
    "Traveler = subdata1"
   ]
  },
  {
   "cell_type": "code",
   "execution_count": 85,
   "id": "1cda6a71",
   "metadata": {},
   "outputs": [],
   "source": [
    "Posh = subdata2"
   ]
  },
  {
   "cell_type": "code",
   "execution_count": 87,
   "id": "3dee25e4",
   "metadata": {},
   "outputs": [],
   "source": [
    "Innovator.to_csv(\"../Data/Innovator.csv\")"
   ]
  },
  {
   "cell_type": "code",
   "execution_count": 88,
   "id": "fe227771",
   "metadata": {},
   "outputs": [],
   "source": [
    "Traveler.to_csv(\"../Data/Traveler.csv\")"
   ]
  },
  {
   "cell_type": "code",
   "execution_count": 89,
   "id": "4f0210ad",
   "metadata": {},
   "outputs": [],
   "source": [
    "Posh.to_csv(\"../Data/Posh.csv\")"
   ]
  },
  {
   "cell_type": "code",
   "execution_count": 90,
   "id": "34cbdb9e",
   "metadata": {},
   "outputs": [
    {
     "data": {
      "text/html": [
       "<div>\n",
       "<style scoped>\n",
       "    .dataframe tbody tr th:only-of-type {\n",
       "        vertical-align: middle;\n",
       "    }\n",
       "\n",
       "    .dataframe tbody tr th {\n",
       "        vertical-align: top;\n",
       "    }\n",
       "\n",
       "    .dataframe thead th {\n",
       "        text-align: right;\n",
       "    }\n",
       "</style>\n",
       "<table border=\"1\" class=\"dataframe\">\n",
       "  <thead>\n",
       "    <tr style=\"text-align: right;\">\n",
       "      <th></th>\n",
       "      <th>Education_Ranking</th>\n",
       "      <th>Cities</th>\n",
       "      <th>Tolerance</th>\n",
       "      <th>Average_Annual_sunshine</th>\n",
       "      <th>Cluster</th>\n",
       "      <th>Escala_de_Educacion</th>\n",
       "      <th>Escala_de_Tolerancia</th>\n",
       "      <th>Escala_de_Sunshine</th>\n",
       "    </tr>\n",
       "  </thead>\n",
       "  <tbody>\n",
       "    <tr>\n",
       "      <th>0</th>\n",
       "      <td>39</td>\n",
       "      <td>Almaty</td>\n",
       "      <td>66</td>\n",
       "      <td>64</td>\n",
       "      <td>0</td>\n",
       "      <td>Bajo</td>\n",
       "      <td>Alto</td>\n",
       "      <td>Alto</td>\n",
       "    </tr>\n",
       "    <tr>\n",
       "      <th>1</th>\n",
       "      <td>0</td>\n",
       "      <td>Andorra</td>\n",
       "      <td>73</td>\n",
       "      <td>0</td>\n",
       "      <td>0</td>\n",
       "      <td>Alto</td>\n",
       "      <td>Alto</td>\n",
       "      <td>Alto</td>\n",
       "    </tr>\n",
       "    <tr>\n",
       "      <th>2</th>\n",
       "      <td>43</td>\n",
       "      <td>Ankara</td>\n",
       "      <td>9</td>\n",
       "      <td>243</td>\n",
       "      <td>0</td>\n",
       "      <td>Bajo</td>\n",
       "      <td>Alto</td>\n",
       "      <td>Medio</td>\n",
       "    </tr>\n",
       "    <tr>\n",
       "      <th>3</th>\n",
       "      <td>0</td>\n",
       "      <td>Asuncion</td>\n",
       "      <td>49</td>\n",
       "      <td>12</td>\n",
       "      <td>0</td>\n",
       "      <td>Alto</td>\n",
       "      <td>Alto</td>\n",
       "      <td>Alto</td>\n",
       "    </tr>\n",
       "    <tr>\n",
       "      <th>4</th>\n",
       "      <td>35</td>\n",
       "      <td>Athens</td>\n",
       "      <td>53</td>\n",
       "      <td>266</td>\n",
       "      <td>0</td>\n",
       "      <td>Bajo</td>\n",
       "      <td>Alto</td>\n",
       "      <td>Bajo</td>\n",
       "    </tr>\n",
       "  </tbody>\n",
       "</table>\n",
       "</div>"
      ],
      "text/plain": [
       "   Education_Ranking    Cities  Tolerance  Average_Annual_sunshine  Cluster  \\\n",
       "0                 39    Almaty         66                       64        0   \n",
       "1                  0   Andorra         73                        0        0   \n",
       "2                 43    Ankara          9                      243        0   \n",
       "3                  0  Asuncion         49                       12        0   \n",
       "4                 35    Athens         53                      266        0   \n",
       "\n",
       "  Escala_de_Educacion Escala_de_Tolerancia Escala_de_Sunshine  \n",
       "0                Bajo                 Alto               Alto  \n",
       "1                Alto                 Alto               Alto  \n",
       "2                Bajo                 Alto              Medio  \n",
       "3                Alto                 Alto               Alto  \n",
       "4                Bajo                 Alto               Bajo  "
      ]
     },
     "execution_count": 90,
     "metadata": {},
     "output_type": "execute_result"
    }
   ],
   "source": [
    "Innovator.head()"
   ]
  },
  {
   "cell_type": "code",
   "execution_count": null,
   "id": "6e454623",
   "metadata": {},
   "outputs": [],
   "source": []
  }
 ],
 "metadata": {
  "kernelspec": {
   "display_name": "ironhack2",
   "language": "python",
   "name": "ironhack2"
  },
  "language_info": {
   "codemirror_mode": {
    "name": "ipython",
    "version": 3
   },
   "file_extension": ".py",
   "mimetype": "text/x-python",
   "name": "python",
   "nbconvert_exporter": "python",
   "pygments_lexer": "ipython3",
   "version": "3.8.5"
  }
 },
 "nbformat": 4,
 "nbformat_minor": 5
}
