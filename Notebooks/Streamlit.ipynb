{
 "cells": [
  {
   "cell_type": "markdown",
   "id": "4f419a42",
   "metadata": {},
   "source": [
    "## 1. Import libraries"
   ]
  },
  {
   "cell_type": "code",
   "execution_count": 1,
   "id": "635db1a1",
   "metadata": {},
   "outputs": [],
   "source": [
    "import nltk\n",
    "from nltk.sentiment.vader import SentimentIntensityAnalyzer\n",
    "import plotly.express as px"
   ]
  },
  {
   "cell_type": "code",
   "execution_count": 2,
   "id": "011bfb8e",
   "metadata": {},
   "outputs": [],
   "source": [
    "import pandas as pd\n",
    "import xlrd\n",
    "from geopy.geocoders import Nominatim"
   ]
  },
  {
   "cell_type": "code",
   "execution_count": 3,
   "id": "13d71af8",
   "metadata": {},
   "outputs": [],
   "source": [
    "import pandas as pd\n",
    "import numpy as np\n",
    "import sys\n",
    "sys.path.append(\"../\")"
   ]
  },
  {
   "cell_type": "markdown",
   "id": "33c06ff5",
   "metadata": {},
   "source": [
    "## 2. Import Data"
   ]
  },
  {
   "cell_type": "code",
   "execution_count": 4,
   "id": "7acacbdd",
   "metadata": {},
   "outputs": [],
   "source": [
    "subdata0 = pd.read_csv(\"../Data/subdata0.csv\")"
   ]
  },
  {
   "cell_type": "code",
   "execution_count": 5,
   "id": "3db49bee",
   "metadata": {},
   "outputs": [],
   "source": [
    "subdata1 = pd.read_csv(\"../Data/subdata1.csv\")"
   ]
  },
  {
   "cell_type": "code",
   "execution_count": 6,
   "id": "472f796b",
   "metadata": {},
   "outputs": [],
   "source": [
    "subdata2 = pd.read_csv(\"../Data/subdata2.csv\")"
   ]
  },
  {
   "cell_type": "markdown",
   "id": "ae5df1b4",
   "metadata": {},
   "source": [
    "### We will eliminate the columns that we have already used previously in the profile determination."
   ]
  },
  {
   "cell_type": "code",
   "execution_count": 7,
   "id": "a076b077",
   "metadata": {},
   "outputs": [],
   "source": [
    "subdata0.drop(['Unnamed: 0','Gun_related_deaths','VAT_Sales_Tax','GDP_per_capita', 'Growth_percentage','Unemployment_percentage','Housing', 'Culture','Travel_connectivity','Sport_venues'], axis=1, inplace=True)"
   ]
  },
  {
   "cell_type": "code",
   "execution_count": 8,
   "id": "bfa9c49c",
   "metadata": {},
   "outputs": [],
   "source": [
    "subdata1.drop(['Unnamed: 0','Gun_related_deaths','VAT_Sales_Tax','GDP_per_capita', 'Growth_percentage','Unemployment_percentage','Housing', 'Culture','Travel_connectivity','Sport_venues'], axis=1, inplace=True)"
   ]
  },
  {
   "cell_type": "code",
   "execution_count": 9,
   "id": "79270ba4",
   "metadata": {},
   "outputs": [],
   "source": [
    "subdata2.drop(['Unnamed: 0','Gun_related_deaths','VAT_Sales_Tax','GDP_per_capita', 'Growth_percentage','Unemployment_percentage','Housing', 'Culture','Travel_connectivity','Sport_venues'], axis=1, inplace=True)"
   ]
  },
  {
   "cell_type": "code",
   "execution_count": 10,
   "id": "78fee171",
   "metadata": {},
   "outputs": [],
   "source": [
    "New_names = {\"Pisa_ranking\": \"Education_Ranking\", \"Homosexuality_acceptance\":\"Tolerance\",\"Average_Annual_percent_sunshine\": \"Average_Annual_sunshine\",\"predict\": \"Cluster\"}"
   ]
  },
  {
   "cell_type": "code",
   "execution_count": 11,
   "id": "984998eb",
   "metadata": {},
   "outputs": [],
   "source": [
    "subdata0.rename(columns=New_names, inplace=True)"
   ]
  },
  {
   "cell_type": "code",
   "execution_count": 12,
   "id": "da9e4c37",
   "metadata": {},
   "outputs": [],
   "source": [
    "subdata1.rename(columns=New_names, inplace=True)"
   ]
  },
  {
   "cell_type": "code",
   "execution_count": 13,
   "id": "866cd5be",
   "metadata": {},
   "outputs": [],
   "source": [
    "subdata2.rename(columns=New_names, inplace=True)"
   ]
  },
  {
   "cell_type": "code",
   "execution_count": 14,
   "id": "a1688acf",
   "metadata": {},
   "outputs": [
    {
     "data": {
      "text/html": [
       "<div>\n",
       "<style scoped>\n",
       "    .dataframe tbody tr th:only-of-type {\n",
       "        vertical-align: middle;\n",
       "    }\n",
       "\n",
       "    .dataframe tbody tr th {\n",
       "        vertical-align: top;\n",
       "    }\n",
       "\n",
       "    .dataframe thead th {\n",
       "        text-align: right;\n",
       "    }\n",
       "</style>\n",
       "<table border=\"1\" class=\"dataframe\">\n",
       "  <thead>\n",
       "    <tr style=\"text-align: right;\">\n",
       "      <th></th>\n",
       "      <th>Education_Ranking</th>\n",
       "      <th>Cities</th>\n",
       "      <th>Tolerance</th>\n",
       "      <th>Average_Annual_sunshine</th>\n",
       "      <th>Cluster</th>\n",
       "    </tr>\n",
       "  </thead>\n",
       "  <tbody>\n",
       "    <tr>\n",
       "      <th>0</th>\n",
       "      <td>13</td>\n",
       "      <td>Aarhus</td>\n",
       "      <td>93.03</td>\n",
       "      <td>0.0</td>\n",
       "      <td>1</td>\n",
       "    </tr>\n",
       "    <tr>\n",
       "      <th>1</th>\n",
       "      <td>16</td>\n",
       "      <td>Adelaide</td>\n",
       "      <td>79.00</td>\n",
       "      <td>12.6</td>\n",
       "      <td>1</td>\n",
       "    </tr>\n",
       "    <tr>\n",
       "      <th>2</th>\n",
       "      <td>10</td>\n",
       "      <td>Amsterdam</td>\n",
       "      <td>97.37</td>\n",
       "      <td>12.9</td>\n",
       "      <td>1</td>\n",
       "    </tr>\n",
       "    <tr>\n",
       "      <th>3</th>\n",
       "      <td>12</td>\n",
       "      <td>Auckland</td>\n",
       "      <td>93.65</td>\n",
       "      <td>182.9</td>\n",
       "      <td>1</td>\n",
       "    </tr>\n",
       "    <tr>\n",
       "      <th>4</th>\n",
       "      <td>22</td>\n",
       "      <td>Barcelona</td>\n",
       "      <td>88.00</td>\n",
       "      <td>73.0</td>\n",
       "      <td>1</td>\n",
       "    </tr>\n",
       "  </tbody>\n",
       "</table>\n",
       "</div>"
      ],
      "text/plain": [
       "   Education_Ranking     Cities  Tolerance  Average_Annual_sunshine  Cluster\n",
       "0                 13     Aarhus      93.03                      0.0        1\n",
       "1                 16   Adelaide      79.00                     12.6        1\n",
       "2                 10  Amsterdam      97.37                     12.9        1\n",
       "3                 12   Auckland      93.65                    182.9        1\n",
       "4                 22  Barcelona      88.00                     73.0        1"
      ]
     },
     "execution_count": 14,
     "metadata": {},
     "output_type": "execute_result"
    }
   ],
   "source": [
    "subdata1.head()"
   ]
  },
  {
   "cell_type": "code",
   "execution_count": 34,
   "id": "07b654a4",
   "metadata": {},
   "outputs": [
    {
     "name": "stdout",
     "output_type": "stream",
     "text": [
      "<class 'pandas.core.frame.DataFrame'>\n",
      "RangeIndex: 90 entries, 0 to 89\n",
      "Data columns (total 6 columns):\n",
      " #   Column                   Non-Null Count  Dtype  \n",
      "---  ------                   --------------  -----  \n",
      " 0   Education_Ranking        90 non-null     int64  \n",
      " 1   Cities                   90 non-null     object \n",
      " 2   Tolerance                90 non-null     float64\n",
      " 3   Average_Annual_sunshine  90 non-null     float64\n",
      " 4   Cluster                  90 non-null     int64  \n",
      " 5   Escala_de_Educacion      90 non-null     object \n",
      "dtypes: float64(2), int64(2), object(2)\n",
      "memory usage: 4.3+ KB\n"
     ]
    }
   ],
   "source": [
    "subdata0.info()"
   ]
  },
  {
   "cell_type": "code",
   "execution_count": 35,
   "id": "0d5bc514",
   "metadata": {},
   "outputs": [],
   "source": [
    "subdata0[\"Tolerance\"] = subdata0[\"Tolerance\"].astype(dtype=int)"
   ]
  },
  {
   "cell_type": "code",
   "execution_count": 36,
   "id": "c044a952",
   "metadata": {},
   "outputs": [],
   "source": [
    "subdata1[\"Tolerance\"] = subdata1[\"Tolerance\"].astype(dtype=int)"
   ]
  },
  {
   "cell_type": "code",
   "execution_count": 37,
   "id": "fbd04291",
   "metadata": {},
   "outputs": [],
   "source": [
    "subdata2[\"Tolerance\"] = subdata2[\"Tolerance\"].astype(dtype=int)"
   ]
  },
  {
   "cell_type": "code",
   "execution_count": 39,
   "id": "46ded1d5",
   "metadata": {},
   "outputs": [],
   "source": [
    "subdata0[\"Average_Annual_sunshine\"] = subdata0[\"Average_Annual_sunshine\"].astype(dtype=int)"
   ]
  },
  {
   "cell_type": "code",
   "execution_count": 40,
   "id": "0f4f16b7",
   "metadata": {},
   "outputs": [],
   "source": [
    "subdata1[\"Average_Annual_sunshine\"] = subdata1[\"Average_Annual_sunshine\"].astype(dtype=int)"
   ]
  },
  {
   "cell_type": "code",
   "execution_count": 41,
   "id": "35bd93be",
   "metadata": {},
   "outputs": [],
   "source": [
    "subdata2[\"Average_Annual_sunshine\"] = subdata2[\"Average_Annual_sunshine\"].astype(dtype=int)"
   ]
  },
  {
   "cell_type": "markdown",
   "id": "8ca06005",
   "metadata": {},
   "source": [
    "## 3. We assign values through intervals to be used as a filter for the user."
   ]
  },
  {
   "cell_type": "markdown",
   "id": "ad5775fa",
   "metadata": {},
   "source": [
    "### 3.1 Education_Ranking"
   ]
  },
  {
   "cell_type": "code",
   "execution_count": 18,
   "id": "79df6c28",
   "metadata": {},
   "outputs": [],
   "source": [
    "def intervalos_edu(i):\n",
    "        if i < 25:\n",
    "            i = str(\"Alto\")\n",
    "        elif i > 25 & i > 40:\n",
    "            i = str(\"Medio\")\n",
    "        else:\n",
    "            i = str(\"Bajo\")\n",
    "        return i"
   ]
  },
  {
   "cell_type": "code",
   "execution_count": 15,
   "id": "6a3fdb23",
   "metadata": {},
   "outputs": [
    {
     "data": {
      "text/plain": [
       "array([39,  0, 43, 35, 48, 24, 47,  8, 51, 40, 31, 52, 14, 41, 22, 38, 18,\n",
       "       46, 34, 21, 25, 37, 36,  4, 49, 30, 10])"
      ]
     },
     "execution_count": 15,
     "metadata": {},
     "output_type": "execute_result"
    }
   ],
   "source": [
    "subdata0.Education_Ranking.unique()"
   ]
  },
  {
   "cell_type": "code",
   "execution_count": 16,
   "id": "073bed25",
   "metadata": {},
   "outputs": [
    {
     "data": {
      "text/plain": [
       "52"
      ]
     },
     "execution_count": 16,
     "metadata": {},
     "output_type": "execute_result"
    }
   ],
   "source": [
    "subdata0.Education_Ranking.max()"
   ]
  },
  {
   "cell_type": "markdown",
   "id": "5a2ec6cf",
   "metadata": {},
   "source": [
    "*Observamos que el máximo en el ranking a nivel educativo es el puesto 52, que seria el puesto más alto dentro de este cluster.* "
   ]
  },
  {
   "cell_type": "code",
   "execution_count": 19,
   "id": "c88bfff8",
   "metadata": {},
   "outputs": [],
   "source": [
    "# a 0 le pondria \"Nulo\" pero no me deja poner otro elif sin que me de error de sintaxis"
   ]
  },
  {
   "cell_type": "code",
   "execution_count": 20,
   "id": "2574c173",
   "metadata": {},
   "outputs": [],
   "source": [
    "subdata0[\"Escala_de_Educacion\"] = subdata0.Education_Ranking.apply(intervalos_edu0)"
   ]
  },
  {
   "cell_type": "code",
   "execution_count": 21,
   "id": "5b531fe4",
   "metadata": {},
   "outputs": [
    {
     "data": {
      "text/html": [
       "<div>\n",
       "<style scoped>\n",
       "    .dataframe tbody tr th:only-of-type {\n",
       "        vertical-align: middle;\n",
       "    }\n",
       "\n",
       "    .dataframe tbody tr th {\n",
       "        vertical-align: top;\n",
       "    }\n",
       "\n",
       "    .dataframe thead th {\n",
       "        text-align: right;\n",
       "    }\n",
       "</style>\n",
       "<table border=\"1\" class=\"dataframe\">\n",
       "  <thead>\n",
       "    <tr style=\"text-align: right;\">\n",
       "      <th></th>\n",
       "      <th>Education_Ranking</th>\n",
       "      <th>Cities</th>\n",
       "      <th>Tolerance</th>\n",
       "      <th>Average_Annual_sunshine</th>\n",
       "      <th>Cluster</th>\n",
       "      <th>Escala_de_Educacion</th>\n",
       "    </tr>\n",
       "  </thead>\n",
       "  <tbody>\n",
       "    <tr>\n",
       "      <th>0</th>\n",
       "      <td>39</td>\n",
       "      <td>Almaty</td>\n",
       "      <td>66.56</td>\n",
       "      <td>64.0</td>\n",
       "      <td>0</td>\n",
       "      <td>Bajo</td>\n",
       "    </tr>\n",
       "    <tr>\n",
       "      <th>1</th>\n",
       "      <td>0</td>\n",
       "      <td>Andorra</td>\n",
       "      <td>73.05</td>\n",
       "      <td>0.0</td>\n",
       "      <td>0</td>\n",
       "      <td>Alto</td>\n",
       "    </tr>\n",
       "    <tr>\n",
       "      <th>2</th>\n",
       "      <td>43</td>\n",
       "      <td>Ankara</td>\n",
       "      <td>9.00</td>\n",
       "      <td>243.0</td>\n",
       "      <td>0</td>\n",
       "      <td>Bajo</td>\n",
       "    </tr>\n",
       "    <tr>\n",
       "      <th>3</th>\n",
       "      <td>0</td>\n",
       "      <td>Asuncion</td>\n",
       "      <td>49.54</td>\n",
       "      <td>12.5</td>\n",
       "      <td>0</td>\n",
       "      <td>Alto</td>\n",
       "    </tr>\n",
       "    <tr>\n",
       "      <th>4</th>\n",
       "      <td>35</td>\n",
       "      <td>Athens</td>\n",
       "      <td>53.00</td>\n",
       "      <td>266.7</td>\n",
       "      <td>0</td>\n",
       "      <td>Bajo</td>\n",
       "    </tr>\n",
       "  </tbody>\n",
       "</table>\n",
       "</div>"
      ],
      "text/plain": [
       "   Education_Ranking    Cities  Tolerance  Average_Annual_sunshine  Cluster  \\\n",
       "0                 39    Almaty      66.56                     64.0        0   \n",
       "1                  0   Andorra      73.05                      0.0        0   \n",
       "2                 43    Ankara       9.00                    243.0        0   \n",
       "3                  0  Asuncion      49.54                     12.5        0   \n",
       "4                 35    Athens      53.00                    266.7        0   \n",
       "\n",
       "  Escala_de_Educacion  \n",
       "0                Bajo  \n",
       "1                Alto  \n",
       "2                Bajo  \n",
       "3                Alto  \n",
       "4                Bajo  "
      ]
     },
     "execution_count": 21,
     "metadata": {},
     "output_type": "execute_result"
    }
   ],
   "source": [
    "subdata0.head()"
   ]
  },
  {
   "cell_type": "code",
   "execution_count": 82,
   "id": "db987774",
   "metadata": {},
   "outputs": [
    {
     "data": {
      "text/plain": [
       "Alto    57\n",
       "Bajo    33\n",
       "Name: Escala_de_Educacion, dtype: int64"
      ]
     },
     "execution_count": 82,
     "metadata": {},
     "output_type": "execute_result"
    }
   ],
   "source": [
    "subdata0.Escala_de_Educacion.value_counts()"
   ]
  },
  {
   "cell_type": "code",
   "execution_count": 22,
   "id": "82094bde",
   "metadata": {},
   "outputs": [
    {
     "data": {
      "text/plain": [
       "array([13, 16, 10, 12, 22, 17, 26, 19, 34, 21, 15,  5,  9,  3,  6, 20, 39,\n",
       "       28,  7, 32,  0])"
      ]
     },
     "execution_count": 22,
     "metadata": {},
     "output_type": "execute_result"
    }
   ],
   "source": [
    "subdata1.Education_Ranking.unique()"
   ]
  },
  {
   "cell_type": "code",
   "execution_count": 23,
   "id": "fc396efb",
   "metadata": {},
   "outputs": [
    {
     "data": {
      "text/plain": [
       "39"
      ]
     },
     "execution_count": 23,
     "metadata": {},
     "output_type": "execute_result"
    }
   ],
   "source": [
    "subdata1.Education_Ranking.max()"
   ]
  },
  {
   "cell_type": "code",
   "execution_count": 24,
   "id": "04dc423c",
   "metadata": {},
   "outputs": [],
   "source": [
    "subdata1[\"Escala_de_Educacion\"] = subdata1.Education_Ranking.apply(intervalos_edu)"
   ]
  },
  {
   "cell_type": "code",
   "execution_count": 25,
   "id": "26d292d7",
   "metadata": {},
   "outputs": [
    {
     "data": {
      "text/html": [
       "<div>\n",
       "<style scoped>\n",
       "    .dataframe tbody tr th:only-of-type {\n",
       "        vertical-align: middle;\n",
       "    }\n",
       "\n",
       "    .dataframe tbody tr th {\n",
       "        vertical-align: top;\n",
       "    }\n",
       "\n",
       "    .dataframe thead th {\n",
       "        text-align: right;\n",
       "    }\n",
       "</style>\n",
       "<table border=\"1\" class=\"dataframe\">\n",
       "  <thead>\n",
       "    <tr style=\"text-align: right;\">\n",
       "      <th></th>\n",
       "      <th>Education_Ranking</th>\n",
       "      <th>Cities</th>\n",
       "      <th>Tolerance</th>\n",
       "      <th>Average_Annual_sunshine</th>\n",
       "      <th>Cluster</th>\n",
       "      <th>Escala_de_Educacion</th>\n",
       "    </tr>\n",
       "  </thead>\n",
       "  <tbody>\n",
       "    <tr>\n",
       "      <th>0</th>\n",
       "      <td>13</td>\n",
       "      <td>Aarhus</td>\n",
       "      <td>93.03</td>\n",
       "      <td>0.0</td>\n",
       "      <td>1</td>\n",
       "      <td>Alto</td>\n",
       "    </tr>\n",
       "    <tr>\n",
       "      <th>1</th>\n",
       "      <td>16</td>\n",
       "      <td>Adelaide</td>\n",
       "      <td>79.00</td>\n",
       "      <td>12.6</td>\n",
       "      <td>1</td>\n",
       "      <td>Alto</td>\n",
       "    </tr>\n",
       "    <tr>\n",
       "      <th>2</th>\n",
       "      <td>10</td>\n",
       "      <td>Amsterdam</td>\n",
       "      <td>97.37</td>\n",
       "      <td>12.9</td>\n",
       "      <td>1</td>\n",
       "      <td>Alto</td>\n",
       "    </tr>\n",
       "    <tr>\n",
       "      <th>3</th>\n",
       "      <td>12</td>\n",
       "      <td>Auckland</td>\n",
       "      <td>93.65</td>\n",
       "      <td>182.9</td>\n",
       "      <td>1</td>\n",
       "      <td>Alto</td>\n",
       "    </tr>\n",
       "    <tr>\n",
       "      <th>4</th>\n",
       "      <td>22</td>\n",
       "      <td>Barcelona</td>\n",
       "      <td>88.00</td>\n",
       "      <td>73.0</td>\n",
       "      <td>1</td>\n",
       "      <td>Alto</td>\n",
       "    </tr>\n",
       "  </tbody>\n",
       "</table>\n",
       "</div>"
      ],
      "text/plain": [
       "   Education_Ranking     Cities  Tolerance  Average_Annual_sunshine  Cluster  \\\n",
       "0                 13     Aarhus      93.03                      0.0        1   \n",
       "1                 16   Adelaide      79.00                     12.6        1   \n",
       "2                 10  Amsterdam      97.37                     12.9        1   \n",
       "3                 12   Auckland      93.65                    182.9        1   \n",
       "4                 22  Barcelona      88.00                     73.0        1   \n",
       "\n",
       "  Escala_de_Educacion  \n",
       "0                Alto  \n",
       "1                Alto  \n",
       "2                Alto  \n",
       "3                Alto  \n",
       "4                Alto  "
      ]
     },
     "execution_count": 25,
     "metadata": {},
     "output_type": "execute_result"
    }
   ],
   "source": [
    "subdata1.head()"
   ]
  },
  {
   "cell_type": "code",
   "execution_count": 81,
   "id": "068f046a",
   "metadata": {},
   "outputs": [
    {
     "data": {
      "text/plain": [
       "Alto    87\n",
       "Bajo    10\n",
       "Name: Escala_de_Educacion, dtype: int64"
      ]
     },
     "execution_count": 81,
     "metadata": {},
     "output_type": "execute_result"
    }
   ],
   "source": [
    "subdata1.Escala_de_Educacion.value_counts()"
   ]
  },
  {
   "cell_type": "code",
   "execution_count": 26,
   "id": "d1fc9bc4",
   "metadata": {},
   "outputs": [
    {
     "data": {
      "text/plain": [
       "array([24, 16, 13, 11,  9, 49, 41,  2, 25,  0,  1])"
      ]
     },
     "execution_count": 26,
     "metadata": {},
     "output_type": "execute_result"
    }
   ],
   "source": [
    "subdata2.Education_Ranking.unique()"
   ]
  },
  {
   "cell_type": "code",
   "execution_count": 27,
   "id": "9e173d5b",
   "metadata": {},
   "outputs": [
    {
     "data": {
      "text/plain": [
       "49"
      ]
     },
     "execution_count": 27,
     "metadata": {},
     "output_type": "execute_result"
    }
   ],
   "source": [
    "subdata2.Education_Ranking.max()"
   ]
  },
  {
   "cell_type": "code",
   "execution_count": 28,
   "id": "3806ef64",
   "metadata": {},
   "outputs": [],
   "source": [
    "subdata2[\"Escala_de_Educacion\"] = subdata2.Education_Ranking.apply(intervalos_edu)"
   ]
  },
  {
   "cell_type": "code",
   "execution_count": 29,
   "id": "a704e34b",
   "metadata": {},
   "outputs": [
    {
     "data": {
      "text/html": [
       "<div>\n",
       "<style scoped>\n",
       "    .dataframe tbody tr th:only-of-type {\n",
       "        vertical-align: middle;\n",
       "    }\n",
       "\n",
       "    .dataframe tbody tr th {\n",
       "        vertical-align: top;\n",
       "    }\n",
       "\n",
       "    .dataframe thead th {\n",
       "        text-align: right;\n",
       "    }\n",
       "</style>\n",
       "<table border=\"1\" class=\"dataframe\">\n",
       "  <thead>\n",
       "    <tr style=\"text-align: right;\">\n",
       "      <th></th>\n",
       "      <th>Education_Ranking</th>\n",
       "      <th>Cities</th>\n",
       "      <th>Tolerance</th>\n",
       "      <th>Average_Annual_sunshine</th>\n",
       "      <th>Cluster</th>\n",
       "      <th>Escala_de_Educacion</th>\n",
       "    </tr>\n",
       "  </thead>\n",
       "  <tbody>\n",
       "    <tr>\n",
       "      <th>0</th>\n",
       "      <td>24</td>\n",
       "      <td>Albuquerque</td>\n",
       "      <td>93.13</td>\n",
       "      <td>168.0</td>\n",
       "      <td>2</td>\n",
       "      <td>Alto</td>\n",
       "    </tr>\n",
       "    <tr>\n",
       "      <th>1</th>\n",
       "      <td>16</td>\n",
       "      <td>Anchorage</td>\n",
       "      <td>76.56</td>\n",
       "      <td>61.0</td>\n",
       "      <td>2</td>\n",
       "      <td>Alto</td>\n",
       "    </tr>\n",
       "    <tr>\n",
       "      <th>2</th>\n",
       "      <td>16</td>\n",
       "      <td>Asheville</td>\n",
       "      <td>67.58</td>\n",
       "      <td>101.0</td>\n",
       "      <td>2</td>\n",
       "      <td>Alto</td>\n",
       "    </tr>\n",
       "    <tr>\n",
       "      <th>3</th>\n",
       "      <td>24</td>\n",
       "      <td>Atlanta</td>\n",
       "      <td>70.00</td>\n",
       "      <td>110.0</td>\n",
       "      <td>2</td>\n",
       "      <td>Alto</td>\n",
       "    </tr>\n",
       "    <tr>\n",
       "      <th>4</th>\n",
       "      <td>24</td>\n",
       "      <td>Austin</td>\n",
       "      <td>64.44</td>\n",
       "      <td>116.0</td>\n",
       "      <td>2</td>\n",
       "      <td>Alto</td>\n",
       "    </tr>\n",
       "  </tbody>\n",
       "</table>\n",
       "</div>"
      ],
      "text/plain": [
       "   Education_Ranking       Cities  Tolerance  Average_Annual_sunshine  \\\n",
       "0                 24  Albuquerque      93.13                    168.0   \n",
       "1                 16    Anchorage      76.56                     61.0   \n",
       "2                 16    Asheville      67.58                    101.0   \n",
       "3                 24      Atlanta      70.00                    110.0   \n",
       "4                 24       Austin      64.44                    116.0   \n",
       "\n",
       "   Cluster Escala_de_Educacion  \n",
       "0        2                Alto  \n",
       "1        2                Alto  \n",
       "2        2                Alto  \n",
       "3        2                Alto  \n",
       "4        2                Alto  "
      ]
     },
     "execution_count": 29,
     "metadata": {},
     "output_type": "execute_result"
    }
   ],
   "source": [
    "subdata2.head()"
   ]
  },
  {
   "cell_type": "code",
   "execution_count": 80,
   "id": "5200b84c",
   "metadata": {},
   "outputs": [
    {
     "data": {
      "text/plain": [
       "Alto    72\n",
       "Bajo     3\n",
       "Name: Escala_de_Educacion, dtype: int64"
      ]
     },
     "execution_count": 80,
     "metadata": {},
     "output_type": "execute_result"
    }
   ],
   "source": [
    "subdata2.Escala_de_Educacion.value_counts()"
   ]
  },
  {
   "cell_type": "markdown",
   "id": "8d4325c9",
   "metadata": {},
   "source": [
    "### 3.2 Tolerance"
   ]
  },
  {
   "cell_type": "code",
   "execution_count": 42,
   "id": "c263f2bf",
   "metadata": {},
   "outputs": [],
   "source": [
    "def intervalos_tolerance(i):\n",
    "        if i < 75:\n",
    "            i = str(\"Alto\")\n",
    "        elif i > 75 & i > 40:\n",
    "            i = str(\"Medio\")\n",
    "        else:\n",
    "            i = str(\"Bajo\")\n",
    "        return i"
   ]
  },
  {
   "cell_type": "code",
   "execution_count": 30,
   "id": "623d7c21",
   "metadata": {},
   "outputs": [
    {
     "data": {
      "text/plain": [
       "array([66.56, 73.05,  9.  , 49.54, 53.  , 43.77,  3.  , 96.88, 61.15,\n",
       "       21.  , 18.  , 75.85, 24.29, 89.16, 77.95, 80.34, 74.  , 32.  ,\n",
       "       51.  ,  9.29, 71.12, 60.  , 26.32, 42.  , 89.  , 61.  , 80.03,\n",
       "       78.65, 55.27, 87.91, 71.98, 34.67,  1.  , 43.  , 69.04, 95.36,\n",
       "       83.04, 73.  , 56.93, 96.4 , 16.  ,  8.  ,  0.  , 60.76, 55.34,\n",
       "       86.69, 74.15, 77.43, 34.  , 68.  , 41.72, 78.59, 61.3 , 79.88,\n",
       "       75.08, 47.99, 80.63, 10.42, 23.49, 82.2 , 59.44, 80.17])"
      ]
     },
     "execution_count": 30,
     "metadata": {},
     "output_type": "execute_result"
    }
   ],
   "source": [
    "subdata0.Tolerance.unique()"
   ]
  },
  {
   "cell_type": "code",
   "execution_count": 31,
   "id": "196b7dd0",
   "metadata": {},
   "outputs": [
    {
     "data": {
      "text/plain": [
       "96.88"
      ]
     },
     "execution_count": 31,
     "metadata": {},
     "output_type": "execute_result"
    }
   ],
   "source": [
    "subdata0.Tolerance.max()"
   ]
  },
  {
   "cell_type": "code",
   "execution_count": 43,
   "id": "9681795a",
   "metadata": {},
   "outputs": [],
   "source": [
    "subdata0[\"Escala_de_Tolerancia\"] = subdata0.Tolerance.apply(intervalos_tolerance)"
   ]
  },
  {
   "cell_type": "code",
   "execution_count": 44,
   "id": "861dbf3b",
   "metadata": {},
   "outputs": [
    {
     "data": {
      "text/html": [
       "<div>\n",
       "<style scoped>\n",
       "    .dataframe tbody tr th:only-of-type {\n",
       "        vertical-align: middle;\n",
       "    }\n",
       "\n",
       "    .dataframe tbody tr th {\n",
       "        vertical-align: top;\n",
       "    }\n",
       "\n",
       "    .dataframe thead th {\n",
       "        text-align: right;\n",
       "    }\n",
       "</style>\n",
       "<table border=\"1\" class=\"dataframe\">\n",
       "  <thead>\n",
       "    <tr style=\"text-align: right;\">\n",
       "      <th></th>\n",
       "      <th>Education_Ranking</th>\n",
       "      <th>Cities</th>\n",
       "      <th>Tolerance</th>\n",
       "      <th>Average_Annual_sunshine</th>\n",
       "      <th>Cluster</th>\n",
       "      <th>Escala_de_Educacion</th>\n",
       "      <th>Escala_de_Tolerancia</th>\n",
       "    </tr>\n",
       "  </thead>\n",
       "  <tbody>\n",
       "    <tr>\n",
       "      <th>0</th>\n",
       "      <td>39</td>\n",
       "      <td>Almaty</td>\n",
       "      <td>66</td>\n",
       "      <td>64</td>\n",
       "      <td>0</td>\n",
       "      <td>Bajo</td>\n",
       "      <td>Alto</td>\n",
       "    </tr>\n",
       "    <tr>\n",
       "      <th>1</th>\n",
       "      <td>0</td>\n",
       "      <td>Andorra</td>\n",
       "      <td>73</td>\n",
       "      <td>0</td>\n",
       "      <td>0</td>\n",
       "      <td>Alto</td>\n",
       "      <td>Alto</td>\n",
       "    </tr>\n",
       "    <tr>\n",
       "      <th>2</th>\n",
       "      <td>43</td>\n",
       "      <td>Ankara</td>\n",
       "      <td>9</td>\n",
       "      <td>243</td>\n",
       "      <td>0</td>\n",
       "      <td>Bajo</td>\n",
       "      <td>Alto</td>\n",
       "    </tr>\n",
       "    <tr>\n",
       "      <th>3</th>\n",
       "      <td>0</td>\n",
       "      <td>Asuncion</td>\n",
       "      <td>49</td>\n",
       "      <td>12</td>\n",
       "      <td>0</td>\n",
       "      <td>Alto</td>\n",
       "      <td>Alto</td>\n",
       "    </tr>\n",
       "    <tr>\n",
       "      <th>4</th>\n",
       "      <td>35</td>\n",
       "      <td>Athens</td>\n",
       "      <td>53</td>\n",
       "      <td>266</td>\n",
       "      <td>0</td>\n",
       "      <td>Bajo</td>\n",
       "      <td>Alto</td>\n",
       "    </tr>\n",
       "  </tbody>\n",
       "</table>\n",
       "</div>"
      ],
      "text/plain": [
       "   Education_Ranking    Cities  Tolerance  Average_Annual_sunshine  Cluster  \\\n",
       "0                 39    Almaty         66                       64        0   \n",
       "1                  0   Andorra         73                        0        0   \n",
       "2                 43    Ankara          9                      243        0   \n",
       "3                  0  Asuncion         49                       12        0   \n",
       "4                 35    Athens         53                      266        0   \n",
       "\n",
       "  Escala_de_Educacion Escala_de_Tolerancia  \n",
       "0                Bajo                 Alto  \n",
       "1                Alto                 Alto  \n",
       "2                Bajo                 Alto  \n",
       "3                Alto                 Alto  \n",
       "4                Bajo                 Alto  "
      ]
     },
     "execution_count": 44,
     "metadata": {},
     "output_type": "execute_result"
    }
   ],
   "source": [
    "subdata0.head()"
   ]
  },
  {
   "cell_type": "code",
   "execution_count": 79,
   "id": "1e7665e7",
   "metadata": {},
   "outputs": [
    {
     "data": {
      "text/plain": [
       "Alto     66\n",
       "Medio    21\n",
       "Bajo      3\n",
       "Name: Escala_de_Tolerancia, dtype: int64"
      ]
     },
     "execution_count": 79,
     "metadata": {},
     "output_type": "execute_result"
    }
   ],
   "source": [
    "subdata0.Escala_de_Tolerancia.value_counts()"
   ]
  },
  {
   "cell_type": "code",
   "execution_count": 45,
   "id": "d2e07b25",
   "metadata": {},
   "outputs": [
    {
     "data": {
      "text/plain": [
       "array([93, 79, 97, 88, 76, 87, 74, 77, 69, 81, 92, 80, 54, 70, 73, 39, 66,\n",
       "       40])"
      ]
     },
     "execution_count": 45,
     "metadata": {},
     "output_type": "execute_result"
    }
   ],
   "source": [
    "subdata1.Tolerance.unique()"
   ]
  },
  {
   "cell_type": "code",
   "execution_count": 46,
   "id": "67b55109",
   "metadata": {},
   "outputs": [
    {
     "data": {
      "text/plain": [
       "97"
      ]
     },
     "execution_count": 46,
     "metadata": {},
     "output_type": "execute_result"
    }
   ],
   "source": [
    "subdata1.Tolerance.max()"
   ]
  },
  {
   "cell_type": "code",
   "execution_count": 47,
   "id": "bf16739d",
   "metadata": {},
   "outputs": [],
   "source": [
    "subdata1[\"Escala_de_Tolerancia\"] = subdata1.Tolerance.apply(intervalos_tolerance)"
   ]
  },
  {
   "cell_type": "code",
   "execution_count": 78,
   "id": "9a9835e4",
   "metadata": {},
   "outputs": [
    {
     "data": {
      "text/plain": [
       "Medio    81\n",
       "Alto     16\n",
       "Name: Escala_de_Tolerancia, dtype: int64"
      ]
     },
     "execution_count": 78,
     "metadata": {},
     "output_type": "execute_result"
    }
   ],
   "source": [
    "subdata1.Escala_de_Tolerancia.value_counts()"
   ]
  },
  {
   "cell_type": "code",
   "execution_count": 48,
   "id": "bd1256ac",
   "metadata": {},
   "outputs": [
    {
     "data": {
      "text/plain": [
       "array([ 93,  76,  67,  70,  64,  81,  72,  96,  50,  86,  66,  85,  63,\n",
       "        15,  23,  55,  71,  89,  82,  80,   3,  92,  91,  31, 100])"
      ]
     },
     "execution_count": 48,
     "metadata": {},
     "output_type": "execute_result"
    }
   ],
   "source": [
    "subdata2.Tolerance.unique()"
   ]
  },
  {
   "cell_type": "code",
   "execution_count": 49,
   "id": "e167189d",
   "metadata": {},
   "outputs": [
    {
     "data": {
      "text/plain": [
       "100"
      ]
     },
     "execution_count": 49,
     "metadata": {},
     "output_type": "execute_result"
    }
   ],
   "source": [
    "subdata2.Tolerance.max()"
   ]
  },
  {
   "cell_type": "code",
   "execution_count": 50,
   "id": "17347c45",
   "metadata": {},
   "outputs": [],
   "source": [
    "subdata2[\"Escala_de_Tolerancia\"] = subdata2.Tolerance.apply(intervalos_tolerance)"
   ]
  },
  {
   "cell_type": "code",
   "execution_count": 77,
   "id": "f4cf7480",
   "metadata": {},
   "outputs": [
    {
     "data": {
      "text/plain": [
       "Medio    38\n",
       "Alto     37\n",
       "Name: Escala_de_Tolerancia, dtype: int64"
      ]
     },
     "execution_count": 77,
     "metadata": {},
     "output_type": "execute_result"
    }
   ],
   "source": [
    "subdata2.Escala_de_Tolerancia.value_counts()"
   ]
  },
  {
   "cell_type": "markdown",
   "id": "bdf4c2c8",
   "metadata": {},
   "source": [
    "### 3.3 Average_Annual_sunshine"
   ]
  },
  {
   "cell_type": "code",
   "execution_count": 56,
   "id": "f34a2df1",
   "metadata": {},
   "outputs": [],
   "source": [
    "def intervalos_sun(i):\n",
    "        if i < 240:\n",
    "            i = str(\"Alto\")\n",
    "        elif i > 240 & i > 130:\n",
    "            i = str(\"Medio\")\n",
    "        else:\n",
    "            i = str(\"Bajo\")\n",
    "        return i"
   ]
  },
  {
   "cell_type": "code",
   "execution_count": 57,
   "id": "4becdb6f",
   "metadata": {},
   "outputs": [
    {
     "data": {
      "text/plain": [
       "array([ 64,   0, 243,  12, 266, 207,  75, 124, 254, 260, 228, 225, 181,\n",
       "       277, 222, 265, 246, 217, 312, 218,  31, 252,  13, 302, 102, 282,\n",
       "       242, 271,  70, 236, 113,  49, 286])"
      ]
     },
     "execution_count": 57,
     "metadata": {},
     "output_type": "execute_result"
    }
   ],
   "source": [
    "subdata0.Average_Annual_sunshine.unique()"
   ]
  },
  {
   "cell_type": "code",
   "execution_count": 58,
   "id": "520d69ec",
   "metadata": {},
   "outputs": [
    {
     "data": {
      "text/plain": [
       "312"
      ]
     },
     "execution_count": 58,
     "metadata": {},
     "output_type": "execute_result"
    }
   ],
   "source": [
    "subdata0.Average_Annual_sunshine.max()"
   ]
  },
  {
   "cell_type": "code",
   "execution_count": 59,
   "id": "28335023",
   "metadata": {},
   "outputs": [],
   "source": [
    "subdata0[\"Escala_de_Sunshine\"] = subdata0.Average_Annual_sunshine.apply(intervalos_sun)"
   ]
  },
  {
   "cell_type": "code",
   "execution_count": 76,
   "id": "033d3950",
   "metadata": {},
   "outputs": [
    {
     "data": {
      "text/plain": [
       "Alto     76\n",
       "Bajo      9\n",
       "Medio     5\n",
       "Name: Escala_de_Sunshine, dtype: int64"
      ]
     },
     "execution_count": 76,
     "metadata": {},
     "output_type": "execute_result"
    }
   ],
   "source": [
    "subdata0.Escala_de_Sunshine.value_counts()"
   ]
  },
  {
   "cell_type": "code",
   "execution_count": 60,
   "id": "3e838949",
   "metadata": {},
   "outputs": [
    {
     "data": {
      "text/plain": [
       "array([  0,  12, 182,  73, 209, 160,  35, 288, 116, 297, 238, 138,  13,\n",
       "       298, 227, 281, 282, 302,  90, 198, 200, 296, 285,  65,  91, 290,\n",
       "        89, 241,  94, 107, 336, 246, 180, 130, 299, 250, 129, 161, 287,\n",
       "       291, 199, 213, 172])"
      ]
     },
     "execution_count": 60,
     "metadata": {},
     "output_type": "execute_result"
    }
   ],
   "source": [
    "subdata1.Average_Annual_sunshine.unique()"
   ]
  },
  {
   "cell_type": "code",
   "execution_count": 61,
   "id": "da108b5b",
   "metadata": {},
   "outputs": [
    {
     "data": {
      "text/plain": [
       "336"
      ]
     },
     "execution_count": 61,
     "metadata": {},
     "output_type": "execute_result"
    }
   ],
   "source": [
    "subdata1.Average_Annual_sunshine.max()"
   ]
  },
  {
   "cell_type": "code",
   "execution_count": 62,
   "id": "0036a4da",
   "metadata": {},
   "outputs": [],
   "source": [
    "subdata1[\"Escala_de_Sunshine\"] = subdata1.Average_Annual_sunshine.apply(intervalos_sun)"
   ]
  },
  {
   "cell_type": "code",
   "execution_count": 72,
   "id": "ee23b270",
   "metadata": {},
   "outputs": [
    {
     "data": {
      "text/plain": [
       "Alto     79\n",
       "Bajo     15\n",
       "Medio     3\n",
       "Name: Escala_de_Sunshine, dtype: int64"
      ]
     },
     "execution_count": 72,
     "metadata": {},
     "output_type": "execute_result"
    }
   ],
   "source": [
    "subdata1.Escala_de_Sunshine.value_counts()"
   ]
  },
  {
   "cell_type": "code",
   "execution_count": 63,
   "id": "e2f4ea8e",
   "metadata": {},
   "outputs": [
    {
     "data": {
      "text/plain": [
       "array([168,  61, 101, 110, 116, 113, 213, 120,  98, 324, 326,  54, 259,\n",
       "       111, 105,  84,  82,  66, 127,  72, 161, 136, 115,  76,  12, 337,\n",
       "       174,  75, 330,  44,  90,  91,  88,  95, 121,  97, 211,   0, 147,\n",
       "        93, 118,  96, 103, 107, 139, 177,  58,  68,  99, 100, 125, 106,\n",
       "       298,  71, 102,  36])"
      ]
     },
     "execution_count": 63,
     "metadata": {},
     "output_type": "execute_result"
    }
   ],
   "source": [
    "subdata2.Average_Annual_sunshine.unique()"
   ]
  },
  {
   "cell_type": "code",
   "execution_count": 64,
   "id": "1b3e478f",
   "metadata": {},
   "outputs": [
    {
     "data": {
      "text/plain": [
       "337"
      ]
     },
     "execution_count": 64,
     "metadata": {},
     "output_type": "execute_result"
    }
   ],
   "source": [
    "subdata2.Average_Annual_sunshine.max()"
   ]
  },
  {
   "cell_type": "code",
   "execution_count": 74,
   "id": "338285ca",
   "metadata": {},
   "outputs": [],
   "source": [
    "subdata2[\"Escala_de_Sunshine\"] = subdata2.Average_Annual_sunshine.apply(intervalos_sun)"
   ]
  },
  {
   "cell_type": "code",
   "execution_count": 75,
   "id": "740ffa44",
   "metadata": {},
   "outputs": [
    {
     "data": {
      "text/plain": [
       "Alto    68\n",
       "Bajo     7\n",
       "Name: Escala_de_Sunshine, dtype: int64"
      ]
     },
     "execution_count": 75,
     "metadata": {},
     "output_type": "execute_result"
    }
   ],
   "source": [
    "subdata2.Escala_de_Sunshine.value_counts()"
   ]
  },
  {
   "cell_type": "code",
   "execution_count": 83,
   "id": "647c1a6f",
   "metadata": {},
   "outputs": [],
   "source": [
    "Innovator = subdata0"
   ]
  },
  {
   "cell_type": "code",
   "execution_count": 84,
   "id": "d401388d",
   "metadata": {},
   "outputs": [],
   "source": [
    "Traveler = subdata1"
   ]
  },
  {
   "cell_type": "code",
   "execution_count": 85,
   "id": "cc6a0891",
   "metadata": {},
   "outputs": [],
   "source": [
    "Posh = subdata2"
   ]
  },
  {
   "cell_type": "code",
   "execution_count": 87,
   "id": "76bea0c9",
   "metadata": {},
   "outputs": [],
   "source": [
    "Innovator.to_csv(\"../Data/Innovator.csv\")"
   ]
  },
  {
   "cell_type": "code",
   "execution_count": 88,
   "id": "ade12420",
   "metadata": {},
   "outputs": [],
   "source": [
    "Traveler.to_csv(\"../Data/Traveler.csv\")"
   ]
  },
  {
   "cell_type": "code",
   "execution_count": 89,
   "id": "53fbab04",
   "metadata": {},
   "outputs": [],
   "source": [
    "Posh.to_csv(\"../Data/Posh.csv\")"
   ]
  }
 ],
 "metadata": {
  "kernelspec": {
   "display_name": "ironhack2",
   "language": "python",
   "name": "ironhack2"
  },
  "language_info": {
   "codemirror_mode": {
    "name": "ipython",
    "version": 3
   },
   "file_extension": ".py",
   "mimetype": "text/x-python",
   "name": "python",
   "nbconvert_exporter": "python",
   "pygments_lexer": "ipython3",
   "version": "3.8.5"
  }
 },
 "nbformat": 4,
 "nbformat_minor": 5
}
