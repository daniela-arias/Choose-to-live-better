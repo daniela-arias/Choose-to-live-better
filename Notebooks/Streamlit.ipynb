{
 "cells": [
  {
   "cell_type": "markdown",
   "id": "4f419a42",
   "metadata": {},
   "source": [
    "## 1. Import libraries"
   ]
  },
  {
   "cell_type": "code",
   "execution_count": 4,
   "id": "635db1a1",
   "metadata": {},
   "outputs": [],
   "source": [
    "import nltk\n",
    "from nltk.sentiment.vader import SentimentIntensityAnalyzer\n",
    "import plotly.express as px"
   ]
  },
  {
   "cell_type": "code",
   "execution_count": 10,
   "id": "5b715406",
   "metadata": {},
   "outputs": [],
   "source": [
    "import pandas as pd\n",
    "import xlrd\n",
    "from geopy.geocoders import Nominatim"
   ]
  },
  {
   "cell_type": "code",
   "execution_count": 5,
   "id": "13d71af8",
   "metadata": {},
   "outputs": [],
   "source": [
    "import pandas as pd\n",
    "import numpy as np\n",
    "import sys\n",
    "sys.path.append(\"../\")"
   ]
  },
  {
   "cell_type": "markdown",
   "id": "b74dc40d",
   "metadata": {},
   "source": [
    "## 2. Import Data"
   ]
  },
  {
   "cell_type": "code",
   "execution_count": 6,
   "id": "f36d4147",
   "metadata": {},
   "outputs": [],
   "source": [
    "subdata0 = pd.read_csv(\"../Data/subdata0.csv\")"
   ]
  },
  {
   "cell_type": "code",
   "execution_count": 7,
   "id": "77eaf498",
   "metadata": {},
   "outputs": [],
   "source": [
    "subdata1 = pd.read_csv(\"../Data/subdata1.csv\")"
   ]
  },
  {
   "cell_type": "code",
   "execution_count": 8,
   "id": "9085fc38",
   "metadata": {},
   "outputs": [],
   "source": [
    "subdata2 = pd.read_csv(\"../Data/subdata2.csv\")"
   ]
  },
  {
   "cell_type": "markdown",
   "id": "f5adcfde",
   "metadata": {},
   "source": [
    "### We will eliminate the columns that we have already used previously in the profile determination."
   ]
  },
  {
   "cell_type": "code",
   "execution_count": 12,
   "id": "ce161f28",
   "metadata": {},
   "outputs": [],
   "source": [
    "subdata0.drop(['Unnamed: 0','Gun_related_deaths','VAT_Sales_Tax','GDP_per_capita', 'Growth_percentage','Unemployment_percentage','Housing', 'Culture','Travel_connectivity'], axis=1, inplace=True)"
   ]
  },
  {
   "cell_type": "code",
   "execution_count": 13,
   "id": "d733e1a2",
   "metadata": {},
   "outputs": [],
   "source": [
    "subdata1.drop(['Unnamed: 0','Gun_related_deaths','VAT_Sales_Tax','GDP_per_capita', 'Growth_percentage','Unemployment_percentage','Housing', 'Culture','Travel_connectivity'], axis=1, inplace=True)"
   ]
  },
  {
   "cell_type": "code",
   "execution_count": 14,
   "id": "f4f55e08",
   "metadata": {},
   "outputs": [],
   "source": [
    "subdata2.drop(['Unnamed: 0','Gun_related_deaths','VAT_Sales_Tax','GDP_per_capita', 'Growth_percentage','Unemployment_percentage','Housing', 'Culture','Travel_connectivity'], axis=1, inplace=True)"
   ]
  },
  {
   "cell_type": "code",
   "execution_count": null,
   "id": "d15acaf2",
   "metadata": {},
   "outputs": [],
   "source": []
  },
  {
   "cell_type": "markdown",
   "id": "771cde35",
   "metadata": {},
   "source": [
    "## 3. We assign values through intervals to be used as a filter for the user."
   ]
  },
  {
   "cell_type": "code",
   "execution_count": null,
   "id": "29dd2808",
   "metadata": {},
   "outputs": [],
   "source": []
  }
 ],
 "metadata": {
  "kernelspec": {
   "display_name": "ironhack2",
   "language": "python",
   "name": "ironhack2"
  },
  "language_info": {
   "codemirror_mode": {
    "name": "ipython",
    "version": 3
   },
   "file_extension": ".py",
   "mimetype": "text/x-python",
   "name": "python",
   "nbconvert_exporter": "python",
   "pygments_lexer": "ipython3",
   "version": "3.8.5"
  }
 },
 "nbformat": 4,
 "nbformat_minor": 5
}
