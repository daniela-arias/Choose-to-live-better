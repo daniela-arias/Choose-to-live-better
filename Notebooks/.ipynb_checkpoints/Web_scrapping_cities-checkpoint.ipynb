{
 "cells": [
  {
   "cell_type": "markdown",
   "id": "9744b97e",
   "metadata": {},
   "source": [
    "## 1. Import Libraries"
   ]
  },
  {
   "cell_type": "code",
   "execution_count": 2,
   "id": "46f063ef",
   "metadata": {},
   "outputs": [],
   "source": [
    "import requests\n",
    "from selenium import webdriver\n",
    "from time import sleep\n",
    "from selenium.webdriver.chrome.options import Options\n",
    "from webdriver_manager.chrome import ChromeDriverManager\n",
    "from bs4 import BeautifulSoup"
   ]
  },
  {
   "cell_type": "code",
   "execution_count": 3,
   "id": "2a7ffa28",
   "metadata": {},
   "outputs": [],
   "source": [
    "opciones= Options()\n",
    "opciones.add_experimental_option('excludeSwitches', ['enable-automation'])\n",
    "#para ocultarme como robot, pero me sigue diciendo que hay un software automatico usando chrome\n",
    "opciones.add_experimental_option('useAutomationExtension', False)\n",
    "opciones.add_argument('--start-maximized') #empezar maximizado\n",
    "opciones.add_argument('user.data-dir=selenium') #guarda las cookies\n",
    "opciones.add_argument('drive/adblock.crx') #adblocker\n",
    "opciones.add_argument('--incognito')#incognito window"
   ]
  },
  {
   "cell_type": "code",
   "execution_count": 4,
   "id": "5f57acbf",
   "metadata": {},
   "outputs": [],
   "source": [
    "cities = ['Aarhus', 'Adelaide', 'Albuquerque', 'Almaty', 'Amsterdam','Anchorage', 'Andorra', 'Ankara', 'Asheville', \n",
    "          'Asuncion','Athens', 'Atlanta', 'Auckland', 'Austin', 'Baku', 'Bali','Baltimore', 'Bangkok', 'Barcelona', \n",
    "          'Beijing', 'Beirut','Belfast', 'Belgrade', 'Bengaluru', 'Bergen','Berlin', 'Bern', 'Bilbao', \n",
    "          'Birmingham', 'Bogota', 'Boise','Bologna', 'Bordeaux', 'Boston', 'Boulder', 'Bozeman','Bratislava', \n",
    "          'Brighton', 'Brisbane', 'Bristol', 'Brno','Brussels', 'Bucharest', 'Budapest', 'Buenos-Aires', 'Buffalo',\n",
    "          'Cairo', 'Calgary', 'Cambridge', 'cape-town', 'Caracas', 'Cardiff','Casablanca', 'Charleston', 'Charlotte', \n",
    "          'Chattanooga', 'Chennai',\n",
    "       'Chiang-Mai', 'Chicago', 'Chisinau', 'Christchurch', 'Cincinnati',\n",
    "       'Cleveland', 'Cluj-Napoca', 'Cologne', 'Colorado-Springs',\n",
    "       'Columbus', 'Copenhagen', 'Cork', 'Curitiba', 'Dallas',\n",
    "       'Dar-es-Salaam', 'Delhi', 'Denver', 'Des-Moines', 'Detroit',\n",
    "       'Doha', 'Dresden', 'Dubai', 'Dublin', 'Dusseldorf', 'Edinburgh',\n",
    "       'Edmonton', 'Eindhoven', 'Eugene', 'Florence', 'Florianopolis',\n",
    "       'Fort-Collins', 'Frankfurt', 'Fukuoka', 'Gdansk',\n",
    "       'Geneva', 'Gibraltar', 'Glasgow', 'Gothenburg', 'Grenoble',\n",
    "       'Guadalajara', 'Guatemala-City', 'Halifax', 'Hamburg', 'Hannover',\n",
    "       'Havana', 'Helsinki', 'Ho-Chi-Minh-City', 'Hong-Kong', 'Honolulu',\n",
    "       'Houston', 'Hyderabad', 'Indianapolis', 'Innsbruck', 'Istanbul',\n",
    "       'Jacksonville', 'Jakarta', 'Johannesburg', 'Kansas-City',\n",
    "       'Karlsruhe', 'Kathmandu', 'Kiev', 'Kingston', 'Knoxville',\n",
    "       'Krakow', 'Kuala-Lumpur', 'Kyoto', 'Lagos', 'La-Paz',\n",
    "       'Las-Palmas-de-Gran-Canaria', 'Las-Vegas', 'Lausanne', 'Leeds',\n",
    "       'Leipzig', 'Lille', 'Lima', 'Lisbon', 'Liverpool', 'Ljubljana',\n",
    "       'London', 'Los-Angeles', 'Louisville', 'Luxembourg', 'Lviv',\n",
    "       'Lyon', 'Madison', 'Madrid', 'Malaga', 'Malmo', 'Managua',\n",
    "       'Manchester', 'Manila', 'Marseille', 'Medellin', 'Melbourne',\n",
    "       'Memphis', 'Mexico-City', 'Miami', 'Milan', 'Milwaukee',\n",
    "       'Minneapolis-Saint-Paul', 'Minsk', 'Montevideo', 'Montreal',\n",
    "       'Moscow', 'Mumbai', 'Munich', 'Nairobi', 'Nantes', 'Naples',\n",
    "       'Nashville', 'New-Orleans', 'New-York', 'Nice', 'Nicosia',\n",
    "       'Oklahoma-City', 'Omaha', 'Orlando', 'Osaka', 'Oslo', 'Ottawa',\n",
    "       'Oulu', 'Oxford', 'Palo-Alto', 'Panama', 'Paris', 'Perth',\n",
    "       'Philadelphia', 'Phnom-Penh', 'Phoenix', 'Phuket', 'Pittsburgh',\n",
    "       'Portland-or', 'Porto', 'Porto-Alegre', 'Prague', 'Providence',\n",
    "       'Quebec', 'Quito', 'Raleigh', 'Reykjavik', 'Richmond', 'Riga',\n",
    "       'Rio-De-Janeiro', 'Riyadh', 'Rochester', 'Rome', 'Rotterdam',\n",
    "       'Saint-Petersburg', 'Salt-Lake-City', 'San-Antonio', 'San-Diego',\n",
    "       'San-Francisco-Bay-Area', 'San-Jose', 'San-Juan',\n",
    "       'San-Luis-Obispo', 'San-Salvador', 'Santiago', 'Santo-Domingo',\n",
    "       'Sao-Paulo', 'Sarajevo', 'Saskatoon', 'Seattle', 'Seoul',\n",
    "       'Seville', 'Shanghai', 'Singapore', 'Skopje', 'Sofia', 'St-Louis',\n",
    "       'Stockholm', 'Stuttgart', 'Sydney', 'Taipei', 'Tallinn',\n",
    "       'Tampa-Bay-Area', 'Tampere', 'Tartu', 'Tashkent', 'Tbilisi',\n",
    "       'Tehran', 'Tel-Aviv', 'The-Hague', 'Thessaloniki', 'Tokyo',\n",
    "       'Toronto', 'Toulouse', 'Tunis', 'Turin', 'Turku', 'Uppsala',\n",
    "       'Utrecht', 'Valencia', 'Valletta', 'Vancouver', 'Victoria',\n",
    "       'Vienna', 'Vilnius', 'Warsaw', 'Washington-dc', 'Wellington',\n",
    "       'Winnipeg', 'Wroclaw', 'Yerevan', 'Zagreb', 'Zurich']"
   ]
  },
  {
   "cell_type": "code",
   "execution_count": 5,
   "id": "5e604792",
   "metadata": {},
   "outputs": [
    {
     "data": {
      "text/plain": [
       "'winnipeg'"
      ]
     },
     "execution_count": 5,
     "metadata": {},
     "output_type": "execute_result"
    }
   ],
   "source": [
    "'Winnipeg'.lower()"
   ]
  },
  {
   "cell_type": "code",
   "execution_count": 6,
   "id": "0a76b363",
   "metadata": {},
   "outputs": [],
   "source": [
    "cities_lower = []\n",
    "for i in cities:\n",
    "    cities_lower.append(i.lower())"
   ]
  },
  {
   "cell_type": "code",
   "execution_count": 7,
   "id": "d5483219",
   "metadata": {},
   "outputs": [],
   "source": [
    "#cities_lower"
   ]
  },
  {
   "cell_type": "code",
   "execution_count": 8,
   "id": "f3115eea",
   "metadata": {},
   "outputs": [],
   "source": [
    "url_list = []\n",
    "for i in cities_lower:\n",
    "    url_list.append(f\"https://teleport.org/cities/{i}/\")"
   ]
  },
  {
   "cell_type": "code",
   "execution_count": 9,
   "id": "0dd98b03",
   "metadata": {},
   "outputs": [],
   "source": [
    "#url_list"
   ]
  },
  {
   "cell_type": "code",
   "execution_count": 15,
   "id": "ce51cee2",
   "metadata": {},
   "outputs": [
    {
     "data": {
      "text/plain": [
       "262"
      ]
     },
     "execution_count": 15,
     "metadata": {},
     "output_type": "execute_result"
    }
   ],
   "source": [
    "len(url_list)"
   ]
  },
  {
   "cell_type": "markdown",
   "id": "6232b22f",
   "metadata": {},
   "source": [
    "### Mediante Webscrapping guardamos la Descripción de cada ciudad"
   ]
  },
  {
   "cell_type": "code",
   "execution_count": 107,
   "id": "e6bfd676",
   "metadata": {},
   "outputs": [
    {
     "name": "stderr",
     "output_type": "stream",
     "text": [
      "\n",
      "\n",
      "====== WebDriver manager ======\n",
      "Current google-chrome version is 96.0.4664\n",
      "Get LATEST chromedriver version for 96.0.4664 google-chrome\n",
      "Driver [/Users/danielaarias/.wdm/drivers/chromedriver/mac64/96.0.4664.45/chromedriver] found in cache\n",
      "<ipython-input-107-39fbbb61f52f>:1: DeprecationWarning: executable_path has been deprecated, please pass in a Service object\n",
      "  driver = webdriver.Chrome(ChromeDriverManager().install())\n",
      "<ipython-input-107-39fbbb61f52f>:6: DeprecationWarning: find_element_by_* commands are deprecated. Please use find_element() instead\n",
      "  my_info = driver.find_element_by_css_selector(\"#container > div > main > div > div.contents___1nRSJ > div > div.container___3R5n9 > article:nth-child(1) > div:nth-child(3) > div > div.summary___1Tz89\").text\n"
     ]
    }
   ],
   "source": [
    "driver = webdriver.Chrome(ChromeDriverManager().install())\n",
    "Description = []\n",
    "for i in url_list:\n",
    "    driver.get(i)\n",
    "    sleep(5)\n",
    "    my_info = driver.find_element_by_css_selector(\"#container > div > main > div > div.contents___1nRSJ > div > div.container___3R5n9 > article:nth-child(1) > div:nth-child(3) > div > div.summary___1Tz89\").text\n",
    "    Description.append(my_info)\n",
    "driver.quit()"
   ]
  },
  {
   "cell_type": "code",
   "execution_count": 109,
   "id": "b3650817",
   "metadata": {},
   "outputs": [
    {
     "data": {
      "text/plain": [
       "262"
      ]
     },
     "execution_count": 109,
     "metadata": {},
     "output_type": "execute_result"
    }
   ],
   "source": [
    "len(Description)"
   ]
  },
  {
   "cell_type": "markdown",
   "id": "4176aa0e",
   "metadata": {},
   "source": [
    "### Ahora intentaremos obtener el Housing cost, con cada tipo de apartamento"
   ]
  },
  {
   "cell_type": "code",
   "execution_count": 169,
   "id": "ff2bb312",
   "metadata": {},
   "outputs": [
    {
     "name": "stderr",
     "output_type": "stream",
     "text": [
      "\n",
      "\n",
      "====== WebDriver manager ======\n",
      "Current google-chrome version is 96.0.4664\n",
      "Get LATEST chromedriver version for 96.0.4664 google-chrome\n",
      "Driver [/Users/danielaarias/.wdm/drivers/chromedriver/mac64/96.0.4664.45/chromedriver] found in cache\n",
      "<ipython-input-169-e4ab0a4775f4>:1: DeprecationWarning: executable_path has been deprecated, please pass in a Service object\n",
      "  driver = webdriver.Chrome(ChromeDriverManager().install(), options = opciones)\n",
      "<ipython-input-169-e4ab0a4775f4>:11: DeprecationWarning: find_element_by_* commands are deprecated. Please use find_element() instead\n",
      "  driver.find_element_by_css_selector(\"#container > div > main > div > div.contents___1nRSJ > div > div.container___3R5n9 > article:nth-child(4) > div:nth-child(3) > div:nth-child(2) > div.details___3QNKe > select\").click()\n",
      "<ipython-input-169-e4ab0a4775f4>:13: DeprecationWarning: find_element_by_* commands are deprecated. Please use find_element() instead\n",
      "  driver.find_element_by_css_selector(\"#container > div > main > div > div.contents___1nRSJ > div > div.container___3R5n9 > article:nth-child(4) > div:nth-child(3) > div:nth-child(2) > div.details___3QNKe > select > option:nth-child(1)\").click()\n",
      "<ipython-input-169-e4ab0a4775f4>:14: DeprecationWarning: find_element_by_* commands are deprecated. Please use find_element() instead\n",
      "  Large_price=driver.find_element_by_css_selector(\"#container > div > main > div > div.contents___1nRSJ > div > div.container___3R5n9 > article:nth-child(4) > div:nth-child(3) > div:nth-child(2) > div.details___3QNKe > div.number___2Gtf5\").text\n",
      "<ipython-input-169-e4ab0a4775f4>:18: DeprecationWarning: find_element_by_* commands are deprecated. Please use find_element() instead\n",
      "  driver.find_element_by_css_selector(\"#container > div > main > div > div.contents___1nRSJ > div > div.container___3R5n9 > article:nth-child(4) > div:nth-child(3) > div:nth-child(2) > div.details___3QNKe > select\").click()\n",
      "<ipython-input-169-e4ab0a4775f4>:20: DeprecationWarning: find_element_by_* commands are deprecated. Please use find_element() instead\n",
      "  driver.find_element_by_css_selector(\"#container > div > main > div > div.contents___1nRSJ > div > div.container___3R5n9 > article:nth-child(4) > div:nth-child(3) > div:nth-child(2) > div.details___3QNKe > select > option:nth-child(2)\").click()\n",
      "<ipython-input-169-e4ab0a4775f4>:21: DeprecationWarning: find_element_by_* commands are deprecated. Please use find_element() instead\n",
      "  Medium_price=driver.find_element_by_css_selector(\"#container > div > main > div > div.contents___1nRSJ > div > div.container___3R5n9 > article:nth-child(4) > div:nth-child(3) > div:nth-child(2) > div.details___3QNKe > div.number___2Gtf5\").text\n",
      "<ipython-input-169-e4ab0a4775f4>:25: DeprecationWarning: find_element_by_* commands are deprecated. Please use find_element() instead\n",
      "  driver.find_element_by_css_selector(\"#container > div > main > div > div.contents___1nRSJ > div > div.container___3R5n9 > article:nth-child(4) > div:nth-child(3) > div:nth-child(2) > div.details___3QNKe > select\").click()\n",
      "<ipython-input-169-e4ab0a4775f4>:27: DeprecationWarning: find_element_by_* commands are deprecated. Please use find_element() instead\n",
      "  driver.find_element_by_css_selector(\"#container > div > main > div > div.contents___1nRSJ > div > div.container___3R5n9 > article:nth-child(4) > div:nth-child(3) > div:nth-child(2) > div.details___3QNKe > select > option:nth-child(3)\").click()\n",
      "<ipython-input-169-e4ab0a4775f4>:28: DeprecationWarning: find_element_by_* commands are deprecated. Please use find_element() instead\n",
      "  Small_price=driver.find_element_by_css_selector(\"#container > div > main > div > div.contents___1nRSJ > div > div.container___3R5n9 > article:nth-child(4) > div:nth-child(3) > div:nth-child(2) > div.details___3QNKe > div.number___2Gtf5\").text\n"
     ]
    }
   ],
   "source": [
    "driver = webdriver.Chrome(ChromeDriverManager().install(), options = opciones)\n",
    "Cost_of_living_large = []\n",
    "Cost_of_living_medium = []\n",
    "Cost_of_living_small = []\n",
    "        \n",
    "for i in url_list:\n",
    "    try:\n",
    "        driver.get(i)\n",
    "        sleep(5)\n",
    "        \n",
    "        driver.find_element_by_css_selector(\"#container > div > main > div > div.contents___1nRSJ > div > div.container___3R5n9 > article:nth-child(4) > div:nth-child(3) > div:nth-child(2) > div.details___3QNKe > select\").click()\n",
    "        driver.implicitly_wait(20)\n",
    "        driver.find_element_by_css_selector(\"#container > div > main > div > div.contents___1nRSJ > div > div.container___3R5n9 > article:nth-child(4) > div:nth-child(3) > div:nth-child(2) > div.details___3QNKe > select > option:nth-child(1)\").click()\n",
    "        Large_price=driver.find_element_by_css_selector(\"#container > div > main > div > div.contents___1nRSJ > div > div.container___3R5n9 > article:nth-child(4) > div:nth-child(3) > div:nth-child(2) > div.details___3QNKe > div.number___2Gtf5\").text\n",
    "        Cost_of_living_large.append(Large_price)\n",
    "        \n",
    "        \n",
    "        driver.find_element_by_css_selector(\"#container > div > main > div > div.contents___1nRSJ > div > div.container___3R5n9 > article:nth-child(4) > div:nth-child(3) > div:nth-child(2) > div.details___3QNKe > select\").click()\n",
    "        driver.implicitly_wait(20)\n",
    "        driver.find_element_by_css_selector(\"#container > div > main > div > div.contents___1nRSJ > div > div.container___3R5n9 > article:nth-child(4) > div:nth-child(3) > div:nth-child(2) > div.details___3QNKe > select > option:nth-child(2)\").click()\n",
    "        Medium_price=driver.find_element_by_css_selector(\"#container > div > main > div > div.contents___1nRSJ > div > div.container___3R5n9 > article:nth-child(4) > div:nth-child(3) > div:nth-child(2) > div.details___3QNKe > div.number___2Gtf5\").text\n",
    "        Cost_of_living_medium.append(Medium_price)\n",
    "        \n",
    "        \n",
    "        driver.find_element_by_css_selector(\"#container > div > main > div > div.contents___1nRSJ > div > div.container___3R5n9 > article:nth-child(4) > div:nth-child(3) > div:nth-child(2) > div.details___3QNKe > select\").click()\n",
    "        driver.implicitly_wait(20)\n",
    "        driver.find_element_by_css_selector(\"#container > div > main > div > div.contents___1nRSJ > div > div.container___3R5n9 > article:nth-child(4) > div:nth-child(3) > div:nth-child(2) > div.details___3QNKe > select > option:nth-child(3)\").click()\n",
    "        Small_price=driver.find_element_by_css_selector(\"#container > div > main > div > div.contents___1nRSJ > div > div.container___3R5n9 > article:nth-child(4) > div:nth-child(3) > div:nth-child(2) > div.details___3QNKe > div.number___2Gtf5\").text\n",
    "        Cost_of_living_small.append(Small_price)\n",
    "        \n",
    "    except:\n",
    "        Cost_of_living_large.append(\"No hay dato\")\n",
    "        Cost_of_living_medium.append(\"No hay dato\")\n",
    "        Cost_of_living_small.append(\"No hay dato\")\n",
    "driver.quit()"
   ]
  },
  {
   "cell_type": "code",
   "execution_count": 170,
   "id": "d1e97a8d",
   "metadata": {},
   "outputs": [
    {
     "data": {
      "text/plain": [
       "262"
      ]
     },
     "execution_count": 170,
     "metadata": {},
     "output_type": "execute_result"
    }
   ],
   "source": [
    "len(Cost_of_living_large) "
   ]
  },
  {
   "cell_type": "code",
   "execution_count": 178,
   "id": "6b392aa1",
   "metadata": {},
   "outputs": [],
   "source": [
    "#Cost_of_living_large"
   ]
  },
  {
   "cell_type": "code",
   "execution_count": 176,
   "id": "94800c6d",
   "metadata": {},
   "outputs": [],
   "source": [
    "#Cost_of_living_medium\n"
   ]
  },
  {
   "cell_type": "code",
   "execution_count": 174,
   "id": "7da49a97",
   "metadata": {},
   "outputs": [],
   "source": [
    "#Cost_of_living_small"
   ]
  },
  {
   "cell_type": "markdown",
   "id": "d4a3b1a0",
   "metadata": {},
   "source": [
    "### Ahora intentaremos obtener los datos del Daily Living Cost"
   ]
  },
  {
   "cell_type": "code",
   "execution_count": 192,
   "id": "099d9f39",
   "metadata": {},
   "outputs": [
    {
     "name": "stderr",
     "output_type": "stream",
     "text": [
      "\n",
      "\n",
      "====== WebDriver manager ======\n",
      "Current google-chrome version is 96.0.4664\n",
      "Get LATEST chromedriver version for 96.0.4664 google-chrome\n",
      "Driver [/Users/danielaarias/.wdm/drivers/chromedriver/mac64/96.0.4664.45/chromedriver] found in cache\n",
      "<ipython-input-192-1c89c539ffaa>:1: DeprecationWarning: executable_path has been deprecated, please pass in a Service object\n",
      "  driver = webdriver.Chrome(ChromeDriverManager().install(), options = opciones)\n",
      "<ipython-input-192-1c89c539ffaa>:14: DeprecationWarning: find_element_by_* commands are deprecated. Please use find_element() instead\n",
      "  driver.find_element_by_css_selector(\"#container > div > main > div > div.contents___1nRSJ > div > div.container___3R5n9 > article:nth-child(2) > div.contents___mczKq > section:nth-child(3) > div > h3\").click()\n",
      "<ipython-input-192-1c89c539ffaa>:17: DeprecationWarning: find_element_by_* commands are deprecated. Please use find_element() instead\n",
      "  Beer_info=driver.find_element_by_css_selector(\"#container > div > main > div > div.contents___1nRSJ > div > div.container___3R5n9 > article:nth-child(2) > div.contents___mczKq > section:nth-child(3) > table > tbody > tr:nth-child(3) > td\").text\n",
      "<ipython-input-192-1c89c539ffaa>:21: DeprecationWarning: find_element_by_* commands are deprecated. Please use find_element() instead\n",
      "  Lunch_info=driver.find_element_by_css_selector(\"#container > div > main > div > div.contents___1nRSJ > div > div.container___3R5n9 > article:nth-child(2) > div.contents___mczKq > section:nth-child(3) > table > tbody > tr:nth-child(7) > td\").text\n",
      "<ipython-input-192-1c89c539ffaa>:25: DeprecationWarning: find_element_by_* commands are deprecated. Please use find_element() instead\n",
      "  Fitness_info=driver.find_element_by_css_selector(\"#container > div > main > div > div.contents___1nRSJ > div > div.container___3R5n9 > article:nth-child(2) > div.contents___mczKq > section:nth-child(3) > table > tbody > tr:nth-child(8) > td\").text\n",
      "<ipython-input-192-1c89c539ffaa>:30: DeprecationWarning: find_element_by_* commands are deprecated. Please use find_element() instead\n",
      "  Transport_info=driver.find_element_by_css_selector(\"#container > div > main > div > div.contents___1nRSJ > div > div.container___3R5n9 > article:nth-child(2) > div.contents___mczKq > section:nth-child(3) > table > tbody > tr:nth-child(9) > td\").text\n"
     ]
    }
   ],
   "source": [
    "driver = webdriver.Chrome(ChromeDriverManager().install(), options = opciones)\n",
    "\n",
    "#Daily_living_cost\n",
    "\n",
    "Monthly_Fitness_Club_Membership = []\n",
    "Beer = []\n",
    "Monthly_Public_Transport= []\n",
    "Lunch = []\n",
    "\n",
    "for i in url_list:\n",
    "    try:\n",
    "        driver.get(i)\n",
    "        sleep(5)\n",
    "        driver.find_element_by_css_selector(\"#container > div > main > div > div.contents___1nRSJ > div > div.container___3R5n9 > article:nth-child(2) > div.contents___mczKq > section:nth-child(3) > div > h3\").click()\n",
    "        driver.implicitly_wait(20)\n",
    "\n",
    "        Beer_info=driver.find_element_by_css_selector(\"#container > div > main > div > div.contents___1nRSJ > div > div.container___3R5n9 > article:nth-child(2) > div.contents___mczKq > section:nth-child(3) > table > tbody > tr:nth-child(3) > td\").text\n",
    "        Beer.append(Beer_info)\n",
    "        driver.implicitly_wait(20) \n",
    "\n",
    "        Lunch_info=driver.find_element_by_css_selector(\"#container > div > main > div > div.contents___1nRSJ > div > div.container___3R5n9 > article:nth-child(2) > div.contents___mczKq > section:nth-child(3) > table > tbody > tr:nth-child(7) > td\").text\n",
    "        Lunch.append(Lunch_info)\n",
    "        driver.implicitly_wait(20)\n",
    "\n",
    "        Fitness_info=driver.find_element_by_css_selector(\"#container > div > main > div > div.contents___1nRSJ > div > div.container___3R5n9 > article:nth-child(2) > div.contents___mczKq > section:nth-child(3) > table > tbody > tr:nth-child(8) > td\").text\n",
    "        Monthly_Fitness_Club_Membership.append(Fitness_info)\n",
    "        driver.implicitly_wait(20)\n",
    "\n",
    "\n",
    "        Transport_info=driver.find_element_by_css_selector(\"#container > div > main > div > div.contents___1nRSJ > div > div.container___3R5n9 > article:nth-child(2) > div.contents___mczKq > section:nth-child(3) > table > tbody > tr:nth-child(9) > td\").text\n",
    "        Monthly_Public_Transport.append(Transport_info)\n",
    "        driver.implicitly_wait(20)    \n",
    "        \n",
    "    except:\n",
    "        Beer.append(\"No hay dato\")\n",
    "        Lunch.append(\"No hay dato\")\n",
    "        Monthly_Fitness_Club_Membership.append(\"No hay dato\")\n",
    "        Monthly_Public_Transport.append(\"No hay dato\")\n",
    "driver.quit()\n"
   ]
  },
  {
   "cell_type": "code",
   "execution_count": 196,
   "id": "5bae5ad7",
   "metadata": {},
   "outputs": [],
   "source": [
    "#Monthly_Fitness_Club_Membership"
   ]
  },
  {
   "cell_type": "code",
   "execution_count": 195,
   "id": "0249b608",
   "metadata": {},
   "outputs": [],
   "source": [
    "#Beer"
   ]
  },
  {
   "cell_type": "code",
   "execution_count": 198,
   "id": "07d8d0c7",
   "metadata": {},
   "outputs": [],
   "source": [
    "#Lunch"
   ]
  },
  {
   "cell_type": "code",
   "execution_count": 200,
   "id": "bf5653b0",
   "metadata": {},
   "outputs": [],
   "source": [
    "#Monthly_Public_Transport"
   ]
  },
  {
   "cell_type": "code",
   "execution_count": 201,
   "id": "a5c1443f",
   "metadata": {},
   "outputs": [
    {
     "data": {
      "text/plain": [
       "264"
      ]
     },
     "execution_count": 201,
     "metadata": {},
     "output_type": "execute_result"
    }
   ],
   "source": [
    "len(Monthly_Fitness_Club_Membership)"
   ]
  },
  {
   "cell_type": "code",
   "execution_count": 10,
   "id": "ee1a7bf0",
   "metadata": {},
   "outputs": [
    {
     "ename": "NameError",
     "evalue": "name 'Beer' is not defined",
     "output_type": "error",
     "traceback": [
      "\u001b[0;31m---------------------------------------------------------------------------\u001b[0m",
      "\u001b[0;31mNameError\u001b[0m                                 Traceback (most recent call last)",
      "\u001b[0;32m<ipython-input-10-34ae476b39d8>\u001b[0m in \u001b[0;36m<module>\u001b[0;34m\u001b[0m\n\u001b[0;32m----> 1\u001b[0;31m \u001b[0mlen\u001b[0m\u001b[0;34m(\u001b[0m\u001b[0mBeer\u001b[0m\u001b[0;34m)\u001b[0m\u001b[0;34m\u001b[0m\u001b[0;34m\u001b[0m\u001b[0m\n\u001b[0m",
      "\u001b[0;31mNameError\u001b[0m: name 'Beer' is not defined"
     ]
    }
   ],
   "source": [
    "len(Beer)"
   ]
  },
  {
   "cell_type": "code",
   "execution_count": 203,
   "id": "e3417ce7",
   "metadata": {},
   "outputs": [
    {
     "data": {
      "text/plain": [
       "264"
      ]
     },
     "execution_count": 203,
     "metadata": {},
     "output_type": "execute_result"
    }
   ],
   "source": [
    "len(Lunch)"
   ]
  },
  {
   "cell_type": "code",
   "execution_count": 204,
   "id": "06aa3397",
   "metadata": {},
   "outputs": [
    {
     "data": {
      "text/plain": [
       "262"
      ]
     },
     "execution_count": 204,
     "metadata": {},
     "output_type": "execute_result"
    }
   ],
   "source": [
    "len(Monthly_Public_Transport)"
   ]
  },
  {
   "cell_type": "code",
   "execution_count": 11,
   "id": "c670bd35",
   "metadata": {},
   "outputs": [
    {
     "name": "stderr",
     "output_type": "stream",
     "text": [
      "\n",
      "\n",
      "====== WebDriver manager ======\n",
      "Current google-chrome version is 96.0.4664\n",
      "Get LATEST chromedriver version for 96.0.4664 google-chrome\n",
      "Driver [/Users/danielaarias/.wdm/drivers/chromedriver/mac64/96.0.4664.45/chromedriver] found in cache\n",
      "<ipython-input-11-1fb7ab9d19d3>:1: DeprecationWarning: executable_path has been deprecated, please pass in a Service object\n",
      "  driver = webdriver.Chrome(ChromeDriverManager().install(), options = opciones)\n",
      "<ipython-input-11-1fb7ab9d19d3>:18: DeprecationWarning: find_element_by_* commands are deprecated. Please use find_element() instead\n",
      "  driver.find_element_by_css_selector(\"#container > div > main > div > div.contents___1nRSJ > div > div.container___3R5n9 > article:nth-child(2) > div.contents___mczKq > section:nth-child(6) > table > tbody > tr:nth-child(1) > td\").click()\n"
     ]
    }
   ],
   "source": [
    "driver = webdriver.Chrome(ChromeDriverManager().install(), options = opciones)\n",
    "\n",
    "#Travel_Connectivity\n",
    "#Safety\n",
    "#Education\n",
    "\n",
    "Airport_hub = []\n",
    "Intercity_train_connectivity= []\n",
    "Gun_related_deaths = []\n",
    "Guns_per_residents= []\n",
    "Pisa_ranking = []\n",
    "Best_university = []\n",
    "\n",
    "for i in url_list:\n",
    "    try:\n",
    "        driver.get(i)\n",
    "        sleep(5)\n",
    "        driver.find_element_by_css_selector(\"#container > div > main > div > div.contents___1nRSJ > div > div.container___3R5n9 > article:nth-child(2) > div.contents___mczKq > section:nth-child(6) > table > tbody > tr:nth-child(1) > td\").click()\n",
    "        driver.implicitly_wait(20)\n",
    "\n",
    "        Airpot_info=driver.find_element_by_css_selector(\"#container > div > main > div > div.contents___1nRSJ > div > div.container___3R5n9 > article:nth-child(2) > div.contents___mczKq > section:nth-child(3) > table > tbody > tr:nth-child(3) > td\").text\n",
    "        Airport_hub.append(Airpot_info)\n",
    "        driver.implicitly_wait(20) \n",
    "\n",
    "        Train_info=driver.find_element_by_css_selector(\"#container > div > main > div > div.contents___1nRSJ > div > div.container___3R5n9 > article:nth-child(2) > div.contents___mczKq > section:nth-child(6) > table > tbody > tr:nth-child(3) > td\").text\n",
    "        Intercity_train_connectivity.append(Train_info)\n",
    "        driver.implicitly_wait(20)  \n",
    "        \n",
    "        driver.find_element_by_css_selector(\"#container > div > main > div > div.contents___1nRSJ > div > div.container___3R5n9 > article:nth-child(2) > div.contents___mczKq > section:nth-child(9) > div > h3\").click()\n",
    "        driver.implicitly_wait(20)\n",
    "        \n",
    "        Deaths_info=driver.find_element_by_css_selector(\"#container > div > main > div > div.contents___1nRSJ > div > div.container___3R5n9 > article:nth-child(2) > div.contents___mczKq > section:nth-child(9) > table > tbody > tr:nth-child(2) > td\").text\n",
    "        Gun_related_deaths.append(Deaths_info)\n",
    "        driver.implicitly_wait(20)\n",
    "\n",
    "        Guns_info=driver.find_element_by_css_selector(\"#container > div > main > div > div.contents___1nRSJ > div > div.container___3R5n9 > article:nth-child(2) > div.contents___mczKq > section:nth-child(9) > table > tbody > tr:nth-child(3) > td\").text\n",
    "        Guns_per_residents.append(Guns_info)\n",
    "        driver.implicitly_wait(20)  \n",
    "        \n",
    "        driver.find_element_by_css_selector(\"#container > div > main > div > div.contents___1nRSJ > div > div.container___3R5n9 > article:nth-child(2) > div.contents___mczKq > section:nth-child(11) > div > h3\").click()\n",
    "        driver.implicitly_wait(20)\n",
    "        \n",
    "        Pisa_info=driver.find_element_by_css_selector(\"#container > div > main > div > div.contents___1nRSJ > div > div.container___3R5n9 > article:nth-child(2) > div.contents___mczKq > section:nth-child(11) > table > tbody > tr:nth-child(7) > td\").text\n",
    "        Pisa_ranking.append(Pisa_info)\n",
    "        driver.implicitly_wait(20)\n",
    "\n",
    "        University_info=driver.find_element_by_css_selector(\"#container > div > main > div > div.contents___1nRSJ > div > div.container___3R5n9 > article:nth-child(2) > div.contents___mczKq > section:nth-child(11) > table > tbody > tr:nth-child(1) > td\").text\n",
    "        Best_university.append(University_info)\n",
    "        driver.implicitly_wait(20)  \n",
    "                \n",
    "        \n",
    "    except:\n",
    "        Airport_hub.append(\"No hay dato\")\n",
    "        Intercity_train_connectivity.append(\"No hay dato\")\n",
    "        Gun_related_deaths.append(\"No hay dato\")\n",
    "        Guns_per_residents.append(\"No hay dato\")\n",
    "        Pisa_ranking.append(\"No hay dato\")\n",
    "        Best_university.append(\"No hay dato\")\n",
    "        \n",
    "driver.quit()\n"
   ]
  },
  {
   "cell_type": "code",
   "execution_count": 12,
   "id": "a8ee58f6",
   "metadata": {},
   "outputs": [
    {
     "data": {
      "text/plain": [
       "262"
      ]
     },
     "execution_count": 12,
     "metadata": {},
     "output_type": "execute_result"
    }
   ],
   "source": [
    "len(Airport_hub)"
   ]
  },
  {
   "cell_type": "code",
   "execution_count": 13,
   "id": "65b5e341",
   "metadata": {},
   "outputs": [
    {
     "data": {
      "text/plain": [
       "262"
      ]
     },
     "execution_count": 13,
     "metadata": {},
     "output_type": "execute_result"
    }
   ],
   "source": [
    "len(Intercity_train_connectivity)"
   ]
  },
  {
   "cell_type": "code",
   "execution_count": 16,
   "id": "2a492561",
   "metadata": {},
   "outputs": [
    {
     "data": {
      "text/plain": [
       "262"
      ]
     },
     "execution_count": 16,
     "metadata": {},
     "output_type": "execute_result"
    }
   ],
   "source": [
    "len(Gun_related_deaths)"
   ]
  },
  {
   "cell_type": "code",
   "execution_count": 17,
   "id": "6fc89e43",
   "metadata": {},
   "outputs": [
    {
     "data": {
      "text/plain": [
       "262"
      ]
     },
     "execution_count": 17,
     "metadata": {},
     "output_type": "execute_result"
    }
   ],
   "source": [
    "len(Guns_per_residents)"
   ]
  },
  {
   "cell_type": "code",
   "execution_count": 18,
   "id": "3fcea9ef",
   "metadata": {},
   "outputs": [
    {
     "data": {
      "text/plain": [
       "262"
      ]
     },
     "execution_count": 18,
     "metadata": {},
     "output_type": "execute_result"
    }
   ],
   "source": [
    "len(Pisa_ranking)"
   ]
  },
  {
   "cell_type": "code",
   "execution_count": 19,
   "id": "489620fd",
   "metadata": {},
   "outputs": [
    {
     "data": {
      "text/plain": [
       "262"
      ]
     },
     "execution_count": 19,
     "metadata": {},
     "output_type": "execute_result"
    }
   ],
   "source": [
    "len(Best_university)"
   ]
  },
  {
   "cell_type": "code",
   "execution_count": null,
   "id": "5f55aa19",
   "metadata": {},
   "outputs": [],
   "source": [
    "driver = webdriver.Chrome(ChromeDriverManager().install(), options = opciones)\n",
    "\n",
    "#Daily_living_cost\n",
    "lista_total = []\n",
    "\n",
    "#Monthly_Fitness_Club_Membership = []\n",
    "#Beer = []\n",
    "#Monthly_Public_Transport= []\n",
    "#Lunch = []\n",
    "\n",
    "for i in url_list:\n",
    "    driver.get(i)\n",
    "    sleep(5)\n",
    "    driver.find_element_by_css_selector(\"#container > div > main > div > div.contents___1nRSJ > div > div.container___3R5n9 > article:nth-child(2) > div.contents___mczKq > section:nth-child(3) > div > h3\").click()\n",
    "    driver.implicitly_wait(20)\n",
    "    dicc_dlc ={\"Monthly_Fitness_Club_Membership\" : \"No hay dato\",\n",
    "               \"Beer\" :\"No hay dato\",\n",
    "               \"Monthly_Public_Transport\":\"No hay dato\",\n",
    "               \"Lunch\":\"No hay dato\",\n",
    "               \"url\":i}\n",
    "\n",
    "        try:\n",
    "            Beer_info=driver.find_element_by_css_selector(\"#container > div > main > div > div.contents___1nRSJ > div > div.container___3R5n9 > article:nth-child(2) > div.contents___mczKq > section:nth-child(3) > table > tbody > tr:nth-child(3) > td\").text\n",
    "            dicc_dlc[\"Beer\"] = Beer_info\n",
    "            driver.implicitly_wait(20)\n",
    "        except:\n",
    "            pass\n",
    "        \n",
    "        try:\n",
    "            Lunch_info=driver.find_element_by_css_selector(\"#container > div > main > div > div.contents___1nRSJ > div > div.container___3R5n9 > article:nth-child(2) > div.contents___mczKq > section:nth-child(3) > table > tbody > tr:nth-child(7) > td\").text\n",
    "            dicc_dlc[\"Lunch\"] = Lunch_info\n",
    "            driver.implicitly_wait(20)\n",
    "        except:\n",
    "            pass\n",
    "        \n",
    "        try:\n",
    "            Fitness_info=driver.find_element_by_css_selector(\"#container > div > main > div > div.contents___1nRSJ > div > div.container___3R5n9 > article:nth-child(2) > div.contents___mczKq > section:nth-child(3) > table > tbody > tr:nth-child(8) > td\").text\n",
    "            dicc_dlc[\"Monthly_Fitness_Club_Membership\"] = Fitness_info\n",
    "            driver.implicitly_wait(20)\n",
    "        except:\n",
    "            pass\n",
    "        \n",
    "        try:\n",
    "            Transport_info=driver.find_element_by_css_selector(\"#container > div > main > div > div.contents___1nRSJ > div > div.container___3R5n9 > article:nth-child(2) > div.contents___mczKq > section:nth-child(3) > table > tbody > tr:nth-child(9) > td\").text\n",
    "            idcc_dlc[\"Monthly_Public_Transport\"] = Transport_info\n",
    "            driver.implicitly_wait(20)\n",
    "        except:\n",
    "            pass\n",
    "        \n",
    "    lista_total.append(dicc_dlc)\n",
    "\n",
    "driver.quit()\n"
   ]
  }
 ],
 "metadata": {
  "kernelspec": {
   "display_name": "ironhack2",
   "language": "python",
   "name": "ironhack2"
  },
  "language_info": {
   "codemirror_mode": {
    "name": "ipython",
    "version": 3
   },
   "file_extension": ".py",
   "mimetype": "text/x-python",
   "name": "python",
   "nbconvert_exporter": "python",
   "pygments_lexer": "ipython3",
   "version": "3.8.5"
  }
 },
 "nbformat": 4,
 "nbformat_minor": 5
}
