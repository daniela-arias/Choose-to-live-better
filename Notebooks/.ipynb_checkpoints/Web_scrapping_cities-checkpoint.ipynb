{
 "cells": [
  {
   "cell_type": "markdown",
   "id": "9744b97e",
   "metadata": {},
   "source": [
    "## 1. Import Libraries"
   ]
  },
  {
   "cell_type": "code",
   "execution_count": 85,
   "id": "46f063ef",
   "metadata": {},
   "outputs": [],
   "source": [
    "import requests\n",
    "from selenium import webdriver\n",
    "from time import sleep\n",
    "from selenium.webdriver.chrome.options import Options\n",
    "from webdriver_manager.chrome import ChromeDriverManager\n",
    "from bs4 import BeautifulSoup\n",
    "import pandas as pd"
   ]
  },
  {
   "cell_type": "markdown",
   "id": "81cb9aeb",
   "metadata": {},
   "source": [
    "## 2. Configure the Selenium tool to be used"
   ]
  },
  {
   "cell_type": "code",
   "execution_count": 49,
   "id": "2a7ffa28",
   "metadata": {},
   "outputs": [],
   "source": [
    "opciones= Options()\n",
    "opciones.add_experimental_option('excludeSwitches', ['enable-automation'])\n",
    "#para ocultarme como robot, pero me sigue diciendo que hay un software automatico usando chrome\n",
    "opciones.add_experimental_option('useAutomationExtension', False)\n",
    "opciones.add_argument('--start-maximized') #empezar maximizado\n",
    "opciones.add_argument('user.data-dir=selenium') #guarda las cookies\n",
    "opciones.add_argument('drive/adblock.crx') #adblocker\n",
    "opciones.add_argument('--incognito')#incognito window"
   ]
  },
  {
   "cell_type": "markdown",
   "id": "b8f62fe1",
   "metadata": {},
   "source": [
    "## 3. We start with the web scraping of our data."
   ]
  },
  {
   "cell_type": "markdown",
   "id": "b0546ea7",
   "metadata": {},
   "source": [
    "### 3.1 We determined the cities to be used, which have been taken from our first Scoring data set."
   ]
  },
  {
   "cell_type": "markdown",
   "id": "378fdaf4",
   "metadata": {},
   "source": [
    "*para que esta parte quede mejor sería importante exportar las ciudades directamente del csv, y agregarles la barra media a las ciudades que tienen un espacio dentro de su estructura*"
   ]
  },
  {
   "cell_type": "code",
   "execution_count": 50,
   "id": "5f57acbf",
   "metadata": {},
   "outputs": [],
   "source": [
    "cities = ['Aarhus', 'Adelaide', 'Albuquerque', 'Almaty', 'Amsterdam','Anchorage', 'Andorra', 'Ankara', 'Asheville', 'Asuncion','Athens', 'Atlanta', 'Auckland', 'Austin', 'Baku', 'Bali','Baltimore', 'Bangkok', 'Barcelona', \n",
    "          'Beijing', 'Beirut','Belfast', 'Belgrade', 'Bengaluru', 'Bergen','Berlin', 'Bern', 'Bilbao', \n",
    "          'Birmingham', 'Bogota', 'Boise','Bologna', 'Bordeaux', 'Boston', 'Boulder', 'Bozeman','Bratislava', \n",
    "          'Brighton', 'Brisbane', 'Bristol', 'Brno','Brussels', 'Bucharest', 'Budapest', 'Buenos-Aires', 'Buffalo',\n",
    "          'Cairo', 'Calgary', 'Cambridge', 'cape-town', 'Caracas', 'Cardiff','Casablanca', 'Charleston', 'Charlotte', \n",
    "          'Chattanooga', 'Chennai','Chiang-Mai', 'Chicago', 'Chisinau', 'Christchurch', 'Cincinnati',\n",
    "       'Cleveland', 'Cluj-Napoca', 'Cologne', 'Colorado-Springs','Columbus', 'Copenhagen', 'Cork', 'Curitiba', 'Dallas',\n",
    "       'Dar-es-Salaam', 'Delhi', 'Denver', 'Des-Moines', 'Detroit','Doha', 'Dresden', 'Dubai', 'Dublin', 'Dusseldorf', 'Edinburgh',\n",
    "       'Edmonton', 'Eindhoven', 'Eugene', 'Florence', 'Florianopolis','Fort-Collins', 'Frankfurt', 'Fukuoka', 'Gdansk',\n",
    "       'Geneva', 'Gibraltar', 'Glasgow', 'Gothenburg', 'Grenoble','Guadalajara', 'Guatemala-City', 'Halifax', 'Hamburg', 'Hannover',\n",
    "       'Havana', 'Helsinki', 'Ho-Chi-Minh-City', 'Hong-Kong', 'Honolulu','Houston', 'Hyderabad', 'Indianapolis', 'Innsbruck', 'Istanbul',\n",
    "       'Jacksonville', 'Jakarta', 'Johannesburg', 'Kansas-City','Karlsruhe', 'Kathmandu', 'Kiev', 'Kingston', 'Knoxville',\n",
    "       'Krakow', 'Kuala-Lumpur', 'Kyoto', 'Lagos', 'La-Paz','Las-Palmas-de-Gran-Canaria', 'Las-Vegas', 'Lausanne', 'Leeds',\n",
    "       'Leipzig', 'Lille', 'Lima', 'Lisbon', 'Liverpool', 'Ljubljana','London', 'Los-Angeles', 'Louisville', 'Luxembourg', 'Lviv',\n",
    "       'Lyon', 'Madison', 'Madrid', 'Malaga', 'Malmo', 'Managua','Manchester', 'Manila', 'Marseille', 'Medellin', 'Melbourne',\n",
    "       'Memphis', 'Mexico-City', 'Miami', 'Milan', 'Milwaukee','Minneapolis-Saint-Paul', 'Minsk', 'Montevideo', 'Montreal',\n",
    "       'Moscow', 'Mumbai', 'Munich', 'Nairobi', 'Nantes', 'Naples','Nashville', 'New-Orleans', 'New-York', 'Nice', 'Nicosia',\n",
    "       'Oklahoma-City', 'Omaha', 'Orlando', 'Osaka', 'Oslo', 'Ottawa','Oulu', 'Oxford', 'Palo-Alto', 'Panama', 'Paris', 'Perth',\n",
    "       'Philadelphia', 'Phnom-Penh', 'Phoenix', 'Phuket', 'Pittsburgh','Portland-or', 'Porto', 'Porto-Alegre', 'Prague', 'Providence',\n",
    "       'Quebec', 'Quito', 'Raleigh', 'Reykjavik', 'Richmond', 'Riga','Rio-De-Janeiro', 'Riyadh', 'Rochester', 'Rome', 'Rotterdam',\n",
    "       'Saint-Petersburg', 'Salt-Lake-City', 'San-Antonio', 'San-Diego','San-Francisco-Bay-Area', 'San-Jose', 'San-Juan',\n",
    "       'San-Luis-Obispo', 'San-Salvador', 'Santiago', 'Santo-Domingo','Sao-Paulo', 'Sarajevo', 'Saskatoon', 'Seattle', 'Seoul',\n",
    "       'Seville', 'Shanghai', 'Singapore', 'Skopje', 'Sofia', 'St-Louis','Stockholm', 'Stuttgart', 'Sydney', 'Taipei', 'Tallinn',\n",
    "       'Tampa-Bay-Area', 'Tampere', 'Tartu', 'Tashkent', 'Tbilisi','Tehran', 'Tel-Aviv', 'The-Hague', 'Thessaloniki', 'Tokyo',\n",
    "       'Toronto', 'Toulouse', 'Tunis', 'Turin', 'Turku', 'Uppsala','Utrecht', 'Valencia', 'Valletta', 'Vancouver', 'Victoria',\n",
    "       'Vienna', 'Vilnius', 'Warsaw', 'Washington-dc', 'Wellington','Winnipeg', 'Wroclaw', 'Yerevan', 'Zagreb', 'Zurich']"
   ]
  },
  {
   "cell_type": "code",
   "execution_count": 51,
   "id": "5e604792",
   "metadata": {},
   "outputs": [
    {
     "data": {
      "text/plain": [
       "'winnipeg'"
      ]
     },
     "execution_count": 51,
     "metadata": {},
     "output_type": "execute_result"
    }
   ],
   "source": [
    "'Winnipeg'.lower()"
   ]
  },
  {
   "cell_type": "code",
   "execution_count": 52,
   "id": "0a76b363",
   "metadata": {},
   "outputs": [],
   "source": [
    "cities_lower = []\n",
    "for i in cities:\n",
    "    cities_lower.append(i.lower())"
   ]
  },
  {
   "cell_type": "code",
   "execution_count": 53,
   "id": "d5483219",
   "metadata": {},
   "outputs": [],
   "source": [
    "#cities_lower"
   ]
  },
  {
   "cell_type": "markdown",
   "id": "7bc0c177",
   "metadata": {},
   "source": [
    "#### We will generate the URL to be used for our data collection."
   ]
  },
  {
   "cell_type": "code",
   "execution_count": 54,
   "id": "f3115eea",
   "metadata": {},
   "outputs": [],
   "source": [
    "url_list = []\n",
    "for i in cities_lower:\n",
    "    url_list.append(f\"https://teleport.org/cities/{i}/\")"
   ]
  },
  {
   "cell_type": "code",
   "execution_count": 55,
   "id": "0dd98b03",
   "metadata": {},
   "outputs": [],
   "source": [
    "#url_list"
   ]
  },
  {
   "cell_type": "code",
   "execution_count": 56,
   "id": "34e99a59",
   "metadata": {},
   "outputs": [
    {
     "data": {
      "text/plain": [
       "262"
      ]
     },
     "execution_count": 56,
     "metadata": {},
     "output_type": "execute_result"
    }
   ],
   "source": [
    "len(url_list)"
   ]
  },
  {
   "cell_type": "markdown",
   "id": "6232b22f",
   "metadata": {},
   "source": [
    "### Mediante Webscrapping guardamos la Descripción de cada ciudad"
   ]
  },
  {
   "cell_type": "code",
   "execution_count": 58,
   "id": "e6bfd676",
   "metadata": {},
   "outputs": [
    {
     "name": "stderr",
     "output_type": "stream",
     "text": [
      "\n",
      "\n",
      "====== WebDriver manager ======\n",
      "Current google-chrome version is 96.0.4664\n",
      "Get LATEST chromedriver version for 96.0.4664 google-chrome\n",
      "Driver [/Users/danielaarias/.wdm/drivers/chromedriver/mac64/96.0.4664.45/chromedriver] found in cache\n",
      "<ipython-input-58-39fbbb61f52f>:1: DeprecationWarning: executable_path has been deprecated, please pass in a Service object\n",
      "  driver = webdriver.Chrome(ChromeDriverManager().install())\n",
      "<ipython-input-58-39fbbb61f52f>:6: DeprecationWarning: find_element_by_* commands are deprecated. Please use find_element() instead\n",
      "  my_info = driver.find_element_by_css_selector(\"#container > div > main > div > div.contents___1nRSJ > div > div.container___3R5n9 > article:nth-child(1) > div:nth-child(3) > div > div.summary___1Tz89\").text\n"
     ]
    }
   ],
   "source": [
    "driver = webdriver.Chrome(ChromeDriverManager().install())\n",
    "Description = []\n",
    "for i in url_list:\n",
    "    driver.get(i)\n",
    "    sleep(5)\n",
    "    my_info = driver.find_element_by_css_selector(\"#container > div > main > div > div.contents___1nRSJ > div > div.container___3R5n9 > article:nth-child(1) > div:nth-child(3) > div > div.summary___1Tz89\").text\n",
    "    Description.append(my_info)\n",
    "driver.quit()"
   ]
  },
  {
   "cell_type": "code",
   "execution_count": 59,
   "id": "b3650817",
   "metadata": {},
   "outputs": [
    {
     "data": {
      "text/plain": [
       "262"
      ]
     },
     "execution_count": 59,
     "metadata": {},
     "output_type": "execute_result"
    }
   ],
   "source": [
    "len(Description)"
   ]
  },
  {
   "cell_type": "markdown",
   "id": "4176aa0e",
   "metadata": {},
   "source": [
    "### Ahora intentaremos obtener el Housing cost, con cada tipo de apartamento"
   ]
  },
  {
   "cell_type": "code",
   "execution_count": 169,
   "id": "ff2bb312",
   "metadata": {},
   "outputs": [
    {
     "name": "stderr",
     "output_type": "stream",
     "text": [
      "\n",
      "\n",
      "====== WebDriver manager ======\n",
      "Current google-chrome version is 96.0.4664\n",
      "Get LATEST chromedriver version for 96.0.4664 google-chrome\n",
      "Driver [/Users/danielaarias/.wdm/drivers/chromedriver/mac64/96.0.4664.45/chromedriver] found in cache\n",
      "<ipython-input-169-e4ab0a4775f4>:1: DeprecationWarning: executable_path has been deprecated, please pass in a Service object\n",
      "  driver = webdriver.Chrome(ChromeDriverManager().install(), options = opciones)\n",
      "<ipython-input-169-e4ab0a4775f4>:11: DeprecationWarning: find_element_by_* commands are deprecated. Please use find_element() instead\n",
      "  driver.find_element_by_css_selector(\"#container > div > main > div > div.contents___1nRSJ > div > div.container___3R5n9 > article:nth-child(4) > div:nth-child(3) > div:nth-child(2) > div.details___3QNKe > select\").click()\n",
      "<ipython-input-169-e4ab0a4775f4>:13: DeprecationWarning: find_element_by_* commands are deprecated. Please use find_element() instead\n",
      "  driver.find_element_by_css_selector(\"#container > div > main > div > div.contents___1nRSJ > div > div.container___3R5n9 > article:nth-child(4) > div:nth-child(3) > div:nth-child(2) > div.details___3QNKe > select > option:nth-child(1)\").click()\n",
      "<ipython-input-169-e4ab0a4775f4>:14: DeprecationWarning: find_element_by_* commands are deprecated. Please use find_element() instead\n",
      "  Large_price=driver.find_element_by_css_selector(\"#container > div > main > div > div.contents___1nRSJ > div > div.container___3R5n9 > article:nth-child(4) > div:nth-child(3) > div:nth-child(2) > div.details___3QNKe > div.number___2Gtf5\").text\n",
      "<ipython-input-169-e4ab0a4775f4>:18: DeprecationWarning: find_element_by_* commands are deprecated. Please use find_element() instead\n",
      "  driver.find_element_by_css_selector(\"#container > div > main > div > div.contents___1nRSJ > div > div.container___3R5n9 > article:nth-child(4) > div:nth-child(3) > div:nth-child(2) > div.details___3QNKe > select\").click()\n",
      "<ipython-input-169-e4ab0a4775f4>:20: DeprecationWarning: find_element_by_* commands are deprecated. Please use find_element() instead\n",
      "  driver.find_element_by_css_selector(\"#container > div > main > div > div.contents___1nRSJ > div > div.container___3R5n9 > article:nth-child(4) > div:nth-child(3) > div:nth-child(2) > div.details___3QNKe > select > option:nth-child(2)\").click()\n",
      "<ipython-input-169-e4ab0a4775f4>:21: DeprecationWarning: find_element_by_* commands are deprecated. Please use find_element() instead\n",
      "  Medium_price=driver.find_element_by_css_selector(\"#container > div > main > div > div.contents___1nRSJ > div > div.container___3R5n9 > article:nth-child(4) > div:nth-child(3) > div:nth-child(2) > div.details___3QNKe > div.number___2Gtf5\").text\n",
      "<ipython-input-169-e4ab0a4775f4>:25: DeprecationWarning: find_element_by_* commands are deprecated. Please use find_element() instead\n",
      "  driver.find_element_by_css_selector(\"#container > div > main > div > div.contents___1nRSJ > div > div.container___3R5n9 > article:nth-child(4) > div:nth-child(3) > div:nth-child(2) > div.details___3QNKe > select\").click()\n",
      "<ipython-input-169-e4ab0a4775f4>:27: DeprecationWarning: find_element_by_* commands are deprecated. Please use find_element() instead\n",
      "  driver.find_element_by_css_selector(\"#container > div > main > div > div.contents___1nRSJ > div > div.container___3R5n9 > article:nth-child(4) > div:nth-child(3) > div:nth-child(2) > div.details___3QNKe > select > option:nth-child(3)\").click()\n",
      "<ipython-input-169-e4ab0a4775f4>:28: DeprecationWarning: find_element_by_* commands are deprecated. Please use find_element() instead\n",
      "  Small_price=driver.find_element_by_css_selector(\"#container > div > main > div > div.contents___1nRSJ > div > div.container___3R5n9 > article:nth-child(4) > div:nth-child(3) > div:nth-child(2) > div.details___3QNKe > div.number___2Gtf5\").text\n"
     ]
    }
   ],
   "source": [
    "driver = webdriver.Chrome(ChromeDriverManager().install(), options = opciones)\n",
    "\n",
    "housing = []\n",
    "        \n",
    "for i in url_list:\n",
    "    driver.get(i)\n",
    "    sleep(5)\n",
    "    dicc_hou ={\"Large_apartment\" : \"No hay dato\",\n",
    "               \"Medium_apartment\" :\"No hay dato\",\n",
    "               \"Small_apartment\":\"No hay dato\",\n",
    "               \"url\":i}\n",
    "    try:\n",
    "        driver.find_element_by_css_selector(\"#container > div > main > div > div.contents___1nRSJ > div > div.container___3R5n9 > article:nth-child(4) > div:nth-child(3) > div:nth-child(2) > div.details___3QNKe > select\").click()\n",
    "        driver.implicitly_wait(20)\n",
    "        driver.find_element_by_css_selector(\"#container > div > main > div > div.contents___1nRSJ > div > div.container___3R5n9 > article:nth-child(4) > div:nth-child(3) > div:nth-child(2) > div.details___3QNKe > select > option:nth-child(1)\").click()\n",
    "        Large_price=driver.find_element_by_css_selector(\"#container > div > main > div > div.contents___1nRSJ > div > div.container___3R5n9 > article:nth-child(4) > div:nth-child(3) > div:nth-child(2) > div.details___3QNKe > div.number___2Gtf5\").text\n",
    "        dicc_hou[\"Large_apartment\"] = Large_price\n",
    "        driver.implicitly_wait(20)\n",
    "    except:\n",
    "        pass\n",
    "        \n",
    "    try:\n",
    "        driver.find_element_by_css_selector(\"#container > div > main > div > div.contents___1nRSJ > div > div.container___3R5n9 > article:nth-child(4) > div:nth-child(3) > div:nth-child(2) > div.details___3QNKe > select\").click()\n",
    "        driver.implicitly_wait(20)\n",
    "        driver.find_element_by_css_selector(\"#container > div > main > div > div.contents___1nRSJ > div > div.container___3R5n9 > article:nth-child(4) > div:nth-child(3) > div:nth-child(2) > div.details___3QNKe > select > option:nth-child(2)\").click()\n",
    "        Medium_price=driver.find_element_by_css_selector(\"#container > div > main > div > div.contents___1nRSJ > div > div.container___3R5n9 > article:nth-child(4) > div:nth-child(3) > div:nth-child(2) > div.details___3QNKe > div.number___2Gtf5\").text\n",
    "        dicc_hou[\"Medium_apartment\"] = Medium_price\n",
    "        driver.implicitly_wait(20)\n",
    "    except:\n",
    "        pass\n",
    "        \n",
    "    try:\n",
    "        driver.find_element_by_css_selector(\"#container > div > main > div > div.contents___1nRSJ > div > div.container___3R5n9 > article:nth-child(4) > div:nth-child(3) > div:nth-child(2) > div.details___3QNKe > select\").click()\n",
    "        driver.implicitly_wait(20)\n",
    "        driver.find_element_by_css_selector(\"#container > div > main > div > div.contents___1nRSJ > div > div.container___3R5n9 > article:nth-child(4) > div:nth-child(3) > div:nth-child(2) > div.details___3QNKe > select > option:nth-child(3)\").click()\n",
    "        Small_price=driver.find_element_by_css_selector(\"#container > div > main > div > div.contents___1nRSJ > div > div.container___3R5n9 > article:nth-child(4) > div:nth-child(3) > div:nth-child(2) > div.details___3QNKe > div.number___2Gtf5\").text\n",
    "        dicc_hou[\"Small_apartment\"] = Small_price\n",
    "        driver.implicitly_wait(20)\n",
    "    except:\n",
    "        pass\n",
    "\n",
    "    housing.append(dicc_hou)\n",
    "        \n",
    "driver.quit()"
   ]
  },
  {
   "cell_type": "code",
   "execution_count": 63,
   "id": "ced97875",
   "metadata": {},
   "outputs": [
    {
     "data": {
      "text/plain": [
       "262"
      ]
     },
     "execution_count": 63,
     "metadata": {},
     "output_type": "execute_result"
    }
   ],
   "source": [
    "len(housing)"
   ]
  },
  {
   "cell_type": "code",
   "execution_count": 65,
   "id": "7da49a97",
   "metadata": {},
   "outputs": [],
   "source": [
    "#housing"
   ]
  },
  {
   "cell_type": "markdown",
   "id": "d4a3b1a0",
   "metadata": {},
   "source": [
    "### Ahora intentaremos obtener los datos del Daily Living Cost"
   ]
  },
  {
   "cell_type": "code",
   "execution_count": 33,
   "id": "d07dea51",
   "metadata": {},
   "outputs": [
    {
     "name": "stderr",
     "output_type": "stream",
     "text": [
      "\n",
      "\n",
      "====== WebDriver manager ======\n",
      "Current google-chrome version is 96.0.4664\n",
      "Get LATEST chromedriver version for 96.0.4664 google-chrome\n",
      "Driver [/Users/danielaarias/.wdm/drivers/chromedriver/mac64/96.0.4664.45/chromedriver] found in cache\n",
      "<ipython-input-33-f475d23f8bc1>:1: DeprecationWarning: executable_path has been deprecated, please pass in a Service object\n",
      "  driver = webdriver.Chrome(ChromeDriverManager().install(), options = opciones)\n",
      "<ipython-input-33-f475d23f8bc1>:15: DeprecationWarning: find_element_by_* commands are deprecated. Please use find_element() instead\n",
      "  driver.find_element_by_css_selector(\"#container > div > main > div > div.contents___1nRSJ > div > div.container___3R5n9 > article:nth-child(2) > div.contents___mczKq > section:nth-child(3) > div > h3\").click()\n",
      "<ipython-input-33-f475d23f8bc1>:23: DeprecationWarning: find_element_by_* commands are deprecated. Please use find_element() instead\n",
      "  Beer_info=driver.find_element_by_css_selector(\"#container > div > main > div > div.contents___1nRSJ > div > div.container___3R5n9 > article:nth-child(2) > div.contents___mczKq > section:nth-child(3) > table > tbody > tr:nth-child(3) > td\").text\n",
      "<ipython-input-33-f475d23f8bc1>:30: DeprecationWarning: find_element_by_* commands are deprecated. Please use find_element() instead\n",
      "  Lunch_info=driver.find_element_by_css_selector(\"#container > div > main > div > div.contents___1nRSJ > div > div.container___3R5n9 > article:nth-child(2) > div.contents___mczKq > section:nth-child(3) > table > tbody > tr:nth-child(7) > td\").text\n",
      "<ipython-input-33-f475d23f8bc1>:37: DeprecationWarning: find_element_by_* commands are deprecated. Please use find_element() instead\n",
      "  Fitness_info=driver.find_element_by_css_selector(\"#container > div > main > div > div.contents___1nRSJ > div > div.container___3R5n9 > article:nth-child(2) > div.contents___mczKq > section:nth-child(3) > table > tbody > tr:nth-child(8) > td\").text\n",
      "<ipython-input-33-f475d23f8bc1>:44: DeprecationWarning: find_element_by_* commands are deprecated. Please use find_element() instead\n",
      "  Transport_info=driver.find_element_by_css_selector(\"#container > div > main > div > div.contents___1nRSJ > div > div.container___3R5n9 > article:nth-child(2) > div.contents___mczKq > section:nth-child(3) > table > tbody > tr:nth-child(9) > td\").text\n"
     ]
    }
   ],
   "source": [
    "driver = webdriver.Chrome(ChromeDriverManager().install(), options = opciones)\n",
    "\n",
    "#Daily_living_cost\n",
    "Daily_living_cost = []\n",
    "\n",
    "#Monthly_Fitness_Club_Membership = []\n",
    "#Beer = []\n",
    "#Monthly_Public_Transport= []\n",
    "#Lunch = []\n",
    "\n",
    "for i in url_list:\n",
    "    if i != 'https://teleport.org/cities/palo-alto/':\n",
    "        driver.get(i)\n",
    "        sleep(5)\n",
    "        driver.find_element_by_css_selector(\"#container > div > main > div > div.contents___1nRSJ > div > div.container___3R5n9 > article:nth-child(2) > div.contents___mczKq > section:nth-child(3) > div > h3\").click()\n",
    "        driver.implicitly_wait(20)\n",
    "        dicc_dlc ={\"Monthly_Fitness_Club_Membership\" : \"No hay dato\",\n",
    "                   \"Beer\" :\"No hay dato\",\n",
    "                   \"Monthly_Public_Transport\":\"No hay dato\",\n",
    "                   \"Lunch\":\"No hay dato\",\n",
    "                   \"url\":i}\n",
    "        try:\n",
    "            Beer_info=driver.find_element_by_css_selector(\"#container > div > main > div > div.contents___1nRSJ > div > div.container___3R5n9 > article:nth-child(2) > div.contents___mczKq > section:nth-child(3) > table > tbody > tr:nth-child(3) > td\").text\n",
    "            dicc_dlc[\"Beer\"] = Beer_info\n",
    "            driver.implicitly_wait(20)\n",
    "        except:\n",
    "            pass\n",
    "\n",
    "        try:\n",
    "            Lunch_info=driver.find_element_by_css_selector(\"#container > div > main > div > div.contents___1nRSJ > div > div.container___3R5n9 > article:nth-child(2) > div.contents___mczKq > section:nth-child(3) > table > tbody > tr:nth-child(7) > td\").text\n",
    "            dicc_dlc[\"Lunch\"] = Lunch_info\n",
    "            driver.implicitly_wait(20)\n",
    "        except:\n",
    "            pass\n",
    "\n",
    "        try:\n",
    "            Fitness_info=driver.find_element_by_css_selector(\"#container > div > main > div > div.contents___1nRSJ > div > div.container___3R5n9 > article:nth-child(2) > div.contents___mczKq > section:nth-child(3) > table > tbody > tr:nth-child(8) > td\").text\n",
    "            dicc_dlc[\"Monthly_Fitness_Club_Membership\"] = Fitness_info\n",
    "            driver.implicitly_wait(20)\n",
    "        except:\n",
    "            pass\n",
    "\n",
    "        try:\n",
    "            Transport_info=driver.find_element_by_css_selector(\"#container > div > main > div > div.contents___1nRSJ > div > div.container___3R5n9 > article:nth-child(2) > div.contents___mczKq > section:nth-child(3) > table > tbody > tr:nth-child(9) > td\").text\n",
    "            dicc_dlc[\"Monthly_Public_Transport\"] = Transport_info\n",
    "            driver.implicitly_wait(20)\n",
    "        except:\n",
    "            pass\n",
    "        \n",
    "        Daily_living_cost.append(dicc_dlc)\n",
    "        \n",
    "driver.quit()"
   ]
  },
  {
   "cell_type": "code",
   "execution_count": 37,
   "id": "5bae5ad7",
   "metadata": {},
   "outputs": [
    {
     "data": {
      "text/plain": [
       "261"
      ]
     },
     "execution_count": 37,
     "metadata": {},
     "output_type": "execute_result"
    }
   ],
   "source": [
    "len(Daily_living_cost)"
   ]
  },
  {
   "cell_type": "markdown",
   "id": "2dcfb487",
   "metadata": {},
   "source": [
    "*Aqui me faltaria la información de Palo Alto que no cuenta esta información. Una opción para que mi tabla no pierda los números de Palo Alto es crear un diccionario vacio y agregarlo a la lista*"
   ]
  },
  {
   "cell_type": "markdown",
   "id": "a27fa011",
   "metadata": {},
   "source": [
    "### Recolectamos las variables Travel, Safety & Education"
   ]
  },
  {
   "cell_type": "code",
   "execution_count": 78,
   "id": "c670bd35",
   "metadata": {},
   "outputs": [
    {
     "name": "stderr",
     "output_type": "stream",
     "text": [
      "\n",
      "\n",
      "====== WebDriver manager ======\n",
      "Current google-chrome version is 96.0.4664\n",
      "Get LATEST chromedriver version for 96.0.4664 google-chrome\n",
      "Driver [/Users/danielaarias/.wdm/drivers/chromedriver/mac64/96.0.4664.45/chromedriver] found in cache\n",
      "<ipython-input-78-a088c9455dd7>:1: DeprecationWarning: executable_path has been deprecated, please pass in a Service object\n",
      "  driver = webdriver.Chrome(ChromeDriverManager().install(), options = opciones)\n",
      "<ipython-input-78-a088c9455dd7>:26: DeprecationWarning: find_element_by_* commands are deprecated. Please use find_element() instead\n",
      "  driver.find_element_by_css_selector(\"#container > div > main > div > div.contents___1nRSJ > div > div.container___3R5n9 > article:nth-child(2) > div.contents___mczKq > section:nth-child(6) > div > h3\").click()\n",
      "<ipython-input-78-a088c9455dd7>:29: DeprecationWarning: find_element_by_* commands are deprecated. Please use find_element() instead\n",
      "  Airpot_info=driver.find_element_by_css_selector(\"#container > div > main > div > div.contents___1nRSJ > div > div.container___3R5n9 > article:nth-child(2) > div.contents___mczKq > section:nth-child(6) > table > tbody > tr:nth-child(1) > td\").text\n",
      "<ipython-input-78-a088c9455dd7>:35: DeprecationWarning: find_element_by_* commands are deprecated. Please use find_element() instead\n",
      "  Train_info=driver.find_element_by_css_selector(\"#container > div > main > div > div.contents___1nRSJ > div > div.container___3R5n9 > article:nth-child(2) > div.contents___mczKq > section:nth-child(6) > table > tbody > tr:nth-child(3) > td\").text\n",
      "<ipython-input-78-a088c9455dd7>:40: DeprecationWarning: find_element_by_* commands are deprecated. Please use find_element() instead\n",
      "  driver.find_element_by_css_selector(\"#container > div > main > div > div.contents___1nRSJ > div > div.container___3R5n9 > article:nth-child(2) > div.contents___mczKq > section:nth-child(9) > div > h3\").click()\n",
      "<ipython-input-78-a088c9455dd7>:43: DeprecationWarning: find_element_by_* commands are deprecated. Please use find_element() instead\n",
      "  Deaths_info=driver.find_element_by_css_selector(\"#container > div > main > div > div.contents___1nRSJ > div > div.container___3R5n9 > article:nth-child(2) > div.contents___mczKq > section:nth-child(9) > table > tbody > tr:nth-child(2) > td\").text\n",
      "<ipython-input-78-a088c9455dd7>:49: DeprecationWarning: find_element_by_* commands are deprecated. Please use find_element() instead\n",
      "  Guns_info=driver.find_element_by_css_selector(\"#container > div > main > div > div.contents___1nRSJ > div > div.container___3R5n9 > article:nth-child(2) > div.contents___mczKq > section:nth-child(9) > table > tbody > tr:nth-child(3) > td\").text\n",
      "<ipython-input-78-a088c9455dd7>:54: DeprecationWarning: find_element_by_* commands are deprecated. Please use find_element() instead\n",
      "  driver.find_element_by_css_selector(\"#container > div > main > div > div.contents___1nRSJ > div > div.container___3R5n9 > article:nth-child(2) > div.contents___mczKq > section:nth-child(11) > div > h3\").click()\n",
      "<ipython-input-78-a088c9455dd7>:57: DeprecationWarning: find_element_by_* commands are deprecated. Please use find_element() instead\n",
      "  Pisa_info=driver.find_element_by_css_selector(\"#container > div > main > div > div.contents___1nRSJ > div > div.container___3R5n9 > article:nth-child(2) > div.contents___mczKq > section:nth-child(11) > table > tbody > tr:nth-child(7) > td\").text\n",
      "<ipython-input-78-a088c9455dd7>:63: DeprecationWarning: find_element_by_* commands are deprecated. Please use find_element() instead\n",
      "  University_info=driver.find_element_by_css_selector(\"#container > div > main > div > div.contents___1nRSJ > div > div.container___3R5n9 > article:nth-child(2) > div.contents___mczKq > section:nth-child(11) > table > tbody > tr:nth-child(1) > td\").text\n"
     ]
    }
   ],
   "source": [
    "driver = webdriver.Chrome(ChromeDriverManager().install(), options = opciones)\n",
    "\n",
    "#Travel_Connectivity\n",
    "#Safety\n",
    "#Education\n",
    "Travel_Safety_Education = []\n",
    "\n",
    "#Airport_hub = []\n",
    "#Intercity_train_connectivity= []\n",
    "#Gun_related_deaths = []\n",
    "#Guns_per_residents= []\n",
    "#Pisa_ranking = []\n",
    "#Best_university = []\n",
    "\n",
    "for i in url_list:\n",
    "    driver.get(i)\n",
    "    sleep(5)\n",
    "    dicc_tse ={\"Airport_hub\" : \"No hay dato\",\n",
    "               \"Intercity_train_connectivity\" :\"No hay dato\",\n",
    "               \"Gun_related_deaths\":\"No hay dato\",\n",
    "               \"Guns_per_residents\": \"No hay dato\",\n",
    "               \"Pisa_ranking\":\"No hay dato\",\n",
    "               \"Best_university\":\"No hay dato\",\n",
    "               \"url\":i}\n",
    "    if i != 'https://teleport.org/cities/palo-alto/':\n",
    "        driver.find_element_by_css_selector(\"#container > div > main > div > div.contents___1nRSJ > div > div.container___3R5n9 > article:nth-child(2) > div.contents___mczKq > section:nth-child(6) > div > h3\").click()\n",
    "        driver.implicitly_wait(20)\n",
    "        try:\n",
    "            Airpot_info=driver.find_element_by_css_selector(\"#container > div > main > div > div.contents___1nRSJ > div > div.container___3R5n9 > article:nth-child(2) > div.contents___mczKq > section:nth-child(6) > table > tbody > tr:nth-child(1) > td\").text\n",
    "            dicc_tse[\"Airport_hub\"] = Airpot_info\n",
    "            driver.implicitly_wait(20) \n",
    "        except:\n",
    "            pass\n",
    "        try:\n",
    "            Train_info=driver.find_element_by_css_selector(\"#container > div > main > div > div.contents___1nRSJ > div > div.container___3R5n9 > article:nth-child(2) > div.contents___mczKq > section:nth-child(6) > table > tbody > tr:nth-child(3) > td\").text\n",
    "            dicc_tse[\"Intercity_train_connectivity\"] = Train_info\n",
    "            driver.implicitly_wait(20)\n",
    "        except:\n",
    "            pass\n",
    "        driver.find_element_by_css_selector(\"#container > div > main > div > div.contents___1nRSJ > div > div.container___3R5n9 > article:nth-child(2) > div.contents___mczKq > section:nth-child(9) > div > h3\").click()\n",
    "        driver.implicitly_wait(20)\n",
    "        try:\n",
    "            Deaths_info=driver.find_element_by_css_selector(\"#container > div > main > div > div.contents___1nRSJ > div > div.container___3R5n9 > article:nth-child(2) > div.contents___mczKq > section:nth-child(9) > table > tbody > tr:nth-child(2) > td\").text\n",
    "            dicc_tse[\"Gun_related_deaths\"] = Deaths_info\n",
    "            driver.implicitly_wait(20)\n",
    "        except:\n",
    "            pass\n",
    "        try:\n",
    "            Guns_info=driver.find_element_by_css_selector(\"#container > div > main > div > div.contents___1nRSJ > div > div.container___3R5n9 > article:nth-child(2) > div.contents___mczKq > section:nth-child(9) > table > tbody > tr:nth-child(3) > td\").text\n",
    "            dicc_tse[\"Guns_per_residents\"] = Guns_info\n",
    "            driver.implicitly_wait(20)  \n",
    "        except:\n",
    "            pass\n",
    "        driver.find_element_by_css_selector(\"#container > div > main > div > div.contents___1nRSJ > div > div.container___3R5n9 > article:nth-child(2) > div.contents___mczKq > section:nth-child(11) > div > h3\").click()\n",
    "        driver.implicitly_wait(20)\n",
    "        try:\n",
    "            Pisa_info=driver.find_element_by_css_selector(\"#container > div > main > div > div.contents___1nRSJ > div > div.container___3R5n9 > article:nth-child(2) > div.contents___mczKq > section:nth-child(11) > table > tbody > tr:nth-child(7) > td\").text\n",
    "            dicc_tse[\"Pisa_ranking\"] = Pisa_info\n",
    "            driver.implicitly_wait(20)\n",
    "        except:\n",
    "            pass\n",
    "        try:\n",
    "            University_info=driver.find_element_by_css_selector(\"#container > div > main > div > div.contents___1nRSJ > div > div.container___3R5n9 > article:nth-child(2) > div.contents___mczKq > section:nth-child(11) > table > tbody > tr:nth-child(1) > td\").text\n",
    "            dicc_tse[\"Best_university\"] = University_info\n",
    "            driver.implicitly_wait(20)         \n",
    "        except:\n",
    "            pass\n",
    "\n",
    "    Travel_Safety_Education.append(dicc_tse)   \n",
    "    \n",
    "driver.quit()\n"
   ]
  },
  {
   "cell_type": "code",
   "execution_count": 80,
   "id": "c6ca527c",
   "metadata": {},
   "outputs": [
    {
     "data": {
      "text/plain": [
       "262"
      ]
     },
     "execution_count": 80,
     "metadata": {},
     "output_type": "execute_result"
    }
   ],
   "source": [
    "len(Travel_Safety_Education)"
   ]
  },
  {
   "cell_type": "code",
   "execution_count": 82,
   "id": "68bc29ae",
   "metadata": {},
   "outputs": [],
   "source": [
    "data = Daily_living_cost + Travel_Safety_Education + housing"
   ]
  },
  {
   "cell_type": "code",
   "execution_count": 86,
   "id": "1523cad9",
   "metadata": {},
   "outputs": [],
   "source": [
    "df = pd.DataFrame(data)"
   ]
  },
  {
   "cell_type": "code",
   "execution_count": 87,
   "id": "fd2c0c31",
   "metadata": {},
   "outputs": [
    {
     "data": {
      "text/html": [
       "<div>\n",
       "<style scoped>\n",
       "    .dataframe tbody tr th:only-of-type {\n",
       "        vertical-align: middle;\n",
       "    }\n",
       "\n",
       "    .dataframe tbody tr th {\n",
       "        vertical-align: top;\n",
       "    }\n",
       "\n",
       "    .dataframe thead th {\n",
       "        text-align: right;\n",
       "    }\n",
       "</style>\n",
       "<table border=\"1\" class=\"dataframe\">\n",
       "  <thead>\n",
       "    <tr style=\"text-align: right;\">\n",
       "      <th></th>\n",
       "      <th>Monthly_Fitness_Club_Membership</th>\n",
       "      <th>Beer</th>\n",
       "      <th>Monthly_Public_Transport</th>\n",
       "      <th>Lunch</th>\n",
       "      <th>url</th>\n",
       "      <th>Airport_hub</th>\n",
       "      <th>Intercity_train_connectivity</th>\n",
       "      <th>Gun_related_deaths</th>\n",
       "      <th>Guns_per_residents</th>\n",
       "      <th>Pisa_ranking</th>\n",
       "      <th>Best_university</th>\n",
       "      <th>Large_apartment</th>\n",
       "      <th>Medium_apartment</th>\n",
       "      <th>Small_apartment</th>\n",
       "    </tr>\n",
       "  </thead>\n",
       "  <tbody>\n",
       "    <tr>\n",
       "      <th>0</th>\n",
       "      <td>$37.00</td>\n",
       "      <td>$1.70</td>\n",
       "      <td>$62.00</td>\n",
       "      <td>$15.00</td>\n",
       "      <td>https://teleport.org/cities/aarhus/</td>\n",
       "      <td>NaN</td>\n",
       "      <td>NaN</td>\n",
       "      <td>NaN</td>\n",
       "      <td>NaN</td>\n",
       "      <td>NaN</td>\n",
       "      <td>NaN</td>\n",
       "      <td>NaN</td>\n",
       "      <td>NaN</td>\n",
       "      <td>NaN</td>\n",
       "    </tr>\n",
       "    <tr>\n",
       "      <th>1</th>\n",
       "      <td>$50.00</td>\n",
       "      <td>$4.30</td>\n",
       "      <td>$80.00</td>\n",
       "      <td>$13.00</td>\n",
       "      <td>https://teleport.org/cities/adelaide/</td>\n",
       "      <td>NaN</td>\n",
       "      <td>NaN</td>\n",
       "      <td>NaN</td>\n",
       "      <td>NaN</td>\n",
       "      <td>NaN</td>\n",
       "      <td>NaN</td>\n",
       "      <td>NaN</td>\n",
       "      <td>NaN</td>\n",
       "      <td>NaN</td>\n",
       "    </tr>\n",
       "    <tr>\n",
       "      <th>2</th>\n",
       "      <td>$52.00</td>\n",
       "      <td>$2.90</td>\n",
       "      <td>$37.00</td>\n",
       "      <td>$12.00</td>\n",
       "      <td>https://teleport.org/cities/albuquerque/</td>\n",
       "      <td>NaN</td>\n",
       "      <td>NaN</td>\n",
       "      <td>NaN</td>\n",
       "      <td>NaN</td>\n",
       "      <td>NaN</td>\n",
       "      <td>NaN</td>\n",
       "      <td>NaN</td>\n",
       "      <td>NaN</td>\n",
       "      <td>NaN</td>\n",
       "    </tr>\n",
       "    <tr>\n",
       "      <th>3</th>\n",
       "      <td>$83.00</td>\n",
       "      <td>$0.68</td>\n",
       "      <td>$19.00</td>\n",
       "      <td>$5.70</td>\n",
       "      <td>https://teleport.org/cities/almaty/</td>\n",
       "      <td>NaN</td>\n",
       "      <td>NaN</td>\n",
       "      <td>NaN</td>\n",
       "      <td>NaN</td>\n",
       "      <td>NaN</td>\n",
       "      <td>NaN</td>\n",
       "      <td>NaN</td>\n",
       "      <td>NaN</td>\n",
       "      <td>NaN</td>\n",
       "    </tr>\n",
       "    <tr>\n",
       "      <th>4</th>\n",
       "      <td>$49.00</td>\n",
       "      <td>$2.10</td>\n",
       "      <td>$100.00</td>\n",
       "      <td>$18.00</td>\n",
       "      <td>https://teleport.org/cities/amsterdam/</td>\n",
       "      <td>NaN</td>\n",
       "      <td>NaN</td>\n",
       "      <td>NaN</td>\n",
       "      <td>NaN</td>\n",
       "      <td>NaN</td>\n",
       "      <td>NaN</td>\n",
       "      <td>NaN</td>\n",
       "      <td>NaN</td>\n",
       "      <td>NaN</td>\n",
       "    </tr>\n",
       "  </tbody>\n",
       "</table>\n",
       "</div>"
      ],
      "text/plain": [
       "  Monthly_Fitness_Club_Membership   Beer Monthly_Public_Transport   Lunch  \\\n",
       "0                          $37.00  $1.70                   $62.00  $15.00   \n",
       "1                          $50.00  $4.30                   $80.00  $13.00   \n",
       "2                          $52.00  $2.90                   $37.00  $12.00   \n",
       "3                          $83.00  $0.68                   $19.00   $5.70   \n",
       "4                          $49.00  $2.10                  $100.00  $18.00   \n",
       "\n",
       "                                        url Airport_hub  \\\n",
       "0       https://teleport.org/cities/aarhus/         NaN   \n",
       "1     https://teleport.org/cities/adelaide/         NaN   \n",
       "2  https://teleport.org/cities/albuquerque/         NaN   \n",
       "3       https://teleport.org/cities/almaty/         NaN   \n",
       "4    https://teleport.org/cities/amsterdam/         NaN   \n",
       "\n",
       "  Intercity_train_connectivity Gun_related_deaths Guns_per_residents  \\\n",
       "0                          NaN                NaN                NaN   \n",
       "1                          NaN                NaN                NaN   \n",
       "2                          NaN                NaN                NaN   \n",
       "3                          NaN                NaN                NaN   \n",
       "4                          NaN                NaN                NaN   \n",
       "\n",
       "  Pisa_ranking Best_university Large_apartment Medium_apartment  \\\n",
       "0          NaN             NaN             NaN              NaN   \n",
       "1          NaN             NaN             NaN              NaN   \n",
       "2          NaN             NaN             NaN              NaN   \n",
       "3          NaN             NaN             NaN              NaN   \n",
       "4          NaN             NaN             NaN              NaN   \n",
       "\n",
       "  Small_apartment  \n",
       "0             NaN  \n",
       "1             NaN  \n",
       "2             NaN  \n",
       "3             NaN  \n",
       "4             NaN  "
      ]
     },
     "execution_count": 87,
     "metadata": {},
     "output_type": "execute_result"
    }
   ],
   "source": [
    "df.head()"
   ]
  },
  {
   "cell_type": "code",
   "execution_count": 88,
   "id": "74657d8b",
   "metadata": {},
   "outputs": [
    {
     "data": {
      "text/plain": [
       "(785, 14)"
      ]
     },
     "execution_count": 88,
     "metadata": {},
     "output_type": "execute_result"
    }
   ],
   "source": [
    "df.shape"
   ]
  },
  {
   "cell_type": "code",
   "execution_count": 90,
   "id": "5185ce28",
   "metadata": {},
   "outputs": [],
   "source": [
    "data2 = Travel_Safety_Education"
   ]
  },
  {
   "cell_type": "code",
   "execution_count": 93,
   "id": "24f6c4e1",
   "metadata": {},
   "outputs": [],
   "source": [
    "data3 = Daily_living_cost"
   ]
  },
  {
   "cell_type": "code",
   "execution_count": 91,
   "id": "68315c33",
   "metadata": {},
   "outputs": [],
   "source": [
    "df2 = pd.DataFrame(data2)"
   ]
  },
  {
   "cell_type": "code",
   "execution_count": 92,
   "id": "12e17ef2",
   "metadata": {},
   "outputs": [
    {
     "data": {
      "text/html": [
       "<div>\n",
       "<style scoped>\n",
       "    .dataframe tbody tr th:only-of-type {\n",
       "        vertical-align: middle;\n",
       "    }\n",
       "\n",
       "    .dataframe tbody tr th {\n",
       "        vertical-align: top;\n",
       "    }\n",
       "\n",
       "    .dataframe thead th {\n",
       "        text-align: right;\n",
       "    }\n",
       "</style>\n",
       "<table border=\"1\" class=\"dataframe\">\n",
       "  <thead>\n",
       "    <tr style=\"text-align: right;\">\n",
       "      <th></th>\n",
       "      <th>Airport_hub</th>\n",
       "      <th>Intercity_train_connectivity</th>\n",
       "      <th>Gun_related_deaths</th>\n",
       "      <th>Guns_per_residents</th>\n",
       "      <th>Pisa_ranking</th>\n",
       "      <th>Best_university</th>\n",
       "      <th>url</th>\n",
       "    </tr>\n",
       "  </thead>\n",
       "  <tbody>\n",
       "    <tr>\n",
       "      <th>0</th>\n",
       "      <td>8</td>\n",
       "      <td>0.59</td>\n",
       "      <td>1</td>\n",
       "      <td>12</td>\n",
       "      <td>13</td>\n",
       "      <td>Aarhus University</td>\n",
       "      <td>https://teleport.org/cities/aarhus/</td>\n",
       "    </tr>\n",
       "    <tr>\n",
       "      <th>1</th>\n",
       "      <td>26</td>\n",
       "      <td>0.17</td>\n",
       "      <td>1</td>\n",
       "      <td>24</td>\n",
       "      <td>16</td>\n",
       "      <td>University of Adelaide</td>\n",
       "      <td>https://teleport.org/cities/adelaide/</td>\n",
       "    </tr>\n",
       "    <tr>\n",
       "      <th>2</th>\n",
       "      <td>23</td>\n",
       "      <td>0.11</td>\n",
       "      <td>16</td>\n",
       "      <td>328</td>\n",
       "      <td>24</td>\n",
       "      <td>University of New Mexico</td>\n",
       "      <td>https://teleport.org/cities/albuquerque/</td>\n",
       "    </tr>\n",
       "    <tr>\n",
       "      <th>3</th>\n",
       "      <td>45</td>\n",
       "      <td>0.66</td>\n",
       "      <td>1</td>\n",
       "      <td>1</td>\n",
       "      <td>39</td>\n",
       "      <td>427.97</td>\n",
       "      <td>https://teleport.org/cities/almaty/</td>\n",
       "    </tr>\n",
       "    <tr>\n",
       "      <th>4</th>\n",
       "      <td>237</td>\n",
       "      <td>0.68</td>\n",
       "      <td>1</td>\n",
       "      <td>4</td>\n",
       "      <td>10</td>\n",
       "      <td>University of Amsterdam</td>\n",
       "      <td>https://teleport.org/cities/amsterdam/</td>\n",
       "    </tr>\n",
       "  </tbody>\n",
       "</table>\n",
       "</div>"
      ],
      "text/plain": [
       "  Airport_hub Intercity_train_connectivity Gun_related_deaths  \\\n",
       "0           8                         0.59                  1   \n",
       "1          26                         0.17                  1   \n",
       "2          23                         0.11                 16   \n",
       "3          45                         0.66                  1   \n",
       "4         237                         0.68                  1   \n",
       "\n",
       "  Guns_per_residents Pisa_ranking           Best_university  \\\n",
       "0                 12           13         Aarhus University   \n",
       "1                 24           16    University of Adelaide   \n",
       "2                328           24  University of New Mexico   \n",
       "3                  1           39                    427.97   \n",
       "4                  4           10   University of Amsterdam   \n",
       "\n",
       "                                        url  \n",
       "0       https://teleport.org/cities/aarhus/  \n",
       "1     https://teleport.org/cities/adelaide/  \n",
       "2  https://teleport.org/cities/albuquerque/  \n",
       "3       https://teleport.org/cities/almaty/  \n",
       "4    https://teleport.org/cities/amsterdam/  "
      ]
     },
     "execution_count": 92,
     "metadata": {},
     "output_type": "execute_result"
    }
   ],
   "source": [
    "df2.head()"
   ]
  },
  {
   "cell_type": "code",
   "execution_count": 94,
   "id": "effb5fd6",
   "metadata": {},
   "outputs": [],
   "source": [
    "df3 = pd.DataFrame(data3)"
   ]
  },
  {
   "cell_type": "code",
   "execution_count": 95,
   "id": "ff7aad0b",
   "metadata": {},
   "outputs": [],
   "source": [
    "df4 = df2.join(df3, lsuffix=\"_uno\", rsuffix=\"_otro\")"
   ]
  },
  {
   "cell_type": "code",
   "execution_count": 96,
   "id": "62aa5a87",
   "metadata": {},
   "outputs": [
    {
     "data": {
      "text/html": [
       "<div>\n",
       "<style scoped>\n",
       "    .dataframe tbody tr th:only-of-type {\n",
       "        vertical-align: middle;\n",
       "    }\n",
       "\n",
       "    .dataframe tbody tr th {\n",
       "        vertical-align: top;\n",
       "    }\n",
       "\n",
       "    .dataframe thead th {\n",
       "        text-align: right;\n",
       "    }\n",
       "</style>\n",
       "<table border=\"1\" class=\"dataframe\">\n",
       "  <thead>\n",
       "    <tr style=\"text-align: right;\">\n",
       "      <th></th>\n",
       "      <th>Airport_hub</th>\n",
       "      <th>Intercity_train_connectivity</th>\n",
       "      <th>Gun_related_deaths</th>\n",
       "      <th>Guns_per_residents</th>\n",
       "      <th>Pisa_ranking</th>\n",
       "      <th>Best_university</th>\n",
       "      <th>url_uno</th>\n",
       "      <th>Monthly_Fitness_Club_Membership</th>\n",
       "      <th>Beer</th>\n",
       "      <th>Monthly_Public_Transport</th>\n",
       "      <th>Lunch</th>\n",
       "      <th>url_otro</th>\n",
       "    </tr>\n",
       "  </thead>\n",
       "  <tbody>\n",
       "    <tr>\n",
       "      <th>0</th>\n",
       "      <td>8</td>\n",
       "      <td>0.59</td>\n",
       "      <td>1</td>\n",
       "      <td>12</td>\n",
       "      <td>13</td>\n",
       "      <td>Aarhus University</td>\n",
       "      <td>https://teleport.org/cities/aarhus/</td>\n",
       "      <td>$37.00</td>\n",
       "      <td>$1.70</td>\n",
       "      <td>$62.00</td>\n",
       "      <td>$15.00</td>\n",
       "      <td>https://teleport.org/cities/aarhus/</td>\n",
       "    </tr>\n",
       "    <tr>\n",
       "      <th>1</th>\n",
       "      <td>26</td>\n",
       "      <td>0.17</td>\n",
       "      <td>1</td>\n",
       "      <td>24</td>\n",
       "      <td>16</td>\n",
       "      <td>University of Adelaide</td>\n",
       "      <td>https://teleport.org/cities/adelaide/</td>\n",
       "      <td>$50.00</td>\n",
       "      <td>$4.30</td>\n",
       "      <td>$80.00</td>\n",
       "      <td>$13.00</td>\n",
       "      <td>https://teleport.org/cities/adelaide/</td>\n",
       "    </tr>\n",
       "    <tr>\n",
       "      <th>2</th>\n",
       "      <td>23</td>\n",
       "      <td>0.11</td>\n",
       "      <td>16</td>\n",
       "      <td>328</td>\n",
       "      <td>24</td>\n",
       "      <td>University of New Mexico</td>\n",
       "      <td>https://teleport.org/cities/albuquerque/</td>\n",
       "      <td>$52.00</td>\n",
       "      <td>$2.90</td>\n",
       "      <td>$37.00</td>\n",
       "      <td>$12.00</td>\n",
       "      <td>https://teleport.org/cities/albuquerque/</td>\n",
       "    </tr>\n",
       "    <tr>\n",
       "      <th>3</th>\n",
       "      <td>45</td>\n",
       "      <td>0.66</td>\n",
       "      <td>1</td>\n",
       "      <td>1</td>\n",
       "      <td>39</td>\n",
       "      <td>427.97</td>\n",
       "      <td>https://teleport.org/cities/almaty/</td>\n",
       "      <td>$83.00</td>\n",
       "      <td>$0.68</td>\n",
       "      <td>$19.00</td>\n",
       "      <td>$5.70</td>\n",
       "      <td>https://teleport.org/cities/almaty/</td>\n",
       "    </tr>\n",
       "    <tr>\n",
       "      <th>4</th>\n",
       "      <td>237</td>\n",
       "      <td>0.68</td>\n",
       "      <td>1</td>\n",
       "      <td>4</td>\n",
       "      <td>10</td>\n",
       "      <td>University of Amsterdam</td>\n",
       "      <td>https://teleport.org/cities/amsterdam/</td>\n",
       "      <td>$49.00</td>\n",
       "      <td>$2.10</td>\n",
       "      <td>$100.00</td>\n",
       "      <td>$18.00</td>\n",
       "      <td>https://teleport.org/cities/amsterdam/</td>\n",
       "    </tr>\n",
       "  </tbody>\n",
       "</table>\n",
       "</div>"
      ],
      "text/plain": [
       "  Airport_hub Intercity_train_connectivity Gun_related_deaths  \\\n",
       "0           8                         0.59                  1   \n",
       "1          26                         0.17                  1   \n",
       "2          23                         0.11                 16   \n",
       "3          45                         0.66                  1   \n",
       "4         237                         0.68                  1   \n",
       "\n",
       "  Guns_per_residents Pisa_ranking           Best_university  \\\n",
       "0                 12           13         Aarhus University   \n",
       "1                 24           16    University of Adelaide   \n",
       "2                328           24  University of New Mexico   \n",
       "3                  1           39                    427.97   \n",
       "4                  4           10   University of Amsterdam   \n",
       "\n",
       "                                    url_uno Monthly_Fitness_Club_Membership  \\\n",
       "0       https://teleport.org/cities/aarhus/                          $37.00   \n",
       "1     https://teleport.org/cities/adelaide/                          $50.00   \n",
       "2  https://teleport.org/cities/albuquerque/                          $52.00   \n",
       "3       https://teleport.org/cities/almaty/                          $83.00   \n",
       "4    https://teleport.org/cities/amsterdam/                          $49.00   \n",
       "\n",
       "    Beer Monthly_Public_Transport   Lunch  \\\n",
       "0  $1.70                   $62.00  $15.00   \n",
       "1  $4.30                   $80.00  $13.00   \n",
       "2  $2.90                   $37.00  $12.00   \n",
       "3  $0.68                   $19.00   $5.70   \n",
       "4  $2.10                  $100.00  $18.00   \n",
       "\n",
       "                                   url_otro  \n",
       "0       https://teleport.org/cities/aarhus/  \n",
       "1     https://teleport.org/cities/adelaide/  \n",
       "2  https://teleport.org/cities/albuquerque/  \n",
       "3       https://teleport.org/cities/almaty/  \n",
       "4    https://teleport.org/cities/amsterdam/  "
      ]
     },
     "execution_count": 96,
     "metadata": {},
     "output_type": "execute_result"
    }
   ],
   "source": [
    "df4.head()"
   ]
  },
  {
   "cell_type": "code",
   "execution_count": 97,
   "id": "e7f2ef95",
   "metadata": {},
   "outputs": [],
   "source": [
    "data4= housing"
   ]
  },
  {
   "cell_type": "code",
   "execution_count": 98,
   "id": "59d4d12a",
   "metadata": {},
   "outputs": [],
   "source": [
    "df5 = pd.DataFrame(data4)"
   ]
  },
  {
   "cell_type": "code",
   "execution_count": 99,
   "id": "688b0486",
   "metadata": {},
   "outputs": [
    {
     "data": {
      "text/html": [
       "<div>\n",
       "<style scoped>\n",
       "    .dataframe tbody tr th:only-of-type {\n",
       "        vertical-align: middle;\n",
       "    }\n",
       "\n",
       "    .dataframe tbody tr th {\n",
       "        vertical-align: top;\n",
       "    }\n",
       "\n",
       "    .dataframe thead th {\n",
       "        text-align: right;\n",
       "    }\n",
       "</style>\n",
       "<table border=\"1\" class=\"dataframe\">\n",
       "  <thead>\n",
       "    <tr style=\"text-align: right;\">\n",
       "      <th></th>\n",
       "      <th>Large_apartment</th>\n",
       "      <th>Medium_apartment</th>\n",
       "      <th>Small_apartment</th>\n",
       "      <th>url</th>\n",
       "    </tr>\n",
       "  </thead>\n",
       "  <tbody>\n",
       "    <tr>\n",
       "      <th>0</th>\n",
       "      <td>$1700</td>\n",
       "      <td>$1300</td>\n",
       "      <td>$840</td>\n",
       "      <td>https://teleport.org/cities/aarhus/</td>\n",
       "    </tr>\n",
       "    <tr>\n",
       "      <th>1</th>\n",
       "      <td>$1500</td>\n",
       "      <td>$1200</td>\n",
       "      <td>$1000</td>\n",
       "      <td>https://teleport.org/cities/adelaide/</td>\n",
       "    </tr>\n",
       "    <tr>\n",
       "      <th>2</th>\n",
       "      <td>$1200</td>\n",
       "      <td>$950</td>\n",
       "      <td>$760</td>\n",
       "      <td>https://teleport.org/cities/albuquerque/</td>\n",
       "    </tr>\n",
       "    <tr>\n",
       "      <th>3</th>\n",
       "      <td>$620</td>\n",
       "      <td>$480</td>\n",
       "      <td>$340</td>\n",
       "      <td>https://teleport.org/cities/almaty/</td>\n",
       "    </tr>\n",
       "    <tr>\n",
       "      <th>4</th>\n",
       "      <td>$2400</td>\n",
       "      <td>$2000</td>\n",
       "      <td>$1600</td>\n",
       "      <td>https://teleport.org/cities/amsterdam/</td>\n",
       "    </tr>\n",
       "  </tbody>\n",
       "</table>\n",
       "</div>"
      ],
      "text/plain": [
       "  Large_apartment Medium_apartment Small_apartment  \\\n",
       "0           $1700            $1300            $840   \n",
       "1           $1500            $1200           $1000   \n",
       "2           $1200             $950            $760   \n",
       "3            $620             $480            $340   \n",
       "4           $2400            $2000           $1600   \n",
       "\n",
       "                                        url  \n",
       "0       https://teleport.org/cities/aarhus/  \n",
       "1     https://teleport.org/cities/adelaide/  \n",
       "2  https://teleport.org/cities/albuquerque/  \n",
       "3       https://teleport.org/cities/almaty/  \n",
       "4    https://teleport.org/cities/amsterdam/  "
      ]
     },
     "execution_count": 99,
     "metadata": {},
     "output_type": "execute_result"
    }
   ],
   "source": [
    "df5.head()"
   ]
  },
  {
   "cell_type": "code",
   "execution_count": null,
   "id": "10697ea3",
   "metadata": {},
   "outputs": [],
   "source": [
    "df6 = df4.join(df5, lsuffix=\"_uno\", rsuffix=\"_otro\")"
   ]
  },
  {
   "cell_type": "markdown",
   "id": "5ab1e5e5",
   "metadata": {},
   "source": [
    "### Ahora lo intentemos con los trabajos"
   ]
  },
  {
   "cell_type": "code",
   "execution_count": 46,
   "id": "7ebd7e25",
   "metadata": {},
   "outputs": [
    {
     "name": "stderr",
     "output_type": "stream",
     "text": [
      "\n",
      "\n",
      "====== WebDriver manager ======\n",
      "Current google-chrome version is 96.0.4664\n",
      "Get LATEST chromedriver version for 96.0.4664 google-chrome\n",
      "Driver [/Users/danielaarias/.wdm/drivers/chromedriver/mac64/96.0.4664.45/chromedriver] found in cache\n",
      "<ipython-input-46-d714aaaa3290>:1: DeprecationWarning: executable_path has been deprecated, please pass in a Service object\n",
      "  driver = webdriver.Chrome(ChromeDriverManager().install(), options = opciones)\n",
      "<ipython-input-46-d714aaaa3290>:14: DeprecationWarning: find_element_by_* commands are deprecated. Please use find_element() instead\n",
      "  driver.find_element_by_css_selector(\"#container > div > main > div > div.contents___1nRSJ > div > div.container___3R5n9 > article:nth-child(5) > div:nth-child(3) > div.role___2yJlf > select\").click()\n",
      "<ipython-input-46-d714aaaa3290>:18: DeprecationWarning: find_element_by_* commands are deprecated. Please use find_element() instead\n",
      "  jobs_list.append((driver.find_element_by_css_selector(f\"#container > div > main > div > div.contents___1nRSJ > div > div.container___3R5n9 > article:nth-child(5) > div:nth-child(3) > div.role___2yJlf > select > option:nth-child({p})\").text).click())\n"
     ]
    }
   ],
   "source": [
    "driver = webdriver.Chrome(ChromeDriverManager().install(), options = opciones)\n",
    "\n",
    "Jobs = []\n",
    "jobs_list = []\n",
    "salary_list = []\n",
    "\n",
    "for i in url_list[:3]:\n",
    "    driver.get(i)\n",
    "    sleep(5)\n",
    "    dicc_job ={\"Types\" : \"No hay dato\",\n",
    "               \"Median_salary\" :\"No hay dato\",\n",
    "               \"url\":i}\n",
    "    try:\n",
    "        driver.find_element_by_css_selector(\"#container > div > main > div > div.contents___1nRSJ > div > div.container___3R5n9 > article:nth-child(5) > div:nth-child(3) > div.role___2yJlf > select\").click()\n",
    "        driver.implicitly_wait(20)\n",
    "        for p in range(1,54):\n",
    "            try: \n",
    "                jobs_list.append((driver.find_element_by_css_selector(f\"#container > div > main > div > div.contents___1nRSJ > div > div.container___3R5n9 > article:nth-child(5) > div:nth-child(3) > div.role___2yJlf > select > option:nth-child({p})\").text).click())\n",
    "                driver.implicitly_wait(20)\n",
    "                salary_list.append(driver.find_element_by_css_selector(\"#container > div > main > div > div.contents___1nRSJ > div > div.container___3R5n9 > article:nth-child(5) > div:nth-child(3) > div.details___UOsq6 > div.median___3Tlcr > div.value___2zt_y\").text)\n",
    "                driver.implicitly_wait(20)\n",
    "            except:\n",
    "                pass\n",
    "    except:\n",
    "        pass\n",
    "\n",
    "    Jobs.append(dicc_job)\n",
    "        \n",
    "driver.quit()"
   ]
  },
  {
   "cell_type": "code",
   "execution_count": 47,
   "id": "c3022fba",
   "metadata": {},
   "outputs": [
    {
     "data": {
      "text/plain": [
       "[{'Types': 'No hay dato',\n",
       "  'Median_salary': [],\n",
       "  'url': 'https://teleport.org/cities/aarhus/',\n",
       "  'types_jobs': []},\n",
       " {'Types': 'No hay dato',\n",
       "  'Median_salary': [],\n",
       "  'url': 'https://teleport.org/cities/adelaide/',\n",
       "  'types_jobs': []},\n",
       " {'Types': 'No hay dato',\n",
       "  'Median_salary': [],\n",
       "  'url': 'https://teleport.org/cities/albuquerque/',\n",
       "  'types_jobs': []}]"
      ]
     },
     "execution_count": 47,
     "metadata": {},
     "output_type": "execute_result"
    }
   ],
   "source": [
    "Jobs"
   ]
  },
  {
   "cell_type": "code",
   "execution_count": null,
   "id": "48482b0f",
   "metadata": {},
   "outputs": [],
   "source": [
    "salary_info=(driver.find_element_by_css_selector(\"#container > div > main > div > div.contents___1nRSJ > div > div.container___3R5n9 > article:nth-child(5) > div:nth-child(3) > div.details___UOsq6 > div.median___3Tlcr > div.value___2zt_y\").text)\n",
    "dicc_job[\"Median_salary\"] = salary_info"
   ]
  }
 ],
 "metadata": {
  "kernelspec": {
   "display_name": "ironhack2",
   "language": "python",
   "name": "ironhack2"
  },
  "language_info": {
   "codemirror_mode": {
    "name": "ipython",
    "version": 3
   },
   "file_extension": ".py",
   "mimetype": "text/x-python",
   "name": "python",
   "nbconvert_exporter": "python",
   "pygments_lexer": "ipython3",
   "version": "3.8.5"
  }
 },
 "nbformat": 4,
 "nbformat_minor": 5
}
