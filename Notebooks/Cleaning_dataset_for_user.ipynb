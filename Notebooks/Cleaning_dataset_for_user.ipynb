{
 "cells": [
  {
   "cell_type": "markdown",
   "id": "3d137e28",
   "metadata": {},
   "source": [
    "## 1. Import libraries"
   ]
  },
  {
   "cell_type": "code",
   "execution_count": 169,
   "id": "b60e0468",
   "metadata": {},
   "outputs": [],
   "source": [
    "import requests\n",
    "from selenium import webdriver\n",
    "from time import sleep\n",
    "from selenium.webdriver.chrome.options import Options\n",
    "from webdriver_manager.chrome import ChromeDriverManager\n",
    "from bs4 import BeautifulSoup\n",
    "import pandas as pd\n",
    "import sys\n",
    "sys.path.append('../')\n",
    "import numpy as np\n",
    "import re\n",
    "import folium"
   ]
  },
  {
   "cell_type": "markdown",
   "id": "bf3d179c",
   "metadata": {},
   "source": [
    "## 2. Import Data"
   ]
  },
  {
   "cell_type": "code",
   "execution_count": 2,
   "id": "94501afc",
   "metadata": {},
   "outputs": [],
   "source": [
    "web_df = pd.read_csv(\"../Data/Web_scraping.csv\")"
   ]
  },
  {
   "cell_type": "markdown",
   "id": "71f4fecd",
   "metadata": {},
   "source": [
    "## 3. We explore the dataset"
   ]
  },
  {
   "cell_type": "code",
   "execution_count": 3,
   "id": "fba9c8d9",
   "metadata": {},
   "outputs": [
    {
     "data": {
      "text/html": [
       "<div>\n",
       "<style scoped>\n",
       "    .dataframe tbody tr th:only-of-type {\n",
       "        vertical-align: middle;\n",
       "    }\n",
       "\n",
       "    .dataframe tbody tr th {\n",
       "        vertical-align: top;\n",
       "    }\n",
       "\n",
       "    .dataframe thead th {\n",
       "        text-align: right;\n",
       "    }\n",
       "</style>\n",
       "<table border=\"1\" class=\"dataframe\">\n",
       "  <thead>\n",
       "    <tr style=\"text-align: right;\">\n",
       "      <th></th>\n",
       "      <th>Unnamed: 0</th>\n",
       "      <th>Climate</th>\n",
       "      <th>Growth</th>\n",
       "      <th>GDP_per_capita</th>\n",
       "      <th>Unemployment</th>\n",
       "      <th>Homosexuality_acceptance</th>\n",
       "      <th>LGBT_adoption_rights</th>\n",
       "      <th>LGBT_homosexuality_rights</th>\n",
       "      <th>LGBT_marriage_rights</th>\n",
       "      <th>VAT_Sales_Tax</th>\n",
       "      <th>...</th>\n",
       "      <th>Gun_related_deaths</th>\n",
       "      <th>Guns_per_residents</th>\n",
       "      <th>Pisa_ranking</th>\n",
       "      <th>Best_university</th>\n",
       "      <th>Large_apartment</th>\n",
       "      <th>Medium_apartment</th>\n",
       "      <th>Small_apartment</th>\n",
       "      <th>Description</th>\n",
       "      <th>Poblacion</th>\n",
       "      <th>Cities</th>\n",
       "    </tr>\n",
       "  </thead>\n",
       "  <tbody>\n",
       "    <tr>\n",
       "      <th>0</th>\n",
       "      <td>0</td>\n",
       "      <td>No hay dato</td>\n",
       "      <td>5%</td>\n",
       "      <td>$44,343</td>\n",
       "      <td>4%</td>\n",
       "      <td>93.03</td>\n",
       "      <td>✔ Equal</td>\n",
       "      <td>✔ Sexual orientation and gender identity</td>\n",
       "      <td>0.99</td>\n",
       "      <td>0.25</td>\n",
       "      <td>...</td>\n",
       "      <td>1</td>\n",
       "      <td>12</td>\n",
       "      <td>13</td>\n",
       "      <td>Aarhus University</td>\n",
       "      <td>$1700</td>\n",
       "      <td>$1300</td>\n",
       "      <td>$840</td>\n",
       "      <td>Aarhus, Denmark, is among the top cities with ...</td>\n",
       "      <td>250,200</td>\n",
       "      <td>Aarhus</td>\n",
       "    </tr>\n",
       "    <tr>\n",
       "      <th>1</th>\n",
       "      <td>1</td>\n",
       "      <td>12.6</td>\n",
       "      <td>7%</td>\n",
       "      <td>$46,433</td>\n",
       "      <td>6%</td>\n",
       "      <td>0.79</td>\n",
       "      <td>NaN</td>\n",
       "      <td>✔ Legal</td>\n",
       "      <td>Varies by Region</td>\n",
       "      <td>0.10</td>\n",
       "      <td>...</td>\n",
       "      <td>1</td>\n",
       "      <td>24</td>\n",
       "      <td>16</td>\n",
       "      <td>University of Adelaide</td>\n",
       "      <td>$1500</td>\n",
       "      <td>$1200</td>\n",
       "      <td>$1000</td>\n",
       "      <td>Adelaide, Australia, is among the top cities w...</td>\n",
       "      <td>1,708,700</td>\n",
       "      <td>Adelaide</td>\n",
       "    </tr>\n",
       "    <tr>\n",
       "      <th>2</th>\n",
       "      <td>2</td>\n",
       "      <td>168</td>\n",
       "      <td>7%</td>\n",
       "      <td>$54,597</td>\n",
       "      <td>5%</td>\n",
       "      <td>93.13</td>\n",
       "      <td>✔ Equal</td>\n",
       "      <td>✔ Sexual orientation and gender identity</td>\n",
       "      <td>0.45</td>\n",
       "      <td>0.07</td>\n",
       "      <td>...</td>\n",
       "      <td>16</td>\n",
       "      <td>328</td>\n",
       "      <td>24</td>\n",
       "      <td>University of New Mexico</td>\n",
       "      <td>$1200</td>\n",
       "      <td>$950</td>\n",
       "      <td>$760</td>\n",
       "      <td>Albuquerque, New Mexico, is among the top citi...</td>\n",
       "      <td>630,800</td>\n",
       "      <td>Albuquerque</td>\n",
       "    </tr>\n",
       "  </tbody>\n",
       "</table>\n",
       "<p>3 rows × 33 columns</p>\n",
       "</div>"
      ],
      "text/plain": [
       "   Unnamed: 0      Climate Growth GDP_per_capita Unemployment  \\\n",
       "0           0  No hay dato     5%        $44,343           4%   \n",
       "1           1         12.6     7%        $46,433           6%   \n",
       "2           2          168     7%        $54,597           5%   \n",
       "\n",
       "  Homosexuality_acceptance LGBT_adoption_rights  \\\n",
       "0                    93.03              ✔ Equal   \n",
       "1                     0.79                  NaN   \n",
       "2                    93.13              ✔ Equal   \n",
       "\n",
       "                  LGBT_homosexuality_rights LGBT_marriage_rights  \\\n",
       "0  ✔ Sexual orientation and gender identity                 0.99   \n",
       "1                                   ✔ Legal     Varies by Region   \n",
       "2  ✔ Sexual orientation and gender identity                 0.45   \n",
       "\n",
       "  VAT_Sales_Tax  ... Gun_related_deaths Guns_per_residents Pisa_ranking  \\\n",
       "0          0.25  ...                  1                 12           13   \n",
       "1          0.10  ...                  1                 24           16   \n",
       "2          0.07  ...                 16                328           24   \n",
       "\n",
       "            Best_university Large_apartment Medium_apartment Small_apartment  \\\n",
       "0         Aarhus University           $1700            $1300            $840   \n",
       "1    University of Adelaide           $1500            $1200           $1000   \n",
       "2  University of New Mexico           $1200             $950            $760   \n",
       "\n",
       "                                         Description  Poblacion       Cities  \n",
       "0  Aarhus, Denmark, is among the top cities with ...    250,200       Aarhus  \n",
       "1  Adelaide, Australia, is among the top cities w...  1,708,700     Adelaide  \n",
       "2  Albuquerque, New Mexico, is among the top citi...    630,800  Albuquerque  \n",
       "\n",
       "[3 rows x 33 columns]"
      ]
     },
     "execution_count": 3,
     "metadata": {},
     "output_type": "execute_result"
    }
   ],
   "source": [
    "web_df.head(3)"
   ]
  },
  {
   "cell_type": "code",
   "execution_count": 4,
   "id": "74c98719",
   "metadata": {},
   "outputs": [
    {
     "data": {
      "text/plain": [
       "(262, 33)"
      ]
     },
     "execution_count": 4,
     "metadata": {},
     "output_type": "execute_result"
    }
   ],
   "source": [
    "web_df.shape"
   ]
  },
  {
   "cell_type": "code",
   "execution_count": 5,
   "id": "d91f42e1",
   "metadata": {},
   "outputs": [
    {
     "name": "stdout",
     "output_type": "stream",
     "text": [
      "<class 'pandas.core.frame.DataFrame'>\n",
      "RangeIndex: 262 entries, 0 to 261\n",
      "Data columns (total 33 columns):\n",
      " #   Column                           Non-Null Count  Dtype \n",
      "---  ------                           --------------  ----- \n",
      " 0   Unnamed: 0                       262 non-null    int64 \n",
      " 1   Climate                          262 non-null    object\n",
      " 2   Growth                           262 non-null    object\n",
      " 3   GDP_per_capita                   262 non-null    object\n",
      " 4   Unemployment                     262 non-null    object\n",
      " 5   Homosexuality_acceptance         262 non-null    object\n",
      " 6   LGBT_adoption_rights             254 non-null    object\n",
      " 7   LGBT_homosexuality_rights        262 non-null    object\n",
      " 8   LGBT_marriage_rights             262 non-null    object\n",
      " 9   VAT_Sales_Tax                    262 non-null    object\n",
      " 10  Art_galleries                    262 non-null    object\n",
      " 11  Concert_venues                   262 non-null    object\n",
      " 12  Museums                          262 non-null    object\n",
      " 13  Sport_venues                     262 non-null    object\n",
      " 14  Currency_for_urban_area          262 non-null    object\n",
      " 15  GDP_per_capita.1                 262 non-null    object\n",
      " 16  Monthly_Fitness_Club_Membership  262 non-null    object\n",
      " 17  Beer                             262 non-null    object\n",
      " 18  Monthly_Public_Transport         262 non-null    object\n",
      " 19  Lunch                            262 non-null    object\n",
      " 20  Airport_score                    262 non-null    object\n",
      " 21  Airport_hub                      261 non-null    object\n",
      " 22  Intercity_train_connectivity     261 non-null    object\n",
      " 23  Gun_related_deaths               261 non-null    object\n",
      " 24  Guns_per_residents               261 non-null    object\n",
      " 25  Pisa_ranking                     261 non-null    object\n",
      " 26  Best_university                  261 non-null    object\n",
      " 27  Large_apartment                  262 non-null    object\n",
      " 28  Medium_apartment                 262 non-null    object\n",
      " 29  Small_apartment                  262 non-null    object\n",
      " 30  Description                      262 non-null    object\n",
      " 31  Poblacion                        262 non-null    object\n",
      " 32  Cities                           262 non-null    object\n",
      "dtypes: int64(1), object(32)\n",
      "memory usage: 67.7+ KB\n"
     ]
    }
   ],
   "source": [
    "web_df.info()"
   ]
  },
  {
   "cell_type": "markdown",
   "id": "a785bc74",
   "metadata": {},
   "source": [
    "#### We can see that most of the data are object type, so we will have to convert the columns to their respective dtypes."
   ]
  },
  {
   "cell_type": "code",
   "execution_count": 6,
   "id": "f1d5fc91",
   "metadata": {},
   "outputs": [
    {
     "data": {
      "text/plain": [
       "Unnamed: 0                         0\n",
       "Climate                            0\n",
       "Growth                             0\n",
       "GDP_per_capita                     0\n",
       "Unemployment                       0\n",
       "Homosexuality_acceptance           0\n",
       "LGBT_adoption_rights               8\n",
       "LGBT_homosexuality_rights          0\n",
       "LGBT_marriage_rights               0\n",
       "VAT_Sales_Tax                      0\n",
       "Art_galleries                      0\n",
       "Concert_venues                     0\n",
       "Museums                            0\n",
       "Sport_venues                       0\n",
       "Currency_for_urban_area            0\n",
       "GDP_per_capita.1                   0\n",
       "Monthly_Fitness_Club_Membership    0\n",
       "Beer                               0\n",
       "Monthly_Public_Transport           0\n",
       "Lunch                              0\n",
       "Airport_score                      0\n",
       "Airport_hub                        1\n",
       "Intercity_train_connectivity       1\n",
       "Gun_related_deaths                 1\n",
       "Guns_per_residents                 1\n",
       "Pisa_ranking                       1\n",
       "Best_university                    1\n",
       "Large_apartment                    0\n",
       "Medium_apartment                   0\n",
       "Small_apartment                    0\n",
       "Description                        0\n",
       "Poblacion                          0\n",
       "Cities                             0\n",
       "dtype: int64"
      ]
     },
     "execution_count": 6,
     "metadata": {},
     "output_type": "execute_result"
    }
   ],
   "source": [
    "pd.isna(web_df).sum()\n"
   ]
  },
  {
   "cell_type": "markdown",
   "id": "9a4c0b73",
   "metadata": {},
   "source": [
    "## 4. Data cleaning"
   ]
  },
  {
   "cell_type": "markdown",
   "id": "fcb0c5a8",
   "metadata": {},
   "source": [
    "#### Some of the values present are nan, so we will have to replace the information in those places."
   ]
  },
  {
   "cell_type": "code",
   "execution_count": 7,
   "id": "77c0bfd4",
   "metadata": {},
   "outputs": [
    {
     "data": {
      "text/plain": [
       "array(['✔ Equal', nan, 'Ambiguous', '✖ Unequal', '✖ Single only',\n",
       "       'Married couples only', 'No hay dato', '✔ Legal', '✖ Illegal',\n",
       "       '✖ Step-child adoption only'], dtype=object)"
      ]
     },
     "execution_count": 7,
     "metadata": {},
     "output_type": "execute_result"
    }
   ],
   "source": [
    "web_df.LGBT_adoption_rights.unique()"
   ]
  },
  {
   "cell_type": "code",
   "execution_count": 8,
   "id": "df7fa5ba",
   "metadata": {},
   "outputs": [
    {
     "data": {
      "text/plain": [
       "array(['8', '26', '23', '45', '237', '38', '0.10', '42', '10', '104',\n",
       "       '217', '44', '39', '0.48', '139', '163', '215', '51', '40', '49',\n",
       "       '142', '152', '102', '76', '16', '64', '103', '169', '7', '149',\n",
       "       '176', '59', '80', '1', '189', '66', '77', '67', '24', '81', '135',\n",
       "       '22', '46', '87', '20', '141', '25', '48', '56', '18', '11', '34',\n",
       "       '126', '30', '190', '97', '17', '137', '116', '144', '117', '79',\n",
       "       '9', '78', '12', '2', '239', '47', '101', '41', '19', '28', '90',\n",
       "       '50', '31', '88', '54', '171', '32', '35', '6', '242', '27', '43',\n",
       "       '52', '115', '71', '133', '159', '155', '160', '357', '62', '158',\n",
       "       '85', '94', '167', '164', '130', '93', '257', '83', '191', '72',\n",
       "       '55', nan, '220', '91', '61', '146', '123', '3', '294',\n",
       "       'No hay dato', '82', '317', '15', '121', '57', '36', '68', '109',\n",
       "       '111', '4', '29', '96', '13', '95', '180', '134', '33', '125',\n",
       "       '98', '113', '143', '148', '60', '86', '21'], dtype=object)"
      ]
     },
     "execution_count": 8,
     "metadata": {},
     "output_type": "execute_result"
    }
   ],
   "source": [
    "web_df.Airport_hub.unique() "
   ]
  },
  {
   "cell_type": "code",
   "execution_count": 9,
   "id": "7473ab68",
   "metadata": {},
   "outputs": [
    {
     "data": {
      "text/plain": [
       "array(['0.59', '0.17', '0.11', '0.66', '0.68', 'No hay dato', '0.16',\n",
       "       '0.12', '0.26', '0.15', '0.20', '0.14', '0.21', '0.46', '0.50',\n",
       "       '0.57', '0.37', '0.78', '0.70', '0.69', '0.40', '0.33', '0.42',\n",
       "       '0.36', '0.41', '0.35', '0.19', '0.60', '0.13', '0.73', '0.27',\n",
       "       '0.67', '0.55', '0.32', '0.61', '0.48', '0.71', '1.00', '0.30',\n",
       "       '0.10', '0.85', '0.18', '0.53', '0.56', '0.24', '0.72', '0.47',\n",
       "       '0.83', '0.63', '0.64', '0.88', '0.81', '0.39', '0.51', '0.25',\n",
       "       '0.80', nan, '0.86', '0.44', '0.65', '0.22', '0.62', '0.29',\n",
       "       '0.28', '0.76', '0.43', '0.95', '0.94'], dtype=object)"
      ]
     },
     "execution_count": 9,
     "metadata": {},
     "output_type": "execute_result"
    }
   ],
   "source": [
    "web_df.Intercity_train_connectivity.unique()"
   ]
  },
  {
   "cell_type": "code",
   "execution_count": 10,
   "id": "ab21e7d8",
   "metadata": {},
   "outputs": [
    {
     "data": {
      "text/plain": [
       "array(['1', '16', '20', '2', '12', '8', '13', '11', '0', '10', '3', '26',\n",
       "       '14', '17', '6', '4', '33', '59', '9', '21', '34', '15', '31', '5',\n",
       "       '25', nan, 'No hay dato', '46'], dtype=object)"
      ]
     },
     "execution_count": 10,
     "metadata": {},
     "output_type": "execute_result"
    }
   ],
   "source": [
    "web_df.Gun_related_deaths.unique()"
   ]
  },
  {
   "cell_type": "code",
   "execution_count": 11,
   "id": "920f74b0",
   "metadata": {},
   "outputs": [
    {
     "data": {
      "text/plain": [
       "array(['12', '24', '328', '1', '4', '135', '17', '13', '95', '23', '118',\n",
       "       '123', '119', '16', '10', '5', '21', '6', '58', '31', '30', '185',\n",
       "       '35', '103', '112', '8', '26', '11', '108', '96', '80', '7', '91',\n",
       "       '52', '39', '19', '22', '93', '15', '27', '2', '115', '98', '76',\n",
       "       '3', '168', '9', '14', '61', '120', '69', '85', '32', nan, '36',\n",
       "       '121', '70', 'No hay dato', '129', '154', '29', '246', '130', '0',\n",
       "       '491'], dtype=object)"
      ]
     },
     "execution_count": 11,
     "metadata": {},
     "output_type": "execute_result"
    }
   ],
   "source": [
    "web_df.Guns_per_residents.unique()"
   ]
  },
  {
   "cell_type": "code",
   "execution_count": 12,
   "id": "50c81067",
   "metadata": {},
   "outputs": [
    {
     "data": {
      "text/plain": [
       "array(['13', '16', '24', '39', '10', 'No hay dato', '43', '35', '12',\n",
       "       '48', '47', '22', '8', '51', '17', '0.39', '11', '26', '19', '34',\n",
       "       '21', '15', '40', '31', '5', '9', '52', '49', '41', '3', '14', '6',\n",
       "       '2', '20', '38', '18', '25', '46', nan, '28', '37', '7', '1', '36',\n",
       "       '4', '32', '30'], dtype=object)"
      ]
     },
     "execution_count": 12,
     "metadata": {},
     "output_type": "execute_result"
    }
   ],
   "source": [
    "web_df.Pisa_ranking.unique()"
   ]
  },
  {
   "cell_type": "code",
   "execution_count": 13,
   "id": "c8e96d73",
   "metadata": {},
   "outputs": [],
   "source": [
    "#web_df.Best_university.unique()"
   ]
  },
  {
   "cell_type": "code",
   "execution_count": 14,
   "id": "b6e7fdfc",
   "metadata": {},
   "outputs": [],
   "source": [
    "web_df['LGBT_adoption_rights'] = web_df['LGBT_adoption_rights'].replace(np.nan, \"No hay dato\")"
   ]
  },
  {
   "cell_type": "code",
   "execution_count": 15,
   "id": "8fe8f037",
   "metadata": {},
   "outputs": [],
   "source": [
    "web_df['Airport_hub'] = web_df['Airport_hub'].replace(np.nan, 0)"
   ]
  },
  {
   "cell_type": "code",
   "execution_count": 16,
   "id": "03b16a94",
   "metadata": {},
   "outputs": [],
   "source": [
    "web_df[\"Gun_related_deaths\"] = web_df[\"Gun_related_deaths\"].replace(np.nan, 0)"
   ]
  },
  {
   "cell_type": "code",
   "execution_count": 17,
   "id": "94b091e0",
   "metadata": {},
   "outputs": [],
   "source": [
    "web_df[\"Guns_per_residents\"] = web_df[\"Guns_per_residents\"].replace(np.nan, 0)"
   ]
  },
  {
   "cell_type": "code",
   "execution_count": 18,
   "id": "0ef00a18",
   "metadata": {},
   "outputs": [],
   "source": [
    "web_df[\"Pisa_ranking\"] = web_df[\"Pisa_ranking\"].replace(np.nan, 0)"
   ]
  },
  {
   "cell_type": "code",
   "execution_count": 19,
   "id": "5744ed78",
   "metadata": {},
   "outputs": [],
   "source": [
    "web_df[\"Best_university\"] = web_df[\"Best_university\"].replace(np.nan,'No hay dato')"
   ]
  },
  {
   "cell_type": "code",
   "execution_count": 20,
   "id": "37ecb49f",
   "metadata": {},
   "outputs": [],
   "source": [
    "web_df[\"Intercity_train_connectivity\"] = web_df[\"Intercity_train_connectivity\"].replace(np.nan, 0)"
   ]
  },
  {
   "cell_type": "code",
   "execution_count": 21,
   "id": "64d7853c",
   "metadata": {},
   "outputs": [
    {
     "data": {
      "text/plain": [
       "Unnamed: 0                         0\n",
       "Climate                            0\n",
       "Growth                             0\n",
       "GDP_per_capita                     0\n",
       "Unemployment                       0\n",
       "Homosexuality_acceptance           0\n",
       "LGBT_adoption_rights               0\n",
       "LGBT_homosexuality_rights          0\n",
       "LGBT_marriage_rights               0\n",
       "VAT_Sales_Tax                      0\n",
       "Art_galleries                      0\n",
       "Concert_venues                     0\n",
       "Museums                            0\n",
       "Sport_venues                       0\n",
       "Currency_for_urban_area            0\n",
       "GDP_per_capita.1                   0\n",
       "Monthly_Fitness_Club_Membership    0\n",
       "Beer                               0\n",
       "Monthly_Public_Transport           0\n",
       "Lunch                              0\n",
       "Airport_score                      0\n",
       "Airport_hub                        0\n",
       "Intercity_train_connectivity       0\n",
       "Gun_related_deaths                 0\n",
       "Guns_per_residents                 0\n",
       "Pisa_ranking                       0\n",
       "Best_university                    0\n",
       "Large_apartment                    0\n",
       "Medium_apartment                   0\n",
       "Small_apartment                    0\n",
       "Description                        0\n",
       "Poblacion                          0\n",
       "Cities                             0\n",
       "dtype: int64"
      ]
     },
     "execution_count": 21,
     "metadata": {},
     "output_type": "execute_result"
    }
   ],
   "source": [
    "pd.isna(web_df).sum()\n"
   ]
  },
  {
   "cell_type": "markdown",
   "id": "1c47e261",
   "metadata": {},
   "source": [
    "### We will generate a copy to manipulate and work with it. "
   ]
  },
  {
   "cell_type": "code",
   "execution_count": 22,
   "id": "8f4fa2bd",
   "metadata": {},
   "outputs": [],
   "source": [
    "copia = web_df.copy()"
   ]
  },
  {
   "cell_type": "code",
   "execution_count": 23,
   "id": "a2333294",
   "metadata": {},
   "outputs": [
    {
     "data": {
      "text/html": [
       "<div>\n",
       "<style scoped>\n",
       "    .dataframe tbody tr th:only-of-type {\n",
       "        vertical-align: middle;\n",
       "    }\n",
       "\n",
       "    .dataframe tbody tr th {\n",
       "        vertical-align: top;\n",
       "    }\n",
       "\n",
       "    .dataframe thead th {\n",
       "        text-align: right;\n",
       "    }\n",
       "</style>\n",
       "<table border=\"1\" class=\"dataframe\">\n",
       "  <thead>\n",
       "    <tr style=\"text-align: right;\">\n",
       "      <th></th>\n",
       "      <th>Unnamed: 0</th>\n",
       "      <th>Climate</th>\n",
       "      <th>Growth</th>\n",
       "      <th>GDP_per_capita</th>\n",
       "      <th>Unemployment</th>\n",
       "      <th>Homosexuality_acceptance</th>\n",
       "      <th>LGBT_adoption_rights</th>\n",
       "      <th>LGBT_homosexuality_rights</th>\n",
       "      <th>LGBT_marriage_rights</th>\n",
       "      <th>VAT_Sales_Tax</th>\n",
       "      <th>...</th>\n",
       "      <th>Gun_related_deaths</th>\n",
       "      <th>Guns_per_residents</th>\n",
       "      <th>Pisa_ranking</th>\n",
       "      <th>Best_university</th>\n",
       "      <th>Large_apartment</th>\n",
       "      <th>Medium_apartment</th>\n",
       "      <th>Small_apartment</th>\n",
       "      <th>Description</th>\n",
       "      <th>Poblacion</th>\n",
       "      <th>Cities</th>\n",
       "    </tr>\n",
       "  </thead>\n",
       "  <tbody>\n",
       "    <tr>\n",
       "      <th>0</th>\n",
       "      <td>0</td>\n",
       "      <td>No hay dato</td>\n",
       "      <td>5%</td>\n",
       "      <td>$44,343</td>\n",
       "      <td>4%</td>\n",
       "      <td>93.03</td>\n",
       "      <td>✔ Equal</td>\n",
       "      <td>✔ Sexual orientation and gender identity</td>\n",
       "      <td>0.99</td>\n",
       "      <td>0.25</td>\n",
       "      <td>...</td>\n",
       "      <td>1</td>\n",
       "      <td>12</td>\n",
       "      <td>13</td>\n",
       "      <td>Aarhus University</td>\n",
       "      <td>$1700</td>\n",
       "      <td>$1300</td>\n",
       "      <td>$840</td>\n",
       "      <td>Aarhus, Denmark, is among the top cities with ...</td>\n",
       "      <td>250,200</td>\n",
       "      <td>Aarhus</td>\n",
       "    </tr>\n",
       "    <tr>\n",
       "      <th>1</th>\n",
       "      <td>1</td>\n",
       "      <td>12.6</td>\n",
       "      <td>7%</td>\n",
       "      <td>$46,433</td>\n",
       "      <td>6%</td>\n",
       "      <td>0.79</td>\n",
       "      <td>No hay dato</td>\n",
       "      <td>✔ Legal</td>\n",
       "      <td>Varies by Region</td>\n",
       "      <td>0.10</td>\n",
       "      <td>...</td>\n",
       "      <td>1</td>\n",
       "      <td>24</td>\n",
       "      <td>16</td>\n",
       "      <td>University of Adelaide</td>\n",
       "      <td>$1500</td>\n",
       "      <td>$1200</td>\n",
       "      <td>$1000</td>\n",
       "      <td>Adelaide, Australia, is among the top cities w...</td>\n",
       "      <td>1,708,700</td>\n",
       "      <td>Adelaide</td>\n",
       "    </tr>\n",
       "    <tr>\n",
       "      <th>2</th>\n",
       "      <td>2</td>\n",
       "      <td>168</td>\n",
       "      <td>7%</td>\n",
       "      <td>$54,597</td>\n",
       "      <td>5%</td>\n",
       "      <td>93.13</td>\n",
       "      <td>✔ Equal</td>\n",
       "      <td>✔ Sexual orientation and gender identity</td>\n",
       "      <td>0.45</td>\n",
       "      <td>0.07</td>\n",
       "      <td>...</td>\n",
       "      <td>16</td>\n",
       "      <td>328</td>\n",
       "      <td>24</td>\n",
       "      <td>University of New Mexico</td>\n",
       "      <td>$1200</td>\n",
       "      <td>$950</td>\n",
       "      <td>$760</td>\n",
       "      <td>Albuquerque, New Mexico, is among the top citi...</td>\n",
       "      <td>630,800</td>\n",
       "      <td>Albuquerque</td>\n",
       "    </tr>\n",
       "    <tr>\n",
       "      <th>3</th>\n",
       "      <td>3</td>\n",
       "      <td>64</td>\n",
       "      <td>9%</td>\n",
       "      <td>$24,020</td>\n",
       "      <td>6%</td>\n",
       "      <td>66.56</td>\n",
       "      <td>✔ Equal</td>\n",
       "      <td>Ambiguous</td>\n",
       "      <td>0.64</td>\n",
       "      <td>0.12</td>\n",
       "      <td>...</td>\n",
       "      <td>1</td>\n",
       "      <td>1</td>\n",
       "      <td>39</td>\n",
       "      <td>427.97</td>\n",
       "      <td>$620</td>\n",
       "      <td>$480</td>\n",
       "      <td>$340</td>\n",
       "      <td>Almaty, Kazakhstan, differentiates itself with...</td>\n",
       "      <td>2,029,800</td>\n",
       "      <td>Almaty</td>\n",
       "    </tr>\n",
       "    <tr>\n",
       "      <th>4</th>\n",
       "      <td>4</td>\n",
       "      <td>12.9</td>\n",
       "      <td>3%</td>\n",
       "      <td>$47,355</td>\n",
       "      <td>6%</td>\n",
       "      <td>97.37</td>\n",
       "      <td>✔ Equal</td>\n",
       "      <td>✔ Sexual orientation and gender identity</td>\n",
       "      <td>0.67</td>\n",
       "      <td>0.21</td>\n",
       "      <td>...</td>\n",
       "      <td>1</td>\n",
       "      <td>4</td>\n",
       "      <td>10</td>\n",
       "      <td>University of Amsterdam</td>\n",
       "      <td>$2400</td>\n",
       "      <td>$2000</td>\n",
       "      <td>$1600</td>\n",
       "      <td>Amsterdam is one of the most bike-friendly cit...</td>\n",
       "      <td>2,628,100</td>\n",
       "      <td>Amsterdam</td>\n",
       "    </tr>\n",
       "  </tbody>\n",
       "</table>\n",
       "<p>5 rows × 33 columns</p>\n",
       "</div>"
      ],
      "text/plain": [
       "   Unnamed: 0      Climate Growth GDP_per_capita Unemployment  \\\n",
       "0           0  No hay dato     5%        $44,343           4%   \n",
       "1           1         12.6     7%        $46,433           6%   \n",
       "2           2          168     7%        $54,597           5%   \n",
       "3           3           64     9%        $24,020           6%   \n",
       "4           4         12.9     3%        $47,355           6%   \n",
       "\n",
       "  Homosexuality_acceptance LGBT_adoption_rights  \\\n",
       "0                    93.03              ✔ Equal   \n",
       "1                     0.79          No hay dato   \n",
       "2                    93.13              ✔ Equal   \n",
       "3                    66.56              ✔ Equal   \n",
       "4                    97.37              ✔ Equal   \n",
       "\n",
       "                  LGBT_homosexuality_rights LGBT_marriage_rights  \\\n",
       "0  ✔ Sexual orientation and gender identity                 0.99   \n",
       "1                                   ✔ Legal     Varies by Region   \n",
       "2  ✔ Sexual orientation and gender identity                 0.45   \n",
       "3                                 Ambiguous                 0.64   \n",
       "4  ✔ Sexual orientation and gender identity                 0.67   \n",
       "\n",
       "  VAT_Sales_Tax  ... Gun_related_deaths Guns_per_residents Pisa_ranking  \\\n",
       "0          0.25  ...                  1                 12           13   \n",
       "1          0.10  ...                  1                 24           16   \n",
       "2          0.07  ...                 16                328           24   \n",
       "3          0.12  ...                  1                  1           39   \n",
       "4          0.21  ...                  1                  4           10   \n",
       "\n",
       "            Best_university Large_apartment Medium_apartment Small_apartment  \\\n",
       "0         Aarhus University           $1700            $1300            $840   \n",
       "1    University of Adelaide           $1500            $1200           $1000   \n",
       "2  University of New Mexico           $1200             $950            $760   \n",
       "3                    427.97            $620             $480            $340   \n",
       "4   University of Amsterdam           $2400            $2000           $1600   \n",
       "\n",
       "                                         Description  Poblacion       Cities  \n",
       "0  Aarhus, Denmark, is among the top cities with ...    250,200       Aarhus  \n",
       "1  Adelaide, Australia, is among the top cities w...  1,708,700     Adelaide  \n",
       "2  Albuquerque, New Mexico, is among the top citi...    630,800  Albuquerque  \n",
       "3  Almaty, Kazakhstan, differentiates itself with...  2,029,800       Almaty  \n",
       "4  Amsterdam is one of the most bike-friendly cit...  2,628,100    Amsterdam  \n",
       "\n",
       "[5 rows x 33 columns]"
      ]
     },
     "execution_count": 23,
     "metadata": {},
     "output_type": "execute_result"
    }
   ],
   "source": [
    "copia.head()"
   ]
  },
  {
   "cell_type": "code",
   "execution_count": 24,
   "id": "22fc1177",
   "metadata": {},
   "outputs": [
    {
     "data": {
      "text/plain": [
       "Index(['Unnamed: 0', 'Climate', 'Growth', 'GDP_per_capita', 'Unemployment',\n",
       "       'Homosexuality_acceptance', 'LGBT_adoption_rights',\n",
       "       'LGBT_homosexuality_rights', 'LGBT_marriage_rights', 'VAT_Sales_Tax',\n",
       "       'Art_galleries', 'Concert_venues', 'Museums', 'Sport_venues',\n",
       "       'Currency_for_urban_area', 'GDP_per_capita.1',\n",
       "       'Monthly_Fitness_Club_Membership', 'Beer', 'Monthly_Public_Transport',\n",
       "       'Lunch', 'Airport_score', 'Airport_hub', 'Intercity_train_connectivity',\n",
       "       'Gun_related_deaths', 'Guns_per_residents', 'Pisa_ranking',\n",
       "       'Best_university', 'Large_apartment', 'Medium_apartment',\n",
       "       'Small_apartment', 'Description', 'Poblacion', 'Cities'],\n",
       "      dtype='object')"
      ]
     },
     "execution_count": 24,
     "metadata": {},
     "output_type": "execute_result"
    }
   ],
   "source": [
    "copia.columns"
   ]
  },
  {
   "cell_type": "markdown",
   "id": "a7f07668",
   "metadata": {},
   "source": [
    "### To be able to work with the data, we must remove symbols and clean the columns"
   ]
  },
  {
   "cell_type": "code",
   "execution_count": 25,
   "id": "59997650",
   "metadata": {},
   "outputs": [],
   "source": [
    "def delete_price(i):\n",
    "    i = str(i).replace('$', \"\")\n",
    "    return i"
   ]
  },
  {
   "cell_type": "code",
   "execution_count": 26,
   "id": "df9536a7",
   "metadata": {},
   "outputs": [],
   "source": [
    "copia['GDP_per_capita'] = copia['GDP_per_capita'].apply(delete_price)"
   ]
  },
  {
   "cell_type": "code",
   "execution_count": 27,
   "id": "9816b607",
   "metadata": {},
   "outputs": [],
   "source": [
    "copia['Monthly_Fitness_Club_Membership'] = copia['Monthly_Fitness_Club_Membership'].apply(delete_price)"
   ]
  },
  {
   "cell_type": "code",
   "execution_count": 28,
   "id": "f637b7b6",
   "metadata": {},
   "outputs": [],
   "source": [
    "copia['Beer'] = copia['Beer'].apply(delete_price)"
   ]
  },
  {
   "cell_type": "code",
   "execution_count": 29,
   "id": "497d915b",
   "metadata": {},
   "outputs": [],
   "source": [
    "copia['Monthly_Public_Transport'] = copia['Monthly_Public_Transport'].apply(delete_price)"
   ]
  },
  {
   "cell_type": "code",
   "execution_count": 30,
   "id": "a6035c63",
   "metadata": {},
   "outputs": [],
   "source": [
    "copia['Lunch'] = copia['Lunch'].apply(delete_price)"
   ]
  },
  {
   "cell_type": "code",
   "execution_count": 31,
   "id": "706e89cf",
   "metadata": {},
   "outputs": [],
   "source": [
    "copia['Large_apartment'] = copia['Large_apartment'].apply(delete_price)"
   ]
  },
  {
   "cell_type": "code",
   "execution_count": 32,
   "id": "22bd2dc5",
   "metadata": {},
   "outputs": [],
   "source": [
    "copia['Medium_apartment'] = copia['Medium_apartment'].apply(delete_price)"
   ]
  },
  {
   "cell_type": "code",
   "execution_count": 33,
   "id": "6c1c24ac",
   "metadata": {},
   "outputs": [],
   "source": [
    "copia['Small_apartment'] = copia['Small_apartment'].apply(delete_price)"
   ]
  },
  {
   "cell_type": "code",
   "execution_count": 34,
   "id": "a3efc3fb",
   "metadata": {},
   "outputs": [],
   "source": [
    "def convertir(i):\n",
    "    i = i.replace(\",\", \".\")\n",
    "    return i"
   ]
  },
  {
   "cell_type": "code",
   "execution_count": 35,
   "id": "21a57b9b",
   "metadata": {},
   "outputs": [],
   "source": [
    "copia[\"GDP_per_capita\"] = copia[\"GDP_per_capita\"].apply(convertir)"
   ]
  },
  {
   "cell_type": "code",
   "execution_count": 36,
   "id": "eb313b96",
   "metadata": {},
   "outputs": [],
   "source": [
    "def quitar(i):\n",
    "    i = i.replace(\",\", \"\")\n",
    "    return i"
   ]
  },
  {
   "cell_type": "code",
   "execution_count": 37,
   "id": "422f133c",
   "metadata": {},
   "outputs": [],
   "source": [
    "copia[\"Poblacion\"] = copia[\"Poblacion\"].apply(quitar)"
   ]
  },
  {
   "cell_type": "code",
   "execution_count": 38,
   "id": "d0a53626",
   "metadata": {},
   "outputs": [],
   "source": [
    "def clean_symbol(i):\n",
    "    i = i.replace(\"✖\", \"\")\n",
    "    return i"
   ]
  },
  {
   "cell_type": "code",
   "execution_count": 39,
   "id": "860ec64a",
   "metadata": {},
   "outputs": [],
   "source": [
    "copia[\"LGBT_adoption_rights\"] = copia[\"LGBT_adoption_rights\"].apply(clean_symbol)"
   ]
  },
  {
   "cell_type": "code",
   "execution_count": 40,
   "id": "c7608061",
   "metadata": {},
   "outputs": [],
   "source": [
    "copia[\"LGBT_homosexuality_rights\"] = copia[\"LGBT_homosexuality_rights\"].apply(clean_symbol)"
   ]
  },
  {
   "cell_type": "code",
   "execution_count": 41,
   "id": "9711f913",
   "metadata": {},
   "outputs": [],
   "source": [
    "copia[\"LGBT_marriage_rights\"] = copia[\"LGBT_marriage_rights\"].apply(clean_symbol)"
   ]
  },
  {
   "cell_type": "code",
   "execution_count": 42,
   "id": "caad5a00",
   "metadata": {},
   "outputs": [],
   "source": [
    "def clean_symbol2(i):\n",
    "    i = i.replace(\"✔\", \"\")\n",
    "    return i"
   ]
  },
  {
   "cell_type": "code",
   "execution_count": 43,
   "id": "ef740340",
   "metadata": {},
   "outputs": [],
   "source": [
    "copia[\"LGBT_adoption_rights\"] = copia[\"LGBT_adoption_rights\"].apply(clean_symbol2)"
   ]
  },
  {
   "cell_type": "code",
   "execution_count": 44,
   "id": "a7928a22",
   "metadata": {},
   "outputs": [],
   "source": [
    "copia[\"LGBT_homosexuality_rights\"] = copia[\"LGBT_homosexuality_rights\"].apply(clean_symbol2)"
   ]
  },
  {
   "cell_type": "code",
   "execution_count": 45,
   "id": "788f4bcd",
   "metadata": {},
   "outputs": [],
   "source": [
    "copia[\"LGBT_marriage_rights\"] = copia[\"LGBT_marriage_rights\"].apply(clean_symbol2)"
   ]
  },
  {
   "cell_type": "code",
   "execution_count": 72,
   "id": "c460a501",
   "metadata": {},
   "outputs": [
    {
     "data": {
      "text/html": [
       "<div>\n",
       "<style scoped>\n",
       "    .dataframe tbody tr th:only-of-type {\n",
       "        vertical-align: middle;\n",
       "    }\n",
       "\n",
       "    .dataframe tbody tr th {\n",
       "        vertical-align: top;\n",
       "    }\n",
       "\n",
       "    .dataframe thead th {\n",
       "        text-align: right;\n",
       "    }\n",
       "</style>\n",
       "<table border=\"1\" class=\"dataframe\">\n",
       "  <thead>\n",
       "    <tr style=\"text-align: right;\">\n",
       "      <th></th>\n",
       "      <th>Unnamed: 0</th>\n",
       "      <th>Climate</th>\n",
       "      <th>Growth</th>\n",
       "      <th>GDP_per_capita</th>\n",
       "      <th>Unemployment</th>\n",
       "      <th>Homosexuality_acceptance</th>\n",
       "      <th>LGBT_adoption_rights</th>\n",
       "      <th>LGBT_homosexuality_rights</th>\n",
       "      <th>LGBT_marriage_rights</th>\n",
       "      <th>VAT_Sales_Tax</th>\n",
       "      <th>...</th>\n",
       "      <th>Gun_related_deaths</th>\n",
       "      <th>Guns_per_residents</th>\n",
       "      <th>Pisa_ranking</th>\n",
       "      <th>Best_university</th>\n",
       "      <th>Large_apartment</th>\n",
       "      <th>Medium_apartment</th>\n",
       "      <th>Small_apartment</th>\n",
       "      <th>Description</th>\n",
       "      <th>Poblacion</th>\n",
       "      <th>Cities</th>\n",
       "    </tr>\n",
       "  </thead>\n",
       "  <tbody>\n",
       "    <tr>\n",
       "      <th>0</th>\n",
       "      <td>0</td>\n",
       "      <td>0</td>\n",
       "      <td>5%</td>\n",
       "      <td>44.343</td>\n",
       "      <td>4%</td>\n",
       "      <td>93.03</td>\n",
       "      <td>Equal</td>\n",
       "      <td>Sexual orientation and gender identity</td>\n",
       "      <td>0.99</td>\n",
       "      <td>0.25</td>\n",
       "      <td>...</td>\n",
       "      <td>1</td>\n",
       "      <td>12</td>\n",
       "      <td>13</td>\n",
       "      <td>Aarhus University</td>\n",
       "      <td>1700</td>\n",
       "      <td>1300</td>\n",
       "      <td>840</td>\n",
       "      <td>Aarhus, Denmark, is among the top cities with ...</td>\n",
       "      <td>250200</td>\n",
       "      <td>Aarhus</td>\n",
       "    </tr>\n",
       "    <tr>\n",
       "      <th>1</th>\n",
       "      <td>1</td>\n",
       "      <td>12.6</td>\n",
       "      <td>7%</td>\n",
       "      <td>46.433</td>\n",
       "      <td>6%</td>\n",
       "      <td>0.79</td>\n",
       "      <td>No hay dato</td>\n",
       "      <td>Legal</td>\n",
       "      <td>Varies by Region</td>\n",
       "      <td>0.10</td>\n",
       "      <td>...</td>\n",
       "      <td>1</td>\n",
       "      <td>24</td>\n",
       "      <td>16</td>\n",
       "      <td>University of Adelaide</td>\n",
       "      <td>1500</td>\n",
       "      <td>1200</td>\n",
       "      <td>1000</td>\n",
       "      <td>Adelaide, Australia, is among the top cities w...</td>\n",
       "      <td>1708700</td>\n",
       "      <td>Adelaide</td>\n",
       "    </tr>\n",
       "    <tr>\n",
       "      <th>2</th>\n",
       "      <td>2</td>\n",
       "      <td>168</td>\n",
       "      <td>7%</td>\n",
       "      <td>54.597</td>\n",
       "      <td>5%</td>\n",
       "      <td>93.13</td>\n",
       "      <td>Equal</td>\n",
       "      <td>Sexual orientation and gender identity</td>\n",
       "      <td>0.45</td>\n",
       "      <td>0.07</td>\n",
       "      <td>...</td>\n",
       "      <td>16</td>\n",
       "      <td>328</td>\n",
       "      <td>24</td>\n",
       "      <td>University of New Mexico</td>\n",
       "      <td>1200</td>\n",
       "      <td>950</td>\n",
       "      <td>760</td>\n",
       "      <td>Albuquerque, New Mexico, is among the top citi...</td>\n",
       "      <td>630800</td>\n",
       "      <td>Albuquerque</td>\n",
       "    </tr>\n",
       "  </tbody>\n",
       "</table>\n",
       "<p>3 rows × 33 columns</p>\n",
       "</div>"
      ],
      "text/plain": [
       "   Unnamed: 0 Climate Growth GDP_per_capita Unemployment  \\\n",
       "0           0       0     5%         44.343           4%   \n",
       "1           1    12.6     7%         46.433           6%   \n",
       "2           2     168     7%         54.597           5%   \n",
       "\n",
       "  Homosexuality_acceptance LGBT_adoption_rights  \\\n",
       "0                    93.03                Equal   \n",
       "1                     0.79          No hay dato   \n",
       "2                    93.13                Equal   \n",
       "\n",
       "                 LGBT_homosexuality_rights LGBT_marriage_rights VAT_Sales_Tax  \\\n",
       "0   Sexual orientation and gender identity                 0.99          0.25   \n",
       "1                                    Legal     Varies by Region          0.10   \n",
       "2   Sexual orientation and gender identity                 0.45          0.07   \n",
       "\n",
       "   ... Gun_related_deaths Guns_per_residents Pisa_ranking  \\\n",
       "0  ...                  1                 12           13   \n",
       "1  ...                  1                 24           16   \n",
       "2  ...                 16                328           24   \n",
       "\n",
       "            Best_university Large_apartment Medium_apartment Small_apartment  \\\n",
       "0         Aarhus University            1700             1300             840   \n",
       "1    University of Adelaide            1500             1200            1000   \n",
       "2  University of New Mexico            1200              950             760   \n",
       "\n",
       "                                         Description Poblacion       Cities  \n",
       "0  Aarhus, Denmark, is among the top cities with ...    250200       Aarhus  \n",
       "1  Adelaide, Australia, is among the top cities w...   1708700     Adelaide  \n",
       "2  Albuquerque, New Mexico, is among the top citi...    630800  Albuquerque  \n",
       "\n",
       "[3 rows x 33 columns]"
      ]
     },
     "execution_count": 72,
     "metadata": {},
     "output_type": "execute_result"
    }
   ],
   "source": [
    "copia.head(3)"
   ]
  },
  {
   "cell_type": "code",
   "execution_count": 47,
   "id": "dc34a69c",
   "metadata": {},
   "outputs": [],
   "source": [
    "def clean_no_info(i):\n",
    "    i = i.replace(\"No hay dato\", \"0\")\n",
    "    return i"
   ]
  },
  {
   "cell_type": "code",
   "execution_count": 48,
   "id": "4994ef99",
   "metadata": {},
   "outputs": [],
   "source": [
    "copia[\"Airport_hub\"] = copia[\"Airport_hub\"].replace(\"No hay dato\", 0)"
   ]
  },
  {
   "cell_type": "code",
   "execution_count": 49,
   "id": "5f77913a",
   "metadata": {},
   "outputs": [],
   "source": [
    "copia[\"Intercity_train_connectivity\"] = copia[\"Intercity_train_connectivity\"].replace(\"No hay dato\", 0)"
   ]
  },
  {
   "cell_type": "code",
   "execution_count": 50,
   "id": "39f12ade",
   "metadata": {},
   "outputs": [],
   "source": [
    "copia[\"Gun_related_deaths\"] = copia[\"Gun_related_deaths\"].replace(\"No hay dato\", 0)"
   ]
  },
  {
   "cell_type": "code",
   "execution_count": 51,
   "id": "c0f553a6",
   "metadata": {},
   "outputs": [],
   "source": [
    "copia[\"Guns_per_residents\"] = copia[\"Guns_per_residents\"].replace(\"No hay dato\", 0)"
   ]
  },
  {
   "cell_type": "code",
   "execution_count": 52,
   "id": "6d38ae5d",
   "metadata": {},
   "outputs": [],
   "source": [
    "copia[\"Pisa_ranking\"] = copia[\"Pisa_ranking\"].replace(\"No hay dato\", 0)"
   ]
  },
  {
   "cell_type": "code",
   "execution_count": 53,
   "id": "9ac9a3a0",
   "metadata": {},
   "outputs": [],
   "source": [
    "copia[\"Large_apartment\"] = copia[\"Large_apartment\"].replace(\"No hay dato\", 0)"
   ]
  },
  {
   "cell_type": "code",
   "execution_count": 54,
   "id": "9ed01e6e",
   "metadata": {},
   "outputs": [],
   "source": [
    "copia[\"Small_apartment\"] = copia[\"Small_apartment\"].replace(\"No hay dato\", 0)"
   ]
  },
  {
   "cell_type": "code",
   "execution_count": 55,
   "id": "60d5c398",
   "metadata": {},
   "outputs": [],
   "source": [
    "copia[\"Medium_apartment\"] = copia[\"Medium_apartment\"].replace(\"No hay dato\", 0)"
   ]
  },
  {
   "cell_type": "code",
   "execution_count": 56,
   "id": "5705f1f7",
   "metadata": {},
   "outputs": [],
   "source": [
    "copia[\"VAT_Sales_Tax\"] = copia[\"VAT_Sales_Tax\"].replace(\"No hay dato\", 0)"
   ]
  },
  {
   "cell_type": "code",
   "execution_count": 57,
   "id": "68b1adff",
   "metadata": {},
   "outputs": [],
   "source": [
    "copia[\"Art_galleries\"] = copia[\"Art_galleries\"].replace(\"No hay dato\", 0)"
   ]
  },
  {
   "cell_type": "code",
   "execution_count": 58,
   "id": "98f2c6e5",
   "metadata": {},
   "outputs": [],
   "source": [
    "copia[\"Concert_venues\"] = copia[\"Concert_venues\"].replace(\"No hay dato\", 0)"
   ]
  },
  {
   "cell_type": "code",
   "execution_count": 59,
   "id": "a1000d66",
   "metadata": {},
   "outputs": [],
   "source": [
    "copia[\"Museums\"] = copia[\"Museums\"].replace(\"No hay dato\", 0)"
   ]
  },
  {
   "cell_type": "code",
   "execution_count": 60,
   "id": "936edc88",
   "metadata": {},
   "outputs": [],
   "source": [
    "copia[\"Sport_venues\"] = copia[\"Sport_venues\"].replace(\"No hay dato\", 0)"
   ]
  },
  {
   "cell_type": "code",
   "execution_count": 61,
   "id": "45343e23",
   "metadata": {},
   "outputs": [],
   "source": [
    "copia[\"GDP_per_capita\"] = copia[\"GDP_per_capita\"].replace(\"No hay dato\", 0)"
   ]
  },
  {
   "cell_type": "code",
   "execution_count": 62,
   "id": "e6329ac3",
   "metadata": {},
   "outputs": [],
   "source": [
    "copia[\"Unemployment\"] = copia[\"Unemployment\"].replace(\"No hay dato\", 0)"
   ]
  },
  {
   "cell_type": "code",
   "execution_count": 63,
   "id": "738d708a",
   "metadata": {},
   "outputs": [],
   "source": [
    "copia[\"Climate\"] = copia[\"Climate\"].replace(\"No hay dato\", 0)"
   ]
  },
  {
   "cell_type": "code",
   "execution_count": 64,
   "id": "39f2a414",
   "metadata": {},
   "outputs": [],
   "source": [
    "copia[\"Homosexuality_acceptance\"] = copia[\"Homosexuality_acceptance\"].replace(\"No hay dato\", 0)"
   ]
  },
  {
   "cell_type": "code",
   "execution_count": 65,
   "id": "24df9590",
   "metadata": {},
   "outputs": [],
   "source": [
    "copia[\"Airport_score\"] = copia[\"Airport_score\"].replace(\"No hay dato\", 0)"
   ]
  },
  {
   "cell_type": "code",
   "execution_count": 101,
   "id": "01d39043",
   "metadata": {},
   "outputs": [],
   "source": [
    "copia[\"Monthly_Fitness_Club_Membership\"] = copia[\"Monthly_Fitness_Club_Membership\"].replace(\"No hay dato\", 0)"
   ]
  },
  {
   "cell_type": "code",
   "execution_count": 105,
   "id": "b1e4b18b",
   "metadata": {},
   "outputs": [],
   "source": [
    "copia[\"Lunch\"] = copia[\"Lunch\"].replace(\"No hay dato\", 0)"
   ]
  },
  {
   "cell_type": "code",
   "execution_count": 106,
   "id": "28ad900f",
   "metadata": {},
   "outputs": [],
   "source": [
    "copia[\"Beer\"] = copia[\"Beer\"].replace(\"No hay dato\", 0)"
   ]
  },
  {
   "cell_type": "code",
   "execution_count": 110,
   "id": "c9c8a089",
   "metadata": {},
   "outputs": [],
   "source": [
    "copia[\"Monthly_Public_Transport\"] = copia[\"Monthly_Public_Transport\"].replace(\"No hay dato\", 0)"
   ]
  },
  {
   "cell_type": "code",
   "execution_count": null,
   "id": "78d3e4f9",
   "metadata": {},
   "outputs": [],
   "source": []
  },
  {
   "cell_type": "code",
   "execution_count": null,
   "id": "48065654",
   "metadata": {},
   "outputs": [],
   "source": []
  },
  {
   "cell_type": "code",
   "execution_count": 67,
   "id": "ea897377",
   "metadata": {},
   "outputs": [],
   "source": [
    "def replace_num(universidad):\n",
    "    #print (\"i original :\",universidad)\n",
    "    if (re.findall(\"\\d+\",universidad)):\n",
    "        universidad = \"No hay dato\"\n",
    "    #print (\"i cambiada: \",universidad)\n",
    "    return universidad"
   ]
  },
  {
   "cell_type": "code",
   "execution_count": 68,
   "id": "1ac70fb1",
   "metadata": {},
   "outputs": [],
   "source": [
    "copia[\"Best_university\"] = copia[\"Best_university\"].apply(replace_num)"
   ]
  },
  {
   "cell_type": "code",
   "execution_count": 69,
   "id": "93c646a6",
   "metadata": {},
   "outputs": [],
   "source": [
    "def replace_num2(Currency):\n",
    "    if (re.findall(\"\\d+\",Currency)):\n",
    "        Currency = \"USD\"\n",
    "    return Currency"
   ]
  },
  {
   "cell_type": "code",
   "execution_count": 70,
   "id": "71e42fa2",
   "metadata": {},
   "outputs": [
    {
     "data": {
      "text/html": [
       "<div>\n",
       "<style scoped>\n",
       "    .dataframe tbody tr th:only-of-type {\n",
       "        vertical-align: middle;\n",
       "    }\n",
       "\n",
       "    .dataframe tbody tr th {\n",
       "        vertical-align: top;\n",
       "    }\n",
       "\n",
       "    .dataframe thead th {\n",
       "        text-align: right;\n",
       "    }\n",
       "</style>\n",
       "<table border=\"1\" class=\"dataframe\">\n",
       "  <thead>\n",
       "    <tr style=\"text-align: right;\">\n",
       "      <th></th>\n",
       "      <th>Unnamed: 0</th>\n",
       "      <th>Climate</th>\n",
       "      <th>Growth</th>\n",
       "      <th>GDP_per_capita</th>\n",
       "      <th>Unemployment</th>\n",
       "      <th>Homosexuality_acceptance</th>\n",
       "      <th>LGBT_adoption_rights</th>\n",
       "      <th>LGBT_homosexuality_rights</th>\n",
       "      <th>LGBT_marriage_rights</th>\n",
       "      <th>VAT_Sales_Tax</th>\n",
       "      <th>...</th>\n",
       "      <th>Gun_related_deaths</th>\n",
       "      <th>Guns_per_residents</th>\n",
       "      <th>Pisa_ranking</th>\n",
       "      <th>Best_university</th>\n",
       "      <th>Large_apartment</th>\n",
       "      <th>Medium_apartment</th>\n",
       "      <th>Small_apartment</th>\n",
       "      <th>Description</th>\n",
       "      <th>Poblacion</th>\n",
       "      <th>Cities</th>\n",
       "    </tr>\n",
       "  </thead>\n",
       "  <tbody>\n",
       "    <tr>\n",
       "      <th>16</th>\n",
       "      <td>16</td>\n",
       "      <td>0</td>\n",
       "      <td>80</td>\n",
       "      <td>0</td>\n",
       "      <td>0</td>\n",
       "      <td>96.88</td>\n",
       "      <td>No hay dato</td>\n",
       "      <td>No hay dato</td>\n",
       "      <td>No hay dato</td>\n",
       "      <td>0</td>\n",
       "      <td>...</td>\n",
       "      <td>10</td>\n",
       "      <td>119</td>\n",
       "      <td>24</td>\n",
       "      <td>Johns Hopkins University</td>\n",
       "      <td>1900</td>\n",
       "      <td>1600</td>\n",
       "      <td>1200</td>\n",
       "      <td>This urban area is consistently ahead in healt...</td>\n",
       "      <td>38</td>\n",
       "      <td>Baltimore</td>\n",
       "    </tr>\n",
       "  </tbody>\n",
       "</table>\n",
       "<p>1 rows × 33 columns</p>\n",
       "</div>"
      ],
      "text/plain": [
       "    Unnamed: 0 Climate Growth GDP_per_capita Unemployment  \\\n",
       "16          16       0     80              0            0   \n",
       "\n",
       "   Homosexuality_acceptance LGBT_adoption_rights LGBT_homosexuality_rights  \\\n",
       "16                    96.88          No hay dato               No hay dato   \n",
       "\n",
       "   LGBT_marriage_rights VAT_Sales_Tax  ... Gun_related_deaths  \\\n",
       "16          No hay dato             0  ...                 10   \n",
       "\n",
       "   Guns_per_residents Pisa_ranking           Best_university Large_apartment  \\\n",
       "16                119           24  Johns Hopkins University            1900   \n",
       "\n",
       "   Medium_apartment Small_apartment  \\\n",
       "16             1600            1200   \n",
       "\n",
       "                                          Description Poblacion     Cities  \n",
       "16  This urban area is consistently ahead in healt...        38  Baltimore  \n",
       "\n",
       "[1 rows x 33 columns]"
      ]
     },
     "execution_count": 70,
     "metadata": {},
     "output_type": "execute_result"
    }
   ],
   "source": [
    "copia.loc[copia['Currency_for_urban_area'] =='0.43']"
   ]
  },
  {
   "cell_type": "code",
   "execution_count": 71,
   "id": "5b669394",
   "metadata": {},
   "outputs": [],
   "source": [
    "copia[\"Currency_for_urban_area\"] = copia[\"Currency_for_urban_area\"].apply(replace_num2)"
   ]
  },
  {
   "cell_type": "markdown",
   "id": "7ba374c5",
   "metadata": {},
   "source": [
    "#### Some of the columns have data that does not correspond to the measurement in that column, so we will replace those numbers with 0, giving it the assignment that we have no data for that location."
   ]
  },
  {
   "cell_type": "code",
   "execution_count": 73,
   "id": "f2b60884",
   "metadata": {},
   "outputs": [],
   "source": [
    "def change(x):\n",
    "    x = str(x).split('.')[0]\n",
    "    return x"
   ]
  },
  {
   "cell_type": "code",
   "execution_count": 74,
   "id": "6e5f3a04",
   "metadata": {},
   "outputs": [],
   "source": [
    "copia[\"Airport_hub\"] = copia[\"Airport_hub\"].apply(change) "
   ]
  },
  {
   "cell_type": "code",
   "execution_count": 75,
   "id": "52fea7bd",
   "metadata": {},
   "outputs": [],
   "source": [
    "copia[\"Pisa_ranking\"] =copia[\"Pisa_ranking\"].apply(change) "
   ]
  },
  {
   "cell_type": "code",
   "execution_count": 76,
   "id": "6202e2c0",
   "metadata": {},
   "outputs": [],
   "source": [
    "copia[\"Concert_venues\"] = copia[\"Concert_venues\"].apply(change)"
   ]
  },
  {
   "cell_type": "code",
   "execution_count": 77,
   "id": "c7da5578",
   "metadata": {},
   "outputs": [],
   "source": [
    "copia[\"Museums\"] = copia[\"Museums\"].apply(change)"
   ]
  },
  {
   "cell_type": "code",
   "execution_count": 78,
   "id": "bf79ac86",
   "metadata": {},
   "outputs": [],
   "source": [
    "copia[\"Sport_venues\"] = copia[\"Sport_venues\"].apply(change)"
   ]
  },
  {
   "cell_type": "code",
   "execution_count": 79,
   "id": "d804247f",
   "metadata": {},
   "outputs": [],
   "source": [
    "def delete_percentage(i):\n",
    "    i = str(i).replace('%', \"\")\n",
    "    return i"
   ]
  },
  {
   "cell_type": "code",
   "execution_count": 80,
   "id": "f10494ec",
   "metadata": {},
   "outputs": [],
   "source": [
    "copia[\"Growth\"] = copia[\"Growth\"].apply(delete_percentage)"
   ]
  },
  {
   "cell_type": "code",
   "execution_count": 81,
   "id": "4d2c1a8d",
   "metadata": {},
   "outputs": [],
   "source": [
    "copia[\"Unemployment\"] = copia[\"Unemployment\"].apply(delete_percentage)"
   ]
  },
  {
   "cell_type": "code",
   "execution_count": 118,
   "id": "7eb75938",
   "metadata": {},
   "outputs": [],
   "source": [
    "copia[\"GDP_per_capita\"] = copia[\"GDP_per_capita\"].apply(delete_percentage)"
   ]
  },
  {
   "cell_type": "markdown",
   "id": "50c51555",
   "metadata": {},
   "source": [
    "### We must convert the dtype of the columns"
   ]
  },
  {
   "cell_type": "code",
   "execution_count": 82,
   "id": "b26ba443",
   "metadata": {},
   "outputs": [
    {
     "name": "stdout",
     "output_type": "stream",
     "text": [
      "<class 'pandas.core.frame.DataFrame'>\n",
      "RangeIndex: 262 entries, 0 to 261\n",
      "Data columns (total 33 columns):\n",
      " #   Column                           Non-Null Count  Dtype \n",
      "---  ------                           --------------  ----- \n",
      " 0   Unnamed: 0                       262 non-null    int64 \n",
      " 1   Climate                          262 non-null    object\n",
      " 2   Growth                           262 non-null    object\n",
      " 3   GDP_per_capita                   262 non-null    object\n",
      " 4   Unemployment                     262 non-null    object\n",
      " 5   Homosexuality_acceptance         262 non-null    object\n",
      " 6   LGBT_adoption_rights             262 non-null    object\n",
      " 7   LGBT_homosexuality_rights        262 non-null    object\n",
      " 8   LGBT_marriage_rights             262 non-null    object\n",
      " 9   VAT_Sales_Tax                    262 non-null    object\n",
      " 10  Art_galleries                    262 non-null    object\n",
      " 11  Concert_venues                   262 non-null    object\n",
      " 12  Museums                          262 non-null    object\n",
      " 13  Sport_venues                     262 non-null    object\n",
      " 14  Currency_for_urban_area          262 non-null    object\n",
      " 15  GDP_per_capita.1                 262 non-null    object\n",
      " 16  Monthly_Fitness_Club_Membership  262 non-null    object\n",
      " 17  Beer                             262 non-null    object\n",
      " 18  Monthly_Public_Transport         262 non-null    object\n",
      " 19  Lunch                            262 non-null    object\n",
      " 20  Airport_score                    262 non-null    object\n",
      " 21  Airport_hub                      262 non-null    object\n",
      " 22  Intercity_train_connectivity     262 non-null    object\n",
      " 23  Gun_related_deaths               262 non-null    object\n",
      " 24  Guns_per_residents               262 non-null    object\n",
      " 25  Pisa_ranking                     262 non-null    object\n",
      " 26  Best_university                  262 non-null    object\n",
      " 27  Large_apartment                  262 non-null    object\n",
      " 28  Medium_apartment                 262 non-null    object\n",
      " 29  Small_apartment                  262 non-null    object\n",
      " 30  Description                      262 non-null    object\n",
      " 31  Poblacion                        262 non-null    object\n",
      " 32  Cities                           262 non-null    object\n",
      "dtypes: int64(1), object(32)\n",
      "memory usage: 67.7+ KB\n"
     ]
    }
   ],
   "source": [
    "copia.info()"
   ]
  },
  {
   "cell_type": "code",
   "execution_count": 83,
   "id": "21879aa7",
   "metadata": {},
   "outputs": [],
   "source": [
    "copia[\"Small_apartment\"] = copia[\"Small_apartment\"].astype(dtype=int)"
   ]
  },
  {
   "cell_type": "code",
   "execution_count": 84,
   "id": "5c82b150",
   "metadata": {},
   "outputs": [],
   "source": [
    "copia[\"Medium_apartment\"] = copia[\"Medium_apartment\"].astype(dtype=int)"
   ]
  },
  {
   "cell_type": "code",
   "execution_count": 85,
   "id": "b69c3da2",
   "metadata": {},
   "outputs": [],
   "source": [
    "copia[\"Large_apartment\"] = copia[\"Large_apartment\"].astype(dtype=int)"
   ]
  },
  {
   "cell_type": "code",
   "execution_count": 86,
   "id": "520dda8e",
   "metadata": {},
   "outputs": [],
   "source": [
    "copia[\"Airport_hub\"] = copia[\"Airport_hub\"].astype(dtype=int)"
   ]
  },
  {
   "cell_type": "code",
   "execution_count": 87,
   "id": "b8cf6312",
   "metadata": {},
   "outputs": [],
   "source": [
    "copia[\"Gun_related_deaths\"] = copia[\"Gun_related_deaths\"].astype(dtype=int)"
   ]
  },
  {
   "cell_type": "code",
   "execution_count": 88,
   "id": "1023291e",
   "metadata": {},
   "outputs": [],
   "source": [
    "copia[\"Guns_per_residents\"] = copia[\"Guns_per_residents\"].astype(dtype=int)"
   ]
  },
  {
   "cell_type": "code",
   "execution_count": 89,
   "id": "48a01546",
   "metadata": {},
   "outputs": [],
   "source": [
    "copia[\"Pisa_ranking\"] = copia[\"Pisa_ranking\"].astype(dtype=int)"
   ]
  },
  {
   "cell_type": "code",
   "execution_count": 90,
   "id": "814d664d",
   "metadata": {},
   "outputs": [],
   "source": [
    "copia[\"Poblacion\"] = copia[\"Poblacion\"].astype(dtype=int)"
   ]
  },
  {
   "cell_type": "code",
   "execution_count": 91,
   "id": "a7a1722c",
   "metadata": {},
   "outputs": [],
   "source": [
    "copia[\"Art_galleries\"] = copia[\"Art_galleries\"].astype(dtype=int)"
   ]
  },
  {
   "cell_type": "code",
   "execution_count": 92,
   "id": "6e1a4ae8",
   "metadata": {},
   "outputs": [],
   "source": [
    "copia[\"Concert_venues\"] = copia[\"Concert_venues\"].astype(dtype=int)"
   ]
  },
  {
   "cell_type": "code",
   "execution_count": 93,
   "id": "99d4cf0f",
   "metadata": {},
   "outputs": [],
   "source": [
    "copia[\"Museums\"] = copia[\"Museums\"].astype(dtype=int)"
   ]
  },
  {
   "cell_type": "code",
   "execution_count": 94,
   "id": "e2e18b71",
   "metadata": {},
   "outputs": [],
   "source": [
    "copia[\"Sport_venues\"] = copia[\"Sport_venues\"].astype(dtype=int)"
   ]
  },
  {
   "cell_type": "code",
   "execution_count": 95,
   "id": "74904989",
   "metadata": {},
   "outputs": [],
   "source": [
    "copia[\"Growth\"] = copia[\"Growth\"].astype(dtype=int)"
   ]
  },
  {
   "cell_type": "code",
   "execution_count": 96,
   "id": "13cb1ad2",
   "metadata": {},
   "outputs": [],
   "source": [
    "copia[\"Unemployment\"] = copia[\"Unemployment\"].astype(dtype=int)"
   ]
  },
  {
   "cell_type": "code",
   "execution_count": 99,
   "id": "944ac5b6",
   "metadata": {},
   "outputs": [],
   "source": [
    "copia[\"Intercity_train_connectivity\"] = copia[\"Intercity_train_connectivity\"].astype(dtype=float)"
   ]
  },
  {
   "cell_type": "code",
   "execution_count": 102,
   "id": "07ac583d",
   "metadata": {},
   "outputs": [],
   "source": [
    "copia[\"Monthly_Fitness_Club_Membership\"] = copia[\"Monthly_Fitness_Club_Membership\"].astype(dtype=float)"
   ]
  },
  {
   "cell_type": "code",
   "execution_count": 107,
   "id": "f2b413f4",
   "metadata": {},
   "outputs": [],
   "source": [
    "copia[\"Beer\"] = copia[\"Beer\"].astype(dtype=float)"
   ]
  },
  {
   "cell_type": "code",
   "execution_count": 108,
   "id": "c3c102e3",
   "metadata": {},
   "outputs": [],
   "source": [
    "copia[\"Lunch\"] = copia[\"Lunch\"].astype(dtype=float)"
   ]
  },
  {
   "cell_type": "code",
   "execution_count": 111,
   "id": "fbb61c8e",
   "metadata": {},
   "outputs": [],
   "source": [
    "copia[\"Monthly_Public_Transport\"] = copia[\"Monthly_Public_Transport\"].astype(dtype=float)"
   ]
  },
  {
   "cell_type": "code",
   "execution_count": 112,
   "id": "77ba174a",
   "metadata": {},
   "outputs": [],
   "source": [
    "copia[\"Homosexuality_acceptance\"] = copia[\"Homosexuality_acceptance\"].astype(dtype=float)"
   ]
  },
  {
   "cell_type": "code",
   "execution_count": 113,
   "id": "6965c625",
   "metadata": {},
   "outputs": [],
   "source": [
    "copia[\"VAT_Sales_Tax\"] = copia[\"VAT_Sales_Tax\"].astype(dtype=float)"
   ]
  },
  {
   "cell_type": "code",
   "execution_count": 115,
   "id": "4e6a6349",
   "metadata": {},
   "outputs": [],
   "source": [
    "copia[\"Climate\"] = copia[\"Climate\"].astype(dtype=float)"
   ]
  },
  {
   "cell_type": "code",
   "execution_count": 119,
   "id": "357a42cf",
   "metadata": {},
   "outputs": [],
   "source": [
    "copia[\"GDP_per_capita\"] =copia[\"GDP_per_capita\"].astype(dtype=float)"
   ]
  },
  {
   "cell_type": "code",
   "execution_count": 120,
   "id": "7a172889",
   "metadata": {},
   "outputs": [],
   "source": [
    "copia[\"Airport_score\"] = copia[\"Airport_score\"].astype(dtype=float)"
   ]
  },
  {
   "cell_type": "code",
   "execution_count": 121,
   "id": "bf4bdad4",
   "metadata": {},
   "outputs": [],
   "source": [
    "def porcentaje(i):\n",
    "    i = i/100\n",
    "    return i"
   ]
  },
  {
   "cell_type": "code",
   "execution_count": 122,
   "id": "b14a455a",
   "metadata": {},
   "outputs": [],
   "source": [
    "copia[\"Growth\"] = copia[\"Growth\"].apply(porcentaje)"
   ]
  },
  {
   "cell_type": "code",
   "execution_count": 123,
   "id": "7fb312d9",
   "metadata": {},
   "outputs": [],
   "source": [
    "copia[\"Unemployment\"] = copia[\"Unemployment\"].apply(porcentaje)"
   ]
  },
  {
   "cell_type": "code",
   "execution_count": 125,
   "id": "31044fc1",
   "metadata": {},
   "outputs": [],
   "source": [
    "def menores(i):\n",
    "    if i <1:\n",
    "        i= i*100\n",
    "    return i"
   ]
  },
  {
   "cell_type": "code",
   "execution_count": 126,
   "id": "652b4495",
   "metadata": {},
   "outputs": [],
   "source": [
    "copia[\"Homosexuality_acceptance\"] = copia[\"Homosexuality_acceptance\"].astype(dtype=float)"
   ]
  },
  {
   "cell_type": "code",
   "execution_count": 127,
   "id": "ac217528",
   "metadata": {},
   "outputs": [],
   "source": [
    "copia[\"Homosexuality_acceptance\"] = copia[\"Homosexuality_acceptance\"].apply(menores)"
   ]
  },
  {
   "cell_type": "code",
   "execution_count": 128,
   "id": "d429c663",
   "metadata": {},
   "outputs": [
    {
     "data": {
      "text/html": [
       "<div>\n",
       "<style scoped>\n",
       "    .dataframe tbody tr th:only-of-type {\n",
       "        vertical-align: middle;\n",
       "    }\n",
       "\n",
       "    .dataframe tbody tr th {\n",
       "        vertical-align: top;\n",
       "    }\n",
       "\n",
       "    .dataframe thead th {\n",
       "        text-align: right;\n",
       "    }\n",
       "</style>\n",
       "<table border=\"1\" class=\"dataframe\">\n",
       "  <thead>\n",
       "    <tr style=\"text-align: right;\">\n",
       "      <th></th>\n",
       "      <th>Unnamed: 0</th>\n",
       "      <th>Climate</th>\n",
       "      <th>Growth</th>\n",
       "      <th>GDP_per_capita</th>\n",
       "      <th>Unemployment</th>\n",
       "      <th>Homosexuality_acceptance</th>\n",
       "      <th>LGBT_adoption_rights</th>\n",
       "      <th>LGBT_homosexuality_rights</th>\n",
       "      <th>LGBT_marriage_rights</th>\n",
       "      <th>VAT_Sales_Tax</th>\n",
       "      <th>...</th>\n",
       "      <th>Gun_related_deaths</th>\n",
       "      <th>Guns_per_residents</th>\n",
       "      <th>Pisa_ranking</th>\n",
       "      <th>Best_university</th>\n",
       "      <th>Large_apartment</th>\n",
       "      <th>Medium_apartment</th>\n",
       "      <th>Small_apartment</th>\n",
       "      <th>Description</th>\n",
       "      <th>Poblacion</th>\n",
       "      <th>Cities</th>\n",
       "    </tr>\n",
       "  </thead>\n",
       "  <tbody>\n",
       "    <tr>\n",
       "      <th>0</th>\n",
       "      <td>0</td>\n",
       "      <td>0.0</td>\n",
       "      <td>0.05</td>\n",
       "      <td>44.343</td>\n",
       "      <td>0.04</td>\n",
       "      <td>93.03</td>\n",
       "      <td>Equal</td>\n",
       "      <td>Sexual orientation and gender identity</td>\n",
       "      <td>0.99</td>\n",
       "      <td>0.25</td>\n",
       "      <td>...</td>\n",
       "      <td>1</td>\n",
       "      <td>12</td>\n",
       "      <td>13</td>\n",
       "      <td>Aarhus University</td>\n",
       "      <td>1700</td>\n",
       "      <td>1300</td>\n",
       "      <td>840</td>\n",
       "      <td>Aarhus, Denmark, is among the top cities with ...</td>\n",
       "      <td>250200</td>\n",
       "      <td>Aarhus</td>\n",
       "    </tr>\n",
       "    <tr>\n",
       "      <th>1</th>\n",
       "      <td>1</td>\n",
       "      <td>12.6</td>\n",
       "      <td>0.07</td>\n",
       "      <td>46.433</td>\n",
       "      <td>0.06</td>\n",
       "      <td>79.00</td>\n",
       "      <td>No hay dato</td>\n",
       "      <td>Legal</td>\n",
       "      <td>Varies by Region</td>\n",
       "      <td>0.10</td>\n",
       "      <td>...</td>\n",
       "      <td>1</td>\n",
       "      <td>24</td>\n",
       "      <td>16</td>\n",
       "      <td>University of Adelaide</td>\n",
       "      <td>1500</td>\n",
       "      <td>1200</td>\n",
       "      <td>1000</td>\n",
       "      <td>Adelaide, Australia, is among the top cities w...</td>\n",
       "      <td>1708700</td>\n",
       "      <td>Adelaide</td>\n",
       "    </tr>\n",
       "    <tr>\n",
       "      <th>2</th>\n",
       "      <td>2</td>\n",
       "      <td>168.0</td>\n",
       "      <td>0.07</td>\n",
       "      <td>54.597</td>\n",
       "      <td>0.05</td>\n",
       "      <td>93.13</td>\n",
       "      <td>Equal</td>\n",
       "      <td>Sexual orientation and gender identity</td>\n",
       "      <td>0.45</td>\n",
       "      <td>0.07</td>\n",
       "      <td>...</td>\n",
       "      <td>16</td>\n",
       "      <td>328</td>\n",
       "      <td>24</td>\n",
       "      <td>University of New Mexico</td>\n",
       "      <td>1200</td>\n",
       "      <td>950</td>\n",
       "      <td>760</td>\n",
       "      <td>Albuquerque, New Mexico, is among the top citi...</td>\n",
       "      <td>630800</td>\n",
       "      <td>Albuquerque</td>\n",
       "    </tr>\n",
       "  </tbody>\n",
       "</table>\n",
       "<p>3 rows × 33 columns</p>\n",
       "</div>"
      ],
      "text/plain": [
       "   Unnamed: 0  Climate  Growth  GDP_per_capita  Unemployment  \\\n",
       "0           0      0.0    0.05          44.343          0.04   \n",
       "1           1     12.6    0.07          46.433          0.06   \n",
       "2           2    168.0    0.07          54.597          0.05   \n",
       "\n",
       "   Homosexuality_acceptance LGBT_adoption_rights  \\\n",
       "0                     93.03                Equal   \n",
       "1                     79.00          No hay dato   \n",
       "2                     93.13                Equal   \n",
       "\n",
       "                 LGBT_homosexuality_rights LGBT_marriage_rights  \\\n",
       "0   Sexual orientation and gender identity                 0.99   \n",
       "1                                    Legal     Varies by Region   \n",
       "2   Sexual orientation and gender identity                 0.45   \n",
       "\n",
       "   VAT_Sales_Tax  ...  Gun_related_deaths  Guns_per_residents  Pisa_ranking  \\\n",
       "0           0.25  ...                   1                  12            13   \n",
       "1           0.10  ...                   1                  24            16   \n",
       "2           0.07  ...                  16                 328            24   \n",
       "\n",
       "            Best_university Large_apartment Medium_apartment  Small_apartment  \\\n",
       "0         Aarhus University            1700             1300              840   \n",
       "1    University of Adelaide            1500             1200             1000   \n",
       "2  University of New Mexico            1200              950              760   \n",
       "\n",
       "                                         Description  Poblacion       Cities  \n",
       "0  Aarhus, Denmark, is among the top cities with ...     250200       Aarhus  \n",
       "1  Adelaide, Australia, is among the top cities w...    1708700     Adelaide  \n",
       "2  Albuquerque, New Mexico, is among the top citi...     630800  Albuquerque  \n",
       "\n",
       "[3 rows x 33 columns]"
      ]
     },
     "execution_count": 128,
     "metadata": {},
     "output_type": "execute_result"
    }
   ],
   "source": [
    "copia.head(3)"
   ]
  },
  {
   "cell_type": "code",
   "execution_count": 130,
   "id": "385c3070",
   "metadata": {},
   "outputs": [
    {
     "data": {
      "text/plain": [
       "Index(['Unnamed: 0', 'Climate', 'Growth', 'GDP_per_capita', 'Unemployment',\n",
       "       'Homosexuality_acceptance', 'LGBT_adoption_rights',\n",
       "       'LGBT_homosexuality_rights', 'LGBT_marriage_rights', 'VAT_Sales_Tax',\n",
       "       'Art_galleries', 'Concert_venues', 'Museums', 'Sport_venues',\n",
       "       'Currency_for_urban_area', 'GDP_per_capita.1',\n",
       "       'Monthly_Fitness_Club_Membership', 'Beer', 'Monthly_Public_Transport',\n",
       "       'Lunch', 'Airport_score', 'Airport_hub', 'Intercity_train_connectivity',\n",
       "       'Gun_related_deaths', 'Guns_per_residents', 'Pisa_ranking',\n",
       "       'Best_university', 'Large_apartment', 'Medium_apartment',\n",
       "       'Small_apartment', 'Description', 'Poblacion', 'Cities'],\n",
       "      dtype='object')"
      ]
     },
     "execution_count": 130,
     "metadata": {},
     "output_type": "execute_result"
    }
   ],
   "source": [
    "copia.columns"
   ]
  },
  {
   "cell_type": "markdown",
   "id": "77f3f6b4",
   "metadata": {},
   "source": [
    "### A continuación eliminaremos algunas columnas que no utilizaremos"
   ]
  },
  {
   "cell_type": "code",
   "execution_count": 131,
   "id": "489839de",
   "metadata": {},
   "outputs": [],
   "source": [
    "copia.drop([\"Unnamed: 0\", \"GDP_per_capita.1\"], axis=1, inplace=True)"
   ]
  },
  {
   "cell_type": "code",
   "execution_count": 133,
   "id": "3788a06f",
   "metadata": {},
   "outputs": [],
   "source": [
    "new_name = {\"Growth\": \"Growth_percentage\", \"Unemployment\": \"Unemployment_percentage\"}"
   ]
  },
  {
   "cell_type": "code",
   "execution_count": 134,
   "id": "c04e0701",
   "metadata": {},
   "outputs": [],
   "source": [
    "copia.rename(columns=new_name, inplace=True)"
   ]
  },
  {
   "cell_type": "code",
   "execution_count": 135,
   "id": "0f0fbbcc",
   "metadata": {
    "scrolled": true
   },
   "outputs": [
    {
     "name": "stdout",
     "output_type": "stream",
     "text": [
      "<class 'pandas.core.frame.DataFrame'>\n",
      "RangeIndex: 262 entries, 0 to 261\n",
      "Data columns (total 31 columns):\n",
      " #   Column                           Non-Null Count  Dtype  \n",
      "---  ------                           --------------  -----  \n",
      " 0   Climate                          262 non-null    float64\n",
      " 1   Growth_percentage                262 non-null    float64\n",
      " 2   GDP_per_capita                   262 non-null    float64\n",
      " 3   Unemployment_percentage          262 non-null    float64\n",
      " 4   Homosexuality_acceptance         262 non-null    float64\n",
      " 5   LGBT_adoption_rights             262 non-null    object \n",
      " 6   LGBT_homosexuality_rights        262 non-null    object \n",
      " 7   LGBT_marriage_rights             262 non-null    object \n",
      " 8   VAT_Sales_Tax                    262 non-null    float64\n",
      " 9   Art_galleries                    262 non-null    int64  \n",
      " 10  Concert_venues                   262 non-null    int64  \n",
      " 11  Museums                          262 non-null    int64  \n",
      " 12  Sport_venues                     262 non-null    int64  \n",
      " 13  Currency_for_urban_area          262 non-null    object \n",
      " 14  Monthly_Fitness_Club_Membership  262 non-null    float64\n",
      " 15  Beer                             262 non-null    float64\n",
      " 16  Monthly_Public_Transport         262 non-null    float64\n",
      " 17  Lunch                            262 non-null    float64\n",
      " 18  Airport_score                    262 non-null    float64\n",
      " 19  Airport_hub                      262 non-null    int64  \n",
      " 20  Intercity_train_connectivity     262 non-null    float64\n",
      " 21  Gun_related_deaths               262 non-null    int64  \n",
      " 22  Guns_per_residents               262 non-null    int64  \n",
      " 23  Pisa_ranking                     262 non-null    int64  \n",
      " 24  Best_university                  262 non-null    object \n",
      " 25  Large_apartment                  262 non-null    int64  \n",
      " 26  Medium_apartment                 262 non-null    int64  \n",
      " 27  Small_apartment                  262 non-null    int64  \n",
      " 28  Description                      262 non-null    object \n",
      " 29  Poblacion                        262 non-null    int64  \n",
      " 30  Cities                           262 non-null    object \n",
      "dtypes: float64(12), int64(12), object(7)\n",
      "memory usage: 63.6+ KB\n"
     ]
    }
   ],
   "source": [
    "copia.info()"
   ]
  },
  {
   "cell_type": "code",
   "execution_count": 136,
   "id": "4010bdfa",
   "metadata": {},
   "outputs": [],
   "source": [
    "copia.to_csv(\"../Data/Data_clean_user.csv\")"
   ]
  },
  {
   "cell_type": "code",
   "execution_count": null,
   "id": "c19921ab",
   "metadata": {},
   "outputs": [],
   "source": [
    "copia.columns"
   ]
  },
  {
   "cell_type": "markdown",
   "id": "ed52851a",
   "metadata": {},
   "source": [
    "### Agregaremos coordenadas para hacer mapas de cada ciudad"
   ]
  },
  {
   "cell_type": "code",
   "execution_count": 137,
   "id": "bccd9809",
   "metadata": {},
   "outputs": [],
   "source": [
    "import pandas as pd\n",
    "import xlrd\n",
    "from geopy.geocoders import Nominatim"
   ]
  },
  {
   "cell_type": "code",
   "execution_count": 138,
   "id": "96758f95",
   "metadata": {},
   "outputs": [],
   "source": [
    "def get_coordenadas(city):\n",
    "    \"\"\"\n",
    "    Esta función saca las coordenadas de la ciudad que le pases.\n",
    "    Args: una ciudad (string).\n",
    "    Return: Las coordeandas de la ciudad que le paso como argumento (latitud y longitud).\n",
    "    \"\"\"\n",
    "    geolocator = Nominatim(user_agent=\"Dani\")\n",
    "    location = geolocator.geocode(query=city, exactly_one=True)\n",
    "    \n",
    "    return location[1]"
   ]
  },
  {
   "cell_type": "code",
   "execution_count": 139,
   "id": "d92d08d6",
   "metadata": {},
   "outputs": [],
   "source": [
    "copia['Coordenadas'] = copia['Cities'].apply(get_coordenadas)"
   ]
  },
  {
   "cell_type": "code",
   "execution_count": 143,
   "id": "fd20c268",
   "metadata": {},
   "outputs": [],
   "source": [
    "def hacer_lista(resp):\n",
    "    return list(resp)"
   ]
  },
  {
   "cell_type": "code",
   "execution_count": 144,
   "id": "8c41acd4",
   "metadata": {},
   "outputs": [],
   "source": [
    "copia['Coordenadas'] = copia['Coordenadas'].apply(hacer_lista)"
   ]
  },
  {
   "cell_type": "code",
   "execution_count": 146,
   "id": "5af34b70",
   "metadata": {},
   "outputs": [
    {
     "data": {
      "text/plain": [
       "list"
      ]
     },
     "execution_count": 146,
     "metadata": {},
     "output_type": "execute_result"
    }
   ],
   "source": [
    "type(coord_feas)"
   ]
  },
  {
   "cell_type": "code",
   "execution_count": 147,
   "id": "773ba7a5",
   "metadata": {},
   "outputs": [
    {
     "data": {
      "text/plain": [
       "float"
      ]
     },
     "execution_count": 147,
     "metadata": {},
     "output_type": "execute_result"
    }
   ],
   "source": [
    "type(copia.Coordenadas[0][0])"
   ]
  },
  {
   "cell_type": "code",
   "execution_count": 162,
   "id": "c945d38f",
   "metadata": {},
   "outputs": [],
   "source": [
    "def latitud(data):\n",
    "    return data[0]"
   ]
  },
  {
   "cell_type": "code",
   "execution_count": 165,
   "id": "58c0df82",
   "metadata": {},
   "outputs": [],
   "source": [
    "def longitud(data):\n",
    "    return data[1]"
   ]
  },
  {
   "cell_type": "code",
   "execution_count": 163,
   "id": "635dd79e",
   "metadata": {},
   "outputs": [],
   "source": [
    "copia[\"lat\"] = copia.Coordenadas.apply(latitud)"
   ]
  },
  {
   "cell_type": "code",
   "execution_count": 166,
   "id": "5a9b1aaa",
   "metadata": {},
   "outputs": [],
   "source": [
    "copia[\"long\"] = copia.Coordenadas.apply(longitud)"
   ]
  },
  {
   "cell_type": "code",
   "execution_count": 167,
   "id": "8dce4d8d",
   "metadata": {},
   "outputs": [
    {
     "data": {
      "text/html": [
       "<div>\n",
       "<style scoped>\n",
       "    .dataframe tbody tr th:only-of-type {\n",
       "        vertical-align: middle;\n",
       "    }\n",
       "\n",
       "    .dataframe tbody tr th {\n",
       "        vertical-align: top;\n",
       "    }\n",
       "\n",
       "    .dataframe thead th {\n",
       "        text-align: right;\n",
       "    }\n",
       "</style>\n",
       "<table border=\"1\" class=\"dataframe\">\n",
       "  <thead>\n",
       "    <tr style=\"text-align: right;\">\n",
       "      <th></th>\n",
       "      <th>Climate</th>\n",
       "      <th>Growth_percentage</th>\n",
       "      <th>GDP_per_capita</th>\n",
       "      <th>Unemployment_percentage</th>\n",
       "      <th>Homosexuality_acceptance</th>\n",
       "      <th>LGBT_adoption_rights</th>\n",
       "      <th>LGBT_homosexuality_rights</th>\n",
       "      <th>LGBT_marriage_rights</th>\n",
       "      <th>VAT_Sales_Tax</th>\n",
       "      <th>Art_galleries</th>\n",
       "      <th>...</th>\n",
       "      <th>Best_university</th>\n",
       "      <th>Large_apartment</th>\n",
       "      <th>Medium_apartment</th>\n",
       "      <th>Small_apartment</th>\n",
       "      <th>Description</th>\n",
       "      <th>Poblacion</th>\n",
       "      <th>Cities</th>\n",
       "      <th>Coordenadas</th>\n",
       "      <th>lat</th>\n",
       "      <th>long</th>\n",
       "    </tr>\n",
       "  </thead>\n",
       "  <tbody>\n",
       "    <tr>\n",
       "      <th>0</th>\n",
       "      <td>0.0</td>\n",
       "      <td>0.05</td>\n",
       "      <td>44.343</td>\n",
       "      <td>0.04</td>\n",
       "      <td>93.03</td>\n",
       "      <td>Equal</td>\n",
       "      <td>Sexual orientation and gender identity</td>\n",
       "      <td>0.99</td>\n",
       "      <td>0.25</td>\n",
       "      <td>51</td>\n",
       "      <td>...</td>\n",
       "      <td>Aarhus University</td>\n",
       "      <td>1700</td>\n",
       "      <td>1300</td>\n",
       "      <td>840</td>\n",
       "      <td>Aarhus, Denmark, is among the top cities with ...</td>\n",
       "      <td>250200</td>\n",
       "      <td>Aarhus</td>\n",
       "      <td>[56.1496278, 10.2134046]</td>\n",
       "      <td>56.149628</td>\n",
       "      <td>10.213405</td>\n",
       "    </tr>\n",
       "    <tr>\n",
       "      <th>1</th>\n",
       "      <td>12.6</td>\n",
       "      <td>0.07</td>\n",
       "      <td>46.433</td>\n",
       "      <td>0.06</td>\n",
       "      <td>79.00</td>\n",
       "      <td>No hay dato</td>\n",
       "      <td>Legal</td>\n",
       "      <td>Varies by Region</td>\n",
       "      <td>0.10</td>\n",
       "      <td>82</td>\n",
       "      <td>...</td>\n",
       "      <td>University of Adelaide</td>\n",
       "      <td>1500</td>\n",
       "      <td>1200</td>\n",
       "      <td>1000</td>\n",
       "      <td>Adelaide, Australia, is among the top cities w...</td>\n",
       "      <td>1708700</td>\n",
       "      <td>Adelaide</td>\n",
       "      <td>[-34.9281805, 138.5999312]</td>\n",
       "      <td>-34.928181</td>\n",
       "      <td>138.599931</td>\n",
       "    </tr>\n",
       "    <tr>\n",
       "      <th>2</th>\n",
       "      <td>168.0</td>\n",
       "      <td>0.07</td>\n",
       "      <td>54.597</td>\n",
       "      <td>0.05</td>\n",
       "      <td>93.13</td>\n",
       "      <td>Equal</td>\n",
       "      <td>Sexual orientation and gender identity</td>\n",
       "      <td>0.45</td>\n",
       "      <td>0.07</td>\n",
       "      <td>127</td>\n",
       "      <td>...</td>\n",
       "      <td>University of New Mexico</td>\n",
       "      <td>1200</td>\n",
       "      <td>950</td>\n",
       "      <td>760</td>\n",
       "      <td>Albuquerque, New Mexico, is among the top citi...</td>\n",
       "      <td>630800</td>\n",
       "      <td>Albuquerque</td>\n",
       "      <td>[35.0841034, -106.650985]</td>\n",
       "      <td>35.084103</td>\n",
       "      <td>-106.650985</td>\n",
       "    </tr>\n",
       "    <tr>\n",
       "      <th>3</th>\n",
       "      <td>64.0</td>\n",
       "      <td>0.09</td>\n",
       "      <td>24.020</td>\n",
       "      <td>0.06</td>\n",
       "      <td>66.56</td>\n",
       "      <td>Equal</td>\n",
       "      <td>Ambiguous</td>\n",
       "      <td>0.64</td>\n",
       "      <td>0.12</td>\n",
       "      <td>61</td>\n",
       "      <td>...</td>\n",
       "      <td>No hay dato</td>\n",
       "      <td>620</td>\n",
       "      <td>480</td>\n",
       "      <td>340</td>\n",
       "      <td>Almaty, Kazakhstan, differentiates itself with...</td>\n",
       "      <td>2029800</td>\n",
       "      <td>Almaty</td>\n",
       "      <td>[43.2363924, 76.9457275]</td>\n",
       "      <td>43.236392</td>\n",
       "      <td>76.945728</td>\n",
       "    </tr>\n",
       "    <tr>\n",
       "      <th>4</th>\n",
       "      <td>12.9</td>\n",
       "      <td>0.03</td>\n",
       "      <td>47.355</td>\n",
       "      <td>0.06</td>\n",
       "      <td>97.37</td>\n",
       "      <td>Equal</td>\n",
       "      <td>Sexual orientation and gender identity</td>\n",
       "      <td>0.67</td>\n",
       "      <td>0.21</td>\n",
       "      <td>284</td>\n",
       "      <td>...</td>\n",
       "      <td>University of Amsterdam</td>\n",
       "      <td>2400</td>\n",
       "      <td>2000</td>\n",
       "      <td>1600</td>\n",
       "      <td>Amsterdam is one of the most bike-friendly cit...</td>\n",
       "      <td>2628100</td>\n",
       "      <td>Amsterdam</td>\n",
       "      <td>[52.3727598, 4.8936041]</td>\n",
       "      <td>52.372760</td>\n",
       "      <td>4.893604</td>\n",
       "    </tr>\n",
       "  </tbody>\n",
       "</table>\n",
       "<p>5 rows × 34 columns</p>\n",
       "</div>"
      ],
      "text/plain": [
       "   Climate  Growth_percentage  GDP_per_capita  Unemployment_percentage  \\\n",
       "0      0.0               0.05          44.343                     0.04   \n",
       "1     12.6               0.07          46.433                     0.06   \n",
       "2    168.0               0.07          54.597                     0.05   \n",
       "3     64.0               0.09          24.020                     0.06   \n",
       "4     12.9               0.03          47.355                     0.06   \n",
       "\n",
       "   Homosexuality_acceptance LGBT_adoption_rights  \\\n",
       "0                     93.03                Equal   \n",
       "1                     79.00          No hay dato   \n",
       "2                     93.13                Equal   \n",
       "3                     66.56                Equal   \n",
       "4                     97.37                Equal   \n",
       "\n",
       "                 LGBT_homosexuality_rights LGBT_marriage_rights  \\\n",
       "0   Sexual orientation and gender identity                 0.99   \n",
       "1                                    Legal     Varies by Region   \n",
       "2   Sexual orientation and gender identity                 0.45   \n",
       "3                                Ambiguous                 0.64   \n",
       "4   Sexual orientation and gender identity                 0.67   \n",
       "\n",
       "   VAT_Sales_Tax  Art_galleries  ...           Best_university  \\\n",
       "0           0.25             51  ...         Aarhus University   \n",
       "1           0.10             82  ...    University of Adelaide   \n",
       "2           0.07            127  ...  University of New Mexico   \n",
       "3           0.12             61  ...               No hay dato   \n",
       "4           0.21            284  ...   University of Amsterdam   \n",
       "\n",
       "   Large_apartment  Medium_apartment Small_apartment  \\\n",
       "0             1700              1300             840   \n",
       "1             1500              1200            1000   \n",
       "2             1200               950             760   \n",
       "3              620               480             340   \n",
       "4             2400              2000            1600   \n",
       "\n",
       "                                         Description  Poblacion       Cities  \\\n",
       "0  Aarhus, Denmark, is among the top cities with ...     250200       Aarhus   \n",
       "1  Adelaide, Australia, is among the top cities w...    1708700     Adelaide   \n",
       "2  Albuquerque, New Mexico, is among the top citi...     630800  Albuquerque   \n",
       "3  Almaty, Kazakhstan, differentiates itself with...    2029800       Almaty   \n",
       "4  Amsterdam is one of the most bike-friendly cit...    2628100    Amsterdam   \n",
       "\n",
       "                  Coordenadas        lat        long  \n",
       "0    [56.1496278, 10.2134046]  56.149628   10.213405  \n",
       "1  [-34.9281805, 138.5999312] -34.928181  138.599931  \n",
       "2   [35.0841034, -106.650985]  35.084103 -106.650985  \n",
       "3    [43.2363924, 76.9457275]  43.236392   76.945728  \n",
       "4     [52.3727598, 4.8936041]  52.372760    4.893604  \n",
       "\n",
       "[5 rows x 34 columns]"
      ]
     },
     "execution_count": 167,
     "metadata": {},
     "output_type": "execute_result"
    }
   ],
   "source": [
    "copia.head()"
   ]
  },
  {
   "cell_type": "code",
   "execution_count": 168,
   "id": "776f6113",
   "metadata": {},
   "outputs": [],
   "source": [
    "copia.to_csv(\"../Data/user_coord.csv\")"
   ]
  },
  {
   "cell_type": "markdown",
   "id": "5d52790b",
   "metadata": {},
   "source": [
    "### Con nuestros datos limpios, le daremos forma a un nuevo dataset que utilizaremos para realizar los clusters "
   ]
  },
  {
   "cell_type": "code",
   "execution_count": null,
   "id": "20dfe9d9",
   "metadata": {},
   "outputs": [],
   "source": [
    "PCA_user = copia.copy()"
   ]
  },
  {
   "cell_type": "code",
   "execution_count": null,
   "id": "3376f0df",
   "metadata": {},
   "outputs": [],
   "source": [
    "PCA_user.columns"
   ]
  },
  {
   "cell_type": "markdown",
   "id": "c8981513",
   "metadata": {},
   "source": [
    "#### Eliminamos columnas que no utilizaremos"
   ]
  },
  {
   "cell_type": "code",
   "execution_count": null,
   "id": "a96d94b6",
   "metadata": {},
   "outputs": [],
   "source": [
    "PCA_user.drop([\"Airport_hub\",\"Guns_per_residents\", \"Best_university\", \"Monthly_Fitness_Club_Membership\",\"Beer\",\"Monthly_Public_Transport\",\"Lunch\",\"Description\",\"Poblacion\",\"LGBT_adoption_rights\",\"LGBT_homosexuality_rights\",\"LGBT_marriage_rights\",\"Url\",\"Currency_for_urban_area\"], axis=1, inplace=True)"
   ]
  },
  {
   "cell_type": "code",
   "execution_count": null,
   "id": "009bb4d1",
   "metadata": {},
   "outputs": [],
   "source": [
    "PCA_user.head()"
   ]
  },
  {
   "cell_type": "code",
   "execution_count": null,
   "id": "34c1c072",
   "metadata": {},
   "outputs": [],
   "source": [
    "PCA_user['Housing'] = PCA_user[[\"Large_apartment\", \"Medium_apartment\",\"Small_apartment\"]].mean(axis=1)"
   ]
  },
  {
   "cell_type": "code",
   "execution_count": null,
   "id": "d2e7a59f",
   "metadata": {},
   "outputs": [],
   "source": [
    "PCA_user.drop([\"Large_apartment\",\"Medium_apartment\",\"Small_apartment\"], axis=1, inplace=True)"
   ]
  },
  {
   "cell_type": "code",
   "execution_count": null,
   "id": "701d74af",
   "metadata": {},
   "outputs": [],
   "source": [
    "PCA_user['Culture'] = PCA_user[['Art_galleries','Concert_venues','Museums']].sum(axis=1)"
   ]
  },
  {
   "cell_type": "code",
   "execution_count": null,
   "id": "88cc54ea",
   "metadata": {},
   "outputs": [],
   "source": [
    "PCA_user.drop([\"Art_galleries\",\"Concert_venues\",\"Museums\"], axis=1, inplace=True)"
   ]
  },
  {
   "cell_type": "code",
   "execution_count": null,
   "id": "4a3483d1",
   "metadata": {},
   "outputs": [],
   "source": [
    "PCA_user.info()"
   ]
  },
  {
   "cell_type": "code",
   "execution_count": null,
   "id": "f44917cf",
   "metadata": {},
   "outputs": [],
   "source": [
    "PCA_user['Travel_connectivity'] = PCA_user[[\"Intercity_train_connectivity\", \"Airport_score\"]].mean(axis=1)"
   ]
  },
  {
   "cell_type": "code",
   "execution_count": null,
   "id": "442316b5",
   "metadata": {},
   "outputs": [],
   "source": [
    "PCA_user.drop([\"Intercity_train_connectivity\",\"Airport_score\"], axis=1, inplace=True)"
   ]
  },
  {
   "cell_type": "code",
   "execution_count": null,
   "id": "44e2e04e",
   "metadata": {},
   "outputs": [],
   "source": [
    "PCA_user[\"Housing\"] = PCA_user[\"Housing\"].astype(dtype=int)"
   ]
  },
  {
   "cell_type": "code",
   "execution_count": null,
   "id": "60dd287c",
   "metadata": {},
   "outputs": [],
   "source": [
    "PCA_user.head()"
   ]
  },
  {
   "cell_type": "code",
   "execution_count": null,
   "id": "3d1213af",
   "metadata": {},
   "outputs": [],
   "source": [
    "PCA_user.to_csv(\"../Data/clean_PCA_user.csv\")"
   ]
  },
  {
   "cell_type": "code",
   "execution_count": null,
   "id": "98858d0f",
   "metadata": {},
   "outputs": [],
   "source": []
  },
  {
   "cell_type": "code",
   "execution_count": null,
   "id": "ef0caf84",
   "metadata": {},
   "outputs": [],
   "source": []
  }
 ],
 "metadata": {
  "kernelspec": {
   "display_name": "ironhack2",
   "language": "python",
   "name": "ironhack2"
  },
  "language_info": {
   "codemirror_mode": {
    "name": "ipython",
    "version": 3
   },
   "file_extension": ".py",
   "mimetype": "text/x-python",
   "name": "python",
   "nbconvert_exporter": "python",
   "pygments_lexer": "ipython3",
   "version": "3.8.5"
  }
 },
 "nbformat": 4,
 "nbformat_minor": 5
}
