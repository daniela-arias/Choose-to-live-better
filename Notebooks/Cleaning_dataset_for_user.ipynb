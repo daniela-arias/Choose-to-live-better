{
 "cells": [
  {
   "cell_type": "markdown",
   "id": "b3fe32f6",
   "metadata": {},
   "source": [
    "## 1. Import libraries"
   ]
  },
  {
   "cell_type": "code",
   "execution_count": 169,
   "id": "2581c1ea",
   "metadata": {},
   "outputs": [],
   "source": [
    "import requests\n",
    "from selenium import webdriver\n",
    "from time import sleep\n",
    "from selenium.webdriver.chrome.options import Options\n",
    "from webdriver_manager.chrome import ChromeDriverManager\n",
    "from bs4 import BeautifulSoup\n",
    "import pandas as pd\n",
    "import sys\n",
    "sys.path.append('../')\n",
    "import numpy as np\n",
    "import re\n",
    "import folium"
   ]
  },
  {
   "cell_type": "markdown",
   "id": "322dfaa5",
   "metadata": {},
   "source": [
    "## 2. Import Data"
   ]
  },
  {
   "cell_type": "code",
   "execution_count": 2,
   "id": "0e04ccdd",
   "metadata": {},
   "outputs": [],
   "source": [
    "web_df = pd.read_csv(\"../Data/Web_scraping.csv\")"
   ]
  },
  {
   "cell_type": "markdown",
   "id": "f6e27bda",
   "metadata": {},
   "source": [
    "## 3. We explore the dataset"
   ]
  },
  {
   "cell_type": "code",
   "execution_count": 3,
   "id": "8cdfa75b",
   "metadata": {},
   "outputs": [
    {
     "data": {
      "text/html": [
       "<div>\n",
       "<style scoped>\n",
       "    .dataframe tbody tr th:only-of-type {\n",
       "        vertical-align: middle;\n",
       "    }\n",
       "\n",
       "    .dataframe tbody tr th {\n",
       "        vertical-align: top;\n",
       "    }\n",
       "\n",
       "    .dataframe thead th {\n",
       "        text-align: right;\n",
       "    }\n",
       "</style>\n",
       "<table border=\"1\" class=\"dataframe\">\n",
       "  <thead>\n",
       "    <tr style=\"text-align: right;\">\n",
       "      <th></th>\n",
       "      <th>Unnamed: 0</th>\n",
       "      <th>Climate</th>\n",
       "      <th>Growth</th>\n",
       "      <th>GDP_per_capita</th>\n",
       "      <th>Unemployment</th>\n",
       "      <th>Homosexuality_acceptance</th>\n",
       "      <th>LGBT_adoption_rights</th>\n",
       "      <th>LGBT_homosexuality_rights</th>\n",
       "      <th>LGBT_marriage_rights</th>\n",
       "      <th>VAT_Sales_Tax</th>\n",
       "      <th>...</th>\n",
       "      <th>Gun_related_deaths</th>\n",
       "      <th>Guns_per_residents</th>\n",
       "      <th>Pisa_ranking</th>\n",
       "      <th>Best_university</th>\n",
       "      <th>Large_apartment</th>\n",
       "      <th>Medium_apartment</th>\n",
       "      <th>Small_apartment</th>\n",
       "      <th>Description</th>\n",
       "      <th>Poblacion</th>\n",
       "      <th>Cities</th>\n",
       "    </tr>\n",
       "  </thead>\n",
       "  <tbody>\n",
       "    <tr>\n",
       "      <th>0</th>\n",
       "      <td>0</td>\n",
       "      <td>No hay dato</td>\n",
       "      <td>5%</td>\n",
       "      <td>$44,343</td>\n",
       "      <td>4%</td>\n",
       "      <td>93.03</td>\n",
       "      <td>✔ Equal</td>\n",
       "      <td>✔ Sexual orientation and gender identity</td>\n",
       "      <td>0.99</td>\n",
       "      <td>0.25</td>\n",
       "      <td>...</td>\n",
       "      <td>1</td>\n",
       "      <td>12</td>\n",
       "      <td>13</td>\n",
       "      <td>Aarhus University</td>\n",
       "      <td>$1700</td>\n",
       "      <td>$1300</td>\n",
       "      <td>$840</td>\n",
       "      <td>Aarhus, Denmark, is among the top cities with ...</td>\n",
       "      <td>250,200</td>\n",
       "      <td>Aarhus</td>\n",
       "    </tr>\n",
       "    <tr>\n",
       "      <th>1</th>\n",
       "      <td>1</td>\n",
       "      <td>12.6</td>\n",
       "      <td>7%</td>\n",
       "      <td>$46,433</td>\n",
       "      <td>6%</td>\n",
       "      <td>0.79</td>\n",
       "      <td>NaN</td>\n",
       "      <td>✔ Legal</td>\n",
       "      <td>Varies by Region</td>\n",
       "      <td>0.10</td>\n",
       "      <td>...</td>\n",
       "      <td>1</td>\n",
       "      <td>24</td>\n",
       "      <td>16</td>\n",
       "      <td>University of Adelaide</td>\n",
       "      <td>$1500</td>\n",
       "      <td>$1200</td>\n",
       "      <td>$1000</td>\n",
       "      <td>Adelaide, Australia, is among the top cities w...</td>\n",
       "      <td>1,708,700</td>\n",
       "      <td>Adelaide</td>\n",
       "    </tr>\n",
       "    <tr>\n",
       "      <th>2</th>\n",
       "      <td>2</td>\n",
       "      <td>168</td>\n",
       "      <td>7%</td>\n",
       "      <td>$54,597</td>\n",
       "      <td>5%</td>\n",
       "      <td>93.13</td>\n",
       "      <td>✔ Equal</td>\n",
       "      <td>✔ Sexual orientation and gender identity</td>\n",
       "      <td>0.45</td>\n",
       "      <td>0.07</td>\n",
       "      <td>...</td>\n",
       "      <td>16</td>\n",
       "      <td>328</td>\n",
       "      <td>24</td>\n",
       "      <td>University of New Mexico</td>\n",
       "      <td>$1200</td>\n",
       "      <td>$950</td>\n",
       "      <td>$760</td>\n",
       "      <td>Albuquerque, New Mexico, is among the top citi...</td>\n",
       "      <td>630,800</td>\n",
       "      <td>Albuquerque</td>\n",
       "    </tr>\n",
       "  </tbody>\n",
       "</table>\n",
       "<p>3 rows × 33 columns</p>\n",
       "</div>"
      ],
      "text/plain": [
       "   Unnamed: 0      Climate Growth GDP_per_capita Unemployment  \\\n",
       "0           0  No hay dato     5%        $44,343           4%   \n",
       "1           1         12.6     7%        $46,433           6%   \n",
       "2           2          168     7%        $54,597           5%   \n",
       "\n",
       "  Homosexuality_acceptance LGBT_adoption_rights  \\\n",
       "0                    93.03              ✔ Equal   \n",
       "1                     0.79                  NaN   \n",
       "2                    93.13              ✔ Equal   \n",
       "\n",
       "                  LGBT_homosexuality_rights LGBT_marriage_rights  \\\n",
       "0  ✔ Sexual orientation and gender identity                 0.99   \n",
       "1                                   ✔ Legal     Varies by Region   \n",
       "2  ✔ Sexual orientation and gender identity                 0.45   \n",
       "\n",
       "  VAT_Sales_Tax  ... Gun_related_deaths Guns_per_residents Pisa_ranking  \\\n",
       "0          0.25  ...                  1                 12           13   \n",
       "1          0.10  ...                  1                 24           16   \n",
       "2          0.07  ...                 16                328           24   \n",
       "\n",
       "            Best_university Large_apartment Medium_apartment Small_apartment  \\\n",
       "0         Aarhus University           $1700            $1300            $840   \n",
       "1    University of Adelaide           $1500            $1200           $1000   \n",
       "2  University of New Mexico           $1200             $950            $760   \n",
       "\n",
       "                                         Description  Poblacion       Cities  \n",
       "0  Aarhus, Denmark, is among the top cities with ...    250,200       Aarhus  \n",
       "1  Adelaide, Australia, is among the top cities w...  1,708,700     Adelaide  \n",
       "2  Albuquerque, New Mexico, is among the top citi...    630,800  Albuquerque  \n",
       "\n",
       "[3 rows x 33 columns]"
      ]
     },
     "execution_count": 3,
     "metadata": {},
     "output_type": "execute_result"
    }
   ],
   "source": [
    "web_df.head(3)"
   ]
  },
  {
   "cell_type": "code",
   "execution_count": 4,
   "id": "f4fc258d",
   "metadata": {},
   "outputs": [
    {
     "data": {
      "text/plain": [
       "(262, 33)"
      ]
     },
     "execution_count": 4,
     "metadata": {},
     "output_type": "execute_result"
    }
   ],
   "source": [
    "web_df.shape"
   ]
  },
  {
   "cell_type": "code",
   "execution_count": 5,
   "id": "658aefe3",
   "metadata": {},
   "outputs": [
    {
     "name": "stdout",
     "output_type": "stream",
     "text": [
      "<class 'pandas.core.frame.DataFrame'>\n",
      "RangeIndex: 262 entries, 0 to 261\n",
      "Data columns (total 33 columns):\n",
      " #   Column                           Non-Null Count  Dtype \n",
      "---  ------                           --------------  ----- \n",
      " 0   Unnamed: 0                       262 non-null    int64 \n",
      " 1   Climate                          262 non-null    object\n",
      " 2   Growth                           262 non-null    object\n",
      " 3   GDP_per_capita                   262 non-null    object\n",
      " 4   Unemployment                     262 non-null    object\n",
      " 5   Homosexuality_acceptance         262 non-null    object\n",
      " 6   LGBT_adoption_rights             254 non-null    object\n",
      " 7   LGBT_homosexuality_rights        262 non-null    object\n",
      " 8   LGBT_marriage_rights             262 non-null    object\n",
      " 9   VAT_Sales_Tax                    262 non-null    object\n",
      " 10  Art_galleries                    262 non-null    object\n",
      " 11  Concert_venues                   262 non-null    object\n",
      " 12  Museums                          262 non-null    object\n",
      " 13  Sport_venues                     262 non-null    object\n",
      " 14  Currency_for_urban_area          262 non-null    object\n",
      " 15  GDP_per_capita.1                 262 non-null    object\n",
      " 16  Monthly_Fitness_Club_Membership  262 non-null    object\n",
      " 17  Beer                             262 non-null    object\n",
      " 18  Monthly_Public_Transport         262 non-null    object\n",
      " 19  Lunch                            262 non-null    object\n",
      " 20  Airport_score                    262 non-null    object\n",
      " 21  Airport_hub                      261 non-null    object\n",
      " 22  Intercity_train_connectivity     261 non-null    object\n",
      " 23  Gun_related_deaths               261 non-null    object\n",
      " 24  Guns_per_residents               261 non-null    object\n",
      " 25  Pisa_ranking                     261 non-null    object\n",
      " 26  Best_university                  261 non-null    object\n",
      " 27  Large_apartment                  262 non-null    object\n",
      " 28  Medium_apartment                 262 non-null    object\n",
      " 29  Small_apartment                  262 non-null    object\n",
      " 30  Description                      262 non-null    object\n",
      " 31  Poblacion                        262 non-null    object\n",
      " 32  Cities                           262 non-null    object\n",
      "dtypes: int64(1), object(32)\n",
      "memory usage: 67.7+ KB\n"
     ]
    }
   ],
   "source": [
    "web_df.info()"
   ]
  },
  {
   "cell_type": "markdown",
   "id": "c268b6e3",
   "metadata": {},
   "source": [
    "#### We can see that most of the data are object type, so we will have to convert the columns to their respective dtypes."
   ]
  },
  {
   "cell_type": "code",
   "execution_count": 6,
   "id": "8b6ada4d",
   "metadata": {},
   "outputs": [
    {
     "data": {
      "text/plain": [
       "Unnamed: 0                         0\n",
       "Climate                            0\n",
       "Growth                             0\n",
       "GDP_per_capita                     0\n",
       "Unemployment                       0\n",
       "Homosexuality_acceptance           0\n",
       "LGBT_adoption_rights               8\n",
       "LGBT_homosexuality_rights          0\n",
       "LGBT_marriage_rights               0\n",
       "VAT_Sales_Tax                      0\n",
       "Art_galleries                      0\n",
       "Concert_venues                     0\n",
       "Museums                            0\n",
       "Sport_venues                       0\n",
       "Currency_for_urban_area            0\n",
       "GDP_per_capita.1                   0\n",
       "Monthly_Fitness_Club_Membership    0\n",
       "Beer                               0\n",
       "Monthly_Public_Transport           0\n",
       "Lunch                              0\n",
       "Airport_score                      0\n",
       "Airport_hub                        1\n",
       "Intercity_train_connectivity       1\n",
       "Gun_related_deaths                 1\n",
       "Guns_per_residents                 1\n",
       "Pisa_ranking                       1\n",
       "Best_university                    1\n",
       "Large_apartment                    0\n",
       "Medium_apartment                   0\n",
       "Small_apartment                    0\n",
       "Description                        0\n",
       "Poblacion                          0\n",
       "Cities                             0\n",
       "dtype: int64"
      ]
     },
     "execution_count": 6,
     "metadata": {},
     "output_type": "execute_result"
    }
   ],
   "source": [
    "pd.isna(web_df).sum()\n"
   ]
  },
  {
   "cell_type": "markdown",
   "id": "8c8d491d",
   "metadata": {},
   "source": [
    "## 4. Data cleaning"
   ]
  },
  {
   "cell_type": "markdown",
   "id": "4ad31f0f",
   "metadata": {},
   "source": [
    "#### Some of the values present are nan, so we will have to replace the information in those places."
   ]
  },
  {
   "cell_type": "code",
   "execution_count": 7,
   "id": "3181b3f8",
   "metadata": {},
   "outputs": [
    {
     "data": {
      "text/plain": [
       "array(['✔ Equal', nan, 'Ambiguous', '✖ Unequal', '✖ Single only',\n",
       "       'Married couples only', 'No hay dato', '✔ Legal', '✖ Illegal',\n",
       "       '✖ Step-child adoption only'], dtype=object)"
      ]
     },
     "execution_count": 7,
     "metadata": {},
     "output_type": "execute_result"
    }
   ],
   "source": [
    "web_df.LGBT_adoption_rights.unique()"
   ]
  },
  {
   "cell_type": "code",
   "execution_count": 8,
   "id": "0093c5a8",
   "metadata": {},
   "outputs": [
    {
     "data": {
      "text/plain": [
       "array(['8', '26', '23', '45', '237', '38', '0.10', '42', '10', '104',\n",
       "       '217', '44', '39', '0.48', '139', '163', '215', '51', '40', '49',\n",
       "       '142', '152', '102', '76', '16', '64', '103', '169', '7', '149',\n",
       "       '176', '59', '80', '1', '189', '66', '77', '67', '24', '81', '135',\n",
       "       '22', '46', '87', '20', '141', '25', '48', '56', '18', '11', '34',\n",
       "       '126', '30', '190', '97', '17', '137', '116', '144', '117', '79',\n",
       "       '9', '78', '12', '2', '239', '47', '101', '41', '19', '28', '90',\n",
       "       '50', '31', '88', '54', '171', '32', '35', '6', '242', '27', '43',\n",
       "       '52', '115', '71', '133', '159', '155', '160', '357', '62', '158',\n",
       "       '85', '94', '167', '164', '130', '93', '257', '83', '191', '72',\n",
       "       '55', nan, '220', '91', '61', '146', '123', '3', '294',\n",
       "       'No hay dato', '82', '317', '15', '121', '57', '36', '68', '109',\n",
       "       '111', '4', '29', '96', '13', '95', '180', '134', '33', '125',\n",
       "       '98', '113', '143', '148', '60', '86', '21'], dtype=object)"
      ]
     },
     "execution_count": 8,
     "metadata": {},
     "output_type": "execute_result"
    }
   ],
   "source": [
    "web_df.Airport_hub.unique() "
   ]
  },
  {
   "cell_type": "code",
   "execution_count": 9,
   "id": "bb838f56",
   "metadata": {},
   "outputs": [
    {
     "data": {
      "text/plain": [
       "array(['0.59', '0.17', '0.11', '0.66', '0.68', 'No hay dato', '0.16',\n",
       "       '0.12', '0.26', '0.15', '0.20', '0.14', '0.21', '0.46', '0.50',\n",
       "       '0.57', '0.37', '0.78', '0.70', '0.69', '0.40', '0.33', '0.42',\n",
       "       '0.36', '0.41', '0.35', '0.19', '0.60', '0.13', '0.73', '0.27',\n",
       "       '0.67', '0.55', '0.32', '0.61', '0.48', '0.71', '1.00', '0.30',\n",
       "       '0.10', '0.85', '0.18', '0.53', '0.56', '0.24', '0.72', '0.47',\n",
       "       '0.83', '0.63', '0.64', '0.88', '0.81', '0.39', '0.51', '0.25',\n",
       "       '0.80', nan, '0.86', '0.44', '0.65', '0.22', '0.62', '0.29',\n",
       "       '0.28', '0.76', '0.43', '0.95', '0.94'], dtype=object)"
      ]
     },
     "execution_count": 9,
     "metadata": {},
     "output_type": "execute_result"
    }
   ],
   "source": [
    "web_df.Intercity_train_connectivity.unique()"
   ]
  },
  {
   "cell_type": "code",
   "execution_count": 10,
   "id": "9a725747",
   "metadata": {},
   "outputs": [
    {
     "data": {
      "text/plain": [
       "array(['1', '16', '20', '2', '12', '8', '13', '11', '0', '10', '3', '26',\n",
       "       '14', '17', '6', '4', '33', '59', '9', '21', '34', '15', '31', '5',\n",
       "       '25', nan, 'No hay dato', '46'], dtype=object)"
      ]
     },
     "execution_count": 10,
     "metadata": {},
     "output_type": "execute_result"
    }
   ],
   "source": [
    "web_df.Gun_related_deaths.unique()"
   ]
  },
  {
   "cell_type": "code",
   "execution_count": 11,
   "id": "405964b5",
   "metadata": {},
   "outputs": [
    {
     "data": {
      "text/plain": [
       "array(['12', '24', '328', '1', '4', '135', '17', '13', '95', '23', '118',\n",
       "       '123', '119', '16', '10', '5', '21', '6', '58', '31', '30', '185',\n",
       "       '35', '103', '112', '8', '26', '11', '108', '96', '80', '7', '91',\n",
       "       '52', '39', '19', '22', '93', '15', '27', '2', '115', '98', '76',\n",
       "       '3', '168', '9', '14', '61', '120', '69', '85', '32', nan, '36',\n",
       "       '121', '70', 'No hay dato', '129', '154', '29', '246', '130', '0',\n",
       "       '491'], dtype=object)"
      ]
     },
     "execution_count": 11,
     "metadata": {},
     "output_type": "execute_result"
    }
   ],
   "source": [
    "web_df.Guns_per_residents.unique()"
   ]
  },
  {
   "cell_type": "code",
   "execution_count": 12,
   "id": "364c259d",
   "metadata": {},
   "outputs": [
    {
     "data": {
      "text/plain": [
       "array(['13', '16', '24', '39', '10', 'No hay dato', '43', '35', '12',\n",
       "       '48', '47', '22', '8', '51', '17', '0.39', '11', '26', '19', '34',\n",
       "       '21', '15', '40', '31', '5', '9', '52', '49', '41', '3', '14', '6',\n",
       "       '2', '20', '38', '18', '25', '46', nan, '28', '37', '7', '1', '36',\n",
       "       '4', '32', '30'], dtype=object)"
      ]
     },
     "execution_count": 12,
     "metadata": {},
     "output_type": "execute_result"
    }
   ],
   "source": [
    "web_df.Pisa_ranking.unique()"
   ]
  },
  {
   "cell_type": "code",
   "execution_count": 13,
   "id": "ebf9c165",
   "metadata": {},
   "outputs": [],
   "source": [
    "#web_df.Best_university.unique()"
   ]
  },
  {
   "cell_type": "code",
   "execution_count": 14,
   "id": "e5660aa4",
   "metadata": {},
   "outputs": [],
   "source": [
    "web_df['LGBT_adoption_rights'] = web_df['LGBT_adoption_rights'].replace(np.nan, \"No hay dato\")"
   ]
  },
  {
   "cell_type": "code",
   "execution_count": 15,
   "id": "b8087ee5",
   "metadata": {},
   "outputs": [],
   "source": [
    "web_df['Airport_hub'] = web_df['Airport_hub'].replace(np.nan, 0)"
   ]
  },
  {
   "cell_type": "code",
   "execution_count": 16,
   "id": "7d80d291",
   "metadata": {},
   "outputs": [],
   "source": [
    "web_df[\"Gun_related_deaths\"] = web_df[\"Gun_related_deaths\"].replace(np.nan, 0)"
   ]
  },
  {
   "cell_type": "code",
   "execution_count": 17,
   "id": "ef801e86",
   "metadata": {},
   "outputs": [],
   "source": [
    "web_df[\"Guns_per_residents\"] = web_df[\"Guns_per_residents\"].replace(np.nan, 0)"
   ]
  },
  {
   "cell_type": "code",
   "execution_count": 18,
   "id": "7a2d8a7b",
   "metadata": {},
   "outputs": [],
   "source": [
    "web_df[\"Pisa_ranking\"] = web_df[\"Pisa_ranking\"].replace(np.nan, 0)"
   ]
  },
  {
   "cell_type": "code",
   "execution_count": 19,
   "id": "129b7173",
   "metadata": {},
   "outputs": [],
   "source": [
    "web_df[\"Best_university\"] = web_df[\"Best_university\"].replace(np.nan,'No hay dato')"
   ]
  },
  {
   "cell_type": "code",
   "execution_count": 20,
   "id": "fccdeff2",
   "metadata": {},
   "outputs": [],
   "source": [
    "web_df[\"Intercity_train_connectivity\"] = web_df[\"Intercity_train_connectivity\"].replace(np.nan, 0)"
   ]
  },
  {
   "cell_type": "code",
   "execution_count": 21,
   "id": "94fe8bad",
   "metadata": {},
   "outputs": [
    {
     "data": {
      "text/plain": [
       "Unnamed: 0                         0\n",
       "Climate                            0\n",
       "Growth                             0\n",
       "GDP_per_capita                     0\n",
       "Unemployment                       0\n",
       "Homosexuality_acceptance           0\n",
       "LGBT_adoption_rights               0\n",
       "LGBT_homosexuality_rights          0\n",
       "LGBT_marriage_rights               0\n",
       "VAT_Sales_Tax                      0\n",
       "Art_galleries                      0\n",
       "Concert_venues                     0\n",
       "Museums                            0\n",
       "Sport_venues                       0\n",
       "Currency_for_urban_area            0\n",
       "GDP_per_capita.1                   0\n",
       "Monthly_Fitness_Club_Membership    0\n",
       "Beer                               0\n",
       "Monthly_Public_Transport           0\n",
       "Lunch                              0\n",
       "Airport_score                      0\n",
       "Airport_hub                        0\n",
       "Intercity_train_connectivity       0\n",
       "Gun_related_deaths                 0\n",
       "Guns_per_residents                 0\n",
       "Pisa_ranking                       0\n",
       "Best_university                    0\n",
       "Large_apartment                    0\n",
       "Medium_apartment                   0\n",
       "Small_apartment                    0\n",
       "Description                        0\n",
       "Poblacion                          0\n",
       "Cities                             0\n",
       "dtype: int64"
      ]
     },
     "execution_count": 21,
     "metadata": {},
     "output_type": "execute_result"
    }
   ],
   "source": [
    "pd.isna(web_df).sum()\n"
   ]
  },
  {
   "cell_type": "markdown",
   "id": "eda3acbd",
   "metadata": {},
   "source": [
    "### We will generate a copy to manipulate and work with it. "
   ]
  },
  {
   "cell_type": "code",
   "execution_count": 22,
   "id": "1dc13d5d",
   "metadata": {},
   "outputs": [],
   "source": [
    "copia = web_df.copy()"
   ]
  },
  {
   "cell_type": "code",
   "execution_count": 23,
   "id": "2fbfc38b",
   "metadata": {},
   "outputs": [
    {
     "data": {
      "text/html": [
       "<div>\n",
       "<style scoped>\n",
       "    .dataframe tbody tr th:only-of-type {\n",
       "        vertical-align: middle;\n",
       "    }\n",
       "\n",
       "    .dataframe tbody tr th {\n",
       "        vertical-align: top;\n",
       "    }\n",
       "\n",
       "    .dataframe thead th {\n",
       "        text-align: right;\n",
       "    }\n",
       "</style>\n",
       "<table border=\"1\" class=\"dataframe\">\n",
       "  <thead>\n",
       "    <tr style=\"text-align: right;\">\n",
       "      <th></th>\n",
       "      <th>Unnamed: 0</th>\n",
       "      <th>Climate</th>\n",
       "      <th>Growth</th>\n",
       "      <th>GDP_per_capita</th>\n",
       "      <th>Unemployment</th>\n",
       "      <th>Homosexuality_acceptance</th>\n",
       "      <th>LGBT_adoption_rights</th>\n",
       "      <th>LGBT_homosexuality_rights</th>\n",
       "      <th>LGBT_marriage_rights</th>\n",
       "      <th>VAT_Sales_Tax</th>\n",
       "      <th>...</th>\n",
       "      <th>Gun_related_deaths</th>\n",
       "      <th>Guns_per_residents</th>\n",
       "      <th>Pisa_ranking</th>\n",
       "      <th>Best_university</th>\n",
       "      <th>Large_apartment</th>\n",
       "      <th>Medium_apartment</th>\n",
       "      <th>Small_apartment</th>\n",
       "      <th>Description</th>\n",
       "      <th>Poblacion</th>\n",
       "      <th>Cities</th>\n",
       "    </tr>\n",
       "  </thead>\n",
       "  <tbody>\n",
       "    <tr>\n",
       "      <th>0</th>\n",
       "      <td>0</td>\n",
       "      <td>No hay dato</td>\n",
       "      <td>5%</td>\n",
       "      <td>$44,343</td>\n",
       "      <td>4%</td>\n",
       "      <td>93.03</td>\n",
       "      <td>✔ Equal</td>\n",
       "      <td>✔ Sexual orientation and gender identity</td>\n",
       "      <td>0.99</td>\n",
       "      <td>0.25</td>\n",
       "      <td>...</td>\n",
       "      <td>1</td>\n",
       "      <td>12</td>\n",
       "      <td>13</td>\n",
       "      <td>Aarhus University</td>\n",
       "      <td>$1700</td>\n",
       "      <td>$1300</td>\n",
       "      <td>$840</td>\n",
       "      <td>Aarhus, Denmark, is among the top cities with ...</td>\n",
       "      <td>250,200</td>\n",
       "      <td>Aarhus</td>\n",
       "    </tr>\n",
       "    <tr>\n",
       "      <th>1</th>\n",
       "      <td>1</td>\n",
       "      <td>12.6</td>\n",
       "      <td>7%</td>\n",
       "      <td>$46,433</td>\n",
       "      <td>6%</td>\n",
       "      <td>0.79</td>\n",
       "      <td>No hay dato</td>\n",
       "      <td>✔ Legal</td>\n",
       "      <td>Varies by Region</td>\n",
       "      <td>0.10</td>\n",
       "      <td>...</td>\n",
       "      <td>1</td>\n",
       "      <td>24</td>\n",
       "      <td>16</td>\n",
       "      <td>University of Adelaide</td>\n",
       "      <td>$1500</td>\n",
       "      <td>$1200</td>\n",
       "      <td>$1000</td>\n",
       "      <td>Adelaide, Australia, is among the top cities w...</td>\n",
       "      <td>1,708,700</td>\n",
       "      <td>Adelaide</td>\n",
       "    </tr>\n",
       "    <tr>\n",
       "      <th>2</th>\n",
       "      <td>2</td>\n",
       "      <td>168</td>\n",
       "      <td>7%</td>\n",
       "      <td>$54,597</td>\n",
       "      <td>5%</td>\n",
       "      <td>93.13</td>\n",
       "      <td>✔ Equal</td>\n",
       "      <td>✔ Sexual orientation and gender identity</td>\n",
       "      <td>0.45</td>\n",
       "      <td>0.07</td>\n",
       "      <td>...</td>\n",
       "      <td>16</td>\n",
       "      <td>328</td>\n",
       "      <td>24</td>\n",
       "      <td>University of New Mexico</td>\n",
       "      <td>$1200</td>\n",
       "      <td>$950</td>\n",
       "      <td>$760</td>\n",
       "      <td>Albuquerque, New Mexico, is among the top citi...</td>\n",
       "      <td>630,800</td>\n",
       "      <td>Albuquerque</td>\n",
       "    </tr>\n",
       "    <tr>\n",
       "      <th>3</th>\n",
       "      <td>3</td>\n",
       "      <td>64</td>\n",
       "      <td>9%</td>\n",
       "      <td>$24,020</td>\n",
       "      <td>6%</td>\n",
       "      <td>66.56</td>\n",
       "      <td>✔ Equal</td>\n",
       "      <td>Ambiguous</td>\n",
       "      <td>0.64</td>\n",
       "      <td>0.12</td>\n",
       "      <td>...</td>\n",
       "      <td>1</td>\n",
       "      <td>1</td>\n",
       "      <td>39</td>\n",
       "      <td>427.97</td>\n",
       "      <td>$620</td>\n",
       "      <td>$480</td>\n",
       "      <td>$340</td>\n",
       "      <td>Almaty, Kazakhstan, differentiates itself with...</td>\n",
       "      <td>2,029,800</td>\n",
       "      <td>Almaty</td>\n",
       "    </tr>\n",
       "    <tr>\n",
       "      <th>4</th>\n",
       "      <td>4</td>\n",
       "      <td>12.9</td>\n",
       "      <td>3%</td>\n",
       "      <td>$47,355</td>\n",
       "      <td>6%</td>\n",
       "      <td>97.37</td>\n",
       "      <td>✔ Equal</td>\n",
       "      <td>✔ Sexual orientation and gender identity</td>\n",
       "      <td>0.67</td>\n",
       "      <td>0.21</td>\n",
       "      <td>...</td>\n",
       "      <td>1</td>\n",
       "      <td>4</td>\n",
       "      <td>10</td>\n",
       "      <td>University of Amsterdam</td>\n",
       "      <td>$2400</td>\n",
       "      <td>$2000</td>\n",
       "      <td>$1600</td>\n",
       "      <td>Amsterdam is one of the most bike-friendly cit...</td>\n",
       "      <td>2,628,100</td>\n",
       "      <td>Amsterdam</td>\n",
       "    </tr>\n",
       "  </tbody>\n",
       "</table>\n",
       "<p>5 rows × 33 columns</p>\n",
       "</div>"
      ],
      "text/plain": [
       "   Unnamed: 0      Climate Growth GDP_per_capita Unemployment  \\\n",
       "0           0  No hay dato     5%        $44,343           4%   \n",
       "1           1         12.6     7%        $46,433           6%   \n",
       "2           2          168     7%        $54,597           5%   \n",
       "3           3           64     9%        $24,020           6%   \n",
       "4           4         12.9     3%        $47,355           6%   \n",
       "\n",
       "  Homosexuality_acceptance LGBT_adoption_rights  \\\n",
       "0                    93.03              ✔ Equal   \n",
       "1                     0.79          No hay dato   \n",
       "2                    93.13              ✔ Equal   \n",
       "3                    66.56              ✔ Equal   \n",
       "4                    97.37              ✔ Equal   \n",
       "\n",
       "                  LGBT_homosexuality_rights LGBT_marriage_rights  \\\n",
       "0  ✔ Sexual orientation and gender identity                 0.99   \n",
       "1                                   ✔ Legal     Varies by Region   \n",
       "2  ✔ Sexual orientation and gender identity                 0.45   \n",
       "3                                 Ambiguous                 0.64   \n",
       "4  ✔ Sexual orientation and gender identity                 0.67   \n",
       "\n",
       "  VAT_Sales_Tax  ... Gun_related_deaths Guns_per_residents Pisa_ranking  \\\n",
       "0          0.25  ...                  1                 12           13   \n",
       "1          0.10  ...                  1                 24           16   \n",
       "2          0.07  ...                 16                328           24   \n",
       "3          0.12  ...                  1                  1           39   \n",
       "4          0.21  ...                  1                  4           10   \n",
       "\n",
       "            Best_university Large_apartment Medium_apartment Small_apartment  \\\n",
       "0         Aarhus University           $1700            $1300            $840   \n",
       "1    University of Adelaide           $1500            $1200           $1000   \n",
       "2  University of New Mexico           $1200             $950            $760   \n",
       "3                    427.97            $620             $480            $340   \n",
       "4   University of Amsterdam           $2400            $2000           $1600   \n",
       "\n",
       "                                         Description  Poblacion       Cities  \n",
       "0  Aarhus, Denmark, is among the top cities with ...    250,200       Aarhus  \n",
       "1  Adelaide, Australia, is among the top cities w...  1,708,700     Adelaide  \n",
       "2  Albuquerque, New Mexico, is among the top citi...    630,800  Albuquerque  \n",
       "3  Almaty, Kazakhstan, differentiates itself with...  2,029,800       Almaty  \n",
       "4  Amsterdam is one of the most bike-friendly cit...  2,628,100    Amsterdam  \n",
       "\n",
       "[5 rows x 33 columns]"
      ]
     },
     "execution_count": 23,
     "metadata": {},
     "output_type": "execute_result"
    }
   ],
   "source": [
    "copia.head()"
   ]
  },
  {
   "cell_type": "code",
   "execution_count": 24,
   "id": "d15b7cc6",
   "metadata": {},
   "outputs": [
    {
     "data": {
      "text/plain": [
       "Index(['Unnamed: 0', 'Climate', 'Growth', 'GDP_per_capita', 'Unemployment',\n",
       "       'Homosexuality_acceptance', 'LGBT_adoption_rights',\n",
       "       'LGBT_homosexuality_rights', 'LGBT_marriage_rights', 'VAT_Sales_Tax',\n",
       "       'Art_galleries', 'Concert_venues', 'Museums', 'Sport_venues',\n",
       "       'Currency_for_urban_area', 'GDP_per_capita.1',\n",
       "       'Monthly_Fitness_Club_Membership', 'Beer', 'Monthly_Public_Transport',\n",
       "       'Lunch', 'Airport_score', 'Airport_hub', 'Intercity_train_connectivity',\n",
       "       'Gun_related_deaths', 'Guns_per_residents', 'Pisa_ranking',\n",
       "       'Best_university', 'Large_apartment', 'Medium_apartment',\n",
       "       'Small_apartment', 'Description', 'Poblacion', 'Cities'],\n",
       "      dtype='object')"
      ]
     },
     "execution_count": 24,
     "metadata": {},
     "output_type": "execute_result"
    }
   ],
   "source": [
    "copia.columns"
   ]
  },
  {
   "cell_type": "markdown",
   "id": "2b9d82e4",
   "metadata": {},
   "source": [
    "### To be able to work with the data, we must remove symbols and clean the columns"
   ]
  },
  {
   "cell_type": "code",
   "execution_count": 25,
   "id": "93fcc2fd",
   "metadata": {},
   "outputs": [],
   "source": [
    "def delete_price(i):\n",
    "    i = str(i).replace('$', \"\")\n",
    "    return i"
   ]
  },
  {
   "cell_type": "code",
   "execution_count": 26,
   "id": "7f79283e",
   "metadata": {},
   "outputs": [],
   "source": [
    "copia['GDP_per_capita'] = copia['GDP_per_capita'].apply(delete_price)"
   ]
  },
  {
   "cell_type": "code",
   "execution_count": 27,
   "id": "bd6dd9bf",
   "metadata": {},
   "outputs": [],
   "source": [
    "copia['Monthly_Fitness_Club_Membership'] = copia['Monthly_Fitness_Club_Membership'].apply(delete_price)"
   ]
  },
  {
   "cell_type": "code",
   "execution_count": 28,
   "id": "4c673355",
   "metadata": {},
   "outputs": [],
   "source": [
    "copia['Beer'] = copia['Beer'].apply(delete_price)"
   ]
  },
  {
   "cell_type": "code",
   "execution_count": 29,
   "id": "becc7e30",
   "metadata": {},
   "outputs": [],
   "source": [
    "copia['Monthly_Public_Transport'] = copia['Monthly_Public_Transport'].apply(delete_price)"
   ]
  },
  {
   "cell_type": "code",
   "execution_count": 30,
   "id": "299ec579",
   "metadata": {},
   "outputs": [],
   "source": [
    "copia['Lunch'] = copia['Lunch'].apply(delete_price)"
   ]
  },
  {
   "cell_type": "code",
   "execution_count": 31,
   "id": "02b75ed8",
   "metadata": {},
   "outputs": [],
   "source": [
    "copia['Large_apartment'] = copia['Large_apartment'].apply(delete_price)"
   ]
  },
  {
   "cell_type": "code",
   "execution_count": 32,
   "id": "7cf08f60",
   "metadata": {},
   "outputs": [],
   "source": [
    "copia['Medium_apartment'] = copia['Medium_apartment'].apply(delete_price)"
   ]
  },
  {
   "cell_type": "code",
   "execution_count": 33,
   "id": "84804148",
   "metadata": {},
   "outputs": [],
   "source": [
    "copia['Small_apartment'] = copia['Small_apartment'].apply(delete_price)"
   ]
  },
  {
   "cell_type": "code",
   "execution_count": 34,
   "id": "fdac96ba",
   "metadata": {},
   "outputs": [],
   "source": [
    "def convertir(i):\n",
    "    i = i.replace(\",\", \".\")\n",
    "    return i"
   ]
  },
  {
   "cell_type": "code",
   "execution_count": 35,
   "id": "b18a6f4f",
   "metadata": {},
   "outputs": [],
   "source": [
    "copia[\"GDP_per_capita\"] = copia[\"GDP_per_capita\"].apply(convertir)"
   ]
  },
  {
   "cell_type": "code",
   "execution_count": 36,
   "id": "c25993b1",
   "metadata": {},
   "outputs": [],
   "source": [
    "def quitar(i):\n",
    "    i = i.replace(\",\", \"\")\n",
    "    return i"
   ]
  },
  {
   "cell_type": "code",
   "execution_count": 37,
   "id": "1c5af7f7",
   "metadata": {},
   "outputs": [],
   "source": [
    "copia[\"Poblacion\"] = copia[\"Poblacion\"].apply(quitar)"
   ]
  },
  {
   "cell_type": "code",
   "execution_count": 38,
   "id": "8e1dc49e",
   "metadata": {},
   "outputs": [],
   "source": [
    "def clean_symbol(i):\n",
    "    i = i.replace(\"✖\", \"\")\n",
    "    return i"
   ]
  },
  {
   "cell_type": "code",
   "execution_count": 39,
   "id": "08ccf88e",
   "metadata": {},
   "outputs": [],
   "source": [
    "copia[\"LGBT_adoption_rights\"] = copia[\"LGBT_adoption_rights\"].apply(clean_symbol)"
   ]
  },
  {
   "cell_type": "code",
   "execution_count": 40,
   "id": "7909f217",
   "metadata": {},
   "outputs": [],
   "source": [
    "copia[\"LGBT_homosexuality_rights\"] = copia[\"LGBT_homosexuality_rights\"].apply(clean_symbol)"
   ]
  },
  {
   "cell_type": "code",
   "execution_count": 41,
   "id": "99950c22",
   "metadata": {},
   "outputs": [],
   "source": [
    "copia[\"LGBT_marriage_rights\"] = copia[\"LGBT_marriage_rights\"].apply(clean_symbol)"
   ]
  },
  {
   "cell_type": "code",
   "execution_count": 42,
   "id": "9d89d6c4",
   "metadata": {},
   "outputs": [],
   "source": [
    "def clean_symbol2(i):\n",
    "    i = i.replace(\"✔\", \"\")\n",
    "    return i"
   ]
  },
  {
   "cell_type": "code",
   "execution_count": 43,
   "id": "33242edd",
   "metadata": {},
   "outputs": [],
   "source": [
    "copia[\"LGBT_adoption_rights\"] = copia[\"LGBT_adoption_rights\"].apply(clean_symbol2)"
   ]
  },
  {
   "cell_type": "code",
   "execution_count": 44,
   "id": "d1b6ca95",
   "metadata": {},
   "outputs": [],
   "source": [
    "copia[\"LGBT_homosexuality_rights\"] = copia[\"LGBT_homosexuality_rights\"].apply(clean_symbol2)"
   ]
  },
  {
   "cell_type": "code",
   "execution_count": 45,
   "id": "6d0d5945",
   "metadata": {},
   "outputs": [],
   "source": [
    "copia[\"LGBT_marriage_rights\"] = copia[\"LGBT_marriage_rights\"].apply(clean_symbol2)"
   ]
  },
  {
   "cell_type": "code",
   "execution_count": 72,
   "id": "835a32b1",
   "metadata": {},
   "outputs": [
    {
     "data": {
      "text/html": [
       "<div>\n",
       "<style scoped>\n",
       "    .dataframe tbody tr th:only-of-type {\n",
       "        vertical-align: middle;\n",
       "    }\n",
       "\n",
       "    .dataframe tbody tr th {\n",
       "        vertical-align: top;\n",
       "    }\n",
       "\n",
       "    .dataframe thead th {\n",
       "        text-align: right;\n",
       "    }\n",
       "</style>\n",
       "<table border=\"1\" class=\"dataframe\">\n",
       "  <thead>\n",
       "    <tr style=\"text-align: right;\">\n",
       "      <th></th>\n",
       "      <th>Unnamed: 0</th>\n",
       "      <th>Climate</th>\n",
       "      <th>Growth</th>\n",
       "      <th>GDP_per_capita</th>\n",
       "      <th>Unemployment</th>\n",
       "      <th>Homosexuality_acceptance</th>\n",
       "      <th>LGBT_adoption_rights</th>\n",
       "      <th>LGBT_homosexuality_rights</th>\n",
       "      <th>LGBT_marriage_rights</th>\n",
       "      <th>VAT_Sales_Tax</th>\n",
       "      <th>...</th>\n",
       "      <th>Gun_related_deaths</th>\n",
       "      <th>Guns_per_residents</th>\n",
       "      <th>Pisa_ranking</th>\n",
       "      <th>Best_university</th>\n",
       "      <th>Large_apartment</th>\n",
       "      <th>Medium_apartment</th>\n",
       "      <th>Small_apartment</th>\n",
       "      <th>Description</th>\n",
       "      <th>Poblacion</th>\n",
       "      <th>Cities</th>\n",
       "    </tr>\n",
       "  </thead>\n",
       "  <tbody>\n",
       "    <tr>\n",
       "      <th>0</th>\n",
       "      <td>0</td>\n",
       "      <td>0</td>\n",
       "      <td>5%</td>\n",
       "      <td>44.343</td>\n",
       "      <td>4%</td>\n",
       "      <td>93.03</td>\n",
       "      <td>Equal</td>\n",
       "      <td>Sexual orientation and gender identity</td>\n",
       "      <td>0.99</td>\n",
       "      <td>0.25</td>\n",
       "      <td>...</td>\n",
       "      <td>1</td>\n",
       "      <td>12</td>\n",
       "      <td>13</td>\n",
       "      <td>Aarhus University</td>\n",
       "      <td>1700</td>\n",
       "      <td>1300</td>\n",
       "      <td>840</td>\n",
       "      <td>Aarhus, Denmark, is among the top cities with ...</td>\n",
       "      <td>250200</td>\n",
       "      <td>Aarhus</td>\n",
       "    </tr>\n",
       "    <tr>\n",
       "      <th>1</th>\n",
       "      <td>1</td>\n",
       "      <td>12.6</td>\n",
       "      <td>7%</td>\n",
       "      <td>46.433</td>\n",
       "      <td>6%</td>\n",
       "      <td>0.79</td>\n",
       "      <td>No hay dato</td>\n",
       "      <td>Legal</td>\n",
       "      <td>Varies by Region</td>\n",
       "      <td>0.10</td>\n",
       "      <td>...</td>\n",
       "      <td>1</td>\n",
       "      <td>24</td>\n",
       "      <td>16</td>\n",
       "      <td>University of Adelaide</td>\n",
       "      <td>1500</td>\n",
       "      <td>1200</td>\n",
       "      <td>1000</td>\n",
       "      <td>Adelaide, Australia, is among the top cities w...</td>\n",
       "      <td>1708700</td>\n",
       "      <td>Adelaide</td>\n",
       "    </tr>\n",
       "    <tr>\n",
       "      <th>2</th>\n",
       "      <td>2</td>\n",
       "      <td>168</td>\n",
       "      <td>7%</td>\n",
       "      <td>54.597</td>\n",
       "      <td>5%</td>\n",
       "      <td>93.13</td>\n",
       "      <td>Equal</td>\n",
       "      <td>Sexual orientation and gender identity</td>\n",
       "      <td>0.45</td>\n",
       "      <td>0.07</td>\n",
       "      <td>...</td>\n",
       "      <td>16</td>\n",
       "      <td>328</td>\n",
       "      <td>24</td>\n",
       "      <td>University of New Mexico</td>\n",
       "      <td>1200</td>\n",
       "      <td>950</td>\n",
       "      <td>760</td>\n",
       "      <td>Albuquerque, New Mexico, is among the top citi...</td>\n",
       "      <td>630800</td>\n",
       "      <td>Albuquerque</td>\n",
       "    </tr>\n",
       "  </tbody>\n",
       "</table>\n",
       "<p>3 rows × 33 columns</p>\n",
       "</div>"
      ],
      "text/plain": [
       "   Unnamed: 0 Climate Growth GDP_per_capita Unemployment  \\\n",
       "0           0       0     5%         44.343           4%   \n",
       "1           1    12.6     7%         46.433           6%   \n",
       "2           2     168     7%         54.597           5%   \n",
       "\n",
       "  Homosexuality_acceptance LGBT_adoption_rights  \\\n",
       "0                    93.03                Equal   \n",
       "1                     0.79          No hay dato   \n",
       "2                    93.13                Equal   \n",
       "\n",
       "                 LGBT_homosexuality_rights LGBT_marriage_rights VAT_Sales_Tax  \\\n",
       "0   Sexual orientation and gender identity                 0.99          0.25   \n",
       "1                                    Legal     Varies by Region          0.10   \n",
       "2   Sexual orientation and gender identity                 0.45          0.07   \n",
       "\n",
       "   ... Gun_related_deaths Guns_per_residents Pisa_ranking  \\\n",
       "0  ...                  1                 12           13   \n",
       "1  ...                  1                 24           16   \n",
       "2  ...                 16                328           24   \n",
       "\n",
       "            Best_university Large_apartment Medium_apartment Small_apartment  \\\n",
       "0         Aarhus University            1700             1300             840   \n",
       "1    University of Adelaide            1500             1200            1000   \n",
       "2  University of New Mexico            1200              950             760   \n",
       "\n",
       "                                         Description Poblacion       Cities  \n",
       "0  Aarhus, Denmark, is among the top cities with ...    250200       Aarhus  \n",
       "1  Adelaide, Australia, is among the top cities w...   1708700     Adelaide  \n",
       "2  Albuquerque, New Mexico, is among the top citi...    630800  Albuquerque  \n",
       "\n",
       "[3 rows x 33 columns]"
      ]
     },
     "execution_count": 72,
     "metadata": {},
     "output_type": "execute_result"
    }
   ],
   "source": [
    "copia.head(3)"
   ]
  },
  {
   "cell_type": "code",
   "execution_count": 47,
   "id": "d213808d",
   "metadata": {},
   "outputs": [],
   "source": [
    "def clean_no_info(i):\n",
    "    i = i.replace(\"No hay dato\", \"0\")\n",
    "    return i"
   ]
  },
  {
   "cell_type": "code",
   "execution_count": 48,
   "id": "0c550250",
   "metadata": {},
   "outputs": [],
   "source": [
    "copia[\"Airport_hub\"] = copia[\"Airport_hub\"].replace(\"No hay dato\", 0)"
   ]
  },
  {
   "cell_type": "code",
   "execution_count": 49,
   "id": "d6023533",
   "metadata": {},
   "outputs": [],
   "source": [
    "copia[\"Intercity_train_connectivity\"] = copia[\"Intercity_train_connectivity\"].replace(\"No hay dato\", 0)"
   ]
  },
  {
   "cell_type": "code",
   "execution_count": 50,
   "id": "d535a877",
   "metadata": {},
   "outputs": [],
   "source": [
    "copia[\"Gun_related_deaths\"] = copia[\"Gun_related_deaths\"].replace(\"No hay dato\", 0)"
   ]
  },
  {
   "cell_type": "code",
   "execution_count": 51,
   "id": "dbc14054",
   "metadata": {},
   "outputs": [],
   "source": [
    "copia[\"Guns_per_residents\"] = copia[\"Guns_per_residents\"].replace(\"No hay dato\", 0)"
   ]
  },
  {
   "cell_type": "code",
   "execution_count": 52,
   "id": "d95c9782",
   "metadata": {},
   "outputs": [],
   "source": [
    "copia[\"Pisa_ranking\"] = copia[\"Pisa_ranking\"].replace(\"No hay dato\", 0)"
   ]
  },
  {
   "cell_type": "code",
   "execution_count": 53,
   "id": "df3e7a70",
   "metadata": {},
   "outputs": [],
   "source": [
    "copia[\"Large_apartment\"] = copia[\"Large_apartment\"].replace(\"No hay dato\", 0)"
   ]
  },
  {
   "cell_type": "code",
   "execution_count": 54,
   "id": "14bb0eb6",
   "metadata": {},
   "outputs": [],
   "source": [
    "copia[\"Small_apartment\"] = copia[\"Small_apartment\"].replace(\"No hay dato\", 0)"
   ]
  },
  {
   "cell_type": "code",
   "execution_count": 55,
   "id": "59b42a50",
   "metadata": {},
   "outputs": [],
   "source": [
    "copia[\"Medium_apartment\"] = copia[\"Medium_apartment\"].replace(\"No hay dato\", 0)"
   ]
  },
  {
   "cell_type": "code",
   "execution_count": 56,
   "id": "0b0813dc",
   "metadata": {},
   "outputs": [],
   "source": [
    "copia[\"VAT_Sales_Tax\"] = copia[\"VAT_Sales_Tax\"].replace(\"No hay dato\", 0)"
   ]
  },
  {
   "cell_type": "code",
   "execution_count": 57,
   "id": "e35db8e2",
   "metadata": {},
   "outputs": [],
   "source": [
    "copia[\"Art_galleries\"] = copia[\"Art_galleries\"].replace(\"No hay dato\", 0)"
   ]
  },
  {
   "cell_type": "code",
   "execution_count": 58,
   "id": "1056f5e0",
   "metadata": {},
   "outputs": [],
   "source": [
    "copia[\"Concert_venues\"] = copia[\"Concert_venues\"].replace(\"No hay dato\", 0)"
   ]
  },
  {
   "cell_type": "code",
   "execution_count": 59,
   "id": "a85279a9",
   "metadata": {},
   "outputs": [],
   "source": [
    "copia[\"Museums\"] = copia[\"Museums\"].replace(\"No hay dato\", 0)"
   ]
  },
  {
   "cell_type": "code",
   "execution_count": 60,
   "id": "775d8d95",
   "metadata": {},
   "outputs": [],
   "source": [
    "copia[\"Sport_venues\"] = copia[\"Sport_venues\"].replace(\"No hay dato\", 0)"
   ]
  },
  {
   "cell_type": "code",
   "execution_count": 61,
   "id": "dfa280ca",
   "metadata": {},
   "outputs": [],
   "source": [
    "copia[\"GDP_per_capita\"] = copia[\"GDP_per_capita\"].replace(\"No hay dato\", 0)"
   ]
  },
  {
   "cell_type": "code",
   "execution_count": 62,
   "id": "626732da",
   "metadata": {},
   "outputs": [],
   "source": [
    "copia[\"Unemployment\"] = copia[\"Unemployment\"].replace(\"No hay dato\", 0)"
   ]
  },
  {
   "cell_type": "code",
   "execution_count": 63,
   "id": "063629a5",
   "metadata": {},
   "outputs": [],
   "source": [
    "copia[\"Climate\"] = copia[\"Climate\"].replace(\"No hay dato\", 0)"
   ]
  },
  {
   "cell_type": "code",
   "execution_count": 64,
   "id": "5cd629ff",
   "metadata": {},
   "outputs": [],
   "source": [
    "copia[\"Homosexuality_acceptance\"] = copia[\"Homosexuality_acceptance\"].replace(\"No hay dato\", 0)"
   ]
  },
  {
   "cell_type": "code",
   "execution_count": 65,
   "id": "8ea4301e",
   "metadata": {},
   "outputs": [],
   "source": [
    "copia[\"Airport_score\"] = copia[\"Airport_score\"].replace(\"No hay dato\", 0)"
   ]
  },
  {
   "cell_type": "code",
   "execution_count": 101,
   "id": "cb2a974a",
   "metadata": {},
   "outputs": [],
   "source": [
    "copia[\"Monthly_Fitness_Club_Membership\"] = copia[\"Monthly_Fitness_Club_Membership\"].replace(\"No hay dato\", 0)"
   ]
  },
  {
   "cell_type": "code",
   "execution_count": 105,
   "id": "a9abe016",
   "metadata": {},
   "outputs": [],
   "source": [
    "copia[\"Lunch\"] = copia[\"Lunch\"].replace(\"No hay dato\", 0)"
   ]
  },
  {
   "cell_type": "code",
   "execution_count": 106,
   "id": "202e58cc",
   "metadata": {},
   "outputs": [],
   "source": [
    "copia[\"Beer\"] = copia[\"Beer\"].replace(\"No hay dato\", 0)"
   ]
  },
  {
   "cell_type": "code",
   "execution_count": 110,
   "id": "11ee758e",
   "metadata": {},
   "outputs": [],
   "source": [
    "copia[\"Monthly_Public_Transport\"] = copia[\"Monthly_Public_Transport\"].replace(\"No hay dato\", 0)"
   ]
  },
  {
   "cell_type": "code",
   "execution_count": 67,
   "id": "88c62238",
   "metadata": {},
   "outputs": [],
   "source": [
    "def replace_num(universidad):\n",
    "    #print (\"i original :\",universidad)\n",
    "    if (re.findall(\"\\d+\",universidad)):\n",
    "        universidad = \"No hay dato\"\n",
    "    #print (\"i cambiada: \",universidad)\n",
    "    return universidad"
   ]
  },
  {
   "cell_type": "code",
   "execution_count": 68,
   "id": "79a600be",
   "metadata": {},
   "outputs": [],
   "source": [
    "copia[\"Best_university\"] = copia[\"Best_university\"].apply(replace_num)"
   ]
  },
  {
   "cell_type": "code",
   "execution_count": 69,
   "id": "9a60afb1",
   "metadata": {},
   "outputs": [],
   "source": [
    "def replace_num2(Currency):\n",
    "    if (re.findall(\"\\d+\",Currency)):\n",
    "        Currency = \"USD\"\n",
    "    return Currency"
   ]
  },
  {
   "cell_type": "code",
   "execution_count": 70,
   "id": "e1b095fa",
   "metadata": {},
   "outputs": [
    {
     "data": {
      "text/html": [
       "<div>\n",
       "<style scoped>\n",
       "    .dataframe tbody tr th:only-of-type {\n",
       "        vertical-align: middle;\n",
       "    }\n",
       "\n",
       "    .dataframe tbody tr th {\n",
       "        vertical-align: top;\n",
       "    }\n",
       "\n",
       "    .dataframe thead th {\n",
       "        text-align: right;\n",
       "    }\n",
       "</style>\n",
       "<table border=\"1\" class=\"dataframe\">\n",
       "  <thead>\n",
       "    <tr style=\"text-align: right;\">\n",
       "      <th></th>\n",
       "      <th>Unnamed: 0</th>\n",
       "      <th>Climate</th>\n",
       "      <th>Growth</th>\n",
       "      <th>GDP_per_capita</th>\n",
       "      <th>Unemployment</th>\n",
       "      <th>Homosexuality_acceptance</th>\n",
       "      <th>LGBT_adoption_rights</th>\n",
       "      <th>LGBT_homosexuality_rights</th>\n",
       "      <th>LGBT_marriage_rights</th>\n",
       "      <th>VAT_Sales_Tax</th>\n",
       "      <th>...</th>\n",
       "      <th>Gun_related_deaths</th>\n",
       "      <th>Guns_per_residents</th>\n",
       "      <th>Pisa_ranking</th>\n",
       "      <th>Best_university</th>\n",
       "      <th>Large_apartment</th>\n",
       "      <th>Medium_apartment</th>\n",
       "      <th>Small_apartment</th>\n",
       "      <th>Description</th>\n",
       "      <th>Poblacion</th>\n",
       "      <th>Cities</th>\n",
       "    </tr>\n",
       "  </thead>\n",
       "  <tbody>\n",
       "    <tr>\n",
       "      <th>16</th>\n",
       "      <td>16</td>\n",
       "      <td>0</td>\n",
       "      <td>80</td>\n",
       "      <td>0</td>\n",
       "      <td>0</td>\n",
       "      <td>96.88</td>\n",
       "      <td>No hay dato</td>\n",
       "      <td>No hay dato</td>\n",
       "      <td>No hay dato</td>\n",
       "      <td>0</td>\n",
       "      <td>...</td>\n",
       "      <td>10</td>\n",
       "      <td>119</td>\n",
       "      <td>24</td>\n",
       "      <td>Johns Hopkins University</td>\n",
       "      <td>1900</td>\n",
       "      <td>1600</td>\n",
       "      <td>1200</td>\n",
       "      <td>This urban area is consistently ahead in healt...</td>\n",
       "      <td>38</td>\n",
       "      <td>Baltimore</td>\n",
       "    </tr>\n",
       "  </tbody>\n",
       "</table>\n",
       "<p>1 rows × 33 columns</p>\n",
       "</div>"
      ],
      "text/plain": [
       "    Unnamed: 0 Climate Growth GDP_per_capita Unemployment  \\\n",
       "16          16       0     80              0            0   \n",
       "\n",
       "   Homosexuality_acceptance LGBT_adoption_rights LGBT_homosexuality_rights  \\\n",
       "16                    96.88          No hay dato               No hay dato   \n",
       "\n",
       "   LGBT_marriage_rights VAT_Sales_Tax  ... Gun_related_deaths  \\\n",
       "16          No hay dato             0  ...                 10   \n",
       "\n",
       "   Guns_per_residents Pisa_ranking           Best_university Large_apartment  \\\n",
       "16                119           24  Johns Hopkins University            1900   \n",
       "\n",
       "   Medium_apartment Small_apartment  \\\n",
       "16             1600            1200   \n",
       "\n",
       "                                          Description Poblacion     Cities  \n",
       "16  This urban area is consistently ahead in healt...        38  Baltimore  \n",
       "\n",
       "[1 rows x 33 columns]"
      ]
     },
     "execution_count": 70,
     "metadata": {},
     "output_type": "execute_result"
    }
   ],
   "source": [
    "copia.loc[copia['Currency_for_urban_area'] =='0.43']"
   ]
  },
  {
   "cell_type": "code",
   "execution_count": 71,
   "id": "41e3469b",
   "metadata": {},
   "outputs": [],
   "source": [
    "copia[\"Currency_for_urban_area\"] = copia[\"Currency_for_urban_area\"].apply(replace_num2)"
   ]
  },
  {
   "cell_type": "markdown",
   "id": "6b3b09d9",
   "metadata": {},
   "source": [
    "#### Some of the columns have data that does not correspond to the measurement in that column, so we will replace those numbers with 0, giving it the assignment that we have no data for that location."
   ]
  },
  {
   "cell_type": "code",
   "execution_count": 73,
   "id": "97adee80",
   "metadata": {},
   "outputs": [],
   "source": [
    "def change(x):\n",
    "    x = str(x).split('.')[0]\n",
    "    return x"
   ]
  },
  {
   "cell_type": "code",
   "execution_count": 74,
   "id": "263f1505",
   "metadata": {},
   "outputs": [],
   "source": [
    "copia[\"Airport_hub\"] = copia[\"Airport_hub\"].apply(change) "
   ]
  },
  {
   "cell_type": "code",
   "execution_count": 75,
   "id": "2e6eee2c",
   "metadata": {},
   "outputs": [],
   "source": [
    "copia[\"Pisa_ranking\"] =copia[\"Pisa_ranking\"].apply(change) "
   ]
  },
  {
   "cell_type": "code",
   "execution_count": 76,
   "id": "3986d3eb",
   "metadata": {},
   "outputs": [],
   "source": [
    "copia[\"Concert_venues\"] = copia[\"Concert_venues\"].apply(change)"
   ]
  },
  {
   "cell_type": "code",
   "execution_count": 77,
   "id": "27080d4a",
   "metadata": {},
   "outputs": [],
   "source": [
    "copia[\"Museums\"] = copia[\"Museums\"].apply(change)"
   ]
  },
  {
   "cell_type": "code",
   "execution_count": 78,
   "id": "e2c98aaf",
   "metadata": {},
   "outputs": [],
   "source": [
    "copia[\"Sport_venues\"] = copia[\"Sport_venues\"].apply(change)"
   ]
  },
  {
   "cell_type": "code",
   "execution_count": 79,
   "id": "e332332c",
   "metadata": {},
   "outputs": [],
   "source": [
    "def delete_percentage(i):\n",
    "    i = str(i).replace('%', \"\")\n",
    "    return i"
   ]
  },
  {
   "cell_type": "code",
   "execution_count": 80,
   "id": "a48c6f35",
   "metadata": {},
   "outputs": [],
   "source": [
    "copia[\"Growth\"] = copia[\"Growth\"].apply(delete_percentage)"
   ]
  },
  {
   "cell_type": "code",
   "execution_count": 81,
   "id": "cbeb51c5",
   "metadata": {},
   "outputs": [],
   "source": [
    "copia[\"Unemployment\"] = copia[\"Unemployment\"].apply(delete_percentage)"
   ]
  },
  {
   "cell_type": "code",
   "execution_count": 118,
   "id": "9d060d2e",
   "metadata": {},
   "outputs": [],
   "source": [
    "copia[\"GDP_per_capita\"] = copia[\"GDP_per_capita\"].apply(delete_percentage)"
   ]
  },
  {
   "cell_type": "markdown",
   "id": "9a35cf20",
   "metadata": {},
   "source": [
    "### We must convert the dtype of the columns"
   ]
  },
  {
   "cell_type": "code",
   "execution_count": 82,
   "id": "5dbc92e1",
   "metadata": {},
   "outputs": [
    {
     "name": "stdout",
     "output_type": "stream",
     "text": [
      "<class 'pandas.core.frame.DataFrame'>\n",
      "RangeIndex: 262 entries, 0 to 261\n",
      "Data columns (total 33 columns):\n",
      " #   Column                           Non-Null Count  Dtype \n",
      "---  ------                           --------------  ----- \n",
      " 0   Unnamed: 0                       262 non-null    int64 \n",
      " 1   Climate                          262 non-null    object\n",
      " 2   Growth                           262 non-null    object\n",
      " 3   GDP_per_capita                   262 non-null    object\n",
      " 4   Unemployment                     262 non-null    object\n",
      " 5   Homosexuality_acceptance         262 non-null    object\n",
      " 6   LGBT_adoption_rights             262 non-null    object\n",
      " 7   LGBT_homosexuality_rights        262 non-null    object\n",
      " 8   LGBT_marriage_rights             262 non-null    object\n",
      " 9   VAT_Sales_Tax                    262 non-null    object\n",
      " 10  Art_galleries                    262 non-null    object\n",
      " 11  Concert_venues                   262 non-null    object\n",
      " 12  Museums                          262 non-null    object\n",
      " 13  Sport_venues                     262 non-null    object\n",
      " 14  Currency_for_urban_area          262 non-null    object\n",
      " 15  GDP_per_capita.1                 262 non-null    object\n",
      " 16  Monthly_Fitness_Club_Membership  262 non-null    object\n",
      " 17  Beer                             262 non-null    object\n",
      " 18  Monthly_Public_Transport         262 non-null    object\n",
      " 19  Lunch                            262 non-null    object\n",
      " 20  Airport_score                    262 non-null    object\n",
      " 21  Airport_hub                      262 non-null    object\n",
      " 22  Intercity_train_connectivity     262 non-null    object\n",
      " 23  Gun_related_deaths               262 non-null    object\n",
      " 24  Guns_per_residents               262 non-null    object\n",
      " 25  Pisa_ranking                     262 non-null    object\n",
      " 26  Best_university                  262 non-null    object\n",
      " 27  Large_apartment                  262 non-null    object\n",
      " 28  Medium_apartment                 262 non-null    object\n",
      " 29  Small_apartment                  262 non-null    object\n",
      " 30  Description                      262 non-null    object\n",
      " 31  Poblacion                        262 non-null    object\n",
      " 32  Cities                           262 non-null    object\n",
      "dtypes: int64(1), object(32)\n",
      "memory usage: 67.7+ KB\n"
     ]
    }
   ],
   "source": [
    "copia.info()"
   ]
  },
  {
   "cell_type": "code",
   "execution_count": 83,
   "id": "48e14562",
   "metadata": {},
   "outputs": [],
   "source": [
    "copia[\"Small_apartment\"] = copia[\"Small_apartment\"].astype(dtype=int)"
   ]
  },
  {
   "cell_type": "code",
   "execution_count": 84,
   "id": "85074a43",
   "metadata": {},
   "outputs": [],
   "source": [
    "copia[\"Medium_apartment\"] = copia[\"Medium_apartment\"].astype(dtype=int)"
   ]
  },
  {
   "cell_type": "code",
   "execution_count": 85,
   "id": "950711bd",
   "metadata": {},
   "outputs": [],
   "source": [
    "copia[\"Large_apartment\"] = copia[\"Large_apartment\"].astype(dtype=int)"
   ]
  },
  {
   "cell_type": "code",
   "execution_count": 86,
   "id": "f25524ae",
   "metadata": {},
   "outputs": [],
   "source": [
    "copia[\"Airport_hub\"] = copia[\"Airport_hub\"].astype(dtype=int)"
   ]
  },
  {
   "cell_type": "code",
   "execution_count": 87,
   "id": "0d29da30",
   "metadata": {},
   "outputs": [],
   "source": [
    "copia[\"Gun_related_deaths\"] = copia[\"Gun_related_deaths\"].astype(dtype=int)"
   ]
  },
  {
   "cell_type": "code",
   "execution_count": 88,
   "id": "b6bb739f",
   "metadata": {},
   "outputs": [],
   "source": [
    "copia[\"Guns_per_residents\"] = copia[\"Guns_per_residents\"].astype(dtype=int)"
   ]
  },
  {
   "cell_type": "code",
   "execution_count": 89,
   "id": "fc6493ac",
   "metadata": {},
   "outputs": [],
   "source": [
    "copia[\"Pisa_ranking\"] = copia[\"Pisa_ranking\"].astype(dtype=int)"
   ]
  },
  {
   "cell_type": "code",
   "execution_count": 90,
   "id": "ac569768",
   "metadata": {},
   "outputs": [],
   "source": [
    "copia[\"Poblacion\"] = copia[\"Poblacion\"].astype(dtype=int)"
   ]
  },
  {
   "cell_type": "code",
   "execution_count": 91,
   "id": "14ed0837",
   "metadata": {},
   "outputs": [],
   "source": [
    "copia[\"Art_galleries\"] = copia[\"Art_galleries\"].astype(dtype=int)"
   ]
  },
  {
   "cell_type": "code",
   "execution_count": 92,
   "id": "6c20faa6",
   "metadata": {},
   "outputs": [],
   "source": [
    "copia[\"Concert_venues\"] = copia[\"Concert_venues\"].astype(dtype=int)"
   ]
  },
  {
   "cell_type": "code",
   "execution_count": 93,
   "id": "3aa48e78",
   "metadata": {},
   "outputs": [],
   "source": [
    "copia[\"Museums\"] = copia[\"Museums\"].astype(dtype=int)"
   ]
  },
  {
   "cell_type": "code",
   "execution_count": 94,
   "id": "283c6052",
   "metadata": {},
   "outputs": [],
   "source": [
    "copia[\"Sport_venues\"] = copia[\"Sport_venues\"].astype(dtype=int)"
   ]
  },
  {
   "cell_type": "code",
   "execution_count": 95,
   "id": "65157f96",
   "metadata": {},
   "outputs": [],
   "source": [
    "copia[\"Growth\"] = copia[\"Growth\"].astype(dtype=int)"
   ]
  },
  {
   "cell_type": "code",
   "execution_count": 96,
   "id": "cc4f9da2",
   "metadata": {},
   "outputs": [],
   "source": [
    "copia[\"Unemployment\"] = copia[\"Unemployment\"].astype(dtype=int)"
   ]
  },
  {
   "cell_type": "code",
   "execution_count": 99,
   "id": "15b8457d",
   "metadata": {},
   "outputs": [],
   "source": [
    "copia[\"Intercity_train_connectivity\"] = copia[\"Intercity_train_connectivity\"].astype(dtype=float)"
   ]
  },
  {
   "cell_type": "code",
   "execution_count": 102,
   "id": "a9654778",
   "metadata": {},
   "outputs": [],
   "source": [
    "copia[\"Monthly_Fitness_Club_Membership\"] = copia[\"Monthly_Fitness_Club_Membership\"].astype(dtype=float)"
   ]
  },
  {
   "cell_type": "code",
   "execution_count": 107,
   "id": "6c7f7960",
   "metadata": {},
   "outputs": [],
   "source": [
    "copia[\"Beer\"] = copia[\"Beer\"].astype(dtype=float)"
   ]
  },
  {
   "cell_type": "code",
   "execution_count": 108,
   "id": "5c7a69a7",
   "metadata": {},
   "outputs": [],
   "source": [
    "copia[\"Lunch\"] = copia[\"Lunch\"].astype(dtype=float)"
   ]
  },
  {
   "cell_type": "code",
   "execution_count": 111,
   "id": "eb145109",
   "metadata": {},
   "outputs": [],
   "source": [
    "copia[\"Monthly_Public_Transport\"] = copia[\"Monthly_Public_Transport\"].astype(dtype=float)"
   ]
  },
  {
   "cell_type": "code",
   "execution_count": 112,
   "id": "14d5c2c9",
   "metadata": {},
   "outputs": [],
   "source": [
    "copia[\"Homosexuality_acceptance\"] = copia[\"Homosexuality_acceptance\"].astype(dtype=float)"
   ]
  },
  {
   "cell_type": "code",
   "execution_count": 113,
   "id": "afeda263",
   "metadata": {},
   "outputs": [],
   "source": [
    "copia[\"VAT_Sales_Tax\"] = copia[\"VAT_Sales_Tax\"].astype(dtype=float)"
   ]
  },
  {
   "cell_type": "code",
   "execution_count": 115,
   "id": "5e561f06",
   "metadata": {},
   "outputs": [],
   "source": [
    "copia[\"Climate\"] = copia[\"Climate\"].astype(dtype=float)"
   ]
  },
  {
   "cell_type": "code",
   "execution_count": 119,
   "id": "532dce29",
   "metadata": {},
   "outputs": [],
   "source": [
    "copia[\"GDP_per_capita\"] =copia[\"GDP_per_capita\"].astype(dtype=float)"
   ]
  },
  {
   "cell_type": "code",
   "execution_count": 120,
   "id": "f3faeed0",
   "metadata": {},
   "outputs": [],
   "source": [
    "copia[\"Airport_score\"] = copia[\"Airport_score\"].astype(dtype=float)"
   ]
  },
  {
   "cell_type": "code",
   "execution_count": 121,
   "id": "92b6f27f",
   "metadata": {},
   "outputs": [],
   "source": [
    "def porcentaje(i):\n",
    "    i = i/100\n",
    "    return i"
   ]
  },
  {
   "cell_type": "code",
   "execution_count": 122,
   "id": "b3497722",
   "metadata": {},
   "outputs": [],
   "source": [
    "copia[\"Growth\"] = copia[\"Growth\"].apply(porcentaje)"
   ]
  },
  {
   "cell_type": "code",
   "execution_count": 123,
   "id": "57e65bfb",
   "metadata": {},
   "outputs": [],
   "source": [
    "copia[\"Unemployment\"] = copia[\"Unemployment\"].apply(porcentaje)"
   ]
  },
  {
   "cell_type": "code",
   "execution_count": 125,
   "id": "f0a8b4f3",
   "metadata": {},
   "outputs": [],
   "source": [
    "def menores(i):\n",
    "    if i <1:\n",
    "        i= i*100\n",
    "    return i"
   ]
  },
  {
   "cell_type": "code",
   "execution_count": 126,
   "id": "4f9b06c7",
   "metadata": {},
   "outputs": [],
   "source": [
    "copia[\"Homosexuality_acceptance\"] = copia[\"Homosexuality_acceptance\"].astype(dtype=float)"
   ]
  },
  {
   "cell_type": "code",
   "execution_count": 127,
   "id": "c1762f17",
   "metadata": {},
   "outputs": [],
   "source": [
    "copia[\"Homosexuality_acceptance\"] = copia[\"Homosexuality_acceptance\"].apply(menores)"
   ]
  },
  {
   "cell_type": "code",
   "execution_count": 128,
   "id": "1e47413a",
   "metadata": {},
   "outputs": [
    {
     "data": {
      "text/html": [
       "<div>\n",
       "<style scoped>\n",
       "    .dataframe tbody tr th:only-of-type {\n",
       "        vertical-align: middle;\n",
       "    }\n",
       "\n",
       "    .dataframe tbody tr th {\n",
       "        vertical-align: top;\n",
       "    }\n",
       "\n",
       "    .dataframe thead th {\n",
       "        text-align: right;\n",
       "    }\n",
       "</style>\n",
       "<table border=\"1\" class=\"dataframe\">\n",
       "  <thead>\n",
       "    <tr style=\"text-align: right;\">\n",
       "      <th></th>\n",
       "      <th>Unnamed: 0</th>\n",
       "      <th>Climate</th>\n",
       "      <th>Growth</th>\n",
       "      <th>GDP_per_capita</th>\n",
       "      <th>Unemployment</th>\n",
       "      <th>Homosexuality_acceptance</th>\n",
       "      <th>LGBT_adoption_rights</th>\n",
       "      <th>LGBT_homosexuality_rights</th>\n",
       "      <th>LGBT_marriage_rights</th>\n",
       "      <th>VAT_Sales_Tax</th>\n",
       "      <th>...</th>\n",
       "      <th>Gun_related_deaths</th>\n",
       "      <th>Guns_per_residents</th>\n",
       "      <th>Pisa_ranking</th>\n",
       "      <th>Best_university</th>\n",
       "      <th>Large_apartment</th>\n",
       "      <th>Medium_apartment</th>\n",
       "      <th>Small_apartment</th>\n",
       "      <th>Description</th>\n",
       "      <th>Poblacion</th>\n",
       "      <th>Cities</th>\n",
       "    </tr>\n",
       "  </thead>\n",
       "  <tbody>\n",
       "    <tr>\n",
       "      <th>0</th>\n",
       "      <td>0</td>\n",
       "      <td>0.0</td>\n",
       "      <td>0.05</td>\n",
       "      <td>44.343</td>\n",
       "      <td>0.04</td>\n",
       "      <td>93.03</td>\n",
       "      <td>Equal</td>\n",
       "      <td>Sexual orientation and gender identity</td>\n",
       "      <td>0.99</td>\n",
       "      <td>0.25</td>\n",
       "      <td>...</td>\n",
       "      <td>1</td>\n",
       "      <td>12</td>\n",
       "      <td>13</td>\n",
       "      <td>Aarhus University</td>\n",
       "      <td>1700</td>\n",
       "      <td>1300</td>\n",
       "      <td>840</td>\n",
       "      <td>Aarhus, Denmark, is among the top cities with ...</td>\n",
       "      <td>250200</td>\n",
       "      <td>Aarhus</td>\n",
       "    </tr>\n",
       "    <tr>\n",
       "      <th>1</th>\n",
       "      <td>1</td>\n",
       "      <td>12.6</td>\n",
       "      <td>0.07</td>\n",
       "      <td>46.433</td>\n",
       "      <td>0.06</td>\n",
       "      <td>79.00</td>\n",
       "      <td>No hay dato</td>\n",
       "      <td>Legal</td>\n",
       "      <td>Varies by Region</td>\n",
       "      <td>0.10</td>\n",
       "      <td>...</td>\n",
       "      <td>1</td>\n",
       "      <td>24</td>\n",
       "      <td>16</td>\n",
       "      <td>University of Adelaide</td>\n",
       "      <td>1500</td>\n",
       "      <td>1200</td>\n",
       "      <td>1000</td>\n",
       "      <td>Adelaide, Australia, is among the top cities w...</td>\n",
       "      <td>1708700</td>\n",
       "      <td>Adelaide</td>\n",
       "    </tr>\n",
       "    <tr>\n",
       "      <th>2</th>\n",
       "      <td>2</td>\n",
       "      <td>168.0</td>\n",
       "      <td>0.07</td>\n",
       "      <td>54.597</td>\n",
       "      <td>0.05</td>\n",
       "      <td>93.13</td>\n",
       "      <td>Equal</td>\n",
       "      <td>Sexual orientation and gender identity</td>\n",
       "      <td>0.45</td>\n",
       "      <td>0.07</td>\n",
       "      <td>...</td>\n",
       "      <td>16</td>\n",
       "      <td>328</td>\n",
       "      <td>24</td>\n",
       "      <td>University of New Mexico</td>\n",
       "      <td>1200</td>\n",
       "      <td>950</td>\n",
       "      <td>760</td>\n",
       "      <td>Albuquerque, New Mexico, is among the top citi...</td>\n",
       "      <td>630800</td>\n",
       "      <td>Albuquerque</td>\n",
       "    </tr>\n",
       "  </tbody>\n",
       "</table>\n",
       "<p>3 rows × 33 columns</p>\n",
       "</div>"
      ],
      "text/plain": [
       "   Unnamed: 0  Climate  Growth  GDP_per_capita  Unemployment  \\\n",
       "0           0      0.0    0.05          44.343          0.04   \n",
       "1           1     12.6    0.07          46.433          0.06   \n",
       "2           2    168.0    0.07          54.597          0.05   \n",
       "\n",
       "   Homosexuality_acceptance LGBT_adoption_rights  \\\n",
       "0                     93.03                Equal   \n",
       "1                     79.00          No hay dato   \n",
       "2                     93.13                Equal   \n",
       "\n",
       "                 LGBT_homosexuality_rights LGBT_marriage_rights  \\\n",
       "0   Sexual orientation and gender identity                 0.99   \n",
       "1                                    Legal     Varies by Region   \n",
       "2   Sexual orientation and gender identity                 0.45   \n",
       "\n",
       "   VAT_Sales_Tax  ...  Gun_related_deaths  Guns_per_residents  Pisa_ranking  \\\n",
       "0           0.25  ...                   1                  12            13   \n",
       "1           0.10  ...                   1                  24            16   \n",
       "2           0.07  ...                  16                 328            24   \n",
       "\n",
       "            Best_university Large_apartment Medium_apartment  Small_apartment  \\\n",
       "0         Aarhus University            1700             1300              840   \n",
       "1    University of Adelaide            1500             1200             1000   \n",
       "2  University of New Mexico            1200              950              760   \n",
       "\n",
       "                                         Description  Poblacion       Cities  \n",
       "0  Aarhus, Denmark, is among the top cities with ...     250200       Aarhus  \n",
       "1  Adelaide, Australia, is among the top cities w...    1708700     Adelaide  \n",
       "2  Albuquerque, New Mexico, is among the top citi...     630800  Albuquerque  \n",
       "\n",
       "[3 rows x 33 columns]"
      ]
     },
     "execution_count": 128,
     "metadata": {},
     "output_type": "execute_result"
    }
   ],
   "source": [
    "copia.head(3)"
   ]
  },
  {
   "cell_type": "code",
   "execution_count": 130,
   "id": "e46d8f55",
   "metadata": {},
   "outputs": [
    {
     "data": {
      "text/plain": [
       "Index(['Unnamed: 0', 'Climate', 'Growth', 'GDP_per_capita', 'Unemployment',\n",
       "       'Homosexuality_acceptance', 'LGBT_adoption_rights',\n",
       "       'LGBT_homosexuality_rights', 'LGBT_marriage_rights', 'VAT_Sales_Tax',\n",
       "       'Art_galleries', 'Concert_venues', 'Museums', 'Sport_venues',\n",
       "       'Currency_for_urban_area', 'GDP_per_capita.1',\n",
       "       'Monthly_Fitness_Club_Membership', 'Beer', 'Monthly_Public_Transport',\n",
       "       'Lunch', 'Airport_score', 'Airport_hub', 'Intercity_train_connectivity',\n",
       "       'Gun_related_deaths', 'Guns_per_residents', 'Pisa_ranking',\n",
       "       'Best_university', 'Large_apartment', 'Medium_apartment',\n",
       "       'Small_apartment', 'Description', 'Poblacion', 'Cities'],\n",
       "      dtype='object')"
      ]
     },
     "execution_count": 130,
     "metadata": {},
     "output_type": "execute_result"
    }
   ],
   "source": [
    "copia.columns"
   ]
  },
  {
   "cell_type": "markdown",
   "id": "c3e8696a",
   "metadata": {},
   "source": [
    "### We will eliminate some columns that we will not use"
   ]
  },
  {
   "cell_type": "code",
   "execution_count": 131,
   "id": "dd3debd0",
   "metadata": {},
   "outputs": [],
   "source": [
    "copia.drop([\"Unnamed: 0\", \"GDP_per_capita.1\"], axis=1, inplace=True)"
   ]
  },
  {
   "cell_type": "code",
   "execution_count": 133,
   "id": "a970d0cb",
   "metadata": {},
   "outputs": [],
   "source": [
    "new_name = {\"Growth\": \"Growth_percentage\", \"Unemployment\": \"Unemployment_percentage\"}"
   ]
  },
  {
   "cell_type": "code",
   "execution_count": 134,
   "id": "019f0343",
   "metadata": {},
   "outputs": [],
   "source": [
    "copia.rename(columns=new_name, inplace=True)"
   ]
  },
  {
   "cell_type": "code",
   "execution_count": 135,
   "id": "497417fe",
   "metadata": {
    "scrolled": true
   },
   "outputs": [
    {
     "name": "stdout",
     "output_type": "stream",
     "text": [
      "<class 'pandas.core.frame.DataFrame'>\n",
      "RangeIndex: 262 entries, 0 to 261\n",
      "Data columns (total 31 columns):\n",
      " #   Column                           Non-Null Count  Dtype  \n",
      "---  ------                           --------------  -----  \n",
      " 0   Climate                          262 non-null    float64\n",
      " 1   Growth_percentage                262 non-null    float64\n",
      " 2   GDP_per_capita                   262 non-null    float64\n",
      " 3   Unemployment_percentage          262 non-null    float64\n",
      " 4   Homosexuality_acceptance         262 non-null    float64\n",
      " 5   LGBT_adoption_rights             262 non-null    object \n",
      " 6   LGBT_homosexuality_rights        262 non-null    object \n",
      " 7   LGBT_marriage_rights             262 non-null    object \n",
      " 8   VAT_Sales_Tax                    262 non-null    float64\n",
      " 9   Art_galleries                    262 non-null    int64  \n",
      " 10  Concert_venues                   262 non-null    int64  \n",
      " 11  Museums                          262 non-null    int64  \n",
      " 12  Sport_venues                     262 non-null    int64  \n",
      " 13  Currency_for_urban_area          262 non-null    object \n",
      " 14  Monthly_Fitness_Club_Membership  262 non-null    float64\n",
      " 15  Beer                             262 non-null    float64\n",
      " 16  Monthly_Public_Transport         262 non-null    float64\n",
      " 17  Lunch                            262 non-null    float64\n",
      " 18  Airport_score                    262 non-null    float64\n",
      " 19  Airport_hub                      262 non-null    int64  \n",
      " 20  Intercity_train_connectivity     262 non-null    float64\n",
      " 21  Gun_related_deaths               262 non-null    int64  \n",
      " 22  Guns_per_residents               262 non-null    int64  \n",
      " 23  Pisa_ranking                     262 non-null    int64  \n",
      " 24  Best_university                  262 non-null    object \n",
      " 25  Large_apartment                  262 non-null    int64  \n",
      " 26  Medium_apartment                 262 non-null    int64  \n",
      " 27  Small_apartment                  262 non-null    int64  \n",
      " 28  Description                      262 non-null    object \n",
      " 29  Poblacion                        262 non-null    int64  \n",
      " 30  Cities                           262 non-null    object \n",
      "dtypes: float64(12), int64(12), object(7)\n",
      "memory usage: 63.6+ KB\n"
     ]
    }
   ],
   "source": [
    "copia.info()"
   ]
  },
  {
   "cell_type": "code",
   "execution_count": 136,
   "id": "9edf8882",
   "metadata": {},
   "outputs": [],
   "source": [
    "copia.to_csv(\"../Data/Data_clean_user.csv\")"
   ]
  },
  {
   "cell_type": "code",
   "execution_count": null,
   "id": "ddd0caa8",
   "metadata": {},
   "outputs": [],
   "source": [
    "copia.columns"
   ]
  },
  {
   "cell_type": "markdown",
   "id": "c1b7959a",
   "metadata": {},
   "source": [
    "### We will add coordinates to make maps of each city."
   ]
  },
  {
   "cell_type": "code",
   "execution_count": 137,
   "id": "3f36bc6c",
   "metadata": {},
   "outputs": [],
   "source": [
    "import pandas as pd\n",
    "import xlrd\n",
    "from geopy.geocoders import Nominatim"
   ]
  },
  {
   "cell_type": "code",
   "execution_count": 138,
   "id": "b12bd862",
   "metadata": {},
   "outputs": [],
   "source": [
    "def get_coordenadas(city):\n",
    "    \"\"\"\n",
    "    Esta función saca las coordenadas de la ciudad que le pases.\n",
    "    Args: una ciudad (string).\n",
    "    Return: Las coordeandas de la ciudad que le paso como argumento (latitud y longitud).\n",
    "    \"\"\"\n",
    "    geolocator = Nominatim(user_agent=\"Dani\")\n",
    "    location = geolocator.geocode(query=city, exactly_one=True)\n",
    "    \n",
    "    return location[1]"
   ]
  },
  {
   "cell_type": "code",
   "execution_count": 139,
   "id": "bb953b66",
   "metadata": {},
   "outputs": [],
   "source": [
    "copia['Coordenadas'] = copia['Cities'].apply(get_coordenadas)"
   ]
  },
  {
   "cell_type": "code",
   "execution_count": 143,
   "id": "b8f5a274",
   "metadata": {},
   "outputs": [],
   "source": [
    "def hacer_lista(resp):\n",
    "    return list(resp)"
   ]
  },
  {
   "cell_type": "code",
   "execution_count": 144,
   "id": "298b802e",
   "metadata": {},
   "outputs": [],
   "source": [
    "copia['Coordenadas'] = copia['Coordenadas'].apply(hacer_lista)"
   ]
  },
  {
   "cell_type": "code",
   "execution_count": 146,
   "id": "e1bfa220",
   "metadata": {},
   "outputs": [
    {
     "data": {
      "text/plain": [
       "list"
      ]
     },
     "execution_count": 146,
     "metadata": {},
     "output_type": "execute_result"
    }
   ],
   "source": [
    "type(coord_feas)"
   ]
  },
  {
   "cell_type": "code",
   "execution_count": 147,
   "id": "6d802200",
   "metadata": {},
   "outputs": [
    {
     "data": {
      "text/plain": [
       "float"
      ]
     },
     "execution_count": 147,
     "metadata": {},
     "output_type": "execute_result"
    }
   ],
   "source": [
    "type(copia.Coordenadas[0][0])"
   ]
  },
  {
   "cell_type": "code",
   "execution_count": 162,
   "id": "c2f03665",
   "metadata": {},
   "outputs": [],
   "source": [
    "def latitud(data):\n",
    "    return data[0]"
   ]
  },
  {
   "cell_type": "code",
   "execution_count": 165,
   "id": "a29de317",
   "metadata": {},
   "outputs": [],
   "source": [
    "def longitud(data):\n",
    "    return data[1]"
   ]
  },
  {
   "cell_type": "code",
   "execution_count": 163,
   "id": "df3f64bc",
   "metadata": {},
   "outputs": [],
   "source": [
    "copia[\"lat\"] = copia.Coordenadas.apply(latitud)"
   ]
  },
  {
   "cell_type": "code",
   "execution_count": 166,
   "id": "a955ee99",
   "metadata": {},
   "outputs": [],
   "source": [
    "copia[\"long\"] = copia.Coordenadas.apply(longitud)"
   ]
  },
  {
   "cell_type": "code",
   "execution_count": 167,
   "id": "36283a64",
   "metadata": {},
   "outputs": [
    {
     "data": {
      "text/html": [
       "<div>\n",
       "<style scoped>\n",
       "    .dataframe tbody tr th:only-of-type {\n",
       "        vertical-align: middle;\n",
       "    }\n",
       "\n",
       "    .dataframe tbody tr th {\n",
       "        vertical-align: top;\n",
       "    }\n",
       "\n",
       "    .dataframe thead th {\n",
       "        text-align: right;\n",
       "    }\n",
       "</style>\n",
       "<table border=\"1\" class=\"dataframe\">\n",
       "  <thead>\n",
       "    <tr style=\"text-align: right;\">\n",
       "      <th></th>\n",
       "      <th>Climate</th>\n",
       "      <th>Growth_percentage</th>\n",
       "      <th>GDP_per_capita</th>\n",
       "      <th>Unemployment_percentage</th>\n",
       "      <th>Homosexuality_acceptance</th>\n",
       "      <th>LGBT_adoption_rights</th>\n",
       "      <th>LGBT_homosexuality_rights</th>\n",
       "      <th>LGBT_marriage_rights</th>\n",
       "      <th>VAT_Sales_Tax</th>\n",
       "      <th>Art_galleries</th>\n",
       "      <th>...</th>\n",
       "      <th>Best_university</th>\n",
       "      <th>Large_apartment</th>\n",
       "      <th>Medium_apartment</th>\n",
       "      <th>Small_apartment</th>\n",
       "      <th>Description</th>\n",
       "      <th>Poblacion</th>\n",
       "      <th>Cities</th>\n",
       "      <th>Coordenadas</th>\n",
       "      <th>lat</th>\n",
       "      <th>long</th>\n",
       "    </tr>\n",
       "  </thead>\n",
       "  <tbody>\n",
       "    <tr>\n",
       "      <th>0</th>\n",
       "      <td>0.0</td>\n",
       "      <td>0.05</td>\n",
       "      <td>44.343</td>\n",
       "      <td>0.04</td>\n",
       "      <td>93.03</td>\n",
       "      <td>Equal</td>\n",
       "      <td>Sexual orientation and gender identity</td>\n",
       "      <td>0.99</td>\n",
       "      <td>0.25</td>\n",
       "      <td>51</td>\n",
       "      <td>...</td>\n",
       "      <td>Aarhus University</td>\n",
       "      <td>1700</td>\n",
       "      <td>1300</td>\n",
       "      <td>840</td>\n",
       "      <td>Aarhus, Denmark, is among the top cities with ...</td>\n",
       "      <td>250200</td>\n",
       "      <td>Aarhus</td>\n",
       "      <td>[56.1496278, 10.2134046]</td>\n",
       "      <td>56.149628</td>\n",
       "      <td>10.213405</td>\n",
       "    </tr>\n",
       "    <tr>\n",
       "      <th>1</th>\n",
       "      <td>12.6</td>\n",
       "      <td>0.07</td>\n",
       "      <td>46.433</td>\n",
       "      <td>0.06</td>\n",
       "      <td>79.00</td>\n",
       "      <td>No hay dato</td>\n",
       "      <td>Legal</td>\n",
       "      <td>Varies by Region</td>\n",
       "      <td>0.10</td>\n",
       "      <td>82</td>\n",
       "      <td>...</td>\n",
       "      <td>University of Adelaide</td>\n",
       "      <td>1500</td>\n",
       "      <td>1200</td>\n",
       "      <td>1000</td>\n",
       "      <td>Adelaide, Australia, is among the top cities w...</td>\n",
       "      <td>1708700</td>\n",
       "      <td>Adelaide</td>\n",
       "      <td>[-34.9281805, 138.5999312]</td>\n",
       "      <td>-34.928181</td>\n",
       "      <td>138.599931</td>\n",
       "    </tr>\n",
       "    <tr>\n",
       "      <th>2</th>\n",
       "      <td>168.0</td>\n",
       "      <td>0.07</td>\n",
       "      <td>54.597</td>\n",
       "      <td>0.05</td>\n",
       "      <td>93.13</td>\n",
       "      <td>Equal</td>\n",
       "      <td>Sexual orientation and gender identity</td>\n",
       "      <td>0.45</td>\n",
       "      <td>0.07</td>\n",
       "      <td>127</td>\n",
       "      <td>...</td>\n",
       "      <td>University of New Mexico</td>\n",
       "      <td>1200</td>\n",
       "      <td>950</td>\n",
       "      <td>760</td>\n",
       "      <td>Albuquerque, New Mexico, is among the top citi...</td>\n",
       "      <td>630800</td>\n",
       "      <td>Albuquerque</td>\n",
       "      <td>[35.0841034, -106.650985]</td>\n",
       "      <td>35.084103</td>\n",
       "      <td>-106.650985</td>\n",
       "    </tr>\n",
       "    <tr>\n",
       "      <th>3</th>\n",
       "      <td>64.0</td>\n",
       "      <td>0.09</td>\n",
       "      <td>24.020</td>\n",
       "      <td>0.06</td>\n",
       "      <td>66.56</td>\n",
       "      <td>Equal</td>\n",
       "      <td>Ambiguous</td>\n",
       "      <td>0.64</td>\n",
       "      <td>0.12</td>\n",
       "      <td>61</td>\n",
       "      <td>...</td>\n",
       "      <td>No hay dato</td>\n",
       "      <td>620</td>\n",
       "      <td>480</td>\n",
       "      <td>340</td>\n",
       "      <td>Almaty, Kazakhstan, differentiates itself with...</td>\n",
       "      <td>2029800</td>\n",
       "      <td>Almaty</td>\n",
       "      <td>[43.2363924, 76.9457275]</td>\n",
       "      <td>43.236392</td>\n",
       "      <td>76.945728</td>\n",
       "    </tr>\n",
       "    <tr>\n",
       "      <th>4</th>\n",
       "      <td>12.9</td>\n",
       "      <td>0.03</td>\n",
       "      <td>47.355</td>\n",
       "      <td>0.06</td>\n",
       "      <td>97.37</td>\n",
       "      <td>Equal</td>\n",
       "      <td>Sexual orientation and gender identity</td>\n",
       "      <td>0.67</td>\n",
       "      <td>0.21</td>\n",
       "      <td>284</td>\n",
       "      <td>...</td>\n",
       "      <td>University of Amsterdam</td>\n",
       "      <td>2400</td>\n",
       "      <td>2000</td>\n",
       "      <td>1600</td>\n",
       "      <td>Amsterdam is one of the most bike-friendly cit...</td>\n",
       "      <td>2628100</td>\n",
       "      <td>Amsterdam</td>\n",
       "      <td>[52.3727598, 4.8936041]</td>\n",
       "      <td>52.372760</td>\n",
       "      <td>4.893604</td>\n",
       "    </tr>\n",
       "  </tbody>\n",
       "</table>\n",
       "<p>5 rows × 34 columns</p>\n",
       "</div>"
      ],
      "text/plain": [
       "   Climate  Growth_percentage  GDP_per_capita  Unemployment_percentage  \\\n",
       "0      0.0               0.05          44.343                     0.04   \n",
       "1     12.6               0.07          46.433                     0.06   \n",
       "2    168.0               0.07          54.597                     0.05   \n",
       "3     64.0               0.09          24.020                     0.06   \n",
       "4     12.9               0.03          47.355                     0.06   \n",
       "\n",
       "   Homosexuality_acceptance LGBT_adoption_rights  \\\n",
       "0                     93.03                Equal   \n",
       "1                     79.00          No hay dato   \n",
       "2                     93.13                Equal   \n",
       "3                     66.56                Equal   \n",
       "4                     97.37                Equal   \n",
       "\n",
       "                 LGBT_homosexuality_rights LGBT_marriage_rights  \\\n",
       "0   Sexual orientation and gender identity                 0.99   \n",
       "1                                    Legal     Varies by Region   \n",
       "2   Sexual orientation and gender identity                 0.45   \n",
       "3                                Ambiguous                 0.64   \n",
       "4   Sexual orientation and gender identity                 0.67   \n",
       "\n",
       "   VAT_Sales_Tax  Art_galleries  ...           Best_university  \\\n",
       "0           0.25             51  ...         Aarhus University   \n",
       "1           0.10             82  ...    University of Adelaide   \n",
       "2           0.07            127  ...  University of New Mexico   \n",
       "3           0.12             61  ...               No hay dato   \n",
       "4           0.21            284  ...   University of Amsterdam   \n",
       "\n",
       "   Large_apartment  Medium_apartment Small_apartment  \\\n",
       "0             1700              1300             840   \n",
       "1             1500              1200            1000   \n",
       "2             1200               950             760   \n",
       "3              620               480             340   \n",
       "4             2400              2000            1600   \n",
       "\n",
       "                                         Description  Poblacion       Cities  \\\n",
       "0  Aarhus, Denmark, is among the top cities with ...     250200       Aarhus   \n",
       "1  Adelaide, Australia, is among the top cities w...    1708700     Adelaide   \n",
       "2  Albuquerque, New Mexico, is among the top citi...     630800  Albuquerque   \n",
       "3  Almaty, Kazakhstan, differentiates itself with...    2029800       Almaty   \n",
       "4  Amsterdam is one of the most bike-friendly cit...    2628100    Amsterdam   \n",
       "\n",
       "                  Coordenadas        lat        long  \n",
       "0    [56.1496278, 10.2134046]  56.149628   10.213405  \n",
       "1  [-34.9281805, 138.5999312] -34.928181  138.599931  \n",
       "2   [35.0841034, -106.650985]  35.084103 -106.650985  \n",
       "3    [43.2363924, 76.9457275]  43.236392   76.945728  \n",
       "4     [52.3727598, 4.8936041]  52.372760    4.893604  \n",
       "\n",
       "[5 rows x 34 columns]"
      ]
     },
     "execution_count": 167,
     "metadata": {},
     "output_type": "execute_result"
    }
   ],
   "source": [
    "copia.head()"
   ]
  },
  {
   "cell_type": "code",
   "execution_count": 168,
   "id": "4395b23b",
   "metadata": {},
   "outputs": [],
   "source": [
    "copia.to_csv(\"../Data/user_coord.csv\")"
   ]
  },
  {
   "cell_type": "markdown",
   "id": "88f6b6e6",
   "metadata": {},
   "source": [
    "### Con nuestros datos limpios, le daremos forma a un nuevo dataset que utilizaremos para realizar los clusters "
   ]
  },
  {
   "cell_type": "code",
   "execution_count": null,
   "id": "e6e6ff32",
   "metadata": {},
   "outputs": [],
   "source": [
    "PCA_user = copia.copy()"
   ]
  },
  {
   "cell_type": "code",
   "execution_count": null,
   "id": "291df136",
   "metadata": {},
   "outputs": [],
   "source": [
    "PCA_user.columns"
   ]
  },
  {
   "cell_type": "markdown",
   "id": "924cd541",
   "metadata": {},
   "source": [
    "#### Eliminamos columnas que no utilizaremos"
   ]
  },
  {
   "cell_type": "code",
   "execution_count": null,
   "id": "d0fd0946",
   "metadata": {},
   "outputs": [],
   "source": [
    "PCA_user.drop([\"Airport_hub\",\"Guns_per_residents\", \"Best_university\", \"Monthly_Fitness_Club_Membership\",\"Beer\",\"Monthly_Public_Transport\",\"Lunch\",\"Description\",\"Poblacion\",\"LGBT_adoption_rights\",\"LGBT_homosexuality_rights\",\"LGBT_marriage_rights\",\"Url\",\"Currency_for_urban_area\"], axis=1, inplace=True)"
   ]
  },
  {
   "cell_type": "code",
   "execution_count": null,
   "id": "d8b65904",
   "metadata": {},
   "outputs": [],
   "source": [
    "PCA_user.head()"
   ]
  },
  {
   "cell_type": "code",
   "execution_count": null,
   "id": "45bd8b6d",
   "metadata": {},
   "outputs": [],
   "source": [
    "PCA_user['Housing'] = PCA_user[[\"Large_apartment\", \"Medium_apartment\",\"Small_apartment\"]].mean(axis=1)"
   ]
  },
  {
   "cell_type": "code",
   "execution_count": null,
   "id": "d3a5b654",
   "metadata": {},
   "outputs": [],
   "source": [
    "PCA_user.drop([\"Large_apartment\",\"Medium_apartment\",\"Small_apartment\"], axis=1, inplace=True)"
   ]
  },
  {
   "cell_type": "code",
   "execution_count": null,
   "id": "548a63dc",
   "metadata": {},
   "outputs": [],
   "source": [
    "PCA_user['Culture'] = PCA_user[['Art_galleries','Concert_venues','Museums']].sum(axis=1)"
   ]
  },
  {
   "cell_type": "code",
   "execution_count": null,
   "id": "3e40435d",
   "metadata": {},
   "outputs": [],
   "source": [
    "PCA_user.drop([\"Art_galleries\",\"Concert_venues\",\"Museums\"], axis=1, inplace=True)"
   ]
  },
  {
   "cell_type": "code",
   "execution_count": null,
   "id": "f1ec96a2",
   "metadata": {},
   "outputs": [],
   "source": [
    "PCA_user.info()"
   ]
  },
  {
   "cell_type": "code",
   "execution_count": null,
   "id": "dc0912dc",
   "metadata": {},
   "outputs": [],
   "source": [
    "PCA_user['Travel_connectivity'] = PCA_user[[\"Intercity_train_connectivity\", \"Airport_score\"]].mean(axis=1)"
   ]
  },
  {
   "cell_type": "code",
   "execution_count": null,
   "id": "3eaa39e6",
   "metadata": {},
   "outputs": [],
   "source": [
    "PCA_user.drop([\"Intercity_train_connectivity\",\"Airport_score\"], axis=1, inplace=True)"
   ]
  },
  {
   "cell_type": "code",
   "execution_count": null,
   "id": "c87ce702",
   "metadata": {},
   "outputs": [],
   "source": [
    "PCA_user[\"Housing\"] = PCA_user[\"Housing\"].astype(dtype=int)"
   ]
  },
  {
   "cell_type": "code",
   "execution_count": null,
   "id": "96cd5eb7",
   "metadata": {},
   "outputs": [],
   "source": [
    "PCA_user.head()"
   ]
  },
  {
   "cell_type": "code",
   "execution_count": null,
   "id": "427bf431",
   "metadata": {},
   "outputs": [],
   "source": [
    "PCA_user.to_csv(\"../Data/clean_PCA_user.csv\")"
   ]
  },
  {
   "cell_type": "code",
   "execution_count": null,
   "id": "dbfd790b",
   "metadata": {},
   "outputs": [],
   "source": []
  },
  {
   "cell_type": "code",
   "execution_count": null,
   "id": "964cac5c",
   "metadata": {},
   "outputs": [],
   "source": []
  }
 ],
 "metadata": {
  "kernelspec": {
   "display_name": "ironhack2",
   "language": "python",
   "name": "ironhack2"
  },
  "language_info": {
   "codemirror_mode": {
    "name": "ipython",
    "version": 3
   },
   "file_extension": ".py",
   "mimetype": "text/x-python",
   "name": "python",
   "nbconvert_exporter": "python",
   "pygments_lexer": "ipython3",
   "version": "3.8.5"
  }
 },
 "nbformat": 4,
 "nbformat_minor": 5
}
