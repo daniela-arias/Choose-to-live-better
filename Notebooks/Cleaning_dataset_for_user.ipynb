{
 "cells": [
  {
   "cell_type": "markdown",
   "id": "a2e0ba88",
   "metadata": {},
   "source": [
    "## 1. Import libraries"
   ]
  },
  {
   "cell_type": "code",
   "execution_count": 83,
   "id": "1ed66b51",
   "metadata": {},
   "outputs": [],
   "source": [
    "import requests\n",
    "from selenium import webdriver\n",
    "from time import sleep\n",
    "from selenium.webdriver.chrome.options import Options\n",
    "from webdriver_manager.chrome import ChromeDriverManager\n",
    "from bs4 import BeautifulSoup\n",
    "import pandas as pd\n",
    "import sys\n",
    "sys.path.append('../')\n",
    "import numpy as np\n",
    "import re"
   ]
  },
  {
   "cell_type": "markdown",
   "id": "6b09fcc3",
   "metadata": {},
   "source": [
    "## 2. Import Data"
   ]
  },
  {
   "cell_type": "code",
   "execution_count": 11,
   "id": "ea131802",
   "metadata": {},
   "outputs": [],
   "source": [
    "df = pd.read_csv(\"../Data/ultimo_web_scrapping.csv\")"
   ]
  },
  {
   "cell_type": "code",
   "execution_count": 12,
   "id": "e7e31762",
   "metadata": {},
   "outputs": [],
   "source": [
    "column_air = pd.read_csv(\"../Data/air.csv\")"
   ]
  },
  {
   "cell_type": "markdown",
   "id": "6997fc37",
   "metadata": {},
   "source": [
    "## 3. We explore the dataset"
   ]
  },
  {
   "cell_type": "code",
   "execution_count": 13,
   "id": "b8aa8999",
   "metadata": {},
   "outputs": [
    {
     "data": {
      "text/html": [
       "<div>\n",
       "<style scoped>\n",
       "    .dataframe tbody tr th:only-of-type {\n",
       "        vertical-align: middle;\n",
       "    }\n",
       "\n",
       "    .dataframe tbody tr th {\n",
       "        vertical-align: top;\n",
       "    }\n",
       "\n",
       "    .dataframe thead th {\n",
       "        text-align: right;\n",
       "    }\n",
       "</style>\n",
       "<table border=\"1\" class=\"dataframe\">\n",
       "  <thead>\n",
       "    <tr style=\"text-align: right;\">\n",
       "      <th></th>\n",
       "      <th>Unnamed: 0</th>\n",
       "      <th>Airport_hub</th>\n",
       "      <th>Intercity_train_connectivity</th>\n",
       "      <th>Gun_related_deaths</th>\n",
       "      <th>Guns_per_residents</th>\n",
       "      <th>Pisa_ranking</th>\n",
       "      <th>Best_university</th>\n",
       "      <th>Monthly_Fitness_Club_Membership</th>\n",
       "      <th>Beer</th>\n",
       "      <th>Monthly_Public_Transport</th>\n",
       "      <th>...</th>\n",
       "      <th>Concert_venues</th>\n",
       "      <th>Museums</th>\n",
       "      <th>Sport_venues</th>\n",
       "      <th>Currency_for_urban_area</th>\n",
       "      <th>GDP_per_capita_uno</th>\n",
       "      <th>Growth</th>\n",
       "      <th>GDP_per_capita_otro</th>\n",
       "      <th>Unemployment</th>\n",
       "      <th>url</th>\n",
       "      <th>Average_Annual_percent_sunshine</th>\n",
       "    </tr>\n",
       "  </thead>\n",
       "  <tbody>\n",
       "    <tr>\n",
       "      <th>0</th>\n",
       "      <td>0</td>\n",
       "      <td>8</td>\n",
       "      <td>0.59</td>\n",
       "      <td>1</td>\n",
       "      <td>12</td>\n",
       "      <td>13</td>\n",
       "      <td>Aarhus University</td>\n",
       "      <td>$37.00</td>\n",
       "      <td>$1.70</td>\n",
       "      <td>$62.00</td>\n",
       "      <td>...</td>\n",
       "      <td>95</td>\n",
       "      <td>18</td>\n",
       "      <td>21</td>\n",
       "      <td>DKK</td>\n",
       "      <td>$44342.66</td>\n",
       "      <td>5%</td>\n",
       "      <td>$44,343</td>\n",
       "      <td>4%</td>\n",
       "      <td>https://teleport.org/cities/aarhus/</td>\n",
       "      <td>No hay dato</td>\n",
       "    </tr>\n",
       "    <tr>\n",
       "      <th>1</th>\n",
       "      <td>1</td>\n",
       "      <td>26</td>\n",
       "      <td>0.17</td>\n",
       "      <td>1</td>\n",
       "      <td>24</td>\n",
       "      <td>16</td>\n",
       "      <td>University of Adelaide</td>\n",
       "      <td>$50.00</td>\n",
       "      <td>$4.30</td>\n",
       "      <td>$80.00</td>\n",
       "      <td>...</td>\n",
       "      <td>89</td>\n",
       "      <td>37</td>\n",
       "      <td>91</td>\n",
       "      <td>AUD</td>\n",
       "      <td>$46433.30</td>\n",
       "      <td>7%</td>\n",
       "      <td>$46,433</td>\n",
       "      <td>6%</td>\n",
       "      <td>https://teleport.org/cities/adelaide/</td>\n",
       "      <td>12.6</td>\n",
       "    </tr>\n",
       "    <tr>\n",
       "      <th>2</th>\n",
       "      <td>2</td>\n",
       "      <td>23</td>\n",
       "      <td>0.11</td>\n",
       "      <td>16</td>\n",
       "      <td>328</td>\n",
       "      <td>24</td>\n",
       "      <td>University of New Mexico</td>\n",
       "      <td>$52.00</td>\n",
       "      <td>$2.90</td>\n",
       "      <td>$37.00</td>\n",
       "      <td>...</td>\n",
       "      <td>99</td>\n",
       "      <td>35</td>\n",
       "      <td>10</td>\n",
       "      <td>USD</td>\n",
       "      <td>$54596.65</td>\n",
       "      <td>7%</td>\n",
       "      <td>$54,597</td>\n",
       "      <td>5%</td>\n",
       "      <td>https://teleport.org/cities/albuquerque/</td>\n",
       "      <td>168</td>\n",
       "    </tr>\n",
       "  </tbody>\n",
       "</table>\n",
       "<p>3 rows × 33 columns</p>\n",
       "</div>"
      ],
      "text/plain": [
       "   Unnamed: 0 Airport_hub Intercity_train_connectivity Gun_related_deaths  \\\n",
       "0           0           8                         0.59                  1   \n",
       "1           1          26                         0.17                  1   \n",
       "2           2          23                         0.11                 16   \n",
       "\n",
       "  Guns_per_residents Pisa_ranking           Best_university  \\\n",
       "0                 12           13         Aarhus University   \n",
       "1                 24           16    University of Adelaide   \n",
       "2                328           24  University of New Mexico   \n",
       "\n",
       "  Monthly_Fitness_Club_Membership   Beer Monthly_Public_Transport  ...  \\\n",
       "0                          $37.00  $1.70                   $62.00  ...   \n",
       "1                          $50.00  $4.30                   $80.00  ...   \n",
       "2                          $52.00  $2.90                   $37.00  ...   \n",
       "\n",
       "  Concert_venues Museums Sport_venues Currency_for_urban_area  \\\n",
       "0             95      18           21                     DKK   \n",
       "1             89      37           91                     AUD   \n",
       "2             99      35           10                     USD   \n",
       "\n",
       "  GDP_per_capita_uno Growth GDP_per_capita_otro Unemployment  \\\n",
       "0          $44342.66     5%             $44,343           4%   \n",
       "1          $46433.30     7%             $46,433           6%   \n",
       "2          $54596.65     7%             $54,597           5%   \n",
       "\n",
       "                                        url Average_Annual_percent_sunshine  \n",
       "0       https://teleport.org/cities/aarhus/                     No hay dato  \n",
       "1     https://teleport.org/cities/adelaide/                            12.6  \n",
       "2  https://teleport.org/cities/albuquerque/                             168  \n",
       "\n",
       "[3 rows x 33 columns]"
      ]
     },
     "execution_count": 13,
     "metadata": {},
     "output_type": "execute_result"
    }
   ],
   "source": [
    "df.head(3)"
   ]
  },
  {
   "cell_type": "code",
   "execution_count": 14,
   "id": "58f23cf0",
   "metadata": {},
   "outputs": [
    {
     "data": {
      "text/plain": [
       "(262, 33)"
      ]
     },
     "execution_count": 14,
     "metadata": {},
     "output_type": "execute_result"
    }
   ],
   "source": [
    "df.shape"
   ]
  },
  {
   "cell_type": "code",
   "execution_count": 15,
   "id": "6227479b",
   "metadata": {},
   "outputs": [
    {
     "name": "stdout",
     "output_type": "stream",
     "text": [
      "<class 'pandas.core.frame.DataFrame'>\n",
      "RangeIndex: 262 entries, 0 to 261\n",
      "Data columns (total 33 columns):\n",
      " #   Column                           Non-Null Count  Dtype \n",
      "---  ------                           --------------  ----- \n",
      " 0   Unnamed: 0                       262 non-null    int64 \n",
      " 1   Airport_hub                      262 non-null    object\n",
      " 2   Intercity_train_connectivity     262 non-null    object\n",
      " 3   Gun_related_deaths               262 non-null    object\n",
      " 4   Guns_per_residents               262 non-null    object\n",
      " 5   Pisa_ranking                     262 non-null    object\n",
      " 6   Best_university                  262 non-null    object\n",
      " 7   Monthly_Fitness_Club_Membership  261 non-null    object\n",
      " 8   Beer                             261 non-null    object\n",
      " 9   Monthly_Public_Transport         261 non-null    object\n",
      " 10  Lunch                            261 non-null    object\n",
      " 11  Large_apartment                  262 non-null    object\n",
      " 12  Medium_apartment                 262 non-null    object\n",
      " 13  Small_apartment                  262 non-null    object\n",
      " 14  cities                           262 non-null    object\n",
      " 15  Description                      262 non-null    object\n",
      " 16  Poblacion                        262 non-null    object\n",
      " 17  Homosexuality_acceptance         262 non-null    object\n",
      " 18  LGBT_adoption_rights             254 non-null    object\n",
      " 19  LGBT_homosexuality_rights        262 non-null    object\n",
      " 20  LGBT_marriage_rights             262 non-null    object\n",
      " 21  VAT_Sales_Tax                    262 non-null    object\n",
      " 22  Art_galleries                    262 non-null    object\n",
      " 23  Concert_venues                   262 non-null    object\n",
      " 24  Museums                          262 non-null    object\n",
      " 25  Sport_venues                     262 non-null    object\n",
      " 26  Currency_for_urban_area          262 non-null    object\n",
      " 27  GDP_per_capita_uno               262 non-null    object\n",
      " 28  Growth                           262 non-null    object\n",
      " 29  GDP_per_capita_otro              262 non-null    object\n",
      " 30  Unemployment                     262 non-null    object\n",
      " 31  url                              262 non-null    object\n",
      " 32  Average_Annual_percent_sunshine  262 non-null    object\n",
      "dtypes: int64(1), object(32)\n",
      "memory usage: 67.7+ KB\n"
     ]
    }
   ],
   "source": [
    "df.info()"
   ]
  },
  {
   "cell_type": "markdown",
   "id": "0aa0a053",
   "metadata": {},
   "source": [
    "#### Podemos observar que la mayoria de datos son tipo object, por lo que tendremos que convertir las columnas a sus respectivos dtypes."
   ]
  },
  {
   "cell_type": "code",
   "execution_count": 16,
   "id": "91f7ad39",
   "metadata": {},
   "outputs": [
    {
     "data": {
      "text/plain": [
       "Unnamed: 0                         0\n",
       "Airport_hub                        0\n",
       "Intercity_train_connectivity       0\n",
       "Gun_related_deaths                 0\n",
       "Guns_per_residents                 0\n",
       "Pisa_ranking                       0\n",
       "Best_university                    0\n",
       "Monthly_Fitness_Club_Membership    1\n",
       "Beer                               1\n",
       "Monthly_Public_Transport           1\n",
       "Lunch                              1\n",
       "Large_apartment                    0\n",
       "Medium_apartment                   0\n",
       "Small_apartment                    0\n",
       "cities                             0\n",
       "Description                        0\n",
       "Poblacion                          0\n",
       "Homosexuality_acceptance           0\n",
       "LGBT_adoption_rights               8\n",
       "LGBT_homosexuality_rights          0\n",
       "LGBT_marriage_rights               0\n",
       "VAT_Sales_Tax                      0\n",
       "Art_galleries                      0\n",
       "Concert_venues                     0\n",
       "Museums                            0\n",
       "Sport_venues                       0\n",
       "Currency_for_urban_area            0\n",
       "GDP_per_capita_uno                 0\n",
       "Growth                             0\n",
       "GDP_per_capita_otro                0\n",
       "Unemployment                       0\n",
       "url                                0\n",
       "Average_Annual_percent_sunshine    0\n",
       "dtype: int64"
      ]
     },
     "execution_count": 16,
     "metadata": {},
     "output_type": "execute_result"
    }
   ],
   "source": [
    "pd.isna(df).sum()\n"
   ]
  },
  {
   "cell_type": "markdown",
   "id": "5ff9879f",
   "metadata": {},
   "source": [
    "#### Algunos de los valores presentes son nan, por lo que deberemos reemplazar la información en esos lugares."
   ]
  },
  {
   "cell_type": "code",
   "execution_count": 17,
   "id": "d484a6f4",
   "metadata": {},
   "outputs": [],
   "source": [
    "#df.LGBT_adoption_rights.unique()"
   ]
  },
  {
   "cell_type": "code",
   "execution_count": 18,
   "id": "724c8c35",
   "metadata": {},
   "outputs": [],
   "source": [
    "#df.Lunch.unique()"
   ]
  },
  {
   "cell_type": "code",
   "execution_count": 19,
   "id": "b81c293c",
   "metadata": {},
   "outputs": [],
   "source": [
    "#df.Monthly_Fitness_Club_Membership.unique()"
   ]
  },
  {
   "cell_type": "code",
   "execution_count": 20,
   "id": "c7105727",
   "metadata": {},
   "outputs": [],
   "source": [
    "#df.Monthly_Public_Transport.unique()"
   ]
  },
  {
   "cell_type": "code",
   "execution_count": 21,
   "id": "144f8597",
   "metadata": {},
   "outputs": [],
   "source": [
    "#df.Beer.unique()"
   ]
  },
  {
   "cell_type": "code",
   "execution_count": 22,
   "id": "1d3d2f56",
   "metadata": {},
   "outputs": [],
   "source": [
    "df['Beer'] = df['Beer'].replace(np.nan, 0)"
   ]
  },
  {
   "cell_type": "code",
   "execution_count": 23,
   "id": "5380db96",
   "metadata": {},
   "outputs": [],
   "source": [
    "df['Monthly_Fitness_Club_Membership'] = df['Monthly_Fitness_Club_Membership'].replace(np.nan, 0)"
   ]
  },
  {
   "cell_type": "code",
   "execution_count": 24,
   "id": "e53adf14",
   "metadata": {},
   "outputs": [],
   "source": [
    "df[\"Lunch\"] = df[\"Lunch\"].replace(np.nan, 0)"
   ]
  },
  {
   "cell_type": "code",
   "execution_count": 25,
   "id": "f1614b73",
   "metadata": {},
   "outputs": [],
   "source": [
    "df[\"LGBT_adoption_rights\"] = df[\"LGBT_adoption_rights\"].replace(np.nan, \"No hay dato\")"
   ]
  },
  {
   "cell_type": "code",
   "execution_count": 26,
   "id": "4d240308",
   "metadata": {},
   "outputs": [],
   "source": [
    "df[\"Monthly_Public_Transport\"] = df[\"Monthly_Public_Transport\"].replace(np.nan, 0)"
   ]
  },
  {
   "cell_type": "code",
   "execution_count": 27,
   "id": "e25a957b",
   "metadata": {},
   "outputs": [],
   "source": [
    "df[\"Monthly_Public_Transport\"] = df[\"Monthly_Public_Transport\"].replace('No hay dato', 0)"
   ]
  },
  {
   "cell_type": "code",
   "execution_count": 28,
   "id": "1f757c4f",
   "metadata": {},
   "outputs": [
    {
     "data": {
      "text/plain": [
       "Unnamed: 0                         0\n",
       "Airport_hub                        0\n",
       "Intercity_train_connectivity       0\n",
       "Gun_related_deaths                 0\n",
       "Guns_per_residents                 0\n",
       "Pisa_ranking                       0\n",
       "Best_university                    0\n",
       "Monthly_Fitness_Club_Membership    0\n",
       "Beer                               0\n",
       "Monthly_Public_Transport           0\n",
       "Lunch                              0\n",
       "Large_apartment                    0\n",
       "Medium_apartment                   0\n",
       "Small_apartment                    0\n",
       "cities                             0\n",
       "Description                        0\n",
       "Poblacion                          0\n",
       "Homosexuality_acceptance           0\n",
       "LGBT_adoption_rights               0\n",
       "LGBT_homosexuality_rights          0\n",
       "LGBT_marriage_rights               0\n",
       "VAT_Sales_Tax                      0\n",
       "Art_galleries                      0\n",
       "Concert_venues                     0\n",
       "Museums                            0\n",
       "Sport_venues                       0\n",
       "Currency_for_urban_area            0\n",
       "GDP_per_capita_uno                 0\n",
       "Growth                             0\n",
       "GDP_per_capita_otro                0\n",
       "Unemployment                       0\n",
       "url                                0\n",
       "Average_Annual_percent_sunshine    0\n",
       "dtype: int64"
      ]
     },
     "execution_count": 28,
     "metadata": {},
     "output_type": "execute_result"
    }
   ],
   "source": [
    "pd.isna(df).sum()\n"
   ]
  },
  {
   "cell_type": "code",
   "execution_count": 29,
   "id": "800d287a",
   "metadata": {},
   "outputs": [],
   "source": [
    "copia = df.copy()"
   ]
  },
  {
   "cell_type": "code",
   "execution_count": 30,
   "id": "d2746b9d",
   "metadata": {},
   "outputs": [],
   "source": [
    "air = pd.DataFrame(column_air)"
   ]
  },
  {
   "cell_type": "code",
   "execution_count": 31,
   "id": "c1f518ab",
   "metadata": {},
   "outputs": [
    {
     "data": {
      "text/html": [
       "<div>\n",
       "<style scoped>\n",
       "    .dataframe tbody tr th:only-of-type {\n",
       "        vertical-align: middle;\n",
       "    }\n",
       "\n",
       "    .dataframe tbody tr th {\n",
       "        vertical-align: top;\n",
       "    }\n",
       "\n",
       "    .dataframe thead th {\n",
       "        text-align: right;\n",
       "    }\n",
       "</style>\n",
       "<table border=\"1\" class=\"dataframe\">\n",
       "  <thead>\n",
       "    <tr style=\"text-align: right;\">\n",
       "      <th></th>\n",
       "      <th>Unnamed: 0</th>\n",
       "      <th>Airport_score</th>\n",
       "      <th>url</th>\n",
       "    </tr>\n",
       "  </thead>\n",
       "  <tbody>\n",
       "    <tr>\n",
       "      <th>0</th>\n",
       "      <td>0</td>\n",
       "      <td>0.12</td>\n",
       "      <td>https://teleport.org/cities/aarhus/</td>\n",
       "    </tr>\n",
       "    <tr>\n",
       "      <th>1</th>\n",
       "      <td>1</td>\n",
       "      <td>0.19</td>\n",
       "      <td>https://teleport.org/cities/adelaide/</td>\n",
       "    </tr>\n",
       "    <tr>\n",
       "      <th>2</th>\n",
       "      <td>2</td>\n",
       "      <td>0.18</td>\n",
       "      <td>https://teleport.org/cities/albuquerque/</td>\n",
       "    </tr>\n",
       "    <tr>\n",
       "      <th>3</th>\n",
       "      <td>3</td>\n",
       "      <td>0.26</td>\n",
       "      <td>https://teleport.org/cities/almaty/</td>\n",
       "    </tr>\n",
       "    <tr>\n",
       "      <th>4</th>\n",
       "      <td>4</td>\n",
       "      <td>0.98</td>\n",
       "      <td>https://teleport.org/cities/amsterdam/</td>\n",
       "    </tr>\n",
       "  </tbody>\n",
       "</table>\n",
       "</div>"
      ],
      "text/plain": [
       "   Unnamed: 0 Airport_score                                       url\n",
       "0           0          0.12       https://teleport.org/cities/aarhus/\n",
       "1           1          0.19     https://teleport.org/cities/adelaide/\n",
       "2           2          0.18  https://teleport.org/cities/albuquerque/\n",
       "3           3          0.26       https://teleport.org/cities/almaty/\n",
       "4           4          0.98    https://teleport.org/cities/amsterdam/"
      ]
     },
     "execution_count": 31,
     "metadata": {},
     "output_type": "execute_result"
    }
   ],
   "source": [
    "air.head()"
   ]
  },
  {
   "cell_type": "code",
   "execution_count": 32,
   "id": "5f8b1439",
   "metadata": {},
   "outputs": [],
   "source": [
    "copia[\"Airport_score\"] = air[\"Airport_score\"]"
   ]
  },
  {
   "cell_type": "code",
   "execution_count": 33,
   "id": "e0ff52f3",
   "metadata": {},
   "outputs": [
    {
     "data": {
      "text/html": [
       "<div>\n",
       "<style scoped>\n",
       "    .dataframe tbody tr th:only-of-type {\n",
       "        vertical-align: middle;\n",
       "    }\n",
       "\n",
       "    .dataframe tbody tr th {\n",
       "        vertical-align: top;\n",
       "    }\n",
       "\n",
       "    .dataframe thead th {\n",
       "        text-align: right;\n",
       "    }\n",
       "</style>\n",
       "<table border=\"1\" class=\"dataframe\">\n",
       "  <thead>\n",
       "    <tr style=\"text-align: right;\">\n",
       "      <th></th>\n",
       "      <th>Unnamed: 0</th>\n",
       "      <th>Airport_hub</th>\n",
       "      <th>Intercity_train_connectivity</th>\n",
       "      <th>Gun_related_deaths</th>\n",
       "      <th>Guns_per_residents</th>\n",
       "      <th>Pisa_ranking</th>\n",
       "      <th>Best_university</th>\n",
       "      <th>Monthly_Fitness_Club_Membership</th>\n",
       "      <th>Beer</th>\n",
       "      <th>Monthly_Public_Transport</th>\n",
       "      <th>...</th>\n",
       "      <th>Museums</th>\n",
       "      <th>Sport_venues</th>\n",
       "      <th>Currency_for_urban_area</th>\n",
       "      <th>GDP_per_capita_uno</th>\n",
       "      <th>Growth</th>\n",
       "      <th>GDP_per_capita_otro</th>\n",
       "      <th>Unemployment</th>\n",
       "      <th>url</th>\n",
       "      <th>Average_Annual_percent_sunshine</th>\n",
       "      <th>Airport_score</th>\n",
       "    </tr>\n",
       "  </thead>\n",
       "  <tbody>\n",
       "    <tr>\n",
       "      <th>0</th>\n",
       "      <td>0</td>\n",
       "      <td>8</td>\n",
       "      <td>0.59</td>\n",
       "      <td>1</td>\n",
       "      <td>12</td>\n",
       "      <td>13</td>\n",
       "      <td>Aarhus University</td>\n",
       "      <td>$37.00</td>\n",
       "      <td>$1.70</td>\n",
       "      <td>$62.00</td>\n",
       "      <td>...</td>\n",
       "      <td>18</td>\n",
       "      <td>21</td>\n",
       "      <td>DKK</td>\n",
       "      <td>$44342.66</td>\n",
       "      <td>5%</td>\n",
       "      <td>$44,343</td>\n",
       "      <td>4%</td>\n",
       "      <td>https://teleport.org/cities/aarhus/</td>\n",
       "      <td>No hay dato</td>\n",
       "      <td>0.12</td>\n",
       "    </tr>\n",
       "    <tr>\n",
       "      <th>1</th>\n",
       "      <td>1</td>\n",
       "      <td>26</td>\n",
       "      <td>0.17</td>\n",
       "      <td>1</td>\n",
       "      <td>24</td>\n",
       "      <td>16</td>\n",
       "      <td>University of Adelaide</td>\n",
       "      <td>$50.00</td>\n",
       "      <td>$4.30</td>\n",
       "      <td>$80.00</td>\n",
       "      <td>...</td>\n",
       "      <td>37</td>\n",
       "      <td>91</td>\n",
       "      <td>AUD</td>\n",
       "      <td>$46433.30</td>\n",
       "      <td>7%</td>\n",
       "      <td>$46,433</td>\n",
       "      <td>6%</td>\n",
       "      <td>https://teleport.org/cities/adelaide/</td>\n",
       "      <td>12.6</td>\n",
       "      <td>0.19</td>\n",
       "    </tr>\n",
       "    <tr>\n",
       "      <th>2</th>\n",
       "      <td>2</td>\n",
       "      <td>23</td>\n",
       "      <td>0.11</td>\n",
       "      <td>16</td>\n",
       "      <td>328</td>\n",
       "      <td>24</td>\n",
       "      <td>University of New Mexico</td>\n",
       "      <td>$52.00</td>\n",
       "      <td>$2.90</td>\n",
       "      <td>$37.00</td>\n",
       "      <td>...</td>\n",
       "      <td>35</td>\n",
       "      <td>10</td>\n",
       "      <td>USD</td>\n",
       "      <td>$54596.65</td>\n",
       "      <td>7%</td>\n",
       "      <td>$54,597</td>\n",
       "      <td>5%</td>\n",
       "      <td>https://teleport.org/cities/albuquerque/</td>\n",
       "      <td>168</td>\n",
       "      <td>0.18</td>\n",
       "    </tr>\n",
       "    <tr>\n",
       "      <th>3</th>\n",
       "      <td>3</td>\n",
       "      <td>45</td>\n",
       "      <td>0.66</td>\n",
       "      <td>1</td>\n",
       "      <td>1</td>\n",
       "      <td>39</td>\n",
       "      <td>427.97</td>\n",
       "      <td>$83.00</td>\n",
       "      <td>$0.68</td>\n",
       "      <td>$19.00</td>\n",
       "      <td>...</td>\n",
       "      <td>24</td>\n",
       "      <td>53</td>\n",
       "      <td>KZT</td>\n",
       "      <td>$24019.95</td>\n",
       "      <td>9%</td>\n",
       "      <td>$24,020</td>\n",
       "      <td>6%</td>\n",
       "      <td>https://teleport.org/cities/almaty/</td>\n",
       "      <td>64</td>\n",
       "      <td>0.26</td>\n",
       "    </tr>\n",
       "    <tr>\n",
       "      <th>4</th>\n",
       "      <td>4</td>\n",
       "      <td>237</td>\n",
       "      <td>0.68</td>\n",
       "      <td>1</td>\n",
       "      <td>4</td>\n",
       "      <td>10</td>\n",
       "      <td>University of Amsterdam</td>\n",
       "      <td>$49.00</td>\n",
       "      <td>$2.10</td>\n",
       "      <td>$100.00</td>\n",
       "      <td>...</td>\n",
       "      <td>187</td>\n",
       "      <td>154</td>\n",
       "      <td>EUR</td>\n",
       "      <td>$47354.53</td>\n",
       "      <td>3%</td>\n",
       "      <td>$47,355</td>\n",
       "      <td>6%</td>\n",
       "      <td>https://teleport.org/cities/amsterdam/</td>\n",
       "      <td>12.9</td>\n",
       "      <td>0.98</td>\n",
       "    </tr>\n",
       "  </tbody>\n",
       "</table>\n",
       "<p>5 rows × 34 columns</p>\n",
       "</div>"
      ],
      "text/plain": [
       "   Unnamed: 0 Airport_hub Intercity_train_connectivity Gun_related_deaths  \\\n",
       "0           0           8                         0.59                  1   \n",
       "1           1          26                         0.17                  1   \n",
       "2           2          23                         0.11                 16   \n",
       "3           3          45                         0.66                  1   \n",
       "4           4         237                         0.68                  1   \n",
       "\n",
       "  Guns_per_residents Pisa_ranking           Best_university  \\\n",
       "0                 12           13         Aarhus University   \n",
       "1                 24           16    University of Adelaide   \n",
       "2                328           24  University of New Mexico   \n",
       "3                  1           39                    427.97   \n",
       "4                  4           10   University of Amsterdam   \n",
       "\n",
       "  Monthly_Fitness_Club_Membership   Beer Monthly_Public_Transport  ...  \\\n",
       "0                          $37.00  $1.70                   $62.00  ...   \n",
       "1                          $50.00  $4.30                   $80.00  ...   \n",
       "2                          $52.00  $2.90                   $37.00  ...   \n",
       "3                          $83.00  $0.68                   $19.00  ...   \n",
       "4                          $49.00  $2.10                  $100.00  ...   \n",
       "\n",
       "  Museums Sport_venues Currency_for_urban_area GDP_per_capita_uno Growth  \\\n",
       "0      18           21                     DKK          $44342.66     5%   \n",
       "1      37           91                     AUD          $46433.30     7%   \n",
       "2      35           10                     USD          $54596.65     7%   \n",
       "3      24           53                     KZT          $24019.95     9%   \n",
       "4     187          154                     EUR          $47354.53     3%   \n",
       "\n",
       "  GDP_per_capita_otro Unemployment                                       url  \\\n",
       "0             $44,343           4%       https://teleport.org/cities/aarhus/   \n",
       "1             $46,433           6%     https://teleport.org/cities/adelaide/   \n",
       "2             $54,597           5%  https://teleport.org/cities/albuquerque/   \n",
       "3             $24,020           6%       https://teleport.org/cities/almaty/   \n",
       "4             $47,355           6%    https://teleport.org/cities/amsterdam/   \n",
       "\n",
       "  Average_Annual_percent_sunshine Airport_score  \n",
       "0                     No hay dato          0.12  \n",
       "1                            12.6          0.19  \n",
       "2                             168          0.18  \n",
       "3                              64          0.26  \n",
       "4                            12.9          0.98  \n",
       "\n",
       "[5 rows x 34 columns]"
      ]
     },
     "execution_count": 33,
     "metadata": {},
     "output_type": "execute_result"
    }
   ],
   "source": [
    "copia.head()"
   ]
  },
  {
   "cell_type": "markdown",
   "id": "7a6335be",
   "metadata": {},
   "source": [
    "### Para poder trabajar con los datos debemos quitar símbolos y hacer una limpieza de las columnas"
   ]
  },
  {
   "cell_type": "code",
   "execution_count": 36,
   "id": "31290dfd",
   "metadata": {},
   "outputs": [],
   "source": [
    "def delete_price(i):\n",
    "    i = str(i).replace('$', \"\")\n",
    "    return i"
   ]
  },
  {
   "cell_type": "code",
   "execution_count": 37,
   "id": "e9313675",
   "metadata": {},
   "outputs": [],
   "source": [
    "copia['GDP_per_capita_otro'] = copia['GDP_per_capita_otro'].apply(delete_price)"
   ]
  },
  {
   "cell_type": "code",
   "execution_count": 38,
   "id": "0ee4aa86",
   "metadata": {},
   "outputs": [],
   "source": [
    "copia['Monthly_Fitness_Club_Membership'] = copia['Monthly_Fitness_Club_Membership'].apply(delete_price)"
   ]
  },
  {
   "cell_type": "code",
   "execution_count": 39,
   "id": "f7ca4380",
   "metadata": {},
   "outputs": [],
   "source": [
    "copia['Beer'] = copia['Beer'].apply(delete_price)"
   ]
  },
  {
   "cell_type": "code",
   "execution_count": 40,
   "id": "c51d9429",
   "metadata": {},
   "outputs": [],
   "source": [
    "copia['Monthly_Public_Transport'] = copia['Monthly_Public_Transport'].apply(delete_price)"
   ]
  },
  {
   "cell_type": "code",
   "execution_count": 41,
   "id": "ac4b1f43",
   "metadata": {},
   "outputs": [],
   "source": [
    "copia['GDP_per_capita_uno'] = copia['GDP_per_capita_uno'].apply(delete_price)"
   ]
  },
  {
   "cell_type": "code",
   "execution_count": 42,
   "id": "8c671062",
   "metadata": {},
   "outputs": [],
   "source": [
    "copia['Lunch'] = copia['Lunch'].apply(delete_price)"
   ]
  },
  {
   "cell_type": "code",
   "execution_count": 43,
   "id": "80590294",
   "metadata": {},
   "outputs": [],
   "source": [
    "copia['Large_apartment'] = copia['Large_apartment'].apply(delete_price)"
   ]
  },
  {
   "cell_type": "code",
   "execution_count": 44,
   "id": "4b33644c",
   "metadata": {},
   "outputs": [],
   "source": [
    "copia['Medium_apartment'] = copia['Medium_apartment'].apply(delete_price)"
   ]
  },
  {
   "cell_type": "code",
   "execution_count": 45,
   "id": "6b23ae30",
   "metadata": {},
   "outputs": [],
   "source": [
    "copia['Small_apartment'] = copia['Small_apartment'].apply(delete_price)"
   ]
  },
  {
   "cell_type": "code",
   "execution_count": 46,
   "id": "fe5fdca3",
   "metadata": {},
   "outputs": [],
   "source": [
    "def convertir(i):\n",
    "    i = i.replace(\",\", \".\")\n",
    "    return i"
   ]
  },
  {
   "cell_type": "code",
   "execution_count": 47,
   "id": "f24733fd",
   "metadata": {},
   "outputs": [],
   "source": [
    "copia[\"GDP_per_capita_otro\"] = copia[\"GDP_per_capita_otro\"].apply(convertir)"
   ]
  },
  {
   "cell_type": "code",
   "execution_count": 48,
   "id": "669cbf01",
   "metadata": {},
   "outputs": [],
   "source": [
    "def quitar(i):\n",
    "    i = i.replace(\",\", \"\")\n",
    "    return i"
   ]
  },
  {
   "cell_type": "code",
   "execution_count": 49,
   "id": "67ad4089",
   "metadata": {},
   "outputs": [],
   "source": [
    "copia[\"Poblacion\"] = copia[\"Poblacion\"].apply(quitar)"
   ]
  },
  {
   "cell_type": "code",
   "execution_count": 50,
   "id": "beb752b9",
   "metadata": {},
   "outputs": [],
   "source": [
    "def clean_symbol(i):\n",
    "    i = i.replace(\"✖\", \"\")\n",
    "    return i"
   ]
  },
  {
   "cell_type": "code",
   "execution_count": 51,
   "id": "9151955e",
   "metadata": {},
   "outputs": [],
   "source": [
    "copia[\"LGBT_adoption_rights\"] = copia[\"LGBT_adoption_rights\"].apply(clean_symbol)"
   ]
  },
  {
   "cell_type": "code",
   "execution_count": 52,
   "id": "cfa993d5",
   "metadata": {},
   "outputs": [],
   "source": [
    "copia[\"LGBT_homosexuality_rights\"] = copia[\"LGBT_homosexuality_rights\"].apply(clean_symbol)"
   ]
  },
  {
   "cell_type": "code",
   "execution_count": 53,
   "id": "ebbdfe59",
   "metadata": {},
   "outputs": [],
   "source": [
    "copia[\"LGBT_marriage_rights\"] = copia[\"LGBT_marriage_rights\"].apply(clean_symbol)"
   ]
  },
  {
   "cell_type": "code",
   "execution_count": 54,
   "id": "6445bec2",
   "metadata": {},
   "outputs": [],
   "source": [
    "def clean_symbol2(i):\n",
    "    i = i.replace(\"✔\", \"\")\n",
    "    return i"
   ]
  },
  {
   "cell_type": "code",
   "execution_count": 55,
   "id": "3e529085",
   "metadata": {},
   "outputs": [],
   "source": [
    "copia[\"LGBT_adoption_rights\"] = copia[\"LGBT_adoption_rights\"].apply(clean_symbol2)"
   ]
  },
  {
   "cell_type": "code",
   "execution_count": 56,
   "id": "16089aca",
   "metadata": {},
   "outputs": [],
   "source": [
    "copia[\"LGBT_homosexuality_rights\"] = copia[\"LGBT_homosexuality_rights\"].apply(clean_symbol2)"
   ]
  },
  {
   "cell_type": "code",
   "execution_count": 57,
   "id": "5b3b21e0",
   "metadata": {},
   "outputs": [],
   "source": [
    "copia[\"LGBT_marriage_rights\"] = copia[\"LGBT_marriage_rights\"].apply(clean_symbol2)"
   ]
  },
  {
   "cell_type": "code",
   "execution_count": 58,
   "id": "8bc2cb46",
   "metadata": {},
   "outputs": [
    {
     "data": {
      "text/html": [
       "<div>\n",
       "<style scoped>\n",
       "    .dataframe tbody tr th:only-of-type {\n",
       "        vertical-align: middle;\n",
       "    }\n",
       "\n",
       "    .dataframe tbody tr th {\n",
       "        vertical-align: top;\n",
       "    }\n",
       "\n",
       "    .dataframe thead th {\n",
       "        text-align: right;\n",
       "    }\n",
       "</style>\n",
       "<table border=\"1\" class=\"dataframe\">\n",
       "  <thead>\n",
       "    <tr style=\"text-align: right;\">\n",
       "      <th></th>\n",
       "      <th>Unnamed: 0</th>\n",
       "      <th>Airport_hub</th>\n",
       "      <th>Intercity_train_connectivity</th>\n",
       "      <th>Gun_related_deaths</th>\n",
       "      <th>Guns_per_residents</th>\n",
       "      <th>Pisa_ranking</th>\n",
       "      <th>Best_university</th>\n",
       "      <th>Monthly_Fitness_Club_Membership</th>\n",
       "      <th>Beer</th>\n",
       "      <th>Monthly_Public_Transport</th>\n",
       "      <th>...</th>\n",
       "      <th>Museums</th>\n",
       "      <th>Sport_venues</th>\n",
       "      <th>Currency_for_urban_area</th>\n",
       "      <th>GDP_per_capita_uno</th>\n",
       "      <th>Growth</th>\n",
       "      <th>GDP_per_capita_otro</th>\n",
       "      <th>Unemployment</th>\n",
       "      <th>url</th>\n",
       "      <th>Average_Annual_percent_sunshine</th>\n",
       "      <th>Airport_score</th>\n",
       "    </tr>\n",
       "  </thead>\n",
       "  <tbody>\n",
       "    <tr>\n",
       "      <th>0</th>\n",
       "      <td>0</td>\n",
       "      <td>8</td>\n",
       "      <td>0.59</td>\n",
       "      <td>1</td>\n",
       "      <td>12</td>\n",
       "      <td>13</td>\n",
       "      <td>Aarhus University</td>\n",
       "      <td>37.00</td>\n",
       "      <td>1.70</td>\n",
       "      <td>62.00</td>\n",
       "      <td>...</td>\n",
       "      <td>18</td>\n",
       "      <td>21</td>\n",
       "      <td>DKK</td>\n",
       "      <td>44342.66</td>\n",
       "      <td>5%</td>\n",
       "      <td>44.343</td>\n",
       "      <td>4%</td>\n",
       "      <td>https://teleport.org/cities/aarhus/</td>\n",
       "      <td>No hay dato</td>\n",
       "      <td>0.12</td>\n",
       "    </tr>\n",
       "    <tr>\n",
       "      <th>1</th>\n",
       "      <td>1</td>\n",
       "      <td>26</td>\n",
       "      <td>0.17</td>\n",
       "      <td>1</td>\n",
       "      <td>24</td>\n",
       "      <td>16</td>\n",
       "      <td>University of Adelaide</td>\n",
       "      <td>50.00</td>\n",
       "      <td>4.30</td>\n",
       "      <td>80.00</td>\n",
       "      <td>...</td>\n",
       "      <td>37</td>\n",
       "      <td>91</td>\n",
       "      <td>AUD</td>\n",
       "      <td>46433.30</td>\n",
       "      <td>7%</td>\n",
       "      <td>46.433</td>\n",
       "      <td>6%</td>\n",
       "      <td>https://teleport.org/cities/adelaide/</td>\n",
       "      <td>12.6</td>\n",
       "      <td>0.19</td>\n",
       "    </tr>\n",
       "    <tr>\n",
       "      <th>2</th>\n",
       "      <td>2</td>\n",
       "      <td>23</td>\n",
       "      <td>0.11</td>\n",
       "      <td>16</td>\n",
       "      <td>328</td>\n",
       "      <td>24</td>\n",
       "      <td>University of New Mexico</td>\n",
       "      <td>52.00</td>\n",
       "      <td>2.90</td>\n",
       "      <td>37.00</td>\n",
       "      <td>...</td>\n",
       "      <td>35</td>\n",
       "      <td>10</td>\n",
       "      <td>USD</td>\n",
       "      <td>54596.65</td>\n",
       "      <td>7%</td>\n",
       "      <td>54.597</td>\n",
       "      <td>5%</td>\n",
       "      <td>https://teleport.org/cities/albuquerque/</td>\n",
       "      <td>168</td>\n",
       "      <td>0.18</td>\n",
       "    </tr>\n",
       "    <tr>\n",
       "      <th>3</th>\n",
       "      <td>3</td>\n",
       "      <td>45</td>\n",
       "      <td>0.66</td>\n",
       "      <td>1</td>\n",
       "      <td>1</td>\n",
       "      <td>39</td>\n",
       "      <td>427.97</td>\n",
       "      <td>83.00</td>\n",
       "      <td>0.68</td>\n",
       "      <td>19.00</td>\n",
       "      <td>...</td>\n",
       "      <td>24</td>\n",
       "      <td>53</td>\n",
       "      <td>KZT</td>\n",
       "      <td>24019.95</td>\n",
       "      <td>9%</td>\n",
       "      <td>24.020</td>\n",
       "      <td>6%</td>\n",
       "      <td>https://teleport.org/cities/almaty/</td>\n",
       "      <td>64</td>\n",
       "      <td>0.26</td>\n",
       "    </tr>\n",
       "    <tr>\n",
       "      <th>4</th>\n",
       "      <td>4</td>\n",
       "      <td>237</td>\n",
       "      <td>0.68</td>\n",
       "      <td>1</td>\n",
       "      <td>4</td>\n",
       "      <td>10</td>\n",
       "      <td>University of Amsterdam</td>\n",
       "      <td>49.00</td>\n",
       "      <td>2.10</td>\n",
       "      <td>100.00</td>\n",
       "      <td>...</td>\n",
       "      <td>187</td>\n",
       "      <td>154</td>\n",
       "      <td>EUR</td>\n",
       "      <td>47354.53</td>\n",
       "      <td>3%</td>\n",
       "      <td>47.355</td>\n",
       "      <td>6%</td>\n",
       "      <td>https://teleport.org/cities/amsterdam/</td>\n",
       "      <td>12.9</td>\n",
       "      <td>0.98</td>\n",
       "    </tr>\n",
       "  </tbody>\n",
       "</table>\n",
       "<p>5 rows × 34 columns</p>\n",
       "</div>"
      ],
      "text/plain": [
       "   Unnamed: 0 Airport_hub Intercity_train_connectivity Gun_related_deaths  \\\n",
       "0           0           8                         0.59                  1   \n",
       "1           1          26                         0.17                  1   \n",
       "2           2          23                         0.11                 16   \n",
       "3           3          45                         0.66                  1   \n",
       "4           4         237                         0.68                  1   \n",
       "\n",
       "  Guns_per_residents Pisa_ranking           Best_university  \\\n",
       "0                 12           13         Aarhus University   \n",
       "1                 24           16    University of Adelaide   \n",
       "2                328           24  University of New Mexico   \n",
       "3                  1           39                    427.97   \n",
       "4                  4           10   University of Amsterdam   \n",
       "\n",
       "  Monthly_Fitness_Club_Membership  Beer Monthly_Public_Transport  ... Museums  \\\n",
       "0                           37.00  1.70                    62.00  ...      18   \n",
       "1                           50.00  4.30                    80.00  ...      37   \n",
       "2                           52.00  2.90                    37.00  ...      35   \n",
       "3                           83.00  0.68                    19.00  ...      24   \n",
       "4                           49.00  2.10                   100.00  ...     187   \n",
       "\n",
       "  Sport_venues Currency_for_urban_area GDP_per_capita_uno Growth  \\\n",
       "0           21                     DKK           44342.66     5%   \n",
       "1           91                     AUD           46433.30     7%   \n",
       "2           10                     USD           54596.65     7%   \n",
       "3           53                     KZT           24019.95     9%   \n",
       "4          154                     EUR           47354.53     3%   \n",
       "\n",
       "  GDP_per_capita_otro Unemployment                                       url  \\\n",
       "0              44.343           4%       https://teleport.org/cities/aarhus/   \n",
       "1              46.433           6%     https://teleport.org/cities/adelaide/   \n",
       "2              54.597           5%  https://teleport.org/cities/albuquerque/   \n",
       "3              24.020           6%       https://teleport.org/cities/almaty/   \n",
       "4              47.355           6%    https://teleport.org/cities/amsterdam/   \n",
       "\n",
       "  Average_Annual_percent_sunshine Airport_score  \n",
       "0                     No hay dato          0.12  \n",
       "1                            12.6          0.19  \n",
       "2                             168          0.18  \n",
       "3                              64          0.26  \n",
       "4                            12.9          0.98  \n",
       "\n",
       "[5 rows x 34 columns]"
      ]
     },
     "execution_count": 58,
     "metadata": {},
     "output_type": "execute_result"
    }
   ],
   "source": [
    "copia.head()"
   ]
  },
  {
   "cell_type": "code",
   "execution_count": 59,
   "id": "3b090825",
   "metadata": {},
   "outputs": [],
   "source": [
    "def clean_no_info(i):\n",
    "    i = i.replace(\"No hay dato\", \"0\")\n",
    "    return i"
   ]
  },
  {
   "cell_type": "code",
   "execution_count": 60,
   "id": "efd887ba",
   "metadata": {},
   "outputs": [],
   "source": [
    "copia[\"Airport_hub\"] = copia[\"Airport_hub\"].apply(clean_no_info)"
   ]
  },
  {
   "cell_type": "code",
   "execution_count": 61,
   "id": "69799705",
   "metadata": {},
   "outputs": [],
   "source": [
    "copia[\"Intercity_train_connectivity\"] = copia[\"Intercity_train_connectivity\"].apply(clean_no_info)"
   ]
  },
  {
   "cell_type": "code",
   "execution_count": 62,
   "id": "a6310c8b",
   "metadata": {},
   "outputs": [],
   "source": [
    "copia[\"Gun_related_deaths\"] = copia[\"Gun_related_deaths\"].apply(clean_no_info)"
   ]
  },
  {
   "cell_type": "code",
   "execution_count": 63,
   "id": "17e71717",
   "metadata": {},
   "outputs": [],
   "source": [
    "copia[\"Guns_per_residents\"] = copia[\"Guns_per_residents\"].apply(clean_no_info)"
   ]
  },
  {
   "cell_type": "code",
   "execution_count": 64,
   "id": "cc14b373",
   "metadata": {},
   "outputs": [],
   "source": [
    "copia[\"Pisa_ranking\"] = copia[\"Pisa_ranking\"].apply(clean_no_info)"
   ]
  },
  {
   "cell_type": "code",
   "execution_count": 65,
   "id": "1488169f",
   "metadata": {},
   "outputs": [],
   "source": [
    "copia[\"Large_apartment\"] = copia[\"Large_apartment\"].apply(clean_no_info)"
   ]
  },
  {
   "cell_type": "code",
   "execution_count": 66,
   "id": "0e98addb",
   "metadata": {},
   "outputs": [],
   "source": [
    "copia[\"Small_apartment\"] = copia[\"Small_apartment\"].apply(clean_no_info)"
   ]
  },
  {
   "cell_type": "code",
   "execution_count": 67,
   "id": "b66ac589",
   "metadata": {},
   "outputs": [],
   "source": [
    "copia[\"Medium_apartment\"] = copia[\"Medium_apartment\"].apply(clean_no_info)"
   ]
  },
  {
   "cell_type": "code",
   "execution_count": 68,
   "id": "173e7cb9",
   "metadata": {},
   "outputs": [],
   "source": [
    "copia[\"VAT_Sales_Tax\"] = copia[\"VAT_Sales_Tax\"].apply(clean_no_info)"
   ]
  },
  {
   "cell_type": "code",
   "execution_count": 69,
   "id": "f9192fb4",
   "metadata": {},
   "outputs": [],
   "source": [
    "copia[\"Art_galleries\"] = copia[\"Art_galleries\"].apply(clean_no_info)"
   ]
  },
  {
   "cell_type": "code",
   "execution_count": 70,
   "id": "58e0981f",
   "metadata": {},
   "outputs": [],
   "source": [
    "copia[\"Concert_venues\"] = copia[\"Concert_venues\"].apply(clean_no_info)"
   ]
  },
  {
   "cell_type": "code",
   "execution_count": 71,
   "id": "aeecb910",
   "metadata": {},
   "outputs": [],
   "source": [
    "copia[\"Museums\"] = copia[\"Museums\"].apply(clean_no_info)"
   ]
  },
  {
   "cell_type": "code",
   "execution_count": 72,
   "id": "18e91eaf",
   "metadata": {},
   "outputs": [],
   "source": [
    "copia[\"Sport_venues\"] = copia[\"Sport_venues\"].apply(clean_no_info)"
   ]
  },
  {
   "cell_type": "code",
   "execution_count": 73,
   "id": "1704aeb1",
   "metadata": {},
   "outputs": [],
   "source": [
    "copia[\"GDP_per_capita_uno\"] = copia[\"GDP_per_capita_uno\"].apply(clean_no_info)"
   ]
  },
  {
   "cell_type": "code",
   "execution_count": 74,
   "id": "a95c2a06",
   "metadata": {},
   "outputs": [],
   "source": [
    "copia[\"GDP_per_capita_otro\"] = copia[\"GDP_per_capita_otro\"].apply(clean_no_info)"
   ]
  },
  {
   "cell_type": "code",
   "execution_count": 75,
   "id": "7778a4b4",
   "metadata": {},
   "outputs": [],
   "source": [
    "copia[\"Unemployment\"] = copia[\"Unemployment\"].apply(clean_no_info)"
   ]
  },
  {
   "cell_type": "code",
   "execution_count": 76,
   "id": "6ac57bd1",
   "metadata": {},
   "outputs": [],
   "source": [
    "copia[\"Average_Annual_percent_sunshine\"] = copia[\"Average_Annual_percent_sunshine\"].apply(clean_no_info)"
   ]
  },
  {
   "cell_type": "code",
   "execution_count": 77,
   "id": "38dbfa40",
   "metadata": {},
   "outputs": [],
   "source": [
    "copia[\"Homosexuality_acceptance\"] = copia[\"Homosexuality_acceptance\"].apply(clean_no_info)"
   ]
  },
  {
   "cell_type": "code",
   "execution_count": 78,
   "id": "becc17b8",
   "metadata": {},
   "outputs": [],
   "source": [
    "copia[\"Airport_score\"] = copia[\"Airport_score\"].apply(clean_no_info)"
   ]
  },
  {
   "cell_type": "code",
   "execution_count": 79,
   "id": "ee60e1c4",
   "metadata": {},
   "outputs": [],
   "source": [
    "def replace_num(universidad):\n",
    "    #print (\"i original :\",universidad)\n",
    "    if (re.findall(\"\\d+\",universidad)):\n",
    "        universidad = \"No hay dato\"\n",
    "    #print (\"i cambiada: \",universidad)\n",
    "    return universidad"
   ]
  },
  {
   "cell_type": "code",
   "execution_count": 84,
   "id": "b4a77c1c",
   "metadata": {},
   "outputs": [],
   "source": [
    "copia[\"Best_university\"] = copia[\"Best_university\"].apply(replace_num)"
   ]
  },
  {
   "cell_type": "code",
   "execution_count": 85,
   "id": "e6ccce79",
   "metadata": {},
   "outputs": [],
   "source": [
    "def replace_num2(Currency):\n",
    "    if (re.findall(\"\\d+\",Currency)):\n",
    "        Currency = \"USD\"\n",
    "    return Currency"
   ]
  },
  {
   "cell_type": "code",
   "execution_count": 86,
   "id": "1364b204",
   "metadata": {},
   "outputs": [
    {
     "data": {
      "text/html": [
       "<div>\n",
       "<style scoped>\n",
       "    .dataframe tbody tr th:only-of-type {\n",
       "        vertical-align: middle;\n",
       "    }\n",
       "\n",
       "    .dataframe tbody tr th {\n",
       "        vertical-align: top;\n",
       "    }\n",
       "\n",
       "    .dataframe thead th {\n",
       "        text-align: right;\n",
       "    }\n",
       "</style>\n",
       "<table border=\"1\" class=\"dataframe\">\n",
       "  <thead>\n",
       "    <tr style=\"text-align: right;\">\n",
       "      <th></th>\n",
       "      <th>Unnamed: 0</th>\n",
       "      <th>Airport_hub</th>\n",
       "      <th>Intercity_train_connectivity</th>\n",
       "      <th>Gun_related_deaths</th>\n",
       "      <th>Guns_per_residents</th>\n",
       "      <th>Pisa_ranking</th>\n",
       "      <th>Best_university</th>\n",
       "      <th>Monthly_Fitness_Club_Membership</th>\n",
       "      <th>Beer</th>\n",
       "      <th>Monthly_Public_Transport</th>\n",
       "      <th>...</th>\n",
       "      <th>Museums</th>\n",
       "      <th>Sport_venues</th>\n",
       "      <th>Currency_for_urban_area</th>\n",
       "      <th>GDP_per_capita_uno</th>\n",
       "      <th>Growth</th>\n",
       "      <th>GDP_per_capita_otro</th>\n",
       "      <th>Unemployment</th>\n",
       "      <th>url</th>\n",
       "      <th>Average_Annual_percent_sunshine</th>\n",
       "      <th>Airport_score</th>\n",
       "    </tr>\n",
       "  </thead>\n",
       "  <tbody>\n",
       "    <tr>\n",
       "      <th>16</th>\n",
       "      <td>16</td>\n",
       "      <td>0.48</td>\n",
       "      <td>0</td>\n",
       "      <td>10</td>\n",
       "      <td>119</td>\n",
       "      <td>24</td>\n",
       "      <td>Johns Hopkins University</td>\n",
       "      <td>59.00</td>\n",
       "      <td>2.10</td>\n",
       "      <td>68.00</td>\n",
       "      <td>...</td>\n",
       "      <td>0</td>\n",
       "      <td>0</td>\n",
       "      <td>0.43</td>\n",
       "      <td>0</td>\n",
       "      <td>80</td>\n",
       "      <td>0</td>\n",
       "      <td>0</td>\n",
       "      <td>https://teleport.org/cities/baltimore/</td>\n",
       "      <td>0</td>\n",
       "      <td>0.25</td>\n",
       "    </tr>\n",
       "  </tbody>\n",
       "</table>\n",
       "<p>1 rows × 34 columns</p>\n",
       "</div>"
      ],
      "text/plain": [
       "    Unnamed: 0 Airport_hub Intercity_train_connectivity Gun_related_deaths  \\\n",
       "16          16        0.48                            0                 10   \n",
       "\n",
       "   Guns_per_residents Pisa_ranking           Best_university  \\\n",
       "16                119           24  Johns Hopkins University   \n",
       "\n",
       "   Monthly_Fitness_Club_Membership  Beer Monthly_Public_Transport  ...  \\\n",
       "16                           59.00  2.10                    68.00  ...   \n",
       "\n",
       "   Museums Sport_venues Currency_for_urban_area GDP_per_capita_uno Growth  \\\n",
       "16       0            0                    0.43                  0     80   \n",
       "\n",
       "   GDP_per_capita_otro Unemployment                                     url  \\\n",
       "16                   0            0  https://teleport.org/cities/baltimore/   \n",
       "\n",
       "   Average_Annual_percent_sunshine Airport_score  \n",
       "16                               0          0.25  \n",
       "\n",
       "[1 rows x 34 columns]"
      ]
     },
     "execution_count": 86,
     "metadata": {},
     "output_type": "execute_result"
    }
   ],
   "source": [
    "copia.loc[copia['Currency_for_urban_area'] =='0.43']"
   ]
  },
  {
   "cell_type": "code",
   "execution_count": 87,
   "id": "b6a3b219",
   "metadata": {},
   "outputs": [],
   "source": [
    "copia[\"Currency_for_urban_area\"] = copia[\"Currency_for_urban_area\"].apply(replace_num2)"
   ]
  },
  {
   "cell_type": "markdown",
   "id": "6d142561",
   "metadata": {},
   "source": [
    "#### Algunas de las columnas tienen datos que no se corresponden con la medición de esa columna, por lo que reemplzaremos esos números por 0, dandole la asignación de que no tenemos datos sobre ese lugar."
   ]
  },
  {
   "cell_type": "markdown",
   "id": "b9ede660",
   "metadata": {},
   "source": [
    "### Continuamos la limpieza de nuestros datos:"
   ]
  },
  {
   "cell_type": "code",
   "execution_count": 88,
   "id": "4b87b703",
   "metadata": {},
   "outputs": [],
   "source": [
    "def change(x):\n",
    "    x = str(x).split('.')[0]\n",
    "    return x"
   ]
  },
  {
   "cell_type": "code",
   "execution_count": 89,
   "id": "bbc0e912",
   "metadata": {},
   "outputs": [],
   "source": [
    "copia[\"Airport_hub\"] = copia[\"Airport_hub\"].apply(change) "
   ]
  },
  {
   "cell_type": "code",
   "execution_count": 90,
   "id": "c0a4b690",
   "metadata": {},
   "outputs": [],
   "source": [
    "copia[\"Pisa_ranking\"] =copia[\"Pisa_ranking\"].apply(change) "
   ]
  },
  {
   "cell_type": "code",
   "execution_count": 91,
   "id": "f196458f",
   "metadata": {},
   "outputs": [],
   "source": [
    "copia[\"Concert_venues\"] = copia[\"Concert_venues\"].apply(change)"
   ]
  },
  {
   "cell_type": "code",
   "execution_count": 92,
   "id": "8a92fa8d",
   "metadata": {},
   "outputs": [],
   "source": [
    "copia[\"Museums\"] = copia[\"Museums\"].apply(change)"
   ]
  },
  {
   "cell_type": "code",
   "execution_count": 93,
   "id": "4bdb0946",
   "metadata": {},
   "outputs": [],
   "source": [
    "copia[\"Sport_venues\"] = copia[\"Sport_venues\"].apply(change)"
   ]
  },
  {
   "cell_type": "code",
   "execution_count": 94,
   "id": "75302b88",
   "metadata": {},
   "outputs": [],
   "source": [
    "def delete_percentage(i):\n",
    "    i = str(i).replace('%', \"\")\n",
    "    return i"
   ]
  },
  {
   "cell_type": "code",
   "execution_count": 95,
   "id": "214fa5b7",
   "metadata": {},
   "outputs": [],
   "source": [
    "copia[\"Growth\"] = copia[\"Growth\"].apply(delete_percentage)"
   ]
  },
  {
   "cell_type": "code",
   "execution_count": 96,
   "id": "0e5ed2e9",
   "metadata": {},
   "outputs": [],
   "source": [
    "copia[\"Unemployment\"] = copia[\"Unemployment\"].apply(delete_percentage)"
   ]
  },
  {
   "cell_type": "markdown",
   "id": "2ee7697a",
   "metadata": {},
   "source": [
    "### A continuación debemos convertir el dtype de las columnas"
   ]
  },
  {
   "cell_type": "code",
   "execution_count": 97,
   "id": "e6ae7e44",
   "metadata": {},
   "outputs": [
    {
     "name": "stdout",
     "output_type": "stream",
     "text": [
      "<class 'pandas.core.frame.DataFrame'>\n",
      "RangeIndex: 262 entries, 0 to 261\n",
      "Data columns (total 34 columns):\n",
      " #   Column                           Non-Null Count  Dtype \n",
      "---  ------                           --------------  ----- \n",
      " 0   Unnamed: 0                       262 non-null    int64 \n",
      " 1   Airport_hub                      262 non-null    object\n",
      " 2   Intercity_train_connectivity     262 non-null    object\n",
      " 3   Gun_related_deaths               262 non-null    object\n",
      " 4   Guns_per_residents               262 non-null    object\n",
      " 5   Pisa_ranking                     262 non-null    object\n",
      " 6   Best_university                  262 non-null    object\n",
      " 7   Monthly_Fitness_Club_Membership  262 non-null    object\n",
      " 8   Beer                             262 non-null    object\n",
      " 9   Monthly_Public_Transport         262 non-null    object\n",
      " 10  Lunch                            262 non-null    object\n",
      " 11  Large_apartment                  262 non-null    object\n",
      " 12  Medium_apartment                 262 non-null    object\n",
      " 13  Small_apartment                  262 non-null    object\n",
      " 14  cities                           262 non-null    object\n",
      " 15  Description                      262 non-null    object\n",
      " 16  Poblacion                        262 non-null    object\n",
      " 17  Homosexuality_acceptance         262 non-null    object\n",
      " 18  LGBT_adoption_rights             262 non-null    object\n",
      " 19  LGBT_homosexuality_rights        262 non-null    object\n",
      " 20  LGBT_marriage_rights             262 non-null    object\n",
      " 21  VAT_Sales_Tax                    262 non-null    object\n",
      " 22  Art_galleries                    262 non-null    object\n",
      " 23  Concert_venues                   262 non-null    object\n",
      " 24  Museums                          262 non-null    object\n",
      " 25  Sport_venues                     262 non-null    object\n",
      " 26  Currency_for_urban_area          262 non-null    object\n",
      " 27  GDP_per_capita_uno               262 non-null    object\n",
      " 28  Growth                           262 non-null    object\n",
      " 29  GDP_per_capita_otro              262 non-null    object\n",
      " 30  Unemployment                     262 non-null    object\n",
      " 31  url                              262 non-null    object\n",
      " 32  Average_Annual_percent_sunshine  262 non-null    object\n",
      " 33  Airport_score                    262 non-null    object\n",
      "dtypes: int64(1), object(33)\n",
      "memory usage: 69.7+ KB\n"
     ]
    }
   ],
   "source": [
    "copia.info()"
   ]
  },
  {
   "cell_type": "code",
   "execution_count": 98,
   "id": "cd6db4ef",
   "metadata": {},
   "outputs": [],
   "source": [
    "copia[\"Small_apartment\"] = copia[\"Small_apartment\"].astype(dtype=int)"
   ]
  },
  {
   "cell_type": "code",
   "execution_count": 99,
   "id": "60d06f18",
   "metadata": {},
   "outputs": [],
   "source": [
    "copia[\"Medium_apartment\"] = copia[\"Medium_apartment\"].astype(dtype=int)"
   ]
  },
  {
   "cell_type": "code",
   "execution_count": 100,
   "id": "13896d27",
   "metadata": {},
   "outputs": [],
   "source": [
    "copia[\"Large_apartment\"] = copia[\"Large_apartment\"].astype(dtype=int)"
   ]
  },
  {
   "cell_type": "code",
   "execution_count": 101,
   "id": "50dd25fe",
   "metadata": {},
   "outputs": [],
   "source": [
    "copia[\"Airport_hub\"] = copia[\"Airport_hub\"].astype(dtype=int)"
   ]
  },
  {
   "cell_type": "code",
   "execution_count": 102,
   "id": "97a2f39b",
   "metadata": {},
   "outputs": [],
   "source": [
    "copia[\"Gun_related_deaths\"] = copia[\"Gun_related_deaths\"].astype(dtype=int)"
   ]
  },
  {
   "cell_type": "code",
   "execution_count": 103,
   "id": "559cbeed",
   "metadata": {},
   "outputs": [],
   "source": [
    "copia[\"Guns_per_residents\"] = copia[\"Guns_per_residents\"].astype(dtype=int)"
   ]
  },
  {
   "cell_type": "code",
   "execution_count": 104,
   "id": "30ecefe5",
   "metadata": {},
   "outputs": [],
   "source": [
    "copia[\"Pisa_ranking\"] = copia[\"Pisa_ranking\"].astype(dtype=int)"
   ]
  },
  {
   "cell_type": "code",
   "execution_count": 105,
   "id": "f4939837",
   "metadata": {},
   "outputs": [],
   "source": [
    "#copia[\"Monthly_Fitness_Club_Membership\"] = copia[\"Monthly_Fitness_Club_Membership\"].astype(dtype=int)"
   ]
  },
  {
   "cell_type": "code",
   "execution_count": 106,
   "id": "6cb335c4",
   "metadata": {},
   "outputs": [],
   "source": [
    "#copia.Monthly_Fitness_Club_Membership.unique()"
   ]
  },
  {
   "cell_type": "code",
   "execution_count": 107,
   "id": "c8eb2220",
   "metadata": {},
   "outputs": [],
   "source": [
    "copia[\"Poblacion\"] = copia[\"Poblacion\"].astype(dtype=int)"
   ]
  },
  {
   "cell_type": "code",
   "execution_count": 108,
   "id": "e4759c52",
   "metadata": {},
   "outputs": [],
   "source": [
    "copia[\"Art_galleries\"] = copia[\"Art_galleries\"].astype(dtype=int)"
   ]
  },
  {
   "cell_type": "code",
   "execution_count": 109,
   "id": "3bc58668",
   "metadata": {},
   "outputs": [],
   "source": [
    "copia[\"Concert_venues\"] = copia[\"Concert_venues\"].astype(dtype=int)"
   ]
  },
  {
   "cell_type": "code",
   "execution_count": 110,
   "id": "55c69db8",
   "metadata": {},
   "outputs": [],
   "source": [
    "copia[\"Museums\"] = copia[\"Museums\"].astype(dtype=int)"
   ]
  },
  {
   "cell_type": "code",
   "execution_count": 111,
   "id": "1daf0b87",
   "metadata": {},
   "outputs": [],
   "source": [
    "copia[\"Sport_venues\"] = copia[\"Sport_venues\"].astype(dtype=int)"
   ]
  },
  {
   "cell_type": "code",
   "execution_count": 112,
   "id": "5d919e5f",
   "metadata": {},
   "outputs": [],
   "source": [
    "copia[\"Growth\"] = copia[\"Growth\"].astype(dtype=int)"
   ]
  },
  {
   "cell_type": "code",
   "execution_count": 113,
   "id": "8286f2a2",
   "metadata": {},
   "outputs": [],
   "source": [
    "copia[\"Unemployment\"] = copia[\"Unemployment\"].astype(dtype=int)"
   ]
  },
  {
   "cell_type": "code",
   "execution_count": 114,
   "id": "b0f9f62d",
   "metadata": {},
   "outputs": [
    {
     "data": {
      "text/html": [
       "<div>\n",
       "<style scoped>\n",
       "    .dataframe tbody tr th:only-of-type {\n",
       "        vertical-align: middle;\n",
       "    }\n",
       "\n",
       "    .dataframe tbody tr th {\n",
       "        vertical-align: top;\n",
       "    }\n",
       "\n",
       "    .dataframe thead th {\n",
       "        text-align: right;\n",
       "    }\n",
       "</style>\n",
       "<table border=\"1\" class=\"dataframe\">\n",
       "  <thead>\n",
       "    <tr style=\"text-align: right;\">\n",
       "      <th></th>\n",
       "      <th>Unnamed: 0</th>\n",
       "      <th>Airport_hub</th>\n",
       "      <th>Intercity_train_connectivity</th>\n",
       "      <th>Gun_related_deaths</th>\n",
       "      <th>Guns_per_residents</th>\n",
       "      <th>Pisa_ranking</th>\n",
       "      <th>Best_university</th>\n",
       "      <th>Monthly_Fitness_Club_Membership</th>\n",
       "      <th>Beer</th>\n",
       "      <th>Monthly_Public_Transport</th>\n",
       "      <th>...</th>\n",
       "      <th>Museums</th>\n",
       "      <th>Sport_venues</th>\n",
       "      <th>Currency_for_urban_area</th>\n",
       "      <th>GDP_per_capita_uno</th>\n",
       "      <th>Growth</th>\n",
       "      <th>GDP_per_capita_otro</th>\n",
       "      <th>Unemployment</th>\n",
       "      <th>url</th>\n",
       "      <th>Average_Annual_percent_sunshine</th>\n",
       "      <th>Airport_score</th>\n",
       "    </tr>\n",
       "  </thead>\n",
       "  <tbody>\n",
       "    <tr>\n",
       "      <th>0</th>\n",
       "      <td>0</td>\n",
       "      <td>8</td>\n",
       "      <td>0.59</td>\n",
       "      <td>1</td>\n",
       "      <td>12</td>\n",
       "      <td>13</td>\n",
       "      <td>Aarhus University</td>\n",
       "      <td>37.00</td>\n",
       "      <td>1.70</td>\n",
       "      <td>62.00</td>\n",
       "      <td>...</td>\n",
       "      <td>18</td>\n",
       "      <td>21</td>\n",
       "      <td>DKK</td>\n",
       "      <td>44342.66</td>\n",
       "      <td>5</td>\n",
       "      <td>44.343</td>\n",
       "      <td>4</td>\n",
       "      <td>https://teleport.org/cities/aarhus/</td>\n",
       "      <td>0</td>\n",
       "      <td>0.12</td>\n",
       "    </tr>\n",
       "    <tr>\n",
       "      <th>1</th>\n",
       "      <td>1</td>\n",
       "      <td>26</td>\n",
       "      <td>0.17</td>\n",
       "      <td>1</td>\n",
       "      <td>24</td>\n",
       "      <td>16</td>\n",
       "      <td>University of Adelaide</td>\n",
       "      <td>50.00</td>\n",
       "      <td>4.30</td>\n",
       "      <td>80.00</td>\n",
       "      <td>...</td>\n",
       "      <td>37</td>\n",
       "      <td>91</td>\n",
       "      <td>AUD</td>\n",
       "      <td>46433.30</td>\n",
       "      <td>7</td>\n",
       "      <td>46.433</td>\n",
       "      <td>6</td>\n",
       "      <td>https://teleport.org/cities/adelaide/</td>\n",
       "      <td>12.6</td>\n",
       "      <td>0.19</td>\n",
       "    </tr>\n",
       "    <tr>\n",
       "      <th>2</th>\n",
       "      <td>2</td>\n",
       "      <td>23</td>\n",
       "      <td>0.11</td>\n",
       "      <td>16</td>\n",
       "      <td>328</td>\n",
       "      <td>24</td>\n",
       "      <td>University of New Mexico</td>\n",
       "      <td>52.00</td>\n",
       "      <td>2.90</td>\n",
       "      <td>37.00</td>\n",
       "      <td>...</td>\n",
       "      <td>35</td>\n",
       "      <td>10</td>\n",
       "      <td>USD</td>\n",
       "      <td>54596.65</td>\n",
       "      <td>7</td>\n",
       "      <td>54.597</td>\n",
       "      <td>5</td>\n",
       "      <td>https://teleport.org/cities/albuquerque/</td>\n",
       "      <td>168</td>\n",
       "      <td>0.18</td>\n",
       "    </tr>\n",
       "    <tr>\n",
       "      <th>3</th>\n",
       "      <td>3</td>\n",
       "      <td>45</td>\n",
       "      <td>0.66</td>\n",
       "      <td>1</td>\n",
       "      <td>1</td>\n",
       "      <td>39</td>\n",
       "      <td>No hay dato</td>\n",
       "      <td>83.00</td>\n",
       "      <td>0.68</td>\n",
       "      <td>19.00</td>\n",
       "      <td>...</td>\n",
       "      <td>24</td>\n",
       "      <td>53</td>\n",
       "      <td>KZT</td>\n",
       "      <td>24019.95</td>\n",
       "      <td>9</td>\n",
       "      <td>24.020</td>\n",
       "      <td>6</td>\n",
       "      <td>https://teleport.org/cities/almaty/</td>\n",
       "      <td>64</td>\n",
       "      <td>0.26</td>\n",
       "    </tr>\n",
       "    <tr>\n",
       "      <th>4</th>\n",
       "      <td>4</td>\n",
       "      <td>237</td>\n",
       "      <td>0.68</td>\n",
       "      <td>1</td>\n",
       "      <td>4</td>\n",
       "      <td>10</td>\n",
       "      <td>University of Amsterdam</td>\n",
       "      <td>49.00</td>\n",
       "      <td>2.10</td>\n",
       "      <td>100.00</td>\n",
       "      <td>...</td>\n",
       "      <td>187</td>\n",
       "      <td>154</td>\n",
       "      <td>EUR</td>\n",
       "      <td>47354.53</td>\n",
       "      <td>3</td>\n",
       "      <td>47.355</td>\n",
       "      <td>6</td>\n",
       "      <td>https://teleport.org/cities/amsterdam/</td>\n",
       "      <td>12.9</td>\n",
       "      <td>0.98</td>\n",
       "    </tr>\n",
       "  </tbody>\n",
       "</table>\n",
       "<p>5 rows × 34 columns</p>\n",
       "</div>"
      ],
      "text/plain": [
       "   Unnamed: 0  Airport_hub Intercity_train_connectivity  Gun_related_deaths  \\\n",
       "0           0            8                         0.59                   1   \n",
       "1           1           26                         0.17                   1   \n",
       "2           2           23                         0.11                  16   \n",
       "3           3           45                         0.66                   1   \n",
       "4           4          237                         0.68                   1   \n",
       "\n",
       "   Guns_per_residents  Pisa_ranking           Best_university  \\\n",
       "0                  12            13         Aarhus University   \n",
       "1                  24            16    University of Adelaide   \n",
       "2                 328            24  University of New Mexico   \n",
       "3                   1            39               No hay dato   \n",
       "4                   4            10   University of Amsterdam   \n",
       "\n",
       "  Monthly_Fitness_Club_Membership  Beer Monthly_Public_Transport  ... Museums  \\\n",
       "0                           37.00  1.70                    62.00  ...      18   \n",
       "1                           50.00  4.30                    80.00  ...      37   \n",
       "2                           52.00  2.90                    37.00  ...      35   \n",
       "3                           83.00  0.68                    19.00  ...      24   \n",
       "4                           49.00  2.10                   100.00  ...     187   \n",
       "\n",
       "   Sport_venues  Currency_for_urban_area  GDP_per_capita_uno Growth  \\\n",
       "0            21                      DKK            44342.66      5   \n",
       "1            91                      AUD            46433.30      7   \n",
       "2            10                      USD            54596.65      7   \n",
       "3            53                      KZT            24019.95      9   \n",
       "4           154                      EUR            47354.53      3   \n",
       "\n",
       "  GDP_per_capita_otro  Unemployment                                       url  \\\n",
       "0              44.343             4       https://teleport.org/cities/aarhus/   \n",
       "1              46.433             6     https://teleport.org/cities/adelaide/   \n",
       "2              54.597             5  https://teleport.org/cities/albuquerque/   \n",
       "3              24.020             6       https://teleport.org/cities/almaty/   \n",
       "4              47.355             6    https://teleport.org/cities/amsterdam/   \n",
       "\n",
       "  Average_Annual_percent_sunshine Airport_score  \n",
       "0                               0          0.12  \n",
       "1                            12.6          0.19  \n",
       "2                             168          0.18  \n",
       "3                              64          0.26  \n",
       "4                            12.9          0.98  \n",
       "\n",
       "[5 rows x 34 columns]"
      ]
     },
     "execution_count": 114,
     "metadata": {},
     "output_type": "execute_result"
    }
   ],
   "source": [
    "copia.head()"
   ]
  },
  {
   "cell_type": "code",
   "execution_count": 115,
   "id": "470e4885",
   "metadata": {},
   "outputs": [
    {
     "data": {
      "text/plain": [
       "array(['0', '12.6', '168', '64', '12.9', '61', '243', '101', '12.5',\n",
       "       '266.7', '110', '182.9', '116', '12.7', '207', '73', '209.5', '75',\n",
       "       '113', '160', '213', '35', '120', '288', '12.8', '98', '324',\n",
       "       '326', '124', '54', '297.1', '254', '260', '259', '111', '105',\n",
       "       '84', '238.3', '82', '66', '138', '127', '72', '13', '161', '228',\n",
       "       '136', '115', '76', '298', '337', '174', '227.8', '288.2', '281',\n",
       "       '282', '225', '330', '302', '90', '181', '44', '198', '13.2',\n",
       "       '277.1', '222', '200', '296', '265', '13.3', '91', '88', '95',\n",
       "       '246', '121', '285', '97', '217', '312', '65', '211', '290', '218',\n",
       "       '89', '241.4', '147', '93', '31', '94', '107', '252', '118', '96',\n",
       "       '103', '336', '139', '177', '246.7', '13.5', '102', '180', '58',\n",
       "       '68', '242', '99', '13.6', '100', '13.1', '130', '125', '106',\n",
       "       '271', '70', '236', '299.5', '71', '250', '129', '287', '291',\n",
       "       '13.4', '199.9', '213.1', '172', '49.4', '286', '36'], dtype=object)"
      ]
     },
     "execution_count": 115,
     "metadata": {},
     "output_type": "execute_result"
    }
   ],
   "source": [
    "copia.Average_Annual_percent_sunshine.unique()"
   ]
  },
  {
   "cell_type": "code",
   "execution_count": 116,
   "id": "8cec5ac4",
   "metadata": {},
   "outputs": [],
   "source": [
    "copia[\"Intercity_train_connectivity\"] = copia[\"Intercity_train_connectivity\"].astype(dtype=float)"
   ]
  },
  {
   "cell_type": "code",
   "execution_count": 117,
   "id": "8f9f8f82",
   "metadata": {},
   "outputs": [],
   "source": [
    "copia[\"Monthly_Fitness_Club_Membership\"] = copia[\"Monthly_Fitness_Club_Membership\"].astype(dtype=float)"
   ]
  },
  {
   "cell_type": "code",
   "execution_count": 118,
   "id": "6dc1c031",
   "metadata": {},
   "outputs": [],
   "source": [
    "copia[\"Beer\"] = copia[\"Beer\"].astype(dtype=float)"
   ]
  },
  {
   "cell_type": "code",
   "execution_count": 119,
   "id": "6d54c144",
   "metadata": {},
   "outputs": [],
   "source": [
    "copia[\"Lunch\"] = copia[\"Lunch\"].astype(dtype=float)"
   ]
  },
  {
   "cell_type": "code",
   "execution_count": 120,
   "id": "513f2d7c",
   "metadata": {},
   "outputs": [],
   "source": [
    "copia[\"Monthly_Public_Transport\"] = copia[\"Monthly_Public_Transport\"].astype(dtype=float)"
   ]
  },
  {
   "cell_type": "code",
   "execution_count": 121,
   "id": "13ee6b9c",
   "metadata": {},
   "outputs": [],
   "source": [
    "copia[\"Homosexuality_acceptance\"] = copia[\"Homosexuality_acceptance\"].astype(dtype=float)"
   ]
  },
  {
   "cell_type": "code",
   "execution_count": 122,
   "id": "15de990d",
   "metadata": {},
   "outputs": [],
   "source": [
    "copia[\"VAT_Sales_Tax\"] = copia[\"VAT_Sales_Tax\"].astype(dtype=float)"
   ]
  },
  {
   "cell_type": "code",
   "execution_count": 123,
   "id": "73028dc6",
   "metadata": {},
   "outputs": [],
   "source": [
    "copia[\"Average_Annual_percent_sunshine\"] = copia[\"Average_Annual_percent_sunshine\"].astype(dtype=float)"
   ]
  },
  {
   "cell_type": "code",
   "execution_count": 124,
   "id": "62ca5b6e",
   "metadata": {},
   "outputs": [],
   "source": [
    "copia[\"GDP_per_capita_uno\"] =copia[\"GDP_per_capita_uno\"].astype(dtype=float)"
   ]
  },
  {
   "cell_type": "code",
   "execution_count": 125,
   "id": "50e4e11b",
   "metadata": {},
   "outputs": [],
   "source": [
    "copia[\"Airport_score\"] = copia[\"Airport_score\"].astype(dtype=float)"
   ]
  },
  {
   "cell_type": "code",
   "execution_count": 126,
   "id": "abaf748c",
   "metadata": {},
   "outputs": [],
   "source": [
    "def porcentaje(i):\n",
    "    i = i/100\n",
    "    return i"
   ]
  },
  {
   "cell_type": "code",
   "execution_count": 127,
   "id": "188728bb",
   "metadata": {},
   "outputs": [],
   "source": [
    "copia[\"Growth\"] = copia[\"Growth\"].apply(porcentaje)"
   ]
  },
  {
   "cell_type": "code",
   "execution_count": 128,
   "id": "f4469d66",
   "metadata": {},
   "outputs": [],
   "source": [
    "copia[\"Unemployment\"] = copia[\"Unemployment\"].apply(porcentaje)"
   ]
  },
  {
   "cell_type": "code",
   "execution_count": 129,
   "id": "aa9078f1",
   "metadata": {},
   "outputs": [],
   "source": [
    "def menores(i):\n",
    "    if i <1:\n",
    "        i= i*100\n",
    "    return i"
   ]
  },
  {
   "cell_type": "code",
   "execution_count": 130,
   "id": "2552cbee",
   "metadata": {},
   "outputs": [],
   "source": [
    "copia[\"Homosexuality_acceptance\"] = copia[\"Homosexuality_acceptance\"].astype(dtype=float)"
   ]
  },
  {
   "cell_type": "code",
   "execution_count": 131,
   "id": "2f0c7962",
   "metadata": {},
   "outputs": [],
   "source": [
    "copia[\"Homosexuality_acceptance\"] = copia[\"Homosexuality_acceptance\"].apply(menores)"
   ]
  },
  {
   "cell_type": "markdown",
   "id": "e3b00e75",
   "metadata": {},
   "source": [
    "### A continuación eliminaremos algunas columnas que no utilizaremos"
   ]
  },
  {
   "cell_type": "code",
   "execution_count": 133,
   "id": "39d74de6",
   "metadata": {},
   "outputs": [],
   "source": [
    "copia.drop([\"Unnamed: 0\", \"GDP_per_capita_otro\"], axis=1, inplace=True)"
   ]
  },
  {
   "cell_type": "code",
   "execution_count": 134,
   "id": "18b4d74a",
   "metadata": {},
   "outputs": [
    {
     "data": {
      "text/html": [
       "<div>\n",
       "<style scoped>\n",
       "    .dataframe tbody tr th:only-of-type {\n",
       "        vertical-align: middle;\n",
       "    }\n",
       "\n",
       "    .dataframe tbody tr th {\n",
       "        vertical-align: top;\n",
       "    }\n",
       "\n",
       "    .dataframe thead th {\n",
       "        text-align: right;\n",
       "    }\n",
       "</style>\n",
       "<table border=\"1\" class=\"dataframe\">\n",
       "  <thead>\n",
       "    <tr style=\"text-align: right;\">\n",
       "      <th></th>\n",
       "      <th>Airport_hub</th>\n",
       "      <th>Intercity_train_connectivity</th>\n",
       "      <th>Gun_related_deaths</th>\n",
       "      <th>Guns_per_residents</th>\n",
       "      <th>Pisa_ranking</th>\n",
       "      <th>Best_university</th>\n",
       "      <th>Monthly_Fitness_Club_Membership</th>\n",
       "      <th>Beer</th>\n",
       "      <th>Monthly_Public_Transport</th>\n",
       "      <th>Lunch</th>\n",
       "      <th>...</th>\n",
       "      <th>Concert_venues</th>\n",
       "      <th>Museums</th>\n",
       "      <th>Sport_venues</th>\n",
       "      <th>Currency_for_urban_area</th>\n",
       "      <th>GDP_per_capita_uno</th>\n",
       "      <th>Growth</th>\n",
       "      <th>Unemployment</th>\n",
       "      <th>url</th>\n",
       "      <th>Average_Annual_percent_sunshine</th>\n",
       "      <th>Airport_score</th>\n",
       "    </tr>\n",
       "  </thead>\n",
       "  <tbody>\n",
       "    <tr>\n",
       "      <th>0</th>\n",
       "      <td>8</td>\n",
       "      <td>0.59</td>\n",
       "      <td>1</td>\n",
       "      <td>12</td>\n",
       "      <td>13</td>\n",
       "      <td>Aarhus University</td>\n",
       "      <td>37.0</td>\n",
       "      <td>1.70</td>\n",
       "      <td>62.0</td>\n",
       "      <td>15.0</td>\n",
       "      <td>...</td>\n",
       "      <td>95</td>\n",
       "      <td>18</td>\n",
       "      <td>21</td>\n",
       "      <td>DKK</td>\n",
       "      <td>44342.66</td>\n",
       "      <td>0.05</td>\n",
       "      <td>0.04</td>\n",
       "      <td>https://teleport.org/cities/aarhus/</td>\n",
       "      <td>0.0</td>\n",
       "      <td>0.12</td>\n",
       "    </tr>\n",
       "    <tr>\n",
       "      <th>1</th>\n",
       "      <td>26</td>\n",
       "      <td>0.17</td>\n",
       "      <td>1</td>\n",
       "      <td>24</td>\n",
       "      <td>16</td>\n",
       "      <td>University of Adelaide</td>\n",
       "      <td>50.0</td>\n",
       "      <td>4.30</td>\n",
       "      <td>80.0</td>\n",
       "      <td>13.0</td>\n",
       "      <td>...</td>\n",
       "      <td>89</td>\n",
       "      <td>37</td>\n",
       "      <td>91</td>\n",
       "      <td>AUD</td>\n",
       "      <td>46433.30</td>\n",
       "      <td>0.07</td>\n",
       "      <td>0.06</td>\n",
       "      <td>https://teleport.org/cities/adelaide/</td>\n",
       "      <td>12.6</td>\n",
       "      <td>0.19</td>\n",
       "    </tr>\n",
       "    <tr>\n",
       "      <th>2</th>\n",
       "      <td>23</td>\n",
       "      <td>0.11</td>\n",
       "      <td>16</td>\n",
       "      <td>328</td>\n",
       "      <td>24</td>\n",
       "      <td>University of New Mexico</td>\n",
       "      <td>52.0</td>\n",
       "      <td>2.90</td>\n",
       "      <td>37.0</td>\n",
       "      <td>12.0</td>\n",
       "      <td>...</td>\n",
       "      <td>99</td>\n",
       "      <td>35</td>\n",
       "      <td>10</td>\n",
       "      <td>USD</td>\n",
       "      <td>54596.65</td>\n",
       "      <td>0.07</td>\n",
       "      <td>0.05</td>\n",
       "      <td>https://teleport.org/cities/albuquerque/</td>\n",
       "      <td>168.0</td>\n",
       "      <td>0.18</td>\n",
       "    </tr>\n",
       "    <tr>\n",
       "      <th>3</th>\n",
       "      <td>45</td>\n",
       "      <td>0.66</td>\n",
       "      <td>1</td>\n",
       "      <td>1</td>\n",
       "      <td>39</td>\n",
       "      <td>No hay dato</td>\n",
       "      <td>83.0</td>\n",
       "      <td>0.68</td>\n",
       "      <td>19.0</td>\n",
       "      <td>5.7</td>\n",
       "      <td>...</td>\n",
       "      <td>68</td>\n",
       "      <td>24</td>\n",
       "      <td>53</td>\n",
       "      <td>KZT</td>\n",
       "      <td>24019.95</td>\n",
       "      <td>0.09</td>\n",
       "      <td>0.06</td>\n",
       "      <td>https://teleport.org/cities/almaty/</td>\n",
       "      <td>64.0</td>\n",
       "      <td>0.26</td>\n",
       "    </tr>\n",
       "    <tr>\n",
       "      <th>4</th>\n",
       "      <td>237</td>\n",
       "      <td>0.68</td>\n",
       "      <td>1</td>\n",
       "      <td>4</td>\n",
       "      <td>10</td>\n",
       "      <td>University of Amsterdam</td>\n",
       "      <td>49.0</td>\n",
       "      <td>2.10</td>\n",
       "      <td>100.0</td>\n",
       "      <td>18.0</td>\n",
       "      <td>...</td>\n",
       "      <td>339</td>\n",
       "      <td>187</td>\n",
       "      <td>154</td>\n",
       "      <td>EUR</td>\n",
       "      <td>47354.53</td>\n",
       "      <td>0.03</td>\n",
       "      <td>0.06</td>\n",
       "      <td>https://teleport.org/cities/amsterdam/</td>\n",
       "      <td>12.9</td>\n",
       "      <td>0.98</td>\n",
       "    </tr>\n",
       "  </tbody>\n",
       "</table>\n",
       "<p>5 rows × 32 columns</p>\n",
       "</div>"
      ],
      "text/plain": [
       "   Airport_hub  Intercity_train_connectivity  Gun_related_deaths  \\\n",
       "0            8                          0.59                   1   \n",
       "1           26                          0.17                   1   \n",
       "2           23                          0.11                  16   \n",
       "3           45                          0.66                   1   \n",
       "4          237                          0.68                   1   \n",
       "\n",
       "   Guns_per_residents  Pisa_ranking           Best_university  \\\n",
       "0                  12            13         Aarhus University   \n",
       "1                  24            16    University of Adelaide   \n",
       "2                 328            24  University of New Mexico   \n",
       "3                   1            39               No hay dato   \n",
       "4                   4            10   University of Amsterdam   \n",
       "\n",
       "   Monthly_Fitness_Club_Membership  Beer  Monthly_Public_Transport  Lunch  \\\n",
       "0                             37.0  1.70                      62.0   15.0   \n",
       "1                             50.0  4.30                      80.0   13.0   \n",
       "2                             52.0  2.90                      37.0   12.0   \n",
       "3                             83.0  0.68                      19.0    5.7   \n",
       "4                             49.0  2.10                     100.0   18.0   \n",
       "\n",
       "   ...  Concert_venues  Museums  Sport_venues Currency_for_urban_area  \\\n",
       "0  ...              95       18            21                     DKK   \n",
       "1  ...              89       37            91                     AUD   \n",
       "2  ...              99       35            10                     USD   \n",
       "3  ...              68       24            53                     KZT   \n",
       "4  ...             339      187           154                     EUR   \n",
       "\n",
       "  GDP_per_capita_uno  Growth  Unemployment  \\\n",
       "0           44342.66    0.05          0.04   \n",
       "1           46433.30    0.07          0.06   \n",
       "2           54596.65    0.07          0.05   \n",
       "3           24019.95    0.09          0.06   \n",
       "4           47354.53    0.03          0.06   \n",
       "\n",
       "                                        url Average_Annual_percent_sunshine  \\\n",
       "0       https://teleport.org/cities/aarhus/                             0.0   \n",
       "1     https://teleport.org/cities/adelaide/                            12.6   \n",
       "2  https://teleport.org/cities/albuquerque/                           168.0   \n",
       "3       https://teleport.org/cities/almaty/                            64.0   \n",
       "4    https://teleport.org/cities/amsterdam/                            12.9   \n",
       "\n",
       "  Airport_score  \n",
       "0          0.12  \n",
       "1          0.19  \n",
       "2          0.18  \n",
       "3          0.26  \n",
       "4          0.98  \n",
       "\n",
       "[5 rows x 32 columns]"
      ]
     },
     "execution_count": 134,
     "metadata": {},
     "output_type": "execute_result"
    }
   ],
   "source": [
    "copia.head()"
   ]
  },
  {
   "cell_type": "code",
   "execution_count": 135,
   "id": "783aea50",
   "metadata": {},
   "outputs": [],
   "source": [
    "new_name = {\"cities\": \"Cities\",\"Growth\": \"Growth_percentage\", \"GDP_per_capita_uno\": \"GDP_per_capita\",\"Unemployment\": \"Unemployment_percentage\",\"url\":\"Url\"}"
   ]
  },
  {
   "cell_type": "code",
   "execution_count": 136,
   "id": "7792fc3e",
   "metadata": {},
   "outputs": [],
   "source": [
    "copia.rename(columns=new_name, inplace=True)"
   ]
  },
  {
   "cell_type": "code",
   "execution_count": 137,
   "id": "3b6466f1",
   "metadata": {
    "scrolled": true
   },
   "outputs": [
    {
     "name": "stdout",
     "output_type": "stream",
     "text": [
      "<class 'pandas.core.frame.DataFrame'>\n",
      "RangeIndex: 262 entries, 0 to 261\n",
      "Data columns (total 32 columns):\n",
      " #   Column                           Non-Null Count  Dtype  \n",
      "---  ------                           --------------  -----  \n",
      " 0   Airport_hub                      262 non-null    int64  \n",
      " 1   Intercity_train_connectivity     262 non-null    float64\n",
      " 2   Gun_related_deaths               262 non-null    int64  \n",
      " 3   Guns_per_residents               262 non-null    int64  \n",
      " 4   Pisa_ranking                     262 non-null    int64  \n",
      " 5   Best_university                  262 non-null    object \n",
      " 6   Monthly_Fitness_Club_Membership  262 non-null    float64\n",
      " 7   Beer                             262 non-null    float64\n",
      " 8   Monthly_Public_Transport         262 non-null    float64\n",
      " 9   Lunch                            262 non-null    float64\n",
      " 10  Large_apartment                  262 non-null    int64  \n",
      " 11  Medium_apartment                 262 non-null    int64  \n",
      " 12  Small_apartment                  262 non-null    int64  \n",
      " 13  Cities                           262 non-null    object \n",
      " 14  Description                      262 non-null    object \n",
      " 15  Poblacion                        262 non-null    int64  \n",
      " 16  Homosexuality_acceptance         262 non-null    float64\n",
      " 17  LGBT_adoption_rights             262 non-null    object \n",
      " 18  LGBT_homosexuality_rights        262 non-null    object \n",
      " 19  LGBT_marriage_rights             262 non-null    object \n",
      " 20  VAT_Sales_Tax                    262 non-null    float64\n",
      " 21  Art_galleries                    262 non-null    int64  \n",
      " 22  Concert_venues                   262 non-null    int64  \n",
      " 23  Museums                          262 non-null    int64  \n",
      " 24  Sport_venues                     262 non-null    int64  \n",
      " 25  Currency_for_urban_area          262 non-null    object \n",
      " 26  GDP_per_capita                   262 non-null    float64\n",
      " 27  Growth_percentage                262 non-null    float64\n",
      " 28  Unemployment_percentage          262 non-null    float64\n",
      " 29  Url                              262 non-null    object \n",
      " 30  Average_Annual_percent_sunshine  262 non-null    float64\n",
      " 31  Airport_score                    262 non-null    float64\n",
      "dtypes: float64(12), int64(12), object(8)\n",
      "memory usage: 65.6+ KB\n"
     ]
    }
   ],
   "source": [
    "copia.info()"
   ]
  },
  {
   "cell_type": "code",
   "execution_count": 138,
   "id": "77d5a2a0",
   "metadata": {},
   "outputs": [],
   "source": [
    "copia.to_csv(\"../Data/copia_de_prueba.csv\")"
   ]
  },
  {
   "cell_type": "code",
   "execution_count": 159,
   "id": "459f28d8",
   "metadata": {},
   "outputs": [
    {
     "data": {
      "text/plain": [
       "Index(['Airport_hub', 'Intercity_train_connectivity', 'Gun_related_deaths',\n",
       "       'Guns_per_residents', 'Pisa_ranking', 'Best_university',\n",
       "       'Monthly_Fitness_Club_Membership', 'Beer', 'Monthly_Public_Transport',\n",
       "       'Lunch', 'Large_apartment', 'Medium_apartment', 'Small_apartment',\n",
       "       'Cities', 'Description', 'Poblacion', 'Homosexuality_acceptance',\n",
       "       'LGBT_adoption_rights', 'LGBT_homosexuality_rights',\n",
       "       'LGBT_marriage_rights', 'VAT_Sales_Tax', 'Art_galleries',\n",
       "       'Concert_venues', 'Museums', 'Sport_venues', 'Currency_for_urban_area',\n",
       "       'GDP_per_capita', 'Growth_percentage', 'Unemployment_percentage', 'Url',\n",
       "       'Average_Annual_percent_sunshine', 'Airport_score'],\n",
       "      dtype='object')"
      ]
     },
     "execution_count": 159,
     "metadata": {},
     "output_type": "execute_result"
    }
   ],
   "source": [
    "copia.columns"
   ]
  },
  {
   "cell_type": "markdown",
   "id": "e1faad8a",
   "metadata": {},
   "source": [
    "### Agregaremos coordenadas para hacer mapas de cada ciudad"
   ]
  },
  {
   "cell_type": "code",
   "execution_count": 162,
   "id": "ac41b557",
   "metadata": {},
   "outputs": [],
   "source": [
    "import pandas as pd\n",
    "import xlrd\n",
    "from geopy.geocoders import Nominatim"
   ]
  },
  {
   "cell_type": "code",
   "execution_count": 222,
   "id": "c3ba4530",
   "metadata": {},
   "outputs": [],
   "source": [
    "def get_coordenadas(city):\n",
    "    \"\"\"\n",
    "    Esta función saca las coordenadas de la ciudad que le pases.\n",
    "    Args: una ciudad (string).\n",
    "    Return: Las coordeandas de la ciudad que le paso como argumento (latitud y longitud).\n",
    "    \"\"\"\n",
    "    geolocator = Nominatim(user_agent=\"Dani\")\n",
    "    location = geolocator.geocode(query=city, exactly_one=True)\n",
    "    \n",
    "    return location[1]"
   ]
  },
  {
   "cell_type": "code",
   "execution_count": 223,
   "id": "aaa6cc75",
   "metadata": {},
   "outputs": [],
   "source": [
    "copia['Coordenadas'] = copia['Cities'].apply(get_coordenadas)"
   ]
  },
  {
   "cell_type": "code",
   "execution_count": 217,
   "id": "a0f33a84",
   "metadata": {},
   "outputs": [],
   "source": [
    "def hacer_lista(resp):\n",
    "    return list(resp)"
   ]
  },
  {
   "cell_type": "code",
   "execution_count": 218,
   "id": "c85268c0",
   "metadata": {},
   "outputs": [],
   "source": [
    "copia['Coordenadas'] = copia['Coordenadas'].apply(hacer_lista)"
   ]
  },
  {
   "cell_type": "code",
   "execution_count": 219,
   "id": "012ef56e",
   "metadata": {},
   "outputs": [
    {
     "data": {
      "text/html": [
       "<div>\n",
       "<style scoped>\n",
       "    .dataframe tbody tr th:only-of-type {\n",
       "        vertical-align: middle;\n",
       "    }\n",
       "\n",
       "    .dataframe tbody tr th {\n",
       "        vertical-align: top;\n",
       "    }\n",
       "\n",
       "    .dataframe thead th {\n",
       "        text-align: right;\n",
       "    }\n",
       "</style>\n",
       "<table border=\"1\" class=\"dataframe\">\n",
       "  <thead>\n",
       "    <tr style=\"text-align: right;\">\n",
       "      <th></th>\n",
       "      <th>Airport_hub</th>\n",
       "      <th>Intercity_train_connectivity</th>\n",
       "      <th>Gun_related_deaths</th>\n",
       "      <th>Guns_per_residents</th>\n",
       "      <th>Pisa_ranking</th>\n",
       "      <th>Best_university</th>\n",
       "      <th>Monthly_Fitness_Club_Membership</th>\n",
       "      <th>Beer</th>\n",
       "      <th>Monthly_Public_Transport</th>\n",
       "      <th>Lunch</th>\n",
       "      <th>...</th>\n",
       "      <th>Museums</th>\n",
       "      <th>Sport_venues</th>\n",
       "      <th>Currency_for_urban_area</th>\n",
       "      <th>GDP_per_capita</th>\n",
       "      <th>Growth_percentage</th>\n",
       "      <th>Unemployment_percentage</th>\n",
       "      <th>Url</th>\n",
       "      <th>Average_Annual_percent_sunshine</th>\n",
       "      <th>Airport_score</th>\n",
       "      <th>Coordenadas</th>\n",
       "    </tr>\n",
       "  </thead>\n",
       "  <tbody>\n",
       "    <tr>\n",
       "      <th>0</th>\n",
       "      <td>8</td>\n",
       "      <td>0.59</td>\n",
       "      <td>1</td>\n",
       "      <td>12</td>\n",
       "      <td>13</td>\n",
       "      <td>Aarhus University</td>\n",
       "      <td>37.0</td>\n",
       "      <td>1.70</td>\n",
       "      <td>62.0</td>\n",
       "      <td>15.0</td>\n",
       "      <td>...</td>\n",
       "      <td>18</td>\n",
       "      <td>21</td>\n",
       "      <td>DKK</td>\n",
       "      <td>44342.66</td>\n",
       "      <td>0.05</td>\n",
       "      <td>0.04</td>\n",
       "      <td>https://teleport.org/cities/aarhus/</td>\n",
       "      <td>0.0</td>\n",
       "      <td>0.12</td>\n",
       "      <td>[56.1496278, 10.2134046]</td>\n",
       "    </tr>\n",
       "    <tr>\n",
       "      <th>1</th>\n",
       "      <td>26</td>\n",
       "      <td>0.17</td>\n",
       "      <td>1</td>\n",
       "      <td>24</td>\n",
       "      <td>16</td>\n",
       "      <td>University of Adelaide</td>\n",
       "      <td>50.0</td>\n",
       "      <td>4.30</td>\n",
       "      <td>80.0</td>\n",
       "      <td>13.0</td>\n",
       "      <td>...</td>\n",
       "      <td>37</td>\n",
       "      <td>91</td>\n",
       "      <td>AUD</td>\n",
       "      <td>46433.30</td>\n",
       "      <td>0.07</td>\n",
       "      <td>0.06</td>\n",
       "      <td>https://teleport.org/cities/adelaide/</td>\n",
       "      <td>12.6</td>\n",
       "      <td>0.19</td>\n",
       "      <td>[-34.9281805, 138.5999312]</td>\n",
       "    </tr>\n",
       "    <tr>\n",
       "      <th>2</th>\n",
       "      <td>23</td>\n",
       "      <td>0.11</td>\n",
       "      <td>16</td>\n",
       "      <td>328</td>\n",
       "      <td>24</td>\n",
       "      <td>University of New Mexico</td>\n",
       "      <td>52.0</td>\n",
       "      <td>2.90</td>\n",
       "      <td>37.0</td>\n",
       "      <td>12.0</td>\n",
       "      <td>...</td>\n",
       "      <td>35</td>\n",
       "      <td>10</td>\n",
       "      <td>USD</td>\n",
       "      <td>54596.65</td>\n",
       "      <td>0.07</td>\n",
       "      <td>0.05</td>\n",
       "      <td>https://teleport.org/cities/albuquerque/</td>\n",
       "      <td>168.0</td>\n",
       "      <td>0.18</td>\n",
       "      <td>[35.0841034, -106.650985]</td>\n",
       "    </tr>\n",
       "    <tr>\n",
       "      <th>3</th>\n",
       "      <td>45</td>\n",
       "      <td>0.66</td>\n",
       "      <td>1</td>\n",
       "      <td>1</td>\n",
       "      <td>39</td>\n",
       "      <td>No hay dato</td>\n",
       "      <td>83.0</td>\n",
       "      <td>0.68</td>\n",
       "      <td>19.0</td>\n",
       "      <td>5.7</td>\n",
       "      <td>...</td>\n",
       "      <td>24</td>\n",
       "      <td>53</td>\n",
       "      <td>KZT</td>\n",
       "      <td>24019.95</td>\n",
       "      <td>0.09</td>\n",
       "      <td>0.06</td>\n",
       "      <td>https://teleport.org/cities/almaty/</td>\n",
       "      <td>64.0</td>\n",
       "      <td>0.26</td>\n",
       "      <td>[43.2363924, 76.9457275]</td>\n",
       "    </tr>\n",
       "    <tr>\n",
       "      <th>4</th>\n",
       "      <td>237</td>\n",
       "      <td>0.68</td>\n",
       "      <td>1</td>\n",
       "      <td>4</td>\n",
       "      <td>10</td>\n",
       "      <td>University of Amsterdam</td>\n",
       "      <td>49.0</td>\n",
       "      <td>2.10</td>\n",
       "      <td>100.0</td>\n",
       "      <td>18.0</td>\n",
       "      <td>...</td>\n",
       "      <td>187</td>\n",
       "      <td>154</td>\n",
       "      <td>EUR</td>\n",
       "      <td>47354.53</td>\n",
       "      <td>0.03</td>\n",
       "      <td>0.06</td>\n",
       "      <td>https://teleport.org/cities/amsterdam/</td>\n",
       "      <td>12.9</td>\n",
       "      <td>0.98</td>\n",
       "      <td>[52.3727598, 4.8936041]</td>\n",
       "    </tr>\n",
       "  </tbody>\n",
       "</table>\n",
       "<p>5 rows × 33 columns</p>\n",
       "</div>"
      ],
      "text/plain": [
       "   Airport_hub  Intercity_train_connectivity  Gun_related_deaths  \\\n",
       "0            8                          0.59                   1   \n",
       "1           26                          0.17                   1   \n",
       "2           23                          0.11                  16   \n",
       "3           45                          0.66                   1   \n",
       "4          237                          0.68                   1   \n",
       "\n",
       "   Guns_per_residents  Pisa_ranking           Best_university  \\\n",
       "0                  12            13         Aarhus University   \n",
       "1                  24            16    University of Adelaide   \n",
       "2                 328            24  University of New Mexico   \n",
       "3                   1            39               No hay dato   \n",
       "4                   4            10   University of Amsterdam   \n",
       "\n",
       "   Monthly_Fitness_Club_Membership  Beer  Monthly_Public_Transport  Lunch  \\\n",
       "0                             37.0  1.70                      62.0   15.0   \n",
       "1                             50.0  4.30                      80.0   13.0   \n",
       "2                             52.0  2.90                      37.0   12.0   \n",
       "3                             83.0  0.68                      19.0    5.7   \n",
       "4                             49.0  2.10                     100.0   18.0   \n",
       "\n",
       "   ...  Museums  Sport_venues  Currency_for_urban_area GDP_per_capita  \\\n",
       "0  ...       18            21                      DKK       44342.66   \n",
       "1  ...       37            91                      AUD       46433.30   \n",
       "2  ...       35            10                      USD       54596.65   \n",
       "3  ...       24            53                      KZT       24019.95   \n",
       "4  ...      187           154                      EUR       47354.53   \n",
       "\n",
       "  Growth_percentage  Unemployment_percentage  \\\n",
       "0              0.05                     0.04   \n",
       "1              0.07                     0.06   \n",
       "2              0.07                     0.05   \n",
       "3              0.09                     0.06   \n",
       "4              0.03                     0.06   \n",
       "\n",
       "                                        Url Average_Annual_percent_sunshine  \\\n",
       "0       https://teleport.org/cities/aarhus/                             0.0   \n",
       "1     https://teleport.org/cities/adelaide/                            12.6   \n",
       "2  https://teleport.org/cities/albuquerque/                           168.0   \n",
       "3       https://teleport.org/cities/almaty/                            64.0   \n",
       "4    https://teleport.org/cities/amsterdam/                            12.9   \n",
       "\n",
       "  Airport_score                 Coordenadas  \n",
       "0          0.12    [56.1496278, 10.2134046]  \n",
       "1          0.19  [-34.9281805, 138.5999312]  \n",
       "2          0.18   [35.0841034, -106.650985]  \n",
       "3          0.26    [43.2363924, 76.9457275]  \n",
       "4          0.98     [52.3727598, 4.8936041]  \n",
       "\n",
       "[5 rows x 33 columns]"
      ]
     },
     "execution_count": 219,
     "metadata": {},
     "output_type": "execute_result"
    }
   ],
   "source": [
    "copia.head()"
   ]
  },
  {
   "cell_type": "code",
   "execution_count": 220,
   "id": "bda0e080",
   "metadata": {},
   "outputs": [
    {
     "data": {
      "text/plain": [
       "float"
      ]
     },
     "execution_count": 220,
     "metadata": {},
     "output_type": "execute_result"
    }
   ],
   "source": [
    "type(copia.Coordenadas[0][0])"
   ]
  },
  {
   "cell_type": "code",
   "execution_count": 224,
   "id": "ea3dd425",
   "metadata": {},
   "outputs": [],
   "source": [
    "copia.to_csv(\"../Data/user_coord.csv\")"
   ]
  },
  {
   "cell_type": "code",
   "execution_count": 213,
   "id": "9e2e1efe",
   "metadata": {},
   "outputs": [],
   "source": [
    "def mapa(resp):\n",
    "    row_city = copia[(copia['Cities'] == f\"{resp}\")]\n",
    "    print(\"mi print\",row_city.Coordenadas)\n",
    "    latlong = row_city.Coordenadas\n",
    "    fig = folium.Map(location=latlong, zoom_start=15)\n",
    "    return fig"
   ]
  },
  {
   "cell_type": "code",
   "execution_count": 214,
   "id": "4fa610b8",
   "metadata": {},
   "outputs": [],
   "source": [
    "row_city = copia[(copia['Cities'] == \"Aarhus\")]"
   ]
  },
  {
   "cell_type": "code",
   "execution_count": 215,
   "id": "ce3110a7",
   "metadata": {},
   "outputs": [
    {
     "data": {
      "text/plain": [
       "(56.1496278, 10.2134046)"
      ]
     },
     "execution_count": 215,
     "metadata": {},
     "output_type": "execute_result"
    }
   ],
   "source": [
    "row_city.iloc[0][\"Coordenadas\"]"
   ]
  },
  {
   "cell_type": "code",
   "execution_count": 187,
   "id": "a52f4cd4",
   "metadata": {},
   "outputs": [],
   "source": [
    "latlong = '56.1496278, 10.2134046'\n"
   ]
  },
  {
   "cell_type": "code",
   "execution_count": 188,
   "id": "baaf479a",
   "metadata": {},
   "outputs": [],
   "source": [
    "import folium"
   ]
  },
  {
   "cell_type": "code",
   "execution_count": 183,
   "id": "b179808a",
   "metadata": {},
   "outputs": [
    {
     "data": {
      "text/html": [
       "<div style=\"width:100%;\"><div style=\"position:relative;width:100%;height:0;padding-bottom:60%;\"><span style=\"color:#565656\">Make this Notebook Trusted to load map: File -> Trust Notebook</span><iframe src=\"about:blank\" style=\"position:absolute;width:100%;height:100%;left:0;top:0;border:none !important;\" data-html=%3C%21DOCTYPE%20html%3E%0A%3Chead%3E%20%20%20%20%0A%20%20%20%20%3Cmeta%20http-equiv%3D%22content-type%22%20content%3D%22text/html%3B%20charset%3DUTF-8%22%20/%3E%0A%20%20%20%20%0A%20%20%20%20%20%20%20%20%3Cscript%3E%0A%20%20%20%20%20%20%20%20%20%20%20%20L_NO_TOUCH%20%3D%20false%3B%0A%20%20%20%20%20%20%20%20%20%20%20%20L_DISABLE_3D%20%3D%20false%3B%0A%20%20%20%20%20%20%20%20%3C/script%3E%0A%20%20%20%20%0A%20%20%20%20%3Cstyle%3Ehtml%2C%20body%20%7Bwidth%3A%20100%25%3Bheight%3A%20100%25%3Bmargin%3A%200%3Bpadding%3A%200%3B%7D%3C/style%3E%0A%20%20%20%20%3Cstyle%3E%23map%20%7Bposition%3Aabsolute%3Btop%3A0%3Bbottom%3A0%3Bright%3A0%3Bleft%3A0%3B%7D%3C/style%3E%0A%20%20%20%20%3Cscript%20src%3D%22https%3A//cdn.jsdelivr.net/npm/leaflet%401.6.0/dist/leaflet.js%22%3E%3C/script%3E%0A%20%20%20%20%3Cscript%20src%3D%22https%3A//code.jquery.com/jquery-1.12.4.min.js%22%3E%3C/script%3E%0A%20%20%20%20%3Cscript%20src%3D%22https%3A//maxcdn.bootstrapcdn.com/bootstrap/3.2.0/js/bootstrap.min.js%22%3E%3C/script%3E%0A%20%20%20%20%3Cscript%20src%3D%22https%3A//cdnjs.cloudflare.com/ajax/libs/Leaflet.awesome-markers/2.0.2/leaflet.awesome-markers.js%22%3E%3C/script%3E%0A%20%20%20%20%3Clink%20rel%3D%22stylesheet%22%20href%3D%22https%3A//cdn.jsdelivr.net/npm/leaflet%401.6.0/dist/leaflet.css%22/%3E%0A%20%20%20%20%3Clink%20rel%3D%22stylesheet%22%20href%3D%22https%3A//maxcdn.bootstrapcdn.com/bootstrap/3.2.0/css/bootstrap.min.css%22/%3E%0A%20%20%20%20%3Clink%20rel%3D%22stylesheet%22%20href%3D%22https%3A//maxcdn.bootstrapcdn.com/bootstrap/3.2.0/css/bootstrap-theme.min.css%22/%3E%0A%20%20%20%20%3Clink%20rel%3D%22stylesheet%22%20href%3D%22https%3A//maxcdn.bootstrapcdn.com/font-awesome/4.6.3/css/font-awesome.min.css%22/%3E%0A%20%20%20%20%3Clink%20rel%3D%22stylesheet%22%20href%3D%22https%3A//cdnjs.cloudflare.com/ajax/libs/Leaflet.awesome-markers/2.0.2/leaflet.awesome-markers.css%22/%3E%0A%20%20%20%20%3Clink%20rel%3D%22stylesheet%22%20href%3D%22https%3A//cdn.jsdelivr.net/gh/python-visualization/folium/folium/templates/leaflet.awesome.rotate.min.css%22/%3E%0A%20%20%20%20%0A%20%20%20%20%20%20%20%20%20%20%20%20%3Cmeta%20name%3D%22viewport%22%20content%3D%22width%3Ddevice-width%2C%0A%20%20%20%20%20%20%20%20%20%20%20%20%20%20%20%20initial-scale%3D1.0%2C%20maximum-scale%3D1.0%2C%20user-scalable%3Dno%22%20/%3E%0A%20%20%20%20%20%20%20%20%20%20%20%20%3Cstyle%3E%0A%20%20%20%20%20%20%20%20%20%20%20%20%20%20%20%20%23map_86dc1fb03f254abbb3b3a954a037a9db%20%7B%0A%20%20%20%20%20%20%20%20%20%20%20%20%20%20%20%20%20%20%20%20position%3A%20relative%3B%0A%20%20%20%20%20%20%20%20%20%20%20%20%20%20%20%20%20%20%20%20width%3A%20100.0%25%3B%0A%20%20%20%20%20%20%20%20%20%20%20%20%20%20%20%20%20%20%20%20height%3A%20100.0%25%3B%0A%20%20%20%20%20%20%20%20%20%20%20%20%20%20%20%20%20%20%20%20left%3A%200.0%25%3B%0A%20%20%20%20%20%20%20%20%20%20%20%20%20%20%20%20%20%20%20%20top%3A%200.0%25%3B%0A%20%20%20%20%20%20%20%20%20%20%20%20%20%20%20%20%7D%0A%20%20%20%20%20%20%20%20%20%20%20%20%3C/style%3E%0A%20%20%20%20%20%20%20%20%0A%3C/head%3E%0A%3Cbody%3E%20%20%20%20%0A%20%20%20%20%0A%20%20%20%20%20%20%20%20%20%20%20%20%3Cdiv%20class%3D%22folium-map%22%20id%3D%22map_86dc1fb03f254abbb3b3a954a037a9db%22%20%3E%3C/div%3E%0A%20%20%20%20%20%20%20%20%0A%3C/body%3E%0A%3Cscript%3E%20%20%20%20%0A%20%20%20%20%0A%20%20%20%20%20%20%20%20%20%20%20%20var%20map_86dc1fb03f254abbb3b3a954a037a9db%20%3D%20L.map%28%0A%20%20%20%20%20%20%20%20%20%20%20%20%20%20%20%20%22map_86dc1fb03f254abbb3b3a954a037a9db%22%2C%0A%20%20%20%20%20%20%20%20%20%20%20%20%20%20%20%20%7B%0A%20%20%20%20%20%20%20%20%20%20%20%20%20%20%20%20%20%20%20%20center%3A%20%5B56.1496278%2C%2010.2134046%5D%2C%0A%20%20%20%20%20%20%20%20%20%20%20%20%20%20%20%20%20%20%20%20crs%3A%20L.CRS.EPSG3857%2C%0A%20%20%20%20%20%20%20%20%20%20%20%20%20%20%20%20%20%20%20%20zoom%3A%2015%2C%0A%20%20%20%20%20%20%20%20%20%20%20%20%20%20%20%20%20%20%20%20zoomControl%3A%20true%2C%0A%20%20%20%20%20%20%20%20%20%20%20%20%20%20%20%20%20%20%20%20preferCanvas%3A%20false%2C%0A%20%20%20%20%20%20%20%20%20%20%20%20%20%20%20%20%7D%0A%20%20%20%20%20%20%20%20%20%20%20%20%29%3B%0A%0A%20%20%20%20%20%20%20%20%20%20%20%20%0A%0A%20%20%20%20%20%20%20%20%0A%20%20%20%20%0A%20%20%20%20%20%20%20%20%20%20%20%20var%20tile_layer_77e0128a13c343af9f5f10b4537e09a8%20%3D%20L.tileLayer%28%0A%20%20%20%20%20%20%20%20%20%20%20%20%20%20%20%20%22https%3A//%7Bs%7D.tile.openstreetmap.org/%7Bz%7D/%7Bx%7D/%7By%7D.png%22%2C%0A%20%20%20%20%20%20%20%20%20%20%20%20%20%20%20%20%7B%22attribution%22%3A%20%22Data%20by%20%5Cu0026copy%3B%20%5Cu003ca%20href%3D%5C%22http%3A//openstreetmap.org%5C%22%5Cu003eOpenStreetMap%5Cu003c/a%5Cu003e%2C%20under%20%5Cu003ca%20href%3D%5C%22http%3A//www.openstreetmap.org/copyright%5C%22%5Cu003eODbL%5Cu003c/a%5Cu003e.%22%2C%20%22detectRetina%22%3A%20false%2C%20%22maxNativeZoom%22%3A%2018%2C%20%22maxZoom%22%3A%2018%2C%20%22minZoom%22%3A%200%2C%20%22noWrap%22%3A%20false%2C%20%22opacity%22%3A%201%2C%20%22subdomains%22%3A%20%22abc%22%2C%20%22tms%22%3A%20false%7D%0A%20%20%20%20%20%20%20%20%20%20%20%20%29.addTo%28map_86dc1fb03f254abbb3b3a954a037a9db%29%3B%0A%20%20%20%20%20%20%20%20%0A%3C/script%3E onload=\"this.contentDocument.open();this.contentDocument.write(    decodeURIComponent(this.getAttribute('data-html')));this.contentDocument.close();\" allowfullscreen webkitallowfullscreen mozallowfullscreen></iframe></div></div>"
      ],
      "text/plain": [
       "<folium.folium.Map at 0x7fb684494c10>"
      ]
     },
     "execution_count": 183,
     "metadata": {},
     "output_type": "execute_result"
    }
   ],
   "source": [
    "fig"
   ]
  },
  {
   "cell_type": "code",
   "execution_count": 168,
   "id": "a6339ad7",
   "metadata": {},
   "outputs": [
    {
     "data": {
      "text/html": [
       "<div>\n",
       "<style scoped>\n",
       "    .dataframe tbody tr th:only-of-type {\n",
       "        vertical-align: middle;\n",
       "    }\n",
       "\n",
       "    .dataframe tbody tr th {\n",
       "        vertical-align: top;\n",
       "    }\n",
       "\n",
       "    .dataframe thead th {\n",
       "        text-align: right;\n",
       "    }\n",
       "</style>\n",
       "<table border=\"1\" class=\"dataframe\">\n",
       "  <thead>\n",
       "    <tr style=\"text-align: right;\">\n",
       "      <th></th>\n",
       "      <th>Airport_hub</th>\n",
       "      <th>Intercity_train_connectivity</th>\n",
       "      <th>Gun_related_deaths</th>\n",
       "      <th>Guns_per_residents</th>\n",
       "      <th>Pisa_ranking</th>\n",
       "      <th>Best_university</th>\n",
       "      <th>Monthly_Fitness_Club_Membership</th>\n",
       "      <th>Beer</th>\n",
       "      <th>Monthly_Public_Transport</th>\n",
       "      <th>Lunch</th>\n",
       "      <th>...</th>\n",
       "      <th>Museums</th>\n",
       "      <th>Sport_venues</th>\n",
       "      <th>Currency_for_urban_area</th>\n",
       "      <th>GDP_per_capita</th>\n",
       "      <th>Growth_percentage</th>\n",
       "      <th>Unemployment_percentage</th>\n",
       "      <th>Url</th>\n",
       "      <th>Average_Annual_percent_sunshine</th>\n",
       "      <th>Airport_score</th>\n",
       "      <th>Coordenadas</th>\n",
       "    </tr>\n",
       "  </thead>\n",
       "  <tbody>\n",
       "    <tr>\n",
       "      <th>0</th>\n",
       "      <td>8</td>\n",
       "      <td>0.59</td>\n",
       "      <td>1</td>\n",
       "      <td>12</td>\n",
       "      <td>13</td>\n",
       "      <td>Aarhus University</td>\n",
       "      <td>37.0</td>\n",
       "      <td>1.70</td>\n",
       "      <td>62.0</td>\n",
       "      <td>15.0</td>\n",
       "      <td>...</td>\n",
       "      <td>18</td>\n",
       "      <td>21</td>\n",
       "      <td>DKK</td>\n",
       "      <td>44342.66</td>\n",
       "      <td>0.05</td>\n",
       "      <td>0.04</td>\n",
       "      <td>https://teleport.org/cities/aarhus/</td>\n",
       "      <td>0.0</td>\n",
       "      <td>0.12</td>\n",
       "      <td>(56.1496278, 10.2134046)</td>\n",
       "    </tr>\n",
       "    <tr>\n",
       "      <th>1</th>\n",
       "      <td>26</td>\n",
       "      <td>0.17</td>\n",
       "      <td>1</td>\n",
       "      <td>24</td>\n",
       "      <td>16</td>\n",
       "      <td>University of Adelaide</td>\n",
       "      <td>50.0</td>\n",
       "      <td>4.30</td>\n",
       "      <td>80.0</td>\n",
       "      <td>13.0</td>\n",
       "      <td>...</td>\n",
       "      <td>37</td>\n",
       "      <td>91</td>\n",
       "      <td>AUD</td>\n",
       "      <td>46433.30</td>\n",
       "      <td>0.07</td>\n",
       "      <td>0.06</td>\n",
       "      <td>https://teleport.org/cities/adelaide/</td>\n",
       "      <td>12.6</td>\n",
       "      <td>0.19</td>\n",
       "      <td>(-34.9281805, 138.5999312)</td>\n",
       "    </tr>\n",
       "    <tr>\n",
       "      <th>2</th>\n",
       "      <td>23</td>\n",
       "      <td>0.11</td>\n",
       "      <td>16</td>\n",
       "      <td>328</td>\n",
       "      <td>24</td>\n",
       "      <td>University of New Mexico</td>\n",
       "      <td>52.0</td>\n",
       "      <td>2.90</td>\n",
       "      <td>37.0</td>\n",
       "      <td>12.0</td>\n",
       "      <td>...</td>\n",
       "      <td>35</td>\n",
       "      <td>10</td>\n",
       "      <td>USD</td>\n",
       "      <td>54596.65</td>\n",
       "      <td>0.07</td>\n",
       "      <td>0.05</td>\n",
       "      <td>https://teleport.org/cities/albuquerque/</td>\n",
       "      <td>168.0</td>\n",
       "      <td>0.18</td>\n",
       "      <td>(35.0841034, -106.650985)</td>\n",
       "    </tr>\n",
       "    <tr>\n",
       "      <th>3</th>\n",
       "      <td>45</td>\n",
       "      <td>0.66</td>\n",
       "      <td>1</td>\n",
       "      <td>1</td>\n",
       "      <td>39</td>\n",
       "      <td>No hay dato</td>\n",
       "      <td>83.0</td>\n",
       "      <td>0.68</td>\n",
       "      <td>19.0</td>\n",
       "      <td>5.7</td>\n",
       "      <td>...</td>\n",
       "      <td>24</td>\n",
       "      <td>53</td>\n",
       "      <td>KZT</td>\n",
       "      <td>24019.95</td>\n",
       "      <td>0.09</td>\n",
       "      <td>0.06</td>\n",
       "      <td>https://teleport.org/cities/almaty/</td>\n",
       "      <td>64.0</td>\n",
       "      <td>0.26</td>\n",
       "      <td>(43.2363924, 76.9457275)</td>\n",
       "    </tr>\n",
       "    <tr>\n",
       "      <th>4</th>\n",
       "      <td>237</td>\n",
       "      <td>0.68</td>\n",
       "      <td>1</td>\n",
       "      <td>4</td>\n",
       "      <td>10</td>\n",
       "      <td>University of Amsterdam</td>\n",
       "      <td>49.0</td>\n",
       "      <td>2.10</td>\n",
       "      <td>100.0</td>\n",
       "      <td>18.0</td>\n",
       "      <td>...</td>\n",
       "      <td>187</td>\n",
       "      <td>154</td>\n",
       "      <td>EUR</td>\n",
       "      <td>47354.53</td>\n",
       "      <td>0.03</td>\n",
       "      <td>0.06</td>\n",
       "      <td>https://teleport.org/cities/amsterdam/</td>\n",
       "      <td>12.9</td>\n",
       "      <td>0.98</td>\n",
       "      <td>(52.3727598, 4.8936041)</td>\n",
       "    </tr>\n",
       "    <tr>\n",
       "      <th>5</th>\n",
       "      <td>38</td>\n",
       "      <td>0.11</td>\n",
       "      <td>20</td>\n",
       "      <td>135</td>\n",
       "      <td>16</td>\n",
       "      <td>No hay dato</td>\n",
       "      <td>61.0</td>\n",
       "      <td>2.40</td>\n",
       "      <td>57.0</td>\n",
       "      <td>17.0</td>\n",
       "      <td>...</td>\n",
       "      <td>24</td>\n",
       "      <td>9</td>\n",
       "      <td>USD</td>\n",
       "      <td>54596.65</td>\n",
       "      <td>0.04</td>\n",
       "      <td>0.05</td>\n",
       "      <td>https://teleport.org/cities/anchorage/</td>\n",
       "      <td>61.0</td>\n",
       "      <td>0.23</td>\n",
       "      <td>(61.2163129, -149.894852)</td>\n",
       "    </tr>\n",
       "    <tr>\n",
       "      <th>6</th>\n",
       "      <td>0</td>\n",
       "      <td>0.00</td>\n",
       "      <td>2</td>\n",
       "      <td>17</td>\n",
       "      <td>0</td>\n",
       "      <td>No hay dato</td>\n",
       "      <td>9.4</td>\n",
       "      <td>2.10</td>\n",
       "      <td>0.0</td>\n",
       "      <td>49.0</td>\n",
       "      <td>...</td>\n",
       "      <td>21</td>\n",
       "      <td>5</td>\n",
       "      <td>EUR</td>\n",
       "      <td>0.00</td>\n",
       "      <td>-0.01</td>\n",
       "      <td>0.00</td>\n",
       "      <td>https://teleport.org/cities/andorra/</td>\n",
       "      <td>0.0</td>\n",
       "      <td>0.00</td>\n",
       "      <td>(42.5407167, 1.5732033)</td>\n",
       "    </tr>\n",
       "    <tr>\n",
       "      <th>7</th>\n",
       "      <td>42</td>\n",
       "      <td>0.16</td>\n",
       "      <td>2</td>\n",
       "      <td>13</td>\n",
       "      <td>43</td>\n",
       "      <td>Bilkent University</td>\n",
       "      <td>33.0</td>\n",
       "      <td>2.00</td>\n",
       "      <td>30.0</td>\n",
       "      <td>7.3</td>\n",
       "      <td>...</td>\n",
       "      <td>88</td>\n",
       "      <td>177</td>\n",
       "      <td>TRY</td>\n",
       "      <td>19610.44</td>\n",
       "      <td>0.13</td>\n",
       "      <td>0.10</td>\n",
       "      <td>https://teleport.org/cities/ankara/</td>\n",
       "      <td>243.0</td>\n",
       "      <td>0.25</td>\n",
       "      <td>(39.9207886, 32.8540482)</td>\n",
       "    </tr>\n",
       "    <tr>\n",
       "      <th>8</th>\n",
       "      <td>8</td>\n",
       "      <td>0.12</td>\n",
       "      <td>12</td>\n",
       "      <td>95</td>\n",
       "      <td>16</td>\n",
       "      <td>No hay dato</td>\n",
       "      <td>35.0</td>\n",
       "      <td>2.20</td>\n",
       "      <td>22.0</td>\n",
       "      <td>13.0</td>\n",
       "      <td>...</td>\n",
       "      <td>24</td>\n",
       "      <td>20</td>\n",
       "      <td>USD</td>\n",
       "      <td>54596.65</td>\n",
       "      <td>0.06</td>\n",
       "      <td>0.05</td>\n",
       "      <td>https://teleport.org/cities/asheville/</td>\n",
       "      <td>101.0</td>\n",
       "      <td>0.12</td>\n",
       "      <td>(35.6009498, -82.5540161)</td>\n",
       "    </tr>\n",
       "    <tr>\n",
       "      <th>9</th>\n",
       "      <td>10</td>\n",
       "      <td>0.00</td>\n",
       "      <td>8</td>\n",
       "      <td>17</td>\n",
       "      <td>0</td>\n",
       "      <td>No hay dato</td>\n",
       "      <td>30.0</td>\n",
       "      <td>1.10</td>\n",
       "      <td>26.0</td>\n",
       "      <td>4.3</td>\n",
       "      <td>...</td>\n",
       "      <td>72</td>\n",
       "      <td>226</td>\n",
       "      <td>PYG</td>\n",
       "      <td>8448.58</td>\n",
       "      <td>0.12</td>\n",
       "      <td>0.06</td>\n",
       "      <td>https://teleport.org/cities/asuncion/</td>\n",
       "      <td>12.5</td>\n",
       "      <td>0.13</td>\n",
       "      <td>(-25.2800459, -57.6343814)</td>\n",
       "    </tr>\n",
       "  </tbody>\n",
       "</table>\n",
       "<p>10 rows × 33 columns</p>\n",
       "</div>"
      ],
      "text/plain": [
       "   Airport_hub  Intercity_train_connectivity  Gun_related_deaths  \\\n",
       "0            8                          0.59                   1   \n",
       "1           26                          0.17                   1   \n",
       "2           23                          0.11                  16   \n",
       "3           45                          0.66                   1   \n",
       "4          237                          0.68                   1   \n",
       "5           38                          0.11                  20   \n",
       "6            0                          0.00                   2   \n",
       "7           42                          0.16                   2   \n",
       "8            8                          0.12                  12   \n",
       "9           10                          0.00                   8   \n",
       "\n",
       "   Guns_per_residents  Pisa_ranking           Best_university  \\\n",
       "0                  12            13         Aarhus University   \n",
       "1                  24            16    University of Adelaide   \n",
       "2                 328            24  University of New Mexico   \n",
       "3                   1            39               No hay dato   \n",
       "4                   4            10   University of Amsterdam   \n",
       "5                 135            16               No hay dato   \n",
       "6                  17             0               No hay dato   \n",
       "7                  13            43        Bilkent University   \n",
       "8                  95            16               No hay dato   \n",
       "9                  17             0               No hay dato   \n",
       "\n",
       "   Monthly_Fitness_Club_Membership  Beer  Monthly_Public_Transport  Lunch  \\\n",
       "0                             37.0  1.70                      62.0   15.0   \n",
       "1                             50.0  4.30                      80.0   13.0   \n",
       "2                             52.0  2.90                      37.0   12.0   \n",
       "3                             83.0  0.68                      19.0    5.7   \n",
       "4                             49.0  2.10                     100.0   18.0   \n",
       "5                             61.0  2.40                      57.0   17.0   \n",
       "6                              9.4  2.10                       0.0   49.0   \n",
       "7                             33.0  2.00                      30.0    7.3   \n",
       "8                             35.0  2.20                      22.0   13.0   \n",
       "9                             30.0  1.10                      26.0    4.3   \n",
       "\n",
       "   ...  Museums  Sport_venues  Currency_for_urban_area GDP_per_capita  \\\n",
       "0  ...       18            21                      DKK       44342.66   \n",
       "1  ...       37            91                      AUD       46433.30   \n",
       "2  ...       35            10                      USD       54596.65   \n",
       "3  ...       24            53                      KZT       24019.95   \n",
       "4  ...      187           154                      EUR       47354.53   \n",
       "5  ...       24             9                      USD       54596.65   \n",
       "6  ...       21             5                      EUR           0.00   \n",
       "7  ...       88           177                      TRY       19610.44   \n",
       "8  ...       24            20                      USD       54596.65   \n",
       "9  ...       72           226                      PYG        8448.58   \n",
       "\n",
       "  Growth_percentage  Unemployment_percentage  \\\n",
       "0              0.05                     0.04   \n",
       "1              0.07                     0.06   \n",
       "2              0.07                     0.05   \n",
       "3              0.09                     0.06   \n",
       "4              0.03                     0.06   \n",
       "5              0.04                     0.05   \n",
       "6             -0.01                     0.00   \n",
       "7              0.13                     0.10   \n",
       "8              0.06                     0.05   \n",
       "9              0.12                     0.06   \n",
       "\n",
       "                                        Url Average_Annual_percent_sunshine  \\\n",
       "0       https://teleport.org/cities/aarhus/                             0.0   \n",
       "1     https://teleport.org/cities/adelaide/                            12.6   \n",
       "2  https://teleport.org/cities/albuquerque/                           168.0   \n",
       "3       https://teleport.org/cities/almaty/                            64.0   \n",
       "4    https://teleport.org/cities/amsterdam/                            12.9   \n",
       "5    https://teleport.org/cities/anchorage/                            61.0   \n",
       "6      https://teleport.org/cities/andorra/                             0.0   \n",
       "7       https://teleport.org/cities/ankara/                           243.0   \n",
       "8    https://teleport.org/cities/asheville/                           101.0   \n",
       "9     https://teleport.org/cities/asuncion/                            12.5   \n",
       "\n",
       "  Airport_score                 Coordenadas  \n",
       "0          0.12    (56.1496278, 10.2134046)  \n",
       "1          0.19  (-34.9281805, 138.5999312)  \n",
       "2          0.18   (35.0841034, -106.650985)  \n",
       "3          0.26    (43.2363924, 76.9457275)  \n",
       "4          0.98     (52.3727598, 4.8936041)  \n",
       "5          0.23   (61.2163129, -149.894852)  \n",
       "6          0.00     (42.5407167, 1.5732033)  \n",
       "7          0.25    (39.9207886, 32.8540482)  \n",
       "8          0.12   (35.6009498, -82.5540161)  \n",
       "9          0.13  (-25.2800459, -57.6343814)  \n",
       "\n",
       "[10 rows x 33 columns]"
      ]
     },
     "execution_count": 168,
     "metadata": {},
     "output_type": "execute_result"
    }
   ],
   "source": [
    "copia.head(10)"
   ]
  },
  {
   "cell_type": "markdown",
   "id": "f33402af",
   "metadata": {},
   "source": [
    "### Con nuestros datos limpios, le daremos forma a un nuevo dataset que utilizaremos para realizar los clusters "
   ]
  },
  {
   "cell_type": "code",
   "execution_count": 139,
   "id": "02888ddb",
   "metadata": {},
   "outputs": [],
   "source": [
    "PCA_user = copia.copy()"
   ]
  },
  {
   "cell_type": "code",
   "execution_count": 140,
   "id": "894c53de",
   "metadata": {},
   "outputs": [
    {
     "data": {
      "text/plain": [
       "Index(['Airport_hub', 'Intercity_train_connectivity', 'Gun_related_deaths',\n",
       "       'Guns_per_residents', 'Pisa_ranking', 'Best_university',\n",
       "       'Monthly_Fitness_Club_Membership', 'Beer', 'Monthly_Public_Transport',\n",
       "       'Lunch', 'Large_apartment', 'Medium_apartment', 'Small_apartment',\n",
       "       'Cities', 'Description', 'Poblacion', 'Homosexuality_acceptance',\n",
       "       'LGBT_adoption_rights', 'LGBT_homosexuality_rights',\n",
       "       'LGBT_marriage_rights', 'VAT_Sales_Tax', 'Art_galleries',\n",
       "       'Concert_venues', 'Museums', 'Sport_venues', 'Currency_for_urban_area',\n",
       "       'GDP_per_capita', 'Growth_percentage', 'Unemployment_percentage', 'Url',\n",
       "       'Average_Annual_percent_sunshine', 'Airport_score'],\n",
       "      dtype='object')"
      ]
     },
     "execution_count": 140,
     "metadata": {},
     "output_type": "execute_result"
    }
   ],
   "source": [
    "PCA_user.columns"
   ]
  },
  {
   "cell_type": "markdown",
   "id": "1af33b2b",
   "metadata": {},
   "source": [
    "#### Eliminamos columnas que no utilizaremos"
   ]
  },
  {
   "cell_type": "code",
   "execution_count": 141,
   "id": "dddd559d",
   "metadata": {},
   "outputs": [],
   "source": [
    "PCA_user.drop([\"Airport_hub\",\"Guns_per_residents\", \"Best_university\", \"Monthly_Fitness_Club_Membership\",\"Beer\",\"Monthly_Public_Transport\",\"Lunch\",\"Description\",\"Poblacion\",\"LGBT_adoption_rights\",\"LGBT_homosexuality_rights\",\"LGBT_marriage_rights\",\"Url\",\"Currency_for_urban_area\"], axis=1, inplace=True)"
   ]
  },
  {
   "cell_type": "code",
   "execution_count": 142,
   "id": "a2992bae",
   "metadata": {},
   "outputs": [
    {
     "data": {
      "text/html": [
       "<div>\n",
       "<style scoped>\n",
       "    .dataframe tbody tr th:only-of-type {\n",
       "        vertical-align: middle;\n",
       "    }\n",
       "\n",
       "    .dataframe tbody tr th {\n",
       "        vertical-align: top;\n",
       "    }\n",
       "\n",
       "    .dataframe thead th {\n",
       "        text-align: right;\n",
       "    }\n",
       "</style>\n",
       "<table border=\"1\" class=\"dataframe\">\n",
       "  <thead>\n",
       "    <tr style=\"text-align: right;\">\n",
       "      <th></th>\n",
       "      <th>Intercity_train_connectivity</th>\n",
       "      <th>Gun_related_deaths</th>\n",
       "      <th>Pisa_ranking</th>\n",
       "      <th>Large_apartment</th>\n",
       "      <th>Medium_apartment</th>\n",
       "      <th>Small_apartment</th>\n",
       "      <th>Cities</th>\n",
       "      <th>Homosexuality_acceptance</th>\n",
       "      <th>VAT_Sales_Tax</th>\n",
       "      <th>Art_galleries</th>\n",
       "      <th>Concert_venues</th>\n",
       "      <th>Museums</th>\n",
       "      <th>Sport_venues</th>\n",
       "      <th>GDP_per_capita</th>\n",
       "      <th>Growth_percentage</th>\n",
       "      <th>Unemployment_percentage</th>\n",
       "      <th>Average_Annual_percent_sunshine</th>\n",
       "      <th>Airport_score</th>\n",
       "    </tr>\n",
       "  </thead>\n",
       "  <tbody>\n",
       "    <tr>\n",
       "      <th>0</th>\n",
       "      <td>0.59</td>\n",
       "      <td>1</td>\n",
       "      <td>13</td>\n",
       "      <td>1700</td>\n",
       "      <td>1300</td>\n",
       "      <td>840</td>\n",
       "      <td>Aarhus</td>\n",
       "      <td>93.03</td>\n",
       "      <td>0.25</td>\n",
       "      <td>51</td>\n",
       "      <td>95</td>\n",
       "      <td>18</td>\n",
       "      <td>21</td>\n",
       "      <td>44342.66</td>\n",
       "      <td>0.05</td>\n",
       "      <td>0.04</td>\n",
       "      <td>0.0</td>\n",
       "      <td>0.12</td>\n",
       "    </tr>\n",
       "    <tr>\n",
       "      <th>1</th>\n",
       "      <td>0.17</td>\n",
       "      <td>1</td>\n",
       "      <td>16</td>\n",
       "      <td>1500</td>\n",
       "      <td>1200</td>\n",
       "      <td>1000</td>\n",
       "      <td>Adelaide</td>\n",
       "      <td>79.00</td>\n",
       "      <td>0.10</td>\n",
       "      <td>82</td>\n",
       "      <td>89</td>\n",
       "      <td>37</td>\n",
       "      <td>91</td>\n",
       "      <td>46433.30</td>\n",
       "      <td>0.07</td>\n",
       "      <td>0.06</td>\n",
       "      <td>12.6</td>\n",
       "      <td>0.19</td>\n",
       "    </tr>\n",
       "    <tr>\n",
       "      <th>2</th>\n",
       "      <td>0.11</td>\n",
       "      <td>16</td>\n",
       "      <td>24</td>\n",
       "      <td>1200</td>\n",
       "      <td>950</td>\n",
       "      <td>760</td>\n",
       "      <td>Albuquerque</td>\n",
       "      <td>93.13</td>\n",
       "      <td>0.07</td>\n",
       "      <td>127</td>\n",
       "      <td>99</td>\n",
       "      <td>35</td>\n",
       "      <td>10</td>\n",
       "      <td>54596.65</td>\n",
       "      <td>0.07</td>\n",
       "      <td>0.05</td>\n",
       "      <td>168.0</td>\n",
       "      <td>0.18</td>\n",
       "    </tr>\n",
       "    <tr>\n",
       "      <th>3</th>\n",
       "      <td>0.66</td>\n",
       "      <td>1</td>\n",
       "      <td>39</td>\n",
       "      <td>620</td>\n",
       "      <td>480</td>\n",
       "      <td>340</td>\n",
       "      <td>Almaty</td>\n",
       "      <td>66.56</td>\n",
       "      <td>0.12</td>\n",
       "      <td>61</td>\n",
       "      <td>68</td>\n",
       "      <td>24</td>\n",
       "      <td>53</td>\n",
       "      <td>24019.95</td>\n",
       "      <td>0.09</td>\n",
       "      <td>0.06</td>\n",
       "      <td>64.0</td>\n",
       "      <td>0.26</td>\n",
       "    </tr>\n",
       "    <tr>\n",
       "      <th>4</th>\n",
       "      <td>0.68</td>\n",
       "      <td>1</td>\n",
       "      <td>10</td>\n",
       "      <td>2400</td>\n",
       "      <td>2000</td>\n",
       "      <td>1600</td>\n",
       "      <td>Amsterdam</td>\n",
       "      <td>97.37</td>\n",
       "      <td>0.21</td>\n",
       "      <td>284</td>\n",
       "      <td>339</td>\n",
       "      <td>187</td>\n",
       "      <td>154</td>\n",
       "      <td>47354.53</td>\n",
       "      <td>0.03</td>\n",
       "      <td>0.06</td>\n",
       "      <td>12.9</td>\n",
       "      <td>0.98</td>\n",
       "    </tr>\n",
       "  </tbody>\n",
       "</table>\n",
       "</div>"
      ],
      "text/plain": [
       "   Intercity_train_connectivity  Gun_related_deaths  Pisa_ranking  \\\n",
       "0                          0.59                   1            13   \n",
       "1                          0.17                   1            16   \n",
       "2                          0.11                  16            24   \n",
       "3                          0.66                   1            39   \n",
       "4                          0.68                   1            10   \n",
       "\n",
       "   Large_apartment  Medium_apartment  Small_apartment       Cities  \\\n",
       "0             1700              1300              840       Aarhus   \n",
       "1             1500              1200             1000     Adelaide   \n",
       "2             1200               950              760  Albuquerque   \n",
       "3              620               480              340       Almaty   \n",
       "4             2400              2000             1600    Amsterdam   \n",
       "\n",
       "   Homosexuality_acceptance  VAT_Sales_Tax  Art_galleries  Concert_venues  \\\n",
       "0                     93.03           0.25             51              95   \n",
       "1                     79.00           0.10             82              89   \n",
       "2                     93.13           0.07            127              99   \n",
       "3                     66.56           0.12             61              68   \n",
       "4                     97.37           0.21            284             339   \n",
       "\n",
       "   Museums  Sport_venues  GDP_per_capita  Growth_percentage  \\\n",
       "0       18            21        44342.66               0.05   \n",
       "1       37            91        46433.30               0.07   \n",
       "2       35            10        54596.65               0.07   \n",
       "3       24            53        24019.95               0.09   \n",
       "4      187           154        47354.53               0.03   \n",
       "\n",
       "   Unemployment_percentage  Average_Annual_percent_sunshine  Airport_score  \n",
       "0                     0.04                              0.0           0.12  \n",
       "1                     0.06                             12.6           0.19  \n",
       "2                     0.05                            168.0           0.18  \n",
       "3                     0.06                             64.0           0.26  \n",
       "4                     0.06                             12.9           0.98  "
      ]
     },
     "execution_count": 142,
     "metadata": {},
     "output_type": "execute_result"
    }
   ],
   "source": [
    "PCA_user.head()"
   ]
  },
  {
   "cell_type": "code",
   "execution_count": 143,
   "id": "f0dd9626",
   "metadata": {},
   "outputs": [],
   "source": [
    "PCA_user['Housing'] = PCA_user[[\"Large_apartment\", \"Medium_apartment\",\"Small_apartment\"]].mean(axis=1)"
   ]
  },
  {
   "cell_type": "code",
   "execution_count": 144,
   "id": "1dde4e5e",
   "metadata": {},
   "outputs": [],
   "source": [
    "PCA_user.drop([\"Large_apartment\",\"Medium_apartment\",\"Small_apartment\"], axis=1, inplace=True)"
   ]
  },
  {
   "cell_type": "code",
   "execution_count": 145,
   "id": "6500d863",
   "metadata": {},
   "outputs": [],
   "source": [
    "PCA_user['Culture'] = PCA_user[['Art_galleries','Concert_venues','Museums']].sum(axis=1)"
   ]
  },
  {
   "cell_type": "code",
   "execution_count": 146,
   "id": "fa8777a8",
   "metadata": {},
   "outputs": [],
   "source": [
    "PCA_user.drop([\"Art_galleries\",\"Concert_venues\",\"Museums\"], axis=1, inplace=True)"
   ]
  },
  {
   "cell_type": "code",
   "execution_count": 147,
   "id": "ab23c1c0",
   "metadata": {},
   "outputs": [
    {
     "name": "stdout",
     "output_type": "stream",
     "text": [
      "<class 'pandas.core.frame.DataFrame'>\n",
      "RangeIndex: 262 entries, 0 to 261\n",
      "Data columns (total 14 columns):\n",
      " #   Column                           Non-Null Count  Dtype  \n",
      "---  ------                           --------------  -----  \n",
      " 0   Intercity_train_connectivity     262 non-null    float64\n",
      " 1   Gun_related_deaths               262 non-null    int64  \n",
      " 2   Pisa_ranking                     262 non-null    int64  \n",
      " 3   Cities                           262 non-null    object \n",
      " 4   Homosexuality_acceptance         262 non-null    float64\n",
      " 5   VAT_Sales_Tax                    262 non-null    float64\n",
      " 6   Sport_venues                     262 non-null    int64  \n",
      " 7   GDP_per_capita                   262 non-null    float64\n",
      " 8   Growth_percentage                262 non-null    float64\n",
      " 9   Unemployment_percentage          262 non-null    float64\n",
      " 10  Average_Annual_percent_sunshine  262 non-null    float64\n",
      " 11  Airport_score                    262 non-null    float64\n",
      " 12  Housing                          262 non-null    float64\n",
      " 13  Culture                          262 non-null    int64  \n",
      "dtypes: float64(9), int64(4), object(1)\n",
      "memory usage: 28.8+ KB\n"
     ]
    }
   ],
   "source": [
    "PCA_user.info()"
   ]
  },
  {
   "cell_type": "code",
   "execution_count": 149,
   "id": "a3b452f5",
   "metadata": {},
   "outputs": [],
   "source": [
    "PCA_user['Travel_connectivity'] = PCA_user[[\"Intercity_train_connectivity\", \"Airport_score\"]].mean(axis=1)"
   ]
  },
  {
   "cell_type": "code",
   "execution_count": 151,
   "id": "afd55c07",
   "metadata": {},
   "outputs": [],
   "source": [
    "PCA_user.drop([\"Intercity_train_connectivity\",\"Airport_score\"], axis=1, inplace=True)"
   ]
  },
  {
   "cell_type": "code",
   "execution_count": 152,
   "id": "f23a4d63",
   "metadata": {},
   "outputs": [],
   "source": [
    "PCA_user[\"Housing\"] = PCA_user[\"Housing\"].astype(dtype=int)"
   ]
  },
  {
   "cell_type": "code",
   "execution_count": 153,
   "id": "84679767",
   "metadata": {},
   "outputs": [
    {
     "data": {
      "text/html": [
       "<div>\n",
       "<style scoped>\n",
       "    .dataframe tbody tr th:only-of-type {\n",
       "        vertical-align: middle;\n",
       "    }\n",
       "\n",
       "    .dataframe tbody tr th {\n",
       "        vertical-align: top;\n",
       "    }\n",
       "\n",
       "    .dataframe thead th {\n",
       "        text-align: right;\n",
       "    }\n",
       "</style>\n",
       "<table border=\"1\" class=\"dataframe\">\n",
       "  <thead>\n",
       "    <tr style=\"text-align: right;\">\n",
       "      <th></th>\n",
       "      <th>Gun_related_deaths</th>\n",
       "      <th>Pisa_ranking</th>\n",
       "      <th>Cities</th>\n",
       "      <th>Homosexuality_acceptance</th>\n",
       "      <th>VAT_Sales_Tax</th>\n",
       "      <th>Sport_venues</th>\n",
       "      <th>GDP_per_capita</th>\n",
       "      <th>Growth_percentage</th>\n",
       "      <th>Unemployment_percentage</th>\n",
       "      <th>Average_Annual_percent_sunshine</th>\n",
       "      <th>Housing</th>\n",
       "      <th>Culture</th>\n",
       "      <th>Travel_connectivity</th>\n",
       "    </tr>\n",
       "  </thead>\n",
       "  <tbody>\n",
       "    <tr>\n",
       "      <th>0</th>\n",
       "      <td>1</td>\n",
       "      <td>13</td>\n",
       "      <td>Aarhus</td>\n",
       "      <td>93.03</td>\n",
       "      <td>0.25</td>\n",
       "      <td>21</td>\n",
       "      <td>44342.66</td>\n",
       "      <td>0.05</td>\n",
       "      <td>0.04</td>\n",
       "      <td>0.0</td>\n",
       "      <td>1280</td>\n",
       "      <td>164</td>\n",
       "      <td>0.355</td>\n",
       "    </tr>\n",
       "    <tr>\n",
       "      <th>1</th>\n",
       "      <td>1</td>\n",
       "      <td>16</td>\n",
       "      <td>Adelaide</td>\n",
       "      <td>79.00</td>\n",
       "      <td>0.10</td>\n",
       "      <td>91</td>\n",
       "      <td>46433.30</td>\n",
       "      <td>0.07</td>\n",
       "      <td>0.06</td>\n",
       "      <td>12.6</td>\n",
       "      <td>1233</td>\n",
       "      <td>208</td>\n",
       "      <td>0.180</td>\n",
       "    </tr>\n",
       "    <tr>\n",
       "      <th>2</th>\n",
       "      <td>16</td>\n",
       "      <td>24</td>\n",
       "      <td>Albuquerque</td>\n",
       "      <td>93.13</td>\n",
       "      <td>0.07</td>\n",
       "      <td>10</td>\n",
       "      <td>54596.65</td>\n",
       "      <td>0.07</td>\n",
       "      <td>0.05</td>\n",
       "      <td>168.0</td>\n",
       "      <td>970</td>\n",
       "      <td>261</td>\n",
       "      <td>0.145</td>\n",
       "    </tr>\n",
       "    <tr>\n",
       "      <th>3</th>\n",
       "      <td>1</td>\n",
       "      <td>39</td>\n",
       "      <td>Almaty</td>\n",
       "      <td>66.56</td>\n",
       "      <td>0.12</td>\n",
       "      <td>53</td>\n",
       "      <td>24019.95</td>\n",
       "      <td>0.09</td>\n",
       "      <td>0.06</td>\n",
       "      <td>64.0</td>\n",
       "      <td>480</td>\n",
       "      <td>153</td>\n",
       "      <td>0.460</td>\n",
       "    </tr>\n",
       "    <tr>\n",
       "      <th>4</th>\n",
       "      <td>1</td>\n",
       "      <td>10</td>\n",
       "      <td>Amsterdam</td>\n",
       "      <td>97.37</td>\n",
       "      <td>0.21</td>\n",
       "      <td>154</td>\n",
       "      <td>47354.53</td>\n",
       "      <td>0.03</td>\n",
       "      <td>0.06</td>\n",
       "      <td>12.9</td>\n",
       "      <td>2000</td>\n",
       "      <td>810</td>\n",
       "      <td>0.830</td>\n",
       "    </tr>\n",
       "  </tbody>\n",
       "</table>\n",
       "</div>"
      ],
      "text/plain": [
       "   Gun_related_deaths  Pisa_ranking       Cities  Homosexuality_acceptance  \\\n",
       "0                   1            13       Aarhus                     93.03   \n",
       "1                   1            16     Adelaide                     79.00   \n",
       "2                  16            24  Albuquerque                     93.13   \n",
       "3                   1            39       Almaty                     66.56   \n",
       "4                   1            10    Amsterdam                     97.37   \n",
       "\n",
       "   VAT_Sales_Tax  Sport_venues  GDP_per_capita  Growth_percentage  \\\n",
       "0           0.25            21        44342.66               0.05   \n",
       "1           0.10            91        46433.30               0.07   \n",
       "2           0.07            10        54596.65               0.07   \n",
       "3           0.12            53        24019.95               0.09   \n",
       "4           0.21           154        47354.53               0.03   \n",
       "\n",
       "   Unemployment_percentage  Average_Annual_percent_sunshine  Housing  Culture  \\\n",
       "0                     0.04                              0.0     1280      164   \n",
       "1                     0.06                             12.6     1233      208   \n",
       "2                     0.05                            168.0      970      261   \n",
       "3                     0.06                             64.0      480      153   \n",
       "4                     0.06                             12.9     2000      810   \n",
       "\n",
       "   Travel_connectivity  \n",
       "0                0.355  \n",
       "1                0.180  \n",
       "2                0.145  \n",
       "3                0.460  \n",
       "4                0.830  "
      ]
     },
     "execution_count": 153,
     "metadata": {},
     "output_type": "execute_result"
    }
   ],
   "source": [
    "PCA_user.head()"
   ]
  },
  {
   "cell_type": "code",
   "execution_count": 154,
   "id": "e950a5b0",
   "metadata": {},
   "outputs": [],
   "source": [
    "PCA_user.to_csv(\"../Data/clean_PCA_user.csv\")"
   ]
  },
  {
   "cell_type": "code",
   "execution_count": null,
   "id": "60131072",
   "metadata": {},
   "outputs": [],
   "source": []
  },
  {
   "cell_type": "code",
   "execution_count": null,
   "id": "f82e6989",
   "metadata": {},
   "outputs": [],
   "source": []
  }
 ],
 "metadata": {
  "kernelspec": {
   "display_name": "ironhack2",
   "language": "python",
   "name": "ironhack2"
  },
  "language_info": {
   "codemirror_mode": {
    "name": "ipython",
    "version": 3
   },
   "file_extension": ".py",
   "mimetype": "text/x-python",
   "name": "python",
   "nbconvert_exporter": "python",
   "pygments_lexer": "ipython3",
   "version": "3.8.5"
  }
 },
 "nbformat": 4,
 "nbformat_minor": 5
}
