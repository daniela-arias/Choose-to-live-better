{
 "cells": [
  {
   "cell_type": "markdown",
   "id": "5f0977bf",
   "metadata": {},
   "source": [
    "## 1. Import libraries"
   ]
  },
  {
   "cell_type": "code",
   "execution_count": 1,
   "id": "94033385",
   "metadata": {},
   "outputs": [],
   "source": [
    "import requests\n",
    "from selenium import webdriver\n",
    "from time import sleep\n",
    "from selenium.webdriver.chrome.options import Options\n",
    "from webdriver_manager.chrome import ChromeDriverManager\n",
    "from bs4 import BeautifulSoup\n",
    "import pandas as pd\n",
    "import sys\n",
    "sys.path.append('../')\n",
    "import numpy as np"
   ]
  },
  {
   "cell_type": "markdown",
   "id": "49c3f8c1",
   "metadata": {},
   "source": [
    "## 2. Import Data"
   ]
  },
  {
   "cell_type": "code",
   "execution_count": 2,
   "id": "6af8618c",
   "metadata": {},
   "outputs": [],
   "source": [
    "df = pd.read_csv(\"../Data/ultimo_web_scrapping.csv\")"
   ]
  },
  {
   "cell_type": "markdown",
   "id": "e08b365e",
   "metadata": {},
   "source": [
    "## 3. We explore the dataset"
   ]
  },
  {
   "cell_type": "code",
   "execution_count": 3,
   "id": "470d6a87",
   "metadata": {},
   "outputs": [
    {
     "data": {
      "text/html": [
       "<div>\n",
       "<style scoped>\n",
       "    .dataframe tbody tr th:only-of-type {\n",
       "        vertical-align: middle;\n",
       "    }\n",
       "\n",
       "    .dataframe tbody tr th {\n",
       "        vertical-align: top;\n",
       "    }\n",
       "\n",
       "    .dataframe thead th {\n",
       "        text-align: right;\n",
       "    }\n",
       "</style>\n",
       "<table border=\"1\" class=\"dataframe\">\n",
       "  <thead>\n",
       "    <tr style=\"text-align: right;\">\n",
       "      <th></th>\n",
       "      <th>Unnamed: 0</th>\n",
       "      <th>Airport_hub</th>\n",
       "      <th>Intercity_train_connectivity</th>\n",
       "      <th>Gun_related_deaths</th>\n",
       "      <th>Guns_per_residents</th>\n",
       "      <th>Pisa_ranking</th>\n",
       "      <th>Best_university</th>\n",
       "      <th>Monthly_Fitness_Club_Membership</th>\n",
       "      <th>Beer</th>\n",
       "      <th>Monthly_Public_Transport</th>\n",
       "      <th>...</th>\n",
       "      <th>Concert_venues</th>\n",
       "      <th>Museums</th>\n",
       "      <th>Sport_venues</th>\n",
       "      <th>Currency_for_urban_area</th>\n",
       "      <th>GDP_per_capita_uno</th>\n",
       "      <th>Growth</th>\n",
       "      <th>GDP_per_capita_otro</th>\n",
       "      <th>Unemployment</th>\n",
       "      <th>url</th>\n",
       "      <th>Average_Annual_percent_sunshine</th>\n",
       "    </tr>\n",
       "  </thead>\n",
       "  <tbody>\n",
       "    <tr>\n",
       "      <th>0</th>\n",
       "      <td>0</td>\n",
       "      <td>8</td>\n",
       "      <td>0.59</td>\n",
       "      <td>1</td>\n",
       "      <td>12</td>\n",
       "      <td>13</td>\n",
       "      <td>Aarhus University</td>\n",
       "      <td>$37.00</td>\n",
       "      <td>$1.70</td>\n",
       "      <td>$62.00</td>\n",
       "      <td>...</td>\n",
       "      <td>95</td>\n",
       "      <td>18</td>\n",
       "      <td>21</td>\n",
       "      <td>DKK</td>\n",
       "      <td>$44342.66</td>\n",
       "      <td>5%</td>\n",
       "      <td>$44,343</td>\n",
       "      <td>4%</td>\n",
       "      <td>https://teleport.org/cities/aarhus/</td>\n",
       "      <td>No hay dato</td>\n",
       "    </tr>\n",
       "    <tr>\n",
       "      <th>1</th>\n",
       "      <td>1</td>\n",
       "      <td>26</td>\n",
       "      <td>0.17</td>\n",
       "      <td>1</td>\n",
       "      <td>24</td>\n",
       "      <td>16</td>\n",
       "      <td>University of Adelaide</td>\n",
       "      <td>$50.00</td>\n",
       "      <td>$4.30</td>\n",
       "      <td>$80.00</td>\n",
       "      <td>...</td>\n",
       "      <td>89</td>\n",
       "      <td>37</td>\n",
       "      <td>91</td>\n",
       "      <td>AUD</td>\n",
       "      <td>$46433.30</td>\n",
       "      <td>7%</td>\n",
       "      <td>$46,433</td>\n",
       "      <td>6%</td>\n",
       "      <td>https://teleport.org/cities/adelaide/</td>\n",
       "      <td>12.6</td>\n",
       "    </tr>\n",
       "    <tr>\n",
       "      <th>2</th>\n",
       "      <td>2</td>\n",
       "      <td>23</td>\n",
       "      <td>0.11</td>\n",
       "      <td>16</td>\n",
       "      <td>328</td>\n",
       "      <td>24</td>\n",
       "      <td>University of New Mexico</td>\n",
       "      <td>$52.00</td>\n",
       "      <td>$2.90</td>\n",
       "      <td>$37.00</td>\n",
       "      <td>...</td>\n",
       "      <td>99</td>\n",
       "      <td>35</td>\n",
       "      <td>10</td>\n",
       "      <td>USD</td>\n",
       "      <td>$54596.65</td>\n",
       "      <td>7%</td>\n",
       "      <td>$54,597</td>\n",
       "      <td>5%</td>\n",
       "      <td>https://teleport.org/cities/albuquerque/</td>\n",
       "      <td>168</td>\n",
       "    </tr>\n",
       "  </tbody>\n",
       "</table>\n",
       "<p>3 rows × 33 columns</p>\n",
       "</div>"
      ],
      "text/plain": [
       "   Unnamed: 0 Airport_hub Intercity_train_connectivity Gun_related_deaths  \\\n",
       "0           0           8                         0.59                  1   \n",
       "1           1          26                         0.17                  1   \n",
       "2           2          23                         0.11                 16   \n",
       "\n",
       "  Guns_per_residents Pisa_ranking           Best_university  \\\n",
       "0                 12           13         Aarhus University   \n",
       "1                 24           16    University of Adelaide   \n",
       "2                328           24  University of New Mexico   \n",
       "\n",
       "  Monthly_Fitness_Club_Membership   Beer Monthly_Public_Transport  ...  \\\n",
       "0                          $37.00  $1.70                   $62.00  ...   \n",
       "1                          $50.00  $4.30                   $80.00  ...   \n",
       "2                          $52.00  $2.90                   $37.00  ...   \n",
       "\n",
       "  Concert_venues Museums Sport_venues Currency_for_urban_area  \\\n",
       "0             95      18           21                     DKK   \n",
       "1             89      37           91                     AUD   \n",
       "2             99      35           10                     USD   \n",
       "\n",
       "  GDP_per_capita_uno Growth GDP_per_capita_otro Unemployment  \\\n",
       "0          $44342.66     5%             $44,343           4%   \n",
       "1          $46433.30     7%             $46,433           6%   \n",
       "2          $54596.65     7%             $54,597           5%   \n",
       "\n",
       "                                        url Average_Annual_percent_sunshine  \n",
       "0       https://teleport.org/cities/aarhus/                     No hay dato  \n",
       "1     https://teleport.org/cities/adelaide/                            12.6  \n",
       "2  https://teleport.org/cities/albuquerque/                             168  \n",
       "\n",
       "[3 rows x 33 columns]"
      ]
     },
     "execution_count": 3,
     "metadata": {},
     "output_type": "execute_result"
    }
   ],
   "source": [
    "df.head(3)"
   ]
  },
  {
   "cell_type": "code",
   "execution_count": 4,
   "id": "85f6985c",
   "metadata": {},
   "outputs": [
    {
     "data": {
      "text/plain": [
       "(262, 33)"
      ]
     },
     "execution_count": 4,
     "metadata": {},
     "output_type": "execute_result"
    }
   ],
   "source": [
    "df.shape"
   ]
  },
  {
   "cell_type": "code",
   "execution_count": 5,
   "id": "a95595fa",
   "metadata": {},
   "outputs": [
    {
     "name": "stdout",
     "output_type": "stream",
     "text": [
      "<class 'pandas.core.frame.DataFrame'>\n",
      "RangeIndex: 262 entries, 0 to 261\n",
      "Data columns (total 33 columns):\n",
      " #   Column                           Non-Null Count  Dtype \n",
      "---  ------                           --------------  ----- \n",
      " 0   Unnamed: 0                       262 non-null    int64 \n",
      " 1   Airport_hub                      262 non-null    object\n",
      " 2   Intercity_train_connectivity     262 non-null    object\n",
      " 3   Gun_related_deaths               262 non-null    object\n",
      " 4   Guns_per_residents               262 non-null    object\n",
      " 5   Pisa_ranking                     262 non-null    object\n",
      " 6   Best_university                  262 non-null    object\n",
      " 7   Monthly_Fitness_Club_Membership  261 non-null    object\n",
      " 8   Beer                             261 non-null    object\n",
      " 9   Monthly_Public_Transport         261 non-null    object\n",
      " 10  Lunch                            261 non-null    object\n",
      " 11  Large_apartment                  262 non-null    object\n",
      " 12  Medium_apartment                 262 non-null    object\n",
      " 13  Small_apartment                  262 non-null    object\n",
      " 14  cities                           262 non-null    object\n",
      " 15  Description                      262 non-null    object\n",
      " 16  Poblacion                        262 non-null    object\n",
      " 17  Homosexuality_acceptance         262 non-null    object\n",
      " 18  LGBT_adoption_rights             254 non-null    object\n",
      " 19  LGBT_homosexuality_rights        262 non-null    object\n",
      " 20  LGBT_marriage_rights             262 non-null    object\n",
      " 21  VAT_Sales_Tax                    262 non-null    object\n",
      " 22  Art_galleries                    262 non-null    object\n",
      " 23  Concert_venues                   262 non-null    object\n",
      " 24  Museums                          262 non-null    object\n",
      " 25  Sport_venues                     262 non-null    object\n",
      " 26  Currency_for_urban_area          262 non-null    object\n",
      " 27  GDP_per_capita_uno               262 non-null    object\n",
      " 28  Growth                           262 non-null    object\n",
      " 29  GDP_per_capita_otro              262 non-null    object\n",
      " 30  Unemployment                     262 non-null    object\n",
      " 31  url                              262 non-null    object\n",
      " 32  Average_Annual_percent_sunshine  262 non-null    object\n",
      "dtypes: int64(1), object(32)\n",
      "memory usage: 67.7+ KB\n"
     ]
    }
   ],
   "source": [
    "df.info()"
   ]
  },
  {
   "cell_type": "markdown",
   "id": "f6cb9cf7",
   "metadata": {},
   "source": [
    "#### Podemos observar que la mayoria de datos son tipo object, por lo que tendremos que convertir las columnas a sus respectivos dtypes."
   ]
  },
  {
   "cell_type": "code",
   "execution_count": 6,
   "id": "db1d6799",
   "metadata": {},
   "outputs": [
    {
     "data": {
      "text/plain": [
       "Unnamed: 0                         0\n",
       "Airport_hub                        0\n",
       "Intercity_train_connectivity       0\n",
       "Gun_related_deaths                 0\n",
       "Guns_per_residents                 0\n",
       "Pisa_ranking                       0\n",
       "Best_university                    0\n",
       "Monthly_Fitness_Club_Membership    1\n",
       "Beer                               1\n",
       "Monthly_Public_Transport           1\n",
       "Lunch                              1\n",
       "Large_apartment                    0\n",
       "Medium_apartment                   0\n",
       "Small_apartment                    0\n",
       "cities                             0\n",
       "Description                        0\n",
       "Poblacion                          0\n",
       "Homosexuality_acceptance           0\n",
       "LGBT_adoption_rights               8\n",
       "LGBT_homosexuality_rights          0\n",
       "LGBT_marriage_rights               0\n",
       "VAT_Sales_Tax                      0\n",
       "Art_galleries                      0\n",
       "Concert_venues                     0\n",
       "Museums                            0\n",
       "Sport_venues                       0\n",
       "Currency_for_urban_area            0\n",
       "GDP_per_capita_uno                 0\n",
       "Growth                             0\n",
       "GDP_per_capita_otro                0\n",
       "Unemployment                       0\n",
       "url                                0\n",
       "Average_Annual_percent_sunshine    0\n",
       "dtype: int64"
      ]
     },
     "execution_count": 6,
     "metadata": {},
     "output_type": "execute_result"
    }
   ],
   "source": [
    "pd.isna(df).sum()\n"
   ]
  },
  {
   "cell_type": "markdown",
   "id": "242821ab",
   "metadata": {},
   "source": [
    "#### Algunos de los valores presentes son nan, por lo que deberemos reemplazar la información en esos lugares."
   ]
  },
  {
   "cell_type": "code",
   "execution_count": 7,
   "id": "b8f16008",
   "metadata": {},
   "outputs": [],
   "source": [
    "#df.LGBT_adoption_rights.unique()"
   ]
  },
  {
   "cell_type": "code",
   "execution_count": 8,
   "id": "f1d29a5e",
   "metadata": {},
   "outputs": [],
   "source": [
    "#df.Lunch.unique()"
   ]
  },
  {
   "cell_type": "code",
   "execution_count": 9,
   "id": "a974ebc5",
   "metadata": {},
   "outputs": [],
   "source": [
    "#df.Monthly_Fitness_Club_Membership.unique()"
   ]
  },
  {
   "cell_type": "code",
   "execution_count": 10,
   "id": "ba57ea2f",
   "metadata": {},
   "outputs": [],
   "source": [
    "#df.Monthly_Public_Transport.unique()"
   ]
  },
  {
   "cell_type": "code",
   "execution_count": 11,
   "id": "eaa4e5cf",
   "metadata": {},
   "outputs": [],
   "source": [
    "#df.Beer.unique()"
   ]
  },
  {
   "cell_type": "code",
   "execution_count": 12,
   "id": "f0b34958",
   "metadata": {},
   "outputs": [],
   "source": [
    "df['Beer'] = df['Beer'].replace(np.nan, 0)"
   ]
  },
  {
   "cell_type": "code",
   "execution_count": 13,
   "id": "c84060d2",
   "metadata": {},
   "outputs": [],
   "source": [
    "df['Monthly_Fitness_Club_Membership'] = df['Monthly_Fitness_Club_Membership'].replace(np.nan, 0)"
   ]
  },
  {
   "cell_type": "code",
   "execution_count": 14,
   "id": "8d3d9e13",
   "metadata": {},
   "outputs": [],
   "source": [
    "df[\"Lunch\"] = df[\"Lunch\"].replace(np.nan, 0)"
   ]
  },
  {
   "cell_type": "code",
   "execution_count": 15,
   "id": "b803ef56",
   "metadata": {},
   "outputs": [],
   "source": [
    "df[\"LGBT_adoption_rights\"] = df[\"LGBT_adoption_rights\"].replace(np.nan, \"No hay dato\")"
   ]
  },
  {
   "cell_type": "code",
   "execution_count": 16,
   "id": "b6620310",
   "metadata": {},
   "outputs": [],
   "source": [
    "df[\"Monthly_Public_Transport\"] = df[\"Monthly_Public_Transport\"].replace(np.nan, 0)"
   ]
  },
  {
   "cell_type": "code",
   "execution_count": 17,
   "id": "f706dc3f",
   "metadata": {},
   "outputs": [],
   "source": [
    "df[\"Monthly_Public_Transport\"] = df[\"Monthly_Public_Transport\"].replace('No hay dato', 0)"
   ]
  },
  {
   "cell_type": "code",
   "execution_count": 18,
   "id": "be77a49c",
   "metadata": {},
   "outputs": [
    {
     "data": {
      "text/plain": [
       "Unnamed: 0                         0\n",
       "Airport_hub                        0\n",
       "Intercity_train_connectivity       0\n",
       "Gun_related_deaths                 0\n",
       "Guns_per_residents                 0\n",
       "Pisa_ranking                       0\n",
       "Best_university                    0\n",
       "Monthly_Fitness_Club_Membership    0\n",
       "Beer                               0\n",
       "Monthly_Public_Transport           0\n",
       "Lunch                              0\n",
       "Large_apartment                    0\n",
       "Medium_apartment                   0\n",
       "Small_apartment                    0\n",
       "cities                             0\n",
       "Description                        0\n",
       "Poblacion                          0\n",
       "Homosexuality_acceptance           0\n",
       "LGBT_adoption_rights               0\n",
       "LGBT_homosexuality_rights          0\n",
       "LGBT_marriage_rights               0\n",
       "VAT_Sales_Tax                      0\n",
       "Art_galleries                      0\n",
       "Concert_venues                     0\n",
       "Museums                            0\n",
       "Sport_venues                       0\n",
       "Currency_for_urban_area            0\n",
       "GDP_per_capita_uno                 0\n",
       "Growth                             0\n",
       "GDP_per_capita_otro                0\n",
       "Unemployment                       0\n",
       "url                                0\n",
       "Average_Annual_percent_sunshine    0\n",
       "dtype: int64"
      ]
     },
     "execution_count": 18,
     "metadata": {},
     "output_type": "execute_result"
    }
   ],
   "source": [
    "pd.isna(df).sum()\n"
   ]
  },
  {
   "cell_type": "code",
   "execution_count": 197,
   "id": "70f3af07",
   "metadata": {},
   "outputs": [],
   "source": [
    "copia = df.copy()"
   ]
  },
  {
   "cell_type": "markdown",
   "id": "57d619ae",
   "metadata": {},
   "source": [
    "### Para poder trabajar con los datos debemos quitar símbolos y hacer una limpieza de las columnas"
   ]
  },
  {
   "cell_type": "code",
   "execution_count": 198,
   "id": "b17dd8f7",
   "metadata": {},
   "outputs": [],
   "source": [
    "def delete_price(i):\n",
    "    i = str(i).replace('$', \"\")\n",
    "    return i"
   ]
  },
  {
   "cell_type": "code",
   "execution_count": 199,
   "id": "5953d0b9",
   "metadata": {},
   "outputs": [],
   "source": [
    "copia['GDP_per_capita_otro'] = copia['GDP_per_capita_otro'].apply(delete_price)"
   ]
  },
  {
   "cell_type": "code",
   "execution_count": 200,
   "id": "661e9c71",
   "metadata": {},
   "outputs": [],
   "source": [
    "copia['Monthly_Fitness_Club_Membership'] = copia['Monthly_Fitness_Club_Membership'].apply(delete_price)"
   ]
  },
  {
   "cell_type": "code",
   "execution_count": 201,
   "id": "e0462777",
   "metadata": {},
   "outputs": [],
   "source": [
    "copia['Beer'] = copia['Beer'].apply(delete_price)"
   ]
  },
  {
   "cell_type": "code",
   "execution_count": 202,
   "id": "847680b6",
   "metadata": {},
   "outputs": [],
   "source": [
    "copia['Monthly_Public_Transport'] = copia['Monthly_Public_Transport'].apply(delete_price)"
   ]
  },
  {
   "cell_type": "code",
   "execution_count": 203,
   "id": "9ed20a93",
   "metadata": {},
   "outputs": [],
   "source": [
    "copia['GDP_per_capita_uno'] = copia['GDP_per_capita_uno'].apply(delete_price)"
   ]
  },
  {
   "cell_type": "code",
   "execution_count": 204,
   "id": "22d489a7",
   "metadata": {},
   "outputs": [],
   "source": [
    "copia['Lunch'] = copia['Lunch'].apply(delete_price)"
   ]
  },
  {
   "cell_type": "code",
   "execution_count": 205,
   "id": "ba2074db",
   "metadata": {},
   "outputs": [],
   "source": [
    "copia['Large_apartment'] = copia['Large_apartment'].apply(delete_price)"
   ]
  },
  {
   "cell_type": "code",
   "execution_count": 206,
   "id": "e5a48162",
   "metadata": {},
   "outputs": [],
   "source": [
    "copia['Medium_apartment'] = copia['Medium_apartment'].apply(delete_price)"
   ]
  },
  {
   "cell_type": "code",
   "execution_count": 207,
   "id": "c9d46e18",
   "metadata": {},
   "outputs": [],
   "source": [
    "copia['Small_apartment'] = copia['Small_apartment'].apply(delete_price)"
   ]
  },
  {
   "cell_type": "code",
   "execution_count": 208,
   "id": "49841d48",
   "metadata": {},
   "outputs": [],
   "source": [
    "def convertir(i):\n",
    "    i = i.replace(\",\", \".\")\n",
    "    return i"
   ]
  },
  {
   "cell_type": "code",
   "execution_count": 209,
   "id": "d56d59f9",
   "metadata": {},
   "outputs": [],
   "source": [
    "copia[\"GDP_per_capita_otro\"] = copia[\"GDP_per_capita_otro\"].apply(convertir)"
   ]
  },
  {
   "cell_type": "code",
   "execution_count": 210,
   "id": "b4aeb22a",
   "metadata": {},
   "outputs": [],
   "source": [
    "def quitar(i):\n",
    "    i = i.replace(\",\", \"\")\n",
    "    return i"
   ]
  },
  {
   "cell_type": "code",
   "execution_count": 211,
   "id": "86c204ad",
   "metadata": {},
   "outputs": [],
   "source": [
    "copia[\"Poblacion\"] = copia[\"Poblacion\"].apply(quitar)"
   ]
  },
  {
   "cell_type": "code",
   "execution_count": 212,
   "id": "cf48fa33",
   "metadata": {},
   "outputs": [],
   "source": [
    "def clean_symbol(i):\n",
    "    i = i.replace(\"✖\", \"\")\n",
    "    return i"
   ]
  },
  {
   "cell_type": "code",
   "execution_count": 213,
   "id": "033e8273",
   "metadata": {},
   "outputs": [],
   "source": [
    "copia[\"LGBT_adoption_rights\"] = copia[\"LGBT_adoption_rights\"].apply(clean_symbol)"
   ]
  },
  {
   "cell_type": "code",
   "execution_count": 214,
   "id": "2690f0bd",
   "metadata": {},
   "outputs": [],
   "source": [
    "copia[\"LGBT_homosexuality_rights\"] = copia[\"LGBT_homosexuality_rights\"].apply(clean_symbol)"
   ]
  },
  {
   "cell_type": "code",
   "execution_count": 215,
   "id": "53aac5da",
   "metadata": {},
   "outputs": [],
   "source": [
    "copia[\"LGBT_marriage_rights\"] = copia[\"LGBT_marriage_rights\"].apply(clean_symbol)"
   ]
  },
  {
   "cell_type": "code",
   "execution_count": 216,
   "id": "9bec9a58",
   "metadata": {},
   "outputs": [],
   "source": [
    "def clean_symbol2(i):\n",
    "    i = i.replace(\"✔\", \"\")\n",
    "    return i"
   ]
  },
  {
   "cell_type": "code",
   "execution_count": 217,
   "id": "b0b994a8",
   "metadata": {},
   "outputs": [],
   "source": [
    "copia[\"LGBT_adoption_rights\"] = copia[\"LGBT_adoption_rights\"].apply(clean_symbol2)"
   ]
  },
  {
   "cell_type": "code",
   "execution_count": 218,
   "id": "a01c3aee",
   "metadata": {},
   "outputs": [],
   "source": [
    "copia[\"LGBT_homosexuality_rights\"] = copia[\"LGBT_homosexuality_rights\"].apply(clean_symbol2)"
   ]
  },
  {
   "cell_type": "code",
   "execution_count": 219,
   "id": "e85f0ea0",
   "metadata": {},
   "outputs": [],
   "source": [
    "copia[\"LGBT_marriage_rights\"] = copia[\"LGBT_marriage_rights\"].apply(clean_symbol2)"
   ]
  },
  {
   "cell_type": "code",
   "execution_count": 220,
   "id": "cbfe2089",
   "metadata": {},
   "outputs": [
    {
     "data": {
      "text/html": [
       "<div>\n",
       "<style scoped>\n",
       "    .dataframe tbody tr th:only-of-type {\n",
       "        vertical-align: middle;\n",
       "    }\n",
       "\n",
       "    .dataframe tbody tr th {\n",
       "        vertical-align: top;\n",
       "    }\n",
       "\n",
       "    .dataframe thead th {\n",
       "        text-align: right;\n",
       "    }\n",
       "</style>\n",
       "<table border=\"1\" class=\"dataframe\">\n",
       "  <thead>\n",
       "    <tr style=\"text-align: right;\">\n",
       "      <th></th>\n",
       "      <th>Unnamed: 0</th>\n",
       "      <th>Airport_hub</th>\n",
       "      <th>Intercity_train_connectivity</th>\n",
       "      <th>Gun_related_deaths</th>\n",
       "      <th>Guns_per_residents</th>\n",
       "      <th>Pisa_ranking</th>\n",
       "      <th>Best_university</th>\n",
       "      <th>Monthly_Fitness_Club_Membership</th>\n",
       "      <th>Beer</th>\n",
       "      <th>Monthly_Public_Transport</th>\n",
       "      <th>...</th>\n",
       "      <th>Museums</th>\n",
       "      <th>Sport_venues</th>\n",
       "      <th>Currency_for_urban_area</th>\n",
       "      <th>GDP_per_capita_uno</th>\n",
       "      <th>Growth</th>\n",
       "      <th>GDP_per_capita_otro</th>\n",
       "      <th>Unemployment</th>\n",
       "      <th>url</th>\n",
       "      <th>Average_Annual_percent_sunshine</th>\n",
       "      <th>Small_apart</th>\n",
       "    </tr>\n",
       "  </thead>\n",
       "  <tbody>\n",
       "    <tr>\n",
       "      <th>0</th>\n",
       "      <td>0</td>\n",
       "      <td>8</td>\n",
       "      <td>0.59</td>\n",
       "      <td>1</td>\n",
       "      <td>12</td>\n",
       "      <td>13</td>\n",
       "      <td>Aarhus University</td>\n",
       "      <td>37.00</td>\n",
       "      <td>1.70</td>\n",
       "      <td>62.00</td>\n",
       "      <td>...</td>\n",
       "      <td>18</td>\n",
       "      <td>21</td>\n",
       "      <td>DKK</td>\n",
       "      <td>44342.66</td>\n",
       "      <td>5%</td>\n",
       "      <td>44.343</td>\n",
       "      <td>4%</td>\n",
       "      <td>https://teleport.org/cities/aarhus/</td>\n",
       "      <td>No hay dato</td>\n",
       "      <td>840</td>\n",
       "    </tr>\n",
       "    <tr>\n",
       "      <th>1</th>\n",
       "      <td>1</td>\n",
       "      <td>26</td>\n",
       "      <td>0.17</td>\n",
       "      <td>1</td>\n",
       "      <td>24</td>\n",
       "      <td>16</td>\n",
       "      <td>University of Adelaide</td>\n",
       "      <td>50.00</td>\n",
       "      <td>4.30</td>\n",
       "      <td>80.00</td>\n",
       "      <td>...</td>\n",
       "      <td>37</td>\n",
       "      <td>91</td>\n",
       "      <td>AUD</td>\n",
       "      <td>46433.30</td>\n",
       "      <td>7%</td>\n",
       "      <td>46.433</td>\n",
       "      <td>6%</td>\n",
       "      <td>https://teleport.org/cities/adelaide/</td>\n",
       "      <td>12.6</td>\n",
       "      <td>1000</td>\n",
       "    </tr>\n",
       "    <tr>\n",
       "      <th>2</th>\n",
       "      <td>2</td>\n",
       "      <td>23</td>\n",
       "      <td>0.11</td>\n",
       "      <td>16</td>\n",
       "      <td>328</td>\n",
       "      <td>24</td>\n",
       "      <td>University of New Mexico</td>\n",
       "      <td>52.00</td>\n",
       "      <td>2.90</td>\n",
       "      <td>37.00</td>\n",
       "      <td>...</td>\n",
       "      <td>35</td>\n",
       "      <td>10</td>\n",
       "      <td>USD</td>\n",
       "      <td>54596.65</td>\n",
       "      <td>7%</td>\n",
       "      <td>54.597</td>\n",
       "      <td>5%</td>\n",
       "      <td>https://teleport.org/cities/albuquerque/</td>\n",
       "      <td>168</td>\n",
       "      <td>760</td>\n",
       "    </tr>\n",
       "    <tr>\n",
       "      <th>3</th>\n",
       "      <td>3</td>\n",
       "      <td>45</td>\n",
       "      <td>0.66</td>\n",
       "      <td>1</td>\n",
       "      <td>1</td>\n",
       "      <td>39</td>\n",
       "      <td>427.97</td>\n",
       "      <td>83.00</td>\n",
       "      <td>0.68</td>\n",
       "      <td>19.00</td>\n",
       "      <td>...</td>\n",
       "      <td>24</td>\n",
       "      <td>53</td>\n",
       "      <td>KZT</td>\n",
       "      <td>24019.95</td>\n",
       "      <td>9%</td>\n",
       "      <td>24.020</td>\n",
       "      <td>6%</td>\n",
       "      <td>https://teleport.org/cities/almaty/</td>\n",
       "      <td>64</td>\n",
       "      <td>340</td>\n",
       "    </tr>\n",
       "    <tr>\n",
       "      <th>4</th>\n",
       "      <td>4</td>\n",
       "      <td>237</td>\n",
       "      <td>0.68</td>\n",
       "      <td>1</td>\n",
       "      <td>4</td>\n",
       "      <td>10</td>\n",
       "      <td>University of Amsterdam</td>\n",
       "      <td>49.00</td>\n",
       "      <td>2.10</td>\n",
       "      <td>100.00</td>\n",
       "      <td>...</td>\n",
       "      <td>187</td>\n",
       "      <td>154</td>\n",
       "      <td>EUR</td>\n",
       "      <td>47354.53</td>\n",
       "      <td>3%</td>\n",
       "      <td>47.355</td>\n",
       "      <td>6%</td>\n",
       "      <td>https://teleport.org/cities/amsterdam/</td>\n",
       "      <td>12.9</td>\n",
       "      <td>1600</td>\n",
       "    </tr>\n",
       "  </tbody>\n",
       "</table>\n",
       "<p>5 rows × 34 columns</p>\n",
       "</div>"
      ],
      "text/plain": [
       "   Unnamed: 0 Airport_hub Intercity_train_connectivity Gun_related_deaths  \\\n",
       "0           0           8                         0.59                  1   \n",
       "1           1          26                         0.17                  1   \n",
       "2           2          23                         0.11                 16   \n",
       "3           3          45                         0.66                  1   \n",
       "4           4         237                         0.68                  1   \n",
       "\n",
       "  Guns_per_residents Pisa_ranking           Best_university  \\\n",
       "0                 12           13         Aarhus University   \n",
       "1                 24           16    University of Adelaide   \n",
       "2                328           24  University of New Mexico   \n",
       "3                  1           39                    427.97   \n",
       "4                  4           10   University of Amsterdam   \n",
       "\n",
       "  Monthly_Fitness_Club_Membership  Beer Monthly_Public_Transport  ... Museums  \\\n",
       "0                           37.00  1.70                    62.00  ...      18   \n",
       "1                           50.00  4.30                    80.00  ...      37   \n",
       "2                           52.00  2.90                    37.00  ...      35   \n",
       "3                           83.00  0.68                    19.00  ...      24   \n",
       "4                           49.00  2.10                   100.00  ...     187   \n",
       "\n",
       "  Sport_venues Currency_for_urban_area GDP_per_capita_uno Growth  \\\n",
       "0           21                     DKK           44342.66     5%   \n",
       "1           91                     AUD           46433.30     7%   \n",
       "2           10                     USD           54596.65     7%   \n",
       "3           53                     KZT           24019.95     9%   \n",
       "4          154                     EUR           47354.53     3%   \n",
       "\n",
       "  GDP_per_capita_otro Unemployment                                       url  \\\n",
       "0              44.343           4%       https://teleport.org/cities/aarhus/   \n",
       "1              46.433           6%     https://teleport.org/cities/adelaide/   \n",
       "2              54.597           5%  https://teleport.org/cities/albuquerque/   \n",
       "3              24.020           6%       https://teleport.org/cities/almaty/   \n",
       "4              47.355           6%    https://teleport.org/cities/amsterdam/   \n",
       "\n",
       "  Average_Annual_percent_sunshine Small_apart  \n",
       "0                     No hay dato         840  \n",
       "1                            12.6        1000  \n",
       "2                             168         760  \n",
       "3                              64         340  \n",
       "4                            12.9        1600  \n",
       "\n",
       "[5 rows x 34 columns]"
      ]
     },
     "execution_count": 220,
     "metadata": {},
     "output_type": "execute_result"
    }
   ],
   "source": [
    "copia.head()"
   ]
  },
  {
   "cell_type": "code",
   "execution_count": 221,
   "id": "ac97030f",
   "metadata": {},
   "outputs": [],
   "source": [
    "def clean_no_info(i):\n",
    "    i = i.replace(\"No hay dato\", \"0\")\n",
    "    return i"
   ]
  },
  {
   "cell_type": "code",
   "execution_count": 222,
   "id": "db178ef4",
   "metadata": {},
   "outputs": [],
   "source": [
    "copia[\"Airport_hub\"] = copia[\"Airport_hub\"].apply(clean_no_info)"
   ]
  },
  {
   "cell_type": "code",
   "execution_count": 223,
   "id": "ee8e0284",
   "metadata": {},
   "outputs": [],
   "source": [
    "copia[\"Intercity_train_connectivity\"] = copia[\"Intercity_train_connectivity\"].apply(clean_no_info)"
   ]
  },
  {
   "cell_type": "code",
   "execution_count": 224,
   "id": "d45be805",
   "metadata": {},
   "outputs": [],
   "source": [
    "copia[\"Gun_related_deaths\"] = copia[\"Gun_related_deaths\"].apply(clean_no_info)"
   ]
  },
  {
   "cell_type": "code",
   "execution_count": 225,
   "id": "0930d245",
   "metadata": {},
   "outputs": [],
   "source": [
    "copia[\"Guns_per_residents\"] = copia[\"Guns_per_residents\"].apply(clean_no_info)"
   ]
  },
  {
   "cell_type": "code",
   "execution_count": 226,
   "id": "45ce06ef",
   "metadata": {},
   "outputs": [],
   "source": [
    "copia[\"Pisa_ranking\"] = copia[\"Pisa_ranking\"].apply(clean_no_info)"
   ]
  },
  {
   "cell_type": "code",
   "execution_count": 227,
   "id": "f857dff9",
   "metadata": {},
   "outputs": [],
   "source": [
    "copia[\"Large_apartment\"] = copia[\"Large_apartment\"].apply(clean_no_info)"
   ]
  },
  {
   "cell_type": "code",
   "execution_count": 228,
   "id": "fb16f99b",
   "metadata": {},
   "outputs": [],
   "source": [
    "copia[\"Small_apartment\"] = copia[\"Small_apartment\"].apply(clean_no_info)"
   ]
  },
  {
   "cell_type": "code",
   "execution_count": 229,
   "id": "88370e44",
   "metadata": {},
   "outputs": [],
   "source": [
    "copia[\"Medium_apartment\"] = copia[\"Medium_apartment\"].apply(clean_no_info)"
   ]
  },
  {
   "cell_type": "code",
   "execution_count": 230,
   "id": "59a4d91f",
   "metadata": {},
   "outputs": [],
   "source": [
    "copia[\"VAT_Sales_Tax\"] = copia[\"VAT_Sales_Tax\"].apply(clean_no_info)"
   ]
  },
  {
   "cell_type": "code",
   "execution_count": 231,
   "id": "9c211d4f",
   "metadata": {},
   "outputs": [],
   "source": [
    "copia[\"Art_galleries\"] = copia[\"Art_galleries\"].apply(clean_no_info)"
   ]
  },
  {
   "cell_type": "code",
   "execution_count": 232,
   "id": "8d0ab988",
   "metadata": {},
   "outputs": [],
   "source": [
    "copia[\"Concert_venues\"] = copia[\"Concert_venues\"].apply(clean_no_info)"
   ]
  },
  {
   "cell_type": "code",
   "execution_count": 233,
   "id": "9a698a1d",
   "metadata": {},
   "outputs": [],
   "source": [
    "copia[\"Museums\"] = copia[\"Museums\"].apply(clean_no_info)"
   ]
  },
  {
   "cell_type": "code",
   "execution_count": 234,
   "id": "41aa435f",
   "metadata": {},
   "outputs": [],
   "source": [
    "copia[\"Sport_venues\"] = copia[\"Sport_venues\"].apply(clean_no_info)"
   ]
  },
  {
   "cell_type": "code",
   "execution_count": 235,
   "id": "65ab1f82",
   "metadata": {},
   "outputs": [],
   "source": [
    "copia[\"GDP_per_capita_uno\"] = copia[\"GDP_per_capita_uno\"].apply(clean_no_info)"
   ]
  },
  {
   "cell_type": "code",
   "execution_count": 236,
   "id": "6eb46ce2",
   "metadata": {},
   "outputs": [],
   "source": [
    "copia[\"GDP_per_capita_otro\"] = copia[\"GDP_per_capita_otro\"].apply(clean_no_info)"
   ]
  },
  {
   "cell_type": "code",
   "execution_count": 237,
   "id": "5e8061df",
   "metadata": {},
   "outputs": [],
   "source": [
    "copia[\"Unemployment\"] = copia[\"Unemployment\"].apply(clean_no_info)"
   ]
  },
  {
   "cell_type": "code",
   "execution_count": 238,
   "id": "4db9afda",
   "metadata": {},
   "outputs": [],
   "source": [
    "copia[\"Average_Annual_percent_sunshine\"] = copia[\"Average_Annual_percent_sunshine\"].apply(clean_no_info)"
   ]
  },
  {
   "cell_type": "code",
   "execution_count": 239,
   "id": "560090e3",
   "metadata": {},
   "outputs": [],
   "source": [
    "copia[\"Homosexuality_acceptance\"] = copia[\"Homosexuality_acceptance\"].apply(clean_no_info)"
   ]
  },
  {
   "cell_type": "code",
   "execution_count": 241,
   "id": "1dbc53a2",
   "metadata": {},
   "outputs": [],
   "source": [
    "def replace_num(universidad):\n",
    "    #print (\"i original :\",universidad)\n",
    "    if (re.findall(\"\\d+\",universidad)):\n",
    "        universidad = \"No hay dato\"\n",
    "    #print (\"i cambiada: \",universidad)\n",
    "    return universidad"
   ]
  },
  {
   "cell_type": "code",
   "execution_count": 242,
   "id": "aa77e7a3",
   "metadata": {},
   "outputs": [],
   "source": [
    "copia[\"Best_university\"] = copia[\"Best_university\"].apply(replace_num)"
   ]
  },
  {
   "cell_type": "code",
   "execution_count": 254,
   "id": "49669d1c",
   "metadata": {},
   "outputs": [],
   "source": [
    "def replace_num2(Currency):\n",
    "    if (re.findall(\"\\d+\",Currency)):\n",
    "        Currency = \"USD\"\n",
    "    return Currency"
   ]
  },
  {
   "cell_type": "code",
   "execution_count": 251,
   "id": "0a44b222",
   "metadata": {},
   "outputs": [
    {
     "data": {
      "text/html": [
       "<div>\n",
       "<style scoped>\n",
       "    .dataframe tbody tr th:only-of-type {\n",
       "        vertical-align: middle;\n",
       "    }\n",
       "\n",
       "    .dataframe tbody tr th {\n",
       "        vertical-align: top;\n",
       "    }\n",
       "\n",
       "    .dataframe thead th {\n",
       "        text-align: right;\n",
       "    }\n",
       "</style>\n",
       "<table border=\"1\" class=\"dataframe\">\n",
       "  <thead>\n",
       "    <tr style=\"text-align: right;\">\n",
       "      <th></th>\n",
       "      <th>Unnamed: 0</th>\n",
       "      <th>Airport_hub</th>\n",
       "      <th>Intercity_train_connectivity</th>\n",
       "      <th>Gun_related_deaths</th>\n",
       "      <th>Guns_per_residents</th>\n",
       "      <th>Pisa_ranking</th>\n",
       "      <th>Best_university</th>\n",
       "      <th>Monthly_Fitness_Club_Membership</th>\n",
       "      <th>Beer</th>\n",
       "      <th>Monthly_Public_Transport</th>\n",
       "      <th>...</th>\n",
       "      <th>Museums</th>\n",
       "      <th>Sport_venues</th>\n",
       "      <th>Currency_for_urban_area</th>\n",
       "      <th>GDP_per_capita_uno</th>\n",
       "      <th>Growth</th>\n",
       "      <th>GDP_per_capita_otro</th>\n",
       "      <th>Unemployment</th>\n",
       "      <th>url</th>\n",
       "      <th>Average_Annual_percent_sunshine</th>\n",
       "      <th>Small_apart</th>\n",
       "    </tr>\n",
       "  </thead>\n",
       "  <tbody>\n",
       "    <tr>\n",
       "      <th>16</th>\n",
       "      <td>16</td>\n",
       "      <td>0.48</td>\n",
       "      <td>0</td>\n",
       "      <td>10</td>\n",
       "      <td>119</td>\n",
       "      <td>24</td>\n",
       "      <td>Johns Hopkins University</td>\n",
       "      <td>59.00</td>\n",
       "      <td>2.10</td>\n",
       "      <td>68.00</td>\n",
       "      <td>...</td>\n",
       "      <td>0</td>\n",
       "      <td>0</td>\n",
       "      <td>0.43</td>\n",
       "      <td>0</td>\n",
       "      <td>80</td>\n",
       "      <td>0</td>\n",
       "      <td>0</td>\n",
       "      <td>https://teleport.org/cities/baltimore/</td>\n",
       "      <td>0</td>\n",
       "      <td>1200</td>\n",
       "    </tr>\n",
       "  </tbody>\n",
       "</table>\n",
       "<p>1 rows × 34 columns</p>\n",
       "</div>"
      ],
      "text/plain": [
       "    Unnamed: 0 Airport_hub Intercity_train_connectivity Gun_related_deaths  \\\n",
       "16          16        0.48                            0                 10   \n",
       "\n",
       "   Guns_per_residents Pisa_ranking           Best_university  \\\n",
       "16                119           24  Johns Hopkins University   \n",
       "\n",
       "   Monthly_Fitness_Club_Membership  Beer Monthly_Public_Transport  ...  \\\n",
       "16                           59.00  2.10                    68.00  ...   \n",
       "\n",
       "   Museums Sport_venues Currency_for_urban_area GDP_per_capita_uno Growth  \\\n",
       "16       0            0                    0.43                  0     80   \n",
       "\n",
       "   GDP_per_capita_otro Unemployment                                     url  \\\n",
       "16                   0            0  https://teleport.org/cities/baltimore/   \n",
       "\n",
       "   Average_Annual_percent_sunshine Small_apart  \n",
       "16                               0        1200  \n",
       "\n",
       "[1 rows x 34 columns]"
      ]
     },
     "execution_count": 251,
     "metadata": {},
     "output_type": "execute_result"
    }
   ],
   "source": [
    "copia.loc[copia['Currency_for_urban_area'] =='0.43']"
   ]
  },
  {
   "cell_type": "code",
   "execution_count": 255,
   "id": "d9b5a028",
   "metadata": {},
   "outputs": [],
   "source": [
    "copia[\"Currency_for_urban_area\"] = copia[\"Currency_for_urban_area\"].apply(replace_num2)"
   ]
  },
  {
   "cell_type": "markdown",
   "id": "494b2a32",
   "metadata": {},
   "source": [
    "#### Algunas de las columnas tienen datos que no se corresponden con la medición de esa columna, por lo que reemplzaremos esos números por 0, dandole la asignación de que no tenemos datos sobre ese lugar."
   ]
  },
  {
   "cell_type": "markdown",
   "id": "07419ec5",
   "metadata": {},
   "source": [
    "### Continuamos la limpieza de nuestros datos:"
   ]
  },
  {
   "cell_type": "code",
   "execution_count": 55,
   "id": "8a7aff8c",
   "metadata": {},
   "outputs": [],
   "source": [
    "def change(x):\n",
    "    x = str(x).split('.')[0]\n",
    "    return x"
   ]
  },
  {
   "cell_type": "code",
   "execution_count": 57,
   "id": "b6b62384",
   "metadata": {},
   "outputs": [],
   "source": [
    "copia[\"Airport_hub\"] = copia[\"Airport_hub\"].apply(change) "
   ]
  },
  {
   "cell_type": "code",
   "execution_count": 102,
   "id": "cd6ed237",
   "metadata": {},
   "outputs": [],
   "source": [
    "copia[\"Pisa_ranking\"] =copia[\"Pisa_ranking\"].apply(change) "
   ]
  },
  {
   "cell_type": "code",
   "execution_count": 101,
   "id": "abf3468a",
   "metadata": {},
   "outputs": [],
   "source": [
    "copia[\"Concert_venues\"] = copia[\"Concert_venues\"].apply(change)"
   ]
  },
  {
   "cell_type": "code",
   "execution_count": 109,
   "id": "281c4059",
   "metadata": {},
   "outputs": [],
   "source": [
    "copia[\"Museums\"] = copia[\"Museums\"].apply(change)"
   ]
  },
  {
   "cell_type": "code",
   "execution_count": 115,
   "id": "628c6aec",
   "metadata": {},
   "outputs": [],
   "source": [
    "copia[\"Sport_venues\"] = copia[\"Sport_venues\"].apply(change)"
   ]
  },
  {
   "cell_type": "code",
   "execution_count": 258,
   "id": "b354da5b",
   "metadata": {},
   "outputs": [],
   "source": [
    "def delete_percentage(i):\n",
    "    i = str(i).replace('%', \"\")\n",
    "    return i"
   ]
  },
  {
   "cell_type": "code",
   "execution_count": 259,
   "id": "ecdabe7d",
   "metadata": {},
   "outputs": [],
   "source": [
    "copia[\"Growth\"] = copia[\"Growth\"].apply(delete_percentage)"
   ]
  },
  {
   "cell_type": "code",
   "execution_count": 265,
   "id": "326bc540",
   "metadata": {},
   "outputs": [],
   "source": [
    "copia[\"Unemployment\"] = copia[\"Unemployment\"].apply(delete_percentage)"
   ]
  },
  {
   "cell_type": "markdown",
   "id": "33d4cd6d",
   "metadata": {},
   "source": [
    "### A continuación debemos convertir el dtype de las columnas"
   ]
  },
  {
   "cell_type": "code",
   "execution_count": 67,
   "id": "7ac664ad",
   "metadata": {},
   "outputs": [
    {
     "name": "stdout",
     "output_type": "stream",
     "text": [
      "<class 'pandas.core.frame.DataFrame'>\n",
      "RangeIndex: 262 entries, 0 to 261\n",
      "Data columns (total 34 columns):\n",
      " #   Column                           Non-Null Count  Dtype \n",
      "---  ------                           --------------  ----- \n",
      " 0   Unnamed: 0                       262 non-null    int64 \n",
      " 1   Airport_hub                      262 non-null    object\n",
      " 2   Intercity_train_connectivity     262 non-null    object\n",
      " 3   Gun_related_deaths               262 non-null    object\n",
      " 4   Guns_per_residents               262 non-null    object\n",
      " 5   Pisa_ranking                     262 non-null    object\n",
      " 6   Best_university                  262 non-null    object\n",
      " 7   Monthly_Fitness_Club_Membership  262 non-null    object\n",
      " 8   Beer                             262 non-null    object\n",
      " 9   Monthly_Public_Transport         262 non-null    object\n",
      " 10  Lunch                            262 non-null    object\n",
      " 11  Large_apartment                  262 non-null    object\n",
      " 12  Medium_apartment                 262 non-null    int64 \n",
      " 13  Small_apartment                  262 non-null    object\n",
      " 14  cities                           262 non-null    object\n",
      " 15  Description                      262 non-null    object\n",
      " 16  Poblacion                        262 non-null    object\n",
      " 17  Homosexuality_acceptance         262 non-null    object\n",
      " 18  LGBT_adoption_rights             262 non-null    object\n",
      " 19  LGBT_homosexuality_rights        262 non-null    object\n",
      " 20  LGBT_marriage_rights             262 non-null    object\n",
      " 21  VAT_Sales_Tax                    262 non-null    object\n",
      " 22  Art_galleries                    262 non-null    object\n",
      " 23  Concert_venues                   262 non-null    object\n",
      " 24  Museums                          262 non-null    object\n",
      " 25  Sport_venues                     262 non-null    object\n",
      " 26  Currency_for_urban_area          262 non-null    object\n",
      " 27  GDP_per_capita_uno               262 non-null    object\n",
      " 28  Growth                           262 non-null    object\n",
      " 29  GDP_per_capita_otro              262 non-null    object\n",
      " 30  Unemployment                     262 non-null    object\n",
      " 31  url                              262 non-null    object\n",
      " 32  Average_Annual_percent_sunshine  262 non-null    object\n",
      " 33  Small_apart                      262 non-null    int64 \n",
      "dtypes: int64(3), object(31)\n",
      "memory usage: 69.7+ KB\n"
     ]
    }
   ],
   "source": [
    "copia.info()"
   ]
  },
  {
   "cell_type": "code",
   "execution_count": 70,
   "id": "5e6dd629",
   "metadata": {},
   "outputs": [],
   "source": [
    "copia[\"Small_apartment\"] = copia[\"Small_apartment\"].astype(dtype=int)"
   ]
  },
  {
   "cell_type": "code",
   "execution_count": 66,
   "id": "b3def60f",
   "metadata": {},
   "outputs": [],
   "source": [
    "copia[\"Medium_apartment\"] = copia[\"Medium_apartment\"].astype(dtype=int)"
   ]
  },
  {
   "cell_type": "code",
   "execution_count": 71,
   "id": "0bdf9777",
   "metadata": {},
   "outputs": [],
   "source": [
    "copia[\"Large_apartment\"] = copia[\"Large_apartment\"].astype(dtype=int)"
   ]
  },
  {
   "cell_type": "code",
   "execution_count": 73,
   "id": "91987998",
   "metadata": {},
   "outputs": [],
   "source": [
    "copia[\"Airport_hub\"] = copia[\"Airport_hub\"].astype(dtype=int)"
   ]
  },
  {
   "cell_type": "code",
   "execution_count": 76,
   "id": "cdd51167",
   "metadata": {},
   "outputs": [],
   "source": [
    "copia[\"Gun_related_deaths\"] = copia[\"Gun_related_deaths\"].astype(dtype=int)"
   ]
  },
  {
   "cell_type": "code",
   "execution_count": 78,
   "id": "bf7bc478",
   "metadata": {},
   "outputs": [],
   "source": [
    "copia[\"Guns_per_residents\"] = copia[\"Guns_per_residents\"].astype(dtype=int)"
   ]
  },
  {
   "cell_type": "code",
   "execution_count": 104,
   "id": "0e05a0ac",
   "metadata": {},
   "outputs": [],
   "source": [
    "copia[\"Pisa_ranking\"] = copia[\"Pisa_ranking\"].astype(dtype=int)"
   ]
  },
  {
   "cell_type": "code",
   "execution_count": 107,
   "id": "9cb56dce",
   "metadata": {},
   "outputs": [],
   "source": [
    "#copia[\"Monthly_Fitness_Club_Membership\"] = copia[\"Monthly_Fitness_Club_Membership\"].astype(dtype=int)"
   ]
  },
  {
   "cell_type": "code",
   "execution_count": 116,
   "id": "53faeede",
   "metadata": {},
   "outputs": [],
   "source": [
    "#copia.Monthly_Fitness_Club_Membership.unique()"
   ]
  },
  {
   "cell_type": "code",
   "execution_count": 91,
   "id": "95bdaacd",
   "metadata": {},
   "outputs": [],
   "source": [
    "copia[\"Poblacion\"] = copia[\"Poblacion\"].astype(dtype=int)"
   ]
  },
  {
   "cell_type": "code",
   "execution_count": 97,
   "id": "8c40bb02",
   "metadata": {},
   "outputs": [],
   "source": [
    "copia[\"Art_galleries\"] = copia[\"Art_galleries\"].astype(dtype=int)"
   ]
  },
  {
   "cell_type": "code",
   "execution_count": 103,
   "id": "95f68fde",
   "metadata": {},
   "outputs": [],
   "source": [
    "copia[\"Concert_venues\"] = copia[\"Concert_venues\"].astype(dtype=int)"
   ]
  },
  {
   "cell_type": "code",
   "execution_count": 110,
   "id": "775a8b40",
   "metadata": {},
   "outputs": [],
   "source": [
    "copia[\"Museums\"] = copia[\"Museums\"].astype(dtype=int)"
   ]
  },
  {
   "cell_type": "code",
   "execution_count": 136,
   "id": "9a80761c",
   "metadata": {},
   "outputs": [],
   "source": [
    "copia[\"Sport_venues\"] = copia[\"Sport_venues\"].astype(dtype=int)"
   ]
  },
  {
   "cell_type": "code",
   "execution_count": 262,
   "id": "b095d726",
   "metadata": {},
   "outputs": [],
   "source": [
    "copia[\"Growth\"] = copia[\"Growth\"].astype(dtype=int)"
   ]
  },
  {
   "cell_type": "code",
   "execution_count": 267,
   "id": "06c52adf",
   "metadata": {},
   "outputs": [],
   "source": [
    "copia[\"Unemployment\"] = copia[\"Unemployment\"].astype(dtype=int)"
   ]
  },
  {
   "cell_type": "code",
   "execution_count": 80,
   "id": "9342f46a",
   "metadata": {},
   "outputs": [
    {
     "data": {
      "text/html": [
       "<div>\n",
       "<style scoped>\n",
       "    .dataframe tbody tr th:only-of-type {\n",
       "        vertical-align: middle;\n",
       "    }\n",
       "\n",
       "    .dataframe tbody tr th {\n",
       "        vertical-align: top;\n",
       "    }\n",
       "\n",
       "    .dataframe thead th {\n",
       "        text-align: right;\n",
       "    }\n",
       "</style>\n",
       "<table border=\"1\" class=\"dataframe\">\n",
       "  <thead>\n",
       "    <tr style=\"text-align: right;\">\n",
       "      <th></th>\n",
       "      <th>Unnamed: 0</th>\n",
       "      <th>Airport_hub</th>\n",
       "      <th>Intercity_train_connectivity</th>\n",
       "      <th>Gun_related_deaths</th>\n",
       "      <th>Guns_per_residents</th>\n",
       "      <th>Pisa_ranking</th>\n",
       "      <th>Best_university</th>\n",
       "      <th>Monthly_Fitness_Club_Membership</th>\n",
       "      <th>Beer</th>\n",
       "      <th>Monthly_Public_Transport</th>\n",
       "      <th>...</th>\n",
       "      <th>Museums</th>\n",
       "      <th>Sport_venues</th>\n",
       "      <th>Currency_for_urban_area</th>\n",
       "      <th>GDP_per_capita_uno</th>\n",
       "      <th>Growth</th>\n",
       "      <th>GDP_per_capita_otro</th>\n",
       "      <th>Unemployment</th>\n",
       "      <th>url</th>\n",
       "      <th>Average_Annual_percent_sunshine</th>\n",
       "      <th>Small_apart</th>\n",
       "    </tr>\n",
       "  </thead>\n",
       "  <tbody>\n",
       "    <tr>\n",
       "      <th>0</th>\n",
       "      <td>0</td>\n",
       "      <td>8</td>\n",
       "      <td>0.59</td>\n",
       "      <td>1</td>\n",
       "      <td>12</td>\n",
       "      <td>13</td>\n",
       "      <td>Aarhus University</td>\n",
       "      <td>37.00</td>\n",
       "      <td>1.70</td>\n",
       "      <td>62.00</td>\n",
       "      <td>...</td>\n",
       "      <td>18</td>\n",
       "      <td>21</td>\n",
       "      <td>DKK</td>\n",
       "      <td>44342.66</td>\n",
       "      <td>5%</td>\n",
       "      <td>44.343</td>\n",
       "      <td>4%</td>\n",
       "      <td>https://teleport.org/cities/aarhus/</td>\n",
       "      <td>0</td>\n",
       "      <td>840</td>\n",
       "    </tr>\n",
       "    <tr>\n",
       "      <th>1</th>\n",
       "      <td>1</td>\n",
       "      <td>26</td>\n",
       "      <td>0.17</td>\n",
       "      <td>1</td>\n",
       "      <td>24</td>\n",
       "      <td>16</td>\n",
       "      <td>University of Adelaide</td>\n",
       "      <td>50.00</td>\n",
       "      <td>4.30</td>\n",
       "      <td>80.00</td>\n",
       "      <td>...</td>\n",
       "      <td>37</td>\n",
       "      <td>91</td>\n",
       "      <td>AUD</td>\n",
       "      <td>46433.30</td>\n",
       "      <td>7%</td>\n",
       "      <td>46.433</td>\n",
       "      <td>6%</td>\n",
       "      <td>https://teleport.org/cities/adelaide/</td>\n",
       "      <td>12.6</td>\n",
       "      <td>1000</td>\n",
       "    </tr>\n",
       "    <tr>\n",
       "      <th>2</th>\n",
       "      <td>2</td>\n",
       "      <td>23</td>\n",
       "      <td>0.11</td>\n",
       "      <td>16</td>\n",
       "      <td>328</td>\n",
       "      <td>24</td>\n",
       "      <td>University of New Mexico</td>\n",
       "      <td>52.00</td>\n",
       "      <td>2.90</td>\n",
       "      <td>37.00</td>\n",
       "      <td>...</td>\n",
       "      <td>35</td>\n",
       "      <td>10</td>\n",
       "      <td>USD</td>\n",
       "      <td>54596.65</td>\n",
       "      <td>7%</td>\n",
       "      <td>54.597</td>\n",
       "      <td>5%</td>\n",
       "      <td>https://teleport.org/cities/albuquerque/</td>\n",
       "      <td>168</td>\n",
       "      <td>760</td>\n",
       "    </tr>\n",
       "    <tr>\n",
       "      <th>3</th>\n",
       "      <td>3</td>\n",
       "      <td>45</td>\n",
       "      <td>0.66</td>\n",
       "      <td>1</td>\n",
       "      <td>1</td>\n",
       "      <td>39</td>\n",
       "      <td>427.97</td>\n",
       "      <td>83.00</td>\n",
       "      <td>0.68</td>\n",
       "      <td>19.00</td>\n",
       "      <td>...</td>\n",
       "      <td>24</td>\n",
       "      <td>53</td>\n",
       "      <td>KZT</td>\n",
       "      <td>24019.95</td>\n",
       "      <td>9%</td>\n",
       "      <td>24.020</td>\n",
       "      <td>6%</td>\n",
       "      <td>https://teleport.org/cities/almaty/</td>\n",
       "      <td>64</td>\n",
       "      <td>340</td>\n",
       "    </tr>\n",
       "    <tr>\n",
       "      <th>4</th>\n",
       "      <td>4</td>\n",
       "      <td>237</td>\n",
       "      <td>0.68</td>\n",
       "      <td>1</td>\n",
       "      <td>4</td>\n",
       "      <td>10</td>\n",
       "      <td>University of Amsterdam</td>\n",
       "      <td>49.00</td>\n",
       "      <td>2.10</td>\n",
       "      <td>100.00</td>\n",
       "      <td>...</td>\n",
       "      <td>187</td>\n",
       "      <td>154</td>\n",
       "      <td>EUR</td>\n",
       "      <td>47354.53</td>\n",
       "      <td>3%</td>\n",
       "      <td>47.355</td>\n",
       "      <td>6%</td>\n",
       "      <td>https://teleport.org/cities/amsterdam/</td>\n",
       "      <td>12.9</td>\n",
       "      <td>1600</td>\n",
       "    </tr>\n",
       "  </tbody>\n",
       "</table>\n",
       "<p>5 rows × 34 columns</p>\n",
       "</div>"
      ],
      "text/plain": [
       "   Unnamed: 0  Airport_hub Intercity_train_connectivity  Gun_related_deaths  \\\n",
       "0           0            8                         0.59                   1   \n",
       "1           1           26                         0.17                   1   \n",
       "2           2           23                         0.11                  16   \n",
       "3           3           45                         0.66                   1   \n",
       "4           4          237                         0.68                   1   \n",
       "\n",
       "   Guns_per_residents Pisa_ranking           Best_university  \\\n",
       "0                  12           13         Aarhus University   \n",
       "1                  24           16    University of Adelaide   \n",
       "2                 328           24  University of New Mexico   \n",
       "3                   1           39                    427.97   \n",
       "4                   4           10   University of Amsterdam   \n",
       "\n",
       "  Monthly_Fitness_Club_Membership  Beer Monthly_Public_Transport  ... Museums  \\\n",
       "0                           37.00  1.70                    62.00  ...      18   \n",
       "1                           50.00  4.30                    80.00  ...      37   \n",
       "2                           52.00  2.90                    37.00  ...      35   \n",
       "3                           83.00  0.68                    19.00  ...      24   \n",
       "4                           49.00  2.10                   100.00  ...     187   \n",
       "\n",
       "   Sport_venues  Currency_for_urban_area  GDP_per_capita_uno Growth  \\\n",
       "0            21                      DKK            44342.66     5%   \n",
       "1            91                      AUD            46433.30     7%   \n",
       "2            10                      USD            54596.65     7%   \n",
       "3            53                      KZT            24019.95     9%   \n",
       "4           154                      EUR            47354.53     3%   \n",
       "\n",
       "  GDP_per_capita_otro Unemployment                                       url  \\\n",
       "0              44.343           4%       https://teleport.org/cities/aarhus/   \n",
       "1              46.433           6%     https://teleport.org/cities/adelaide/   \n",
       "2              54.597           5%  https://teleport.org/cities/albuquerque/   \n",
       "3              24.020           6%       https://teleport.org/cities/almaty/   \n",
       "4              47.355           6%    https://teleport.org/cities/amsterdam/   \n",
       "\n",
       "  Average_Annual_percent_sunshine Small_apart  \n",
       "0                               0         840  \n",
       "1                            12.6        1000  \n",
       "2                             168         760  \n",
       "3                              64         340  \n",
       "4                            12.9        1600  \n",
       "\n",
       "[5 rows x 34 columns]"
      ]
     },
     "execution_count": 80,
     "metadata": {},
     "output_type": "execute_result"
    }
   ],
   "source": [
    "copia.head()"
   ]
  },
  {
   "cell_type": "code",
   "execution_count": 121,
   "id": "8e6cd6fb",
   "metadata": {},
   "outputs": [
    {
     "data": {
      "text/plain": [
       "array(['0', '12.6', '168', '64', '12.9', '61', '243', '101', '12.5',\n",
       "       '266.7', '110', '182.9', '116', '12.7', '207', '73', '209.5', '75',\n",
       "       '113', '160', '213', '35', '120', '288', '12.8', '98', '324',\n",
       "       '326', '124', '54', '297.1', '254', '260', '259', '111', '105',\n",
       "       '84', '238.3', '82', '66', '138', '127', '72', '13', '161', '228',\n",
       "       '136', '115', '76', '298', '337', '174', '227.8', '288.2', '281',\n",
       "       '282', '225', '330', '302', '90', '181', '44', '198', '13.2',\n",
       "       '277.1', '222', '200', '296', '265', '13.3', '91', '88', '95',\n",
       "       '246', '121', '285', '97', '217', '312', '65', '211', '290', '218',\n",
       "       '89', '241.4', '147', '93', '31', '94', '107', '252', '118', '96',\n",
       "       '103', '336', '139', '177', '246.7', '13.5', '102', '180', '58',\n",
       "       '68', '242', '99', '13.6', '100', '13.1', '130', '125', '106',\n",
       "       '271', '70', '236', '299.5', '71', '250', '129', '287', '291',\n",
       "       '13.4', '199.9', '213.1', '172', '49.4', '286', '36'], dtype=object)"
      ]
     },
     "execution_count": 121,
     "metadata": {},
     "output_type": "execute_result"
    }
   ],
   "source": [
    "copia.Average_Annual_percent_sunshine.unique()"
   ]
  },
  {
   "cell_type": "code",
   "execution_count": 122,
   "id": "05ac8596",
   "metadata": {},
   "outputs": [],
   "source": [
    "copia[\"Intercity_train_connectivity\"] = copia[\"Intercity_train_connectivity\"].astype(dtype=float)"
   ]
  },
  {
   "cell_type": "code",
   "execution_count": 134,
   "id": "f7981c16",
   "metadata": {},
   "outputs": [],
   "source": [
    "copia[\"Monthly_Fitness_Club_Membership\"] = copia[\"Monthly_Fitness_Club_Membership\"].astype(dtype=float)"
   ]
  },
  {
   "cell_type": "code",
   "execution_count": 124,
   "id": "54667d45",
   "metadata": {},
   "outputs": [],
   "source": [
    "copia[\"Beer\"] = copia[\"Beer\"].astype(dtype=float)"
   ]
  },
  {
   "cell_type": "code",
   "execution_count": 125,
   "id": "71c974b2",
   "metadata": {},
   "outputs": [],
   "source": [
    "copia[\"Lunch\"] = copia[\"Lunch\"].astype(dtype=float)"
   ]
  },
  {
   "cell_type": "code",
   "execution_count": 126,
   "id": "ad31aa25",
   "metadata": {},
   "outputs": [],
   "source": [
    "copia[\"Monthly_Public_Transport\"] = copia[\"Monthly_Public_Transport\"].astype(dtype=float)"
   ]
  },
  {
   "cell_type": "code",
   "execution_count": 127,
   "id": "e4ce3a37",
   "metadata": {},
   "outputs": [],
   "source": [
    "copia[\"Homosexuality_acceptance\"] = copia[\"Homosexuality_acceptance\"].astype(dtype=float)"
   ]
  },
  {
   "cell_type": "code",
   "execution_count": 128,
   "id": "fd9438dd",
   "metadata": {},
   "outputs": [],
   "source": [
    "copia[\"VAT_Sales_Tax\"] = copia[\"VAT_Sales_Tax\"].astype(dtype=float)"
   ]
  },
  {
   "cell_type": "code",
   "execution_count": 130,
   "id": "bde6c795",
   "metadata": {},
   "outputs": [],
   "source": [
    "copia[\"Average_Annual_percent_sunshine\"] = copia[\"Average_Annual_percent_sunshine\"].astype(dtype=float)"
   ]
  },
  {
   "cell_type": "code",
   "execution_count": 154,
   "id": "5e76712a",
   "metadata": {},
   "outputs": [],
   "source": [
    "copia[\"GDP_per_capita_uno\"] =copia[\"GDP_per_capita_uno\"].astype(dtype=float)"
   ]
  },
  {
   "cell_type": "code",
   "execution_count": 270,
   "id": "46cb861c",
   "metadata": {},
   "outputs": [],
   "source": [
    "def porcentaje(i):\n",
    "    i = i/100\n",
    "    return i"
   ]
  },
  {
   "cell_type": "code",
   "execution_count": 272,
   "id": "a6714067",
   "metadata": {},
   "outputs": [],
   "source": [
    "copia[\"Growth\"] = copia[\"Growth\"].apply(porcentaje)"
   ]
  },
  {
   "cell_type": "code",
   "execution_count": 273,
   "id": "3dbe73fa",
   "metadata": {},
   "outputs": [],
   "source": [
    "copia[\"Unemployment\"] = copia[\"Unemployment\"].apply(porcentaje)"
   ]
  },
  {
   "cell_type": "markdown",
   "id": "8290c8ed",
   "metadata": {},
   "source": [
    "### A continuación eliminaremos algunas columnas que no utilizaremos"
   ]
  },
  {
   "cell_type": "code",
   "execution_count": 274,
   "id": "f7ad0b94",
   "metadata": {},
   "outputs": [],
   "source": [
    "copia.drop([\"Unnamed: 0\", \"GDP_per_capita_otro\", \"Small_apart\"], axis=1, inplace=True)"
   ]
  },
  {
   "cell_type": "code",
   "execution_count": 275,
   "id": "a96c31c4",
   "metadata": {},
   "outputs": [
    {
     "data": {
      "text/html": [
       "<div>\n",
       "<style scoped>\n",
       "    .dataframe tbody tr th:only-of-type {\n",
       "        vertical-align: middle;\n",
       "    }\n",
       "\n",
       "    .dataframe tbody tr th {\n",
       "        vertical-align: top;\n",
       "    }\n",
       "\n",
       "    .dataframe thead th {\n",
       "        text-align: right;\n",
       "    }\n",
       "</style>\n",
       "<table border=\"1\" class=\"dataframe\">\n",
       "  <thead>\n",
       "    <tr style=\"text-align: right;\">\n",
       "      <th></th>\n",
       "      <th>Airport_hub</th>\n",
       "      <th>Intercity_train_connectivity</th>\n",
       "      <th>Gun_related_deaths</th>\n",
       "      <th>Guns_per_residents</th>\n",
       "      <th>Pisa_ranking</th>\n",
       "      <th>Best_university</th>\n",
       "      <th>Monthly_Fitness_Club_Membership</th>\n",
       "      <th>Beer</th>\n",
       "      <th>Monthly_Public_Transport</th>\n",
       "      <th>Lunch</th>\n",
       "      <th>...</th>\n",
       "      <th>Art_galleries</th>\n",
       "      <th>Concert_venues</th>\n",
       "      <th>Museums</th>\n",
       "      <th>Sport_venues</th>\n",
       "      <th>Currency_for_urban_area</th>\n",
       "      <th>GDP_per_capita_uno</th>\n",
       "      <th>Growth</th>\n",
       "      <th>Unemployment</th>\n",
       "      <th>url</th>\n",
       "      <th>Average_Annual_percent_sunshine</th>\n",
       "    </tr>\n",
       "  </thead>\n",
       "  <tbody>\n",
       "    <tr>\n",
       "      <th>0</th>\n",
       "      <td>8</td>\n",
       "      <td>0.59</td>\n",
       "      <td>1</td>\n",
       "      <td>12</td>\n",
       "      <td>13</td>\n",
       "      <td>Aarhus University</td>\n",
       "      <td>37.00</td>\n",
       "      <td>1.70</td>\n",
       "      <td>62.00</td>\n",
       "      <td>15.00</td>\n",
       "      <td>...</td>\n",
       "      <td>51</td>\n",
       "      <td>95</td>\n",
       "      <td>18</td>\n",
       "      <td>21</td>\n",
       "      <td>DKK</td>\n",
       "      <td>44342.66</td>\n",
       "      <td>0.05</td>\n",
       "      <td>0.04</td>\n",
       "      <td>https://teleport.org/cities/aarhus/</td>\n",
       "      <td>0</td>\n",
       "    </tr>\n",
       "    <tr>\n",
       "      <th>1</th>\n",
       "      <td>26</td>\n",
       "      <td>0.17</td>\n",
       "      <td>1</td>\n",
       "      <td>24</td>\n",
       "      <td>16</td>\n",
       "      <td>University of Adelaide</td>\n",
       "      <td>50.00</td>\n",
       "      <td>4.30</td>\n",
       "      <td>80.00</td>\n",
       "      <td>13.00</td>\n",
       "      <td>...</td>\n",
       "      <td>82</td>\n",
       "      <td>89</td>\n",
       "      <td>37</td>\n",
       "      <td>91</td>\n",
       "      <td>AUD</td>\n",
       "      <td>46433.30</td>\n",
       "      <td>0.07</td>\n",
       "      <td>0.06</td>\n",
       "      <td>https://teleport.org/cities/adelaide/</td>\n",
       "      <td>12.6</td>\n",
       "    </tr>\n",
       "    <tr>\n",
       "      <th>2</th>\n",
       "      <td>23</td>\n",
       "      <td>0.11</td>\n",
       "      <td>16</td>\n",
       "      <td>328</td>\n",
       "      <td>24</td>\n",
       "      <td>University of New Mexico</td>\n",
       "      <td>52.00</td>\n",
       "      <td>2.90</td>\n",
       "      <td>37.00</td>\n",
       "      <td>12.00</td>\n",
       "      <td>...</td>\n",
       "      <td>127</td>\n",
       "      <td>99</td>\n",
       "      <td>35</td>\n",
       "      <td>10</td>\n",
       "      <td>USD</td>\n",
       "      <td>54596.65</td>\n",
       "      <td>0.07</td>\n",
       "      <td>0.05</td>\n",
       "      <td>https://teleport.org/cities/albuquerque/</td>\n",
       "      <td>168</td>\n",
       "    </tr>\n",
       "    <tr>\n",
       "      <th>3</th>\n",
       "      <td>45</td>\n",
       "      <td>0.66</td>\n",
       "      <td>1</td>\n",
       "      <td>1</td>\n",
       "      <td>39</td>\n",
       "      <td>No hay dato</td>\n",
       "      <td>83.00</td>\n",
       "      <td>0.68</td>\n",
       "      <td>19.00</td>\n",
       "      <td>5.70</td>\n",
       "      <td>...</td>\n",
       "      <td>61</td>\n",
       "      <td>68</td>\n",
       "      <td>24</td>\n",
       "      <td>53</td>\n",
       "      <td>KZT</td>\n",
       "      <td>24019.95</td>\n",
       "      <td>0.09</td>\n",
       "      <td>0.06</td>\n",
       "      <td>https://teleport.org/cities/almaty/</td>\n",
       "      <td>64</td>\n",
       "    </tr>\n",
       "    <tr>\n",
       "      <th>4</th>\n",
       "      <td>237</td>\n",
       "      <td>0.68</td>\n",
       "      <td>1</td>\n",
       "      <td>4</td>\n",
       "      <td>10</td>\n",
       "      <td>University of Amsterdam</td>\n",
       "      <td>49.00</td>\n",
       "      <td>2.10</td>\n",
       "      <td>100.00</td>\n",
       "      <td>18.00</td>\n",
       "      <td>...</td>\n",
       "      <td>284</td>\n",
       "      <td>339</td>\n",
       "      <td>187</td>\n",
       "      <td>154</td>\n",
       "      <td>EUR</td>\n",
       "      <td>47354.53</td>\n",
       "      <td>0.03</td>\n",
       "      <td>0.06</td>\n",
       "      <td>https://teleport.org/cities/amsterdam/</td>\n",
       "      <td>12.9</td>\n",
       "    </tr>\n",
       "  </tbody>\n",
       "</table>\n",
       "<p>5 rows × 31 columns</p>\n",
       "</div>"
      ],
      "text/plain": [
       "  Airport_hub Intercity_train_connectivity Gun_related_deaths  \\\n",
       "0           8                         0.59                  1   \n",
       "1          26                         0.17                  1   \n",
       "2          23                         0.11                 16   \n",
       "3          45                         0.66                  1   \n",
       "4         237                         0.68                  1   \n",
       "\n",
       "  Guns_per_residents Pisa_ranking           Best_university  \\\n",
       "0                 12           13         Aarhus University   \n",
       "1                 24           16    University of Adelaide   \n",
       "2                328           24  University of New Mexico   \n",
       "3                  1           39               No hay dato   \n",
       "4                  4           10   University of Amsterdam   \n",
       "\n",
       "  Monthly_Fitness_Club_Membership  Beer Monthly_Public_Transport  Lunch  ...  \\\n",
       "0                           37.00  1.70                    62.00  15.00  ...   \n",
       "1                           50.00  4.30                    80.00  13.00  ...   \n",
       "2                           52.00  2.90                    37.00  12.00  ...   \n",
       "3                           83.00  0.68                    19.00   5.70  ...   \n",
       "4                           49.00  2.10                   100.00  18.00  ...   \n",
       "\n",
       "  Art_galleries Concert_venues Museums Sport_venues Currency_for_urban_area  \\\n",
       "0            51             95      18           21                     DKK   \n",
       "1            82             89      37           91                     AUD   \n",
       "2           127             99      35           10                     USD   \n",
       "3            61             68      24           53                     KZT   \n",
       "4           284            339     187          154                     EUR   \n",
       "\n",
       "  GDP_per_capita_uno Growth Unemployment  \\\n",
       "0           44342.66   0.05         0.04   \n",
       "1           46433.30   0.07         0.06   \n",
       "2           54596.65   0.07         0.05   \n",
       "3           24019.95   0.09         0.06   \n",
       "4           47354.53   0.03         0.06   \n",
       "\n",
       "                                        url Average_Annual_percent_sunshine  \n",
       "0       https://teleport.org/cities/aarhus/                               0  \n",
       "1     https://teleport.org/cities/adelaide/                            12.6  \n",
       "2  https://teleport.org/cities/albuquerque/                             168  \n",
       "3       https://teleport.org/cities/almaty/                              64  \n",
       "4    https://teleport.org/cities/amsterdam/                            12.9  \n",
       "\n",
       "[5 rows x 31 columns]"
      ]
     },
     "execution_count": 275,
     "metadata": {},
     "output_type": "execute_result"
    }
   ],
   "source": [
    "copia.head()"
   ]
  },
  {
   "cell_type": "code",
   "execution_count": 282,
   "id": "8a5abe01",
   "metadata": {},
   "outputs": [],
   "source": [
    "new_name = {\"cities\": \"Cities\",\"Growth\": \"Growth_percentage\", \"GDP_per_capita_uno\": \"GDP_per_capita\",\"Unemployment\": \"Unemployment_percentage\",\"url\":\"Url\"}"
   ]
  },
  {
   "cell_type": "code",
   "execution_count": 283,
   "id": "f8357d2b",
   "metadata": {},
   "outputs": [],
   "source": [
    "copia.rename(columns=new_name, inplace=True)"
   ]
  },
  {
   "cell_type": "code",
   "execution_count": 284,
   "id": "dad51296",
   "metadata": {},
   "outputs": [
    {
     "name": "stdout",
     "output_type": "stream",
     "text": [
      "<class 'pandas.core.frame.DataFrame'>\n",
      "RangeIndex: 262 entries, 0 to 261\n",
      "Data columns (total 31 columns):\n",
      " #   Column                           Non-Null Count  Dtype  \n",
      "---  ------                           --------------  -----  \n",
      " 0   Airport_hub                      262 non-null    object \n",
      " 1   Intercity_train_connectivity     262 non-null    object \n",
      " 2   Gun_related_deaths               262 non-null    object \n",
      " 3   Guns_per_residents               262 non-null    object \n",
      " 4   Pisa_ranking                     262 non-null    object \n",
      " 5   Best_university                  262 non-null    object \n",
      " 6   Monthly_Fitness_Club_Membership  262 non-null    object \n",
      " 7   Beer                             262 non-null    object \n",
      " 8   Monthly_Public_Transport         262 non-null    object \n",
      " 9   Lunch                            262 non-null    object \n",
      " 10  Large_apartment                  262 non-null    object \n",
      " 11  Medium_apartment                 262 non-null    object \n",
      " 12  Small_apartment                  262 non-null    object \n",
      " 13  Cities                           262 non-null    object \n",
      " 14  Description                      262 non-null    object \n",
      " 15  Poblacion                        262 non-null    object \n",
      " 16  Homosexuality_acceptance         262 non-null    object \n",
      " 17  LGBT_adoption_rights             262 non-null    object \n",
      " 18  LGBT_homosexuality_rights        262 non-null    object \n",
      " 19  LGBT_marriage_rights             262 non-null    object \n",
      " 20  VAT_Sales_Tax                    262 non-null    object \n",
      " 21  Art_galleries                    262 non-null    object \n",
      " 22  Concert_venues                   262 non-null    object \n",
      " 23  Museums                          262 non-null    object \n",
      " 24  Sport_venues                     262 non-null    object \n",
      " 25  Currency_for_urban_area          262 non-null    object \n",
      " 26  GDP_per_capita                   262 non-null    object \n",
      " 27  Growth_percentage                262 non-null    float64\n",
      " 28  Unemployment_percentage          262 non-null    float64\n",
      " 29  Url                              262 non-null    object \n",
      " 30  Average_Annual_percent_sunshine  262 non-null    object \n",
      "dtypes: float64(2), object(29)\n",
      "memory usage: 63.6+ KB\n"
     ]
    }
   ],
   "source": [
    "copia.info()"
   ]
  },
  {
   "cell_type": "code",
   "execution_count": 172,
   "id": "b3554294",
   "metadata": {},
   "outputs": [],
   "source": [
    "copia.to_csv(\"../Data/copia_de_prueba.csv\")"
   ]
  }
 ],
 "metadata": {
  "kernelspec": {
   "display_name": "ironhack2",
   "language": "python",
   "name": "ironhack2"
  },
  "language_info": {
   "codemirror_mode": {
    "name": "ipython",
    "version": 3
   },
   "file_extension": ".py",
   "mimetype": "text/x-python",
   "name": "python",
   "nbconvert_exporter": "python",
   "pygments_lexer": "ipython3",
   "version": "3.8.5"
  }
 },
 "nbformat": 4,
 "nbformat_minor": 5
}
