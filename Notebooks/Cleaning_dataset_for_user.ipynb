{
 "cells": [
  {
   "cell_type": "markdown",
   "id": "1075bf38",
   "metadata": {},
   "source": [
    "## 1. Import libraries"
   ]
  },
  {
   "cell_type": "code",
   "execution_count": 1,
   "id": "285fdb30",
   "metadata": {},
   "outputs": [],
   "source": [
    "import requests\n",
    "from selenium import webdriver\n",
    "from time import sleep\n",
    "from selenium.webdriver.chrome.options import Options\n",
    "from webdriver_manager.chrome import ChromeDriverManager\n",
    "from bs4 import BeautifulSoup\n",
    "import pandas as pd\n",
    "import sys\n",
    "sys.path.append('../')\n",
    "import numpy as np"
   ]
  },
  {
   "cell_type": "markdown",
   "id": "0f3492ae",
   "metadata": {},
   "source": [
    "## 2. Import Data"
   ]
  },
  {
   "cell_type": "code",
   "execution_count": 2,
   "id": "3eb3da94",
   "metadata": {},
   "outputs": [],
   "source": [
    "df = pd.read_csv(\"../Data/ultimo_web_scrapping.csv\")"
   ]
  },
  {
   "cell_type": "markdown",
   "id": "f0562668",
   "metadata": {},
   "source": [
    "## 3. We explore the dataset"
   ]
  },
  {
   "cell_type": "code",
   "execution_count": 52,
   "id": "ba55e582",
   "metadata": {},
   "outputs": [
    {
     "data": {
      "text/html": [
       "<div>\n",
       "<style scoped>\n",
       "    .dataframe tbody tr th:only-of-type {\n",
       "        vertical-align: middle;\n",
       "    }\n",
       "\n",
       "    .dataframe tbody tr th {\n",
       "        vertical-align: top;\n",
       "    }\n",
       "\n",
       "    .dataframe thead th {\n",
       "        text-align: right;\n",
       "    }\n",
       "</style>\n",
       "<table border=\"1\" class=\"dataframe\">\n",
       "  <thead>\n",
       "    <tr style=\"text-align: right;\">\n",
       "      <th></th>\n",
       "      <th>Unnamed: 0</th>\n",
       "      <th>Airport_hub</th>\n",
       "      <th>Intercity_train_connectivity</th>\n",
       "      <th>Gun_related_deaths</th>\n",
       "      <th>Guns_per_residents</th>\n",
       "      <th>Pisa_ranking</th>\n",
       "      <th>Best_university</th>\n",
       "      <th>Monthly_Fitness_Club_Membership</th>\n",
       "      <th>Beer</th>\n",
       "      <th>Monthly_Public_Transport</th>\n",
       "      <th>...</th>\n",
       "      <th>Concert_venues</th>\n",
       "      <th>Museums</th>\n",
       "      <th>Sport_venues</th>\n",
       "      <th>Currency_for_urban_area</th>\n",
       "      <th>GDP_per_capita_uno</th>\n",
       "      <th>Growth</th>\n",
       "      <th>GDP_per_capita_otro</th>\n",
       "      <th>Unemployment</th>\n",
       "      <th>url</th>\n",
       "      <th>Average_Annual_percent_sunshine</th>\n",
       "    </tr>\n",
       "  </thead>\n",
       "  <tbody>\n",
       "    <tr>\n",
       "      <th>0</th>\n",
       "      <td>0</td>\n",
       "      <td>8</td>\n",
       "      <td>0.59</td>\n",
       "      <td>1</td>\n",
       "      <td>12</td>\n",
       "      <td>13</td>\n",
       "      <td>Aarhus University</td>\n",
       "      <td>$37.00</td>\n",
       "      <td>$1.70</td>\n",
       "      <td>$62.00</td>\n",
       "      <td>...</td>\n",
       "      <td>95</td>\n",
       "      <td>18</td>\n",
       "      <td>21</td>\n",
       "      <td>DKK</td>\n",
       "      <td>$44342.66</td>\n",
       "      <td>5%</td>\n",
       "      <td>$44,343</td>\n",
       "      <td>4%</td>\n",
       "      <td>https://teleport.org/cities/aarhus/</td>\n",
       "      <td>No hay dato</td>\n",
       "    </tr>\n",
       "    <tr>\n",
       "      <th>1</th>\n",
       "      <td>1</td>\n",
       "      <td>26</td>\n",
       "      <td>0.17</td>\n",
       "      <td>1</td>\n",
       "      <td>24</td>\n",
       "      <td>16</td>\n",
       "      <td>University of Adelaide</td>\n",
       "      <td>$50.00</td>\n",
       "      <td>$4.30</td>\n",
       "      <td>$80.00</td>\n",
       "      <td>...</td>\n",
       "      <td>89</td>\n",
       "      <td>37</td>\n",
       "      <td>91</td>\n",
       "      <td>AUD</td>\n",
       "      <td>$46433.30</td>\n",
       "      <td>7%</td>\n",
       "      <td>$46,433</td>\n",
       "      <td>6%</td>\n",
       "      <td>https://teleport.org/cities/adelaide/</td>\n",
       "      <td>12.6</td>\n",
       "    </tr>\n",
       "    <tr>\n",
       "      <th>2</th>\n",
       "      <td>2</td>\n",
       "      <td>23</td>\n",
       "      <td>0.11</td>\n",
       "      <td>16</td>\n",
       "      <td>328</td>\n",
       "      <td>24</td>\n",
       "      <td>University of New Mexico</td>\n",
       "      <td>$52.00</td>\n",
       "      <td>$2.90</td>\n",
       "      <td>$37.00</td>\n",
       "      <td>...</td>\n",
       "      <td>99</td>\n",
       "      <td>35</td>\n",
       "      <td>10</td>\n",
       "      <td>USD</td>\n",
       "      <td>$54596.65</td>\n",
       "      <td>7%</td>\n",
       "      <td>$54,597</td>\n",
       "      <td>5%</td>\n",
       "      <td>https://teleport.org/cities/albuquerque/</td>\n",
       "      <td>168</td>\n",
       "    </tr>\n",
       "  </tbody>\n",
       "</table>\n",
       "<p>3 rows × 33 columns</p>\n",
       "</div>"
      ],
      "text/plain": [
       "   Unnamed: 0 Airport_hub Intercity_train_connectivity Gun_related_deaths  \\\n",
       "0           0           8                         0.59                  1   \n",
       "1           1          26                         0.17                  1   \n",
       "2           2          23                         0.11                 16   \n",
       "\n",
       "  Guns_per_residents Pisa_ranking           Best_university  \\\n",
       "0                 12           13         Aarhus University   \n",
       "1                 24           16    University of Adelaide   \n",
       "2                328           24  University of New Mexico   \n",
       "\n",
       "  Monthly_Fitness_Club_Membership   Beer Monthly_Public_Transport  ...  \\\n",
       "0                          $37.00  $1.70                   $62.00  ...   \n",
       "1                          $50.00  $4.30                   $80.00  ...   \n",
       "2                          $52.00  $2.90                   $37.00  ...   \n",
       "\n",
       "  Concert_venues Museums Sport_venues Currency_for_urban_area  \\\n",
       "0             95      18           21                     DKK   \n",
       "1             89      37           91                     AUD   \n",
       "2             99      35           10                     USD   \n",
       "\n",
       "  GDP_per_capita_uno Growth GDP_per_capita_otro Unemployment  \\\n",
       "0          $44342.66     5%             $44,343           4%   \n",
       "1          $46433.30     7%             $46,433           6%   \n",
       "2          $54596.65     7%             $54,597           5%   \n",
       "\n",
       "                                        url Average_Annual_percent_sunshine  \n",
       "0       https://teleport.org/cities/aarhus/                     No hay dato  \n",
       "1     https://teleport.org/cities/adelaide/                            12.6  \n",
       "2  https://teleport.org/cities/albuquerque/                             168  \n",
       "\n",
       "[3 rows x 33 columns]"
      ]
     },
     "execution_count": 52,
     "metadata": {},
     "output_type": "execute_result"
    }
   ],
   "source": [
    "df.head(3)"
   ]
  },
  {
   "cell_type": "code",
   "execution_count": 4,
   "id": "39216ec0",
   "metadata": {},
   "outputs": [
    {
     "data": {
      "text/plain": [
       "(262, 33)"
      ]
     },
     "execution_count": 4,
     "metadata": {},
     "output_type": "execute_result"
    }
   ],
   "source": [
    "df.shape"
   ]
  },
  {
   "cell_type": "code",
   "execution_count": 5,
   "id": "d8012dd7",
   "metadata": {},
   "outputs": [
    {
     "name": "stdout",
     "output_type": "stream",
     "text": [
      "<class 'pandas.core.frame.DataFrame'>\n",
      "RangeIndex: 262 entries, 0 to 261\n",
      "Data columns (total 33 columns):\n",
      " #   Column                           Non-Null Count  Dtype \n",
      "---  ------                           --------------  ----- \n",
      " 0   Unnamed: 0                       262 non-null    int64 \n",
      " 1   Airport_hub                      262 non-null    object\n",
      " 2   Intercity_train_connectivity     262 non-null    object\n",
      " 3   Gun_related_deaths               262 non-null    object\n",
      " 4   Guns_per_residents               262 non-null    object\n",
      " 5   Pisa_ranking                     262 non-null    object\n",
      " 6   Best_university                  262 non-null    object\n",
      " 7   Monthly_Fitness_Club_Membership  261 non-null    object\n",
      " 8   Beer                             261 non-null    object\n",
      " 9   Monthly_Public_Transport         261 non-null    object\n",
      " 10  Lunch                            261 non-null    object\n",
      " 11  Large_apartment                  262 non-null    object\n",
      " 12  Medium_apartment                 262 non-null    object\n",
      " 13  Small_apartment                  262 non-null    object\n",
      " 14  cities                           262 non-null    object\n",
      " 15  Description                      262 non-null    object\n",
      " 16  Poblacion                        262 non-null    object\n",
      " 17  Homosexuality_acceptance         262 non-null    object\n",
      " 18  LGBT_adoption_rights             254 non-null    object\n",
      " 19  LGBT_homosexuality_rights        262 non-null    object\n",
      " 20  LGBT_marriage_rights             262 non-null    object\n",
      " 21  VAT_Sales_Tax                    262 non-null    object\n",
      " 22  Art_galleries                    262 non-null    object\n",
      " 23  Concert_venues                   262 non-null    object\n",
      " 24  Museums                          262 non-null    object\n",
      " 25  Sport_venues                     262 non-null    object\n",
      " 26  Currency_for_urban_area          262 non-null    object\n",
      " 27  GDP_per_capita_uno               262 non-null    object\n",
      " 28  Growth                           262 non-null    object\n",
      " 29  GDP_per_capita_otro              262 non-null    object\n",
      " 30  Unemployment                     262 non-null    object\n",
      " 31  url                              262 non-null    object\n",
      " 32  Average_Annual_percent_sunshine  262 non-null    object\n",
      "dtypes: int64(1), object(32)\n",
      "memory usage: 67.7+ KB\n"
     ]
    }
   ],
   "source": [
    "df.info()"
   ]
  },
  {
   "cell_type": "markdown",
   "id": "3e71a44f",
   "metadata": {},
   "source": [
    "#### Podemos observar que la mayoria de datos son tipo object, por lo que tendremos que convertir las columnas a sus respectivos dtypes."
   ]
  },
  {
   "cell_type": "code",
   "execution_count": 6,
   "id": "485440cb",
   "metadata": {},
   "outputs": [
    {
     "data": {
      "text/plain": [
       "Unnamed: 0                         0\n",
       "Airport_hub                        0\n",
       "Intercity_train_connectivity       0\n",
       "Gun_related_deaths                 0\n",
       "Guns_per_residents                 0\n",
       "Pisa_ranking                       0\n",
       "Best_university                    0\n",
       "Monthly_Fitness_Club_Membership    1\n",
       "Beer                               1\n",
       "Monthly_Public_Transport           1\n",
       "Lunch                              1\n",
       "Large_apartment                    0\n",
       "Medium_apartment                   0\n",
       "Small_apartment                    0\n",
       "cities                             0\n",
       "Description                        0\n",
       "Poblacion                          0\n",
       "Homosexuality_acceptance           0\n",
       "LGBT_adoption_rights               8\n",
       "LGBT_homosexuality_rights          0\n",
       "LGBT_marriage_rights               0\n",
       "VAT_Sales_Tax                      0\n",
       "Art_galleries                      0\n",
       "Concert_venues                     0\n",
       "Museums                            0\n",
       "Sport_venues                       0\n",
       "Currency_for_urban_area            0\n",
       "GDP_per_capita_uno                 0\n",
       "Growth                             0\n",
       "GDP_per_capita_otro                0\n",
       "Unemployment                       0\n",
       "url                                0\n",
       "Average_Annual_percent_sunshine    0\n",
       "dtype: int64"
      ]
     },
     "execution_count": 6,
     "metadata": {},
     "output_type": "execute_result"
    }
   ],
   "source": [
    "pd.isna(df).sum()\n"
   ]
  },
  {
   "cell_type": "markdown",
   "id": "8a5c99c9",
   "metadata": {},
   "source": [
    "#### Algunos de los valores presentes son nan, por lo que deberemos reemplazar la información en esos lugares."
   ]
  },
  {
   "cell_type": "code",
   "execution_count": 43,
   "id": "30ac4157",
   "metadata": {},
   "outputs": [],
   "source": [
    "#df.LGBT_adoption_rights.unique()"
   ]
  },
  {
   "cell_type": "code",
   "execution_count": 39,
   "id": "638b00b0",
   "metadata": {},
   "outputs": [],
   "source": [
    "#df.Lunch.unique()"
   ]
  },
  {
   "cell_type": "code",
   "execution_count": 40,
   "id": "d6c979b0",
   "metadata": {},
   "outputs": [],
   "source": [
    "#df.Monthly_Fitness_Club_Membership.unique()"
   ]
  },
  {
   "cell_type": "code",
   "execution_count": 41,
   "id": "3467e58f",
   "metadata": {},
   "outputs": [],
   "source": [
    "#df.Monthly_Public_Transport.unique()"
   ]
  },
  {
   "cell_type": "code",
   "execution_count": 42,
   "id": "1c59b9f2",
   "metadata": {},
   "outputs": [],
   "source": [
    "#df.Beer.unique()"
   ]
  },
  {
   "cell_type": "code",
   "execution_count": 12,
   "id": "e417c798",
   "metadata": {},
   "outputs": [],
   "source": [
    "df['Beer'] = df['Beer'].replace(np.nan, 0)"
   ]
  },
  {
   "cell_type": "code",
   "execution_count": 13,
   "id": "47cc645a",
   "metadata": {},
   "outputs": [],
   "source": [
    "df['Monthly_Fitness_Club_Membership'] = df['Monthly_Fitness_Club_Membership'].replace(np.nan, 0)"
   ]
  },
  {
   "cell_type": "code",
   "execution_count": 14,
   "id": "347491a1",
   "metadata": {},
   "outputs": [],
   "source": [
    "df[\"Lunch\"] = df[\"Lunch\"].replace(np.nan, 0)"
   ]
  },
  {
   "cell_type": "code",
   "execution_count": 15,
   "id": "fafd9c75",
   "metadata": {},
   "outputs": [],
   "source": [
    "df[\"LGBT_adoption_rights\"] = df[\"LGBT_adoption_rights\"].replace(np.nan, \"No hay dato\")"
   ]
  },
  {
   "cell_type": "code",
   "execution_count": 16,
   "id": "9fd9ac07",
   "metadata": {},
   "outputs": [],
   "source": [
    "df[\"Monthly_Public_Transport\"] = df[\"Monthly_Public_Transport\"].replace(np.nan, 0)"
   ]
  },
  {
   "cell_type": "code",
   "execution_count": 17,
   "id": "10578123",
   "metadata": {},
   "outputs": [],
   "source": [
    "df[\"Monthly_Public_Transport\"] = df[\"Monthly_Public_Transport\"].replace('No hay dato', 0)"
   ]
  },
  {
   "cell_type": "code",
   "execution_count": 18,
   "id": "bf96598a",
   "metadata": {},
   "outputs": [
    {
     "data": {
      "text/plain": [
       "Unnamed: 0                         0\n",
       "Airport_hub                        0\n",
       "Intercity_train_connectivity       0\n",
       "Gun_related_deaths                 0\n",
       "Guns_per_residents                 0\n",
       "Pisa_ranking                       0\n",
       "Best_university                    0\n",
       "Monthly_Fitness_Club_Membership    0\n",
       "Beer                               0\n",
       "Monthly_Public_Transport           0\n",
       "Lunch                              0\n",
       "Large_apartment                    0\n",
       "Medium_apartment                   0\n",
       "Small_apartment                    0\n",
       "cities                             0\n",
       "Description                        0\n",
       "Poblacion                          0\n",
       "Homosexuality_acceptance           0\n",
       "LGBT_adoption_rights               0\n",
       "LGBT_homosexuality_rights          0\n",
       "LGBT_marriage_rights               0\n",
       "VAT_Sales_Tax                      0\n",
       "Art_galleries                      0\n",
       "Concert_venues                     0\n",
       "Museums                            0\n",
       "Sport_venues                       0\n",
       "Currency_for_urban_area            0\n",
       "GDP_per_capita_uno                 0\n",
       "Growth                             0\n",
       "GDP_per_capita_otro                0\n",
       "Unemployment                       0\n",
       "url                                0\n",
       "Average_Annual_percent_sunshine    0\n",
       "dtype: int64"
      ]
     },
     "execution_count": 18,
     "metadata": {},
     "output_type": "execute_result"
    }
   ],
   "source": [
    "pd.isna(df).sum()\n"
   ]
  },
  {
   "cell_type": "code",
   "execution_count": 19,
   "id": "66fe9b38",
   "metadata": {},
   "outputs": [],
   "source": [
    "copia = df.copy()"
   ]
  },
  {
   "cell_type": "markdown",
   "id": "16ad3c05",
   "metadata": {},
   "source": [
    "### Para poder trabajar con los datos debemos quitar símbolos y hacer una limpieza de las columnas"
   ]
  },
  {
   "cell_type": "code",
   "execution_count": 20,
   "id": "ff6c2a67",
   "metadata": {},
   "outputs": [],
   "source": [
    "def delete_price(i):\n",
    "    i = str(i).replace('$', \"\")\n",
    "    return i"
   ]
  },
  {
   "cell_type": "code",
   "execution_count": 21,
   "id": "78d866ce",
   "metadata": {},
   "outputs": [],
   "source": [
    "copia['GDP_per_capita_otro'] = copia['GDP_per_capita_otro'].apply(delete_price)"
   ]
  },
  {
   "cell_type": "code",
   "execution_count": 22,
   "id": "62de2b4d",
   "metadata": {},
   "outputs": [],
   "source": [
    "copia['Monthly_Fitness_Club_Membership'] = copia['Monthly_Fitness_Club_Membership'].apply(delete_price)"
   ]
  },
  {
   "cell_type": "code",
   "execution_count": 23,
   "id": "0ef4b3df",
   "metadata": {},
   "outputs": [],
   "source": [
    "copia['Beer'] = copia['Beer'].apply(delete_price)"
   ]
  },
  {
   "cell_type": "code",
   "execution_count": 24,
   "id": "71d08b7b",
   "metadata": {},
   "outputs": [],
   "source": [
    "copia['Monthly_Public_Transport'] = copia['Monthly_Public_Transport'].apply(delete_price)"
   ]
  },
  {
   "cell_type": "code",
   "execution_count": 25,
   "id": "916bf3f6",
   "metadata": {},
   "outputs": [],
   "source": [
    "copia['GDP_per_capita_uno'] = copia['GDP_per_capita_uno'].apply(delete_price)"
   ]
  },
  {
   "cell_type": "code",
   "execution_count": 26,
   "id": "326b176b",
   "metadata": {},
   "outputs": [],
   "source": [
    "copia['Lunch'] = copia['Lunch'].apply(delete_price)"
   ]
  },
  {
   "cell_type": "code",
   "execution_count": 27,
   "id": "01233ebe",
   "metadata": {},
   "outputs": [],
   "source": [
    "copia['Large_apartment'] = copia['Large_apartment'].apply(delete_price)"
   ]
  },
  {
   "cell_type": "code",
   "execution_count": 28,
   "id": "d0c22ff7",
   "metadata": {},
   "outputs": [],
   "source": [
    "copia['Medium_apartment'] = copia['Medium_apartment'].apply(delete_price)"
   ]
  },
  {
   "cell_type": "code",
   "execution_count": 29,
   "id": "c6c160f8",
   "metadata": {},
   "outputs": [],
   "source": [
    "copia['Small_apartment'] = copia['Small_apartment'].apply(delete_price)"
   ]
  },
  {
   "cell_type": "code",
   "execution_count": 30,
   "id": "126d72af",
   "metadata": {},
   "outputs": [
    {
     "data": {
      "text/plain": [
       "Index(['Unnamed: 0', 'Airport_hub', 'Intercity_train_connectivity',\n",
       "       'Gun_related_deaths', 'Guns_per_residents', 'Pisa_ranking',\n",
       "       'Best_university', 'Monthly_Fitness_Club_Membership', 'Beer',\n",
       "       'Monthly_Public_Transport', 'Lunch', 'Large_apartment',\n",
       "       'Medium_apartment', 'Small_apartment', 'cities', 'Description',\n",
       "       'Poblacion', 'Homosexuality_acceptance', 'LGBT_adoption_rights',\n",
       "       'LGBT_homosexuality_rights', 'LGBT_marriage_rights', 'VAT_Sales_Tax',\n",
       "       'Art_galleries', 'Concert_venues', 'Museums', 'Sport_venues',\n",
       "       'Currency_for_urban_area', 'GDP_per_capita_uno', 'Growth',\n",
       "       'GDP_per_capita_otro', 'Unemployment', 'url',\n",
       "       'Average_Annual_percent_sunshine'],\n",
       "      dtype='object')"
      ]
     },
     "execution_count": 30,
     "metadata": {},
     "output_type": "execute_result"
    }
   ],
   "source": [
    "copia.columns"
   ]
  },
  {
   "cell_type": "code",
   "execution_count": 44,
   "id": "ad89d0a4",
   "metadata": {},
   "outputs": [],
   "source": [
    "#copia[\"Poblacion\"].unique()"
   ]
  },
  {
   "cell_type": "code",
   "execution_count": 45,
   "id": "4f974baf",
   "metadata": {},
   "outputs": [],
   "source": [
    "#copia.head()"
   ]
  },
  {
   "cell_type": "code",
   "execution_count": 33,
   "id": "98bc29f9",
   "metadata": {},
   "outputs": [],
   "source": [
    "def convertir(i):\n",
    "    i = i.replace(\",\", \".\")\n",
    "    return i"
   ]
  },
  {
   "cell_type": "code",
   "execution_count": 34,
   "id": "1668c79e",
   "metadata": {},
   "outputs": [],
   "source": [
    "copia[\"GDP_per_capita_otro\"] = copia[\"GDP_per_capita_otro\"].apply(convertir)"
   ]
  },
  {
   "cell_type": "code",
   "execution_count": 35,
   "id": "38544335",
   "metadata": {},
   "outputs": [],
   "source": [
    "def quitar(i):\n",
    "    i = i.replace(\",\", \"\")\n",
    "    return i"
   ]
  },
  {
   "cell_type": "code",
   "execution_count": 36,
   "id": "f97b902d",
   "metadata": {},
   "outputs": [],
   "source": [
    "copia[\"Poblacion\"] = copia[\"Poblacion\"].apply(quitar)"
   ]
  },
  {
   "cell_type": "code",
   "execution_count": 46,
   "id": "7b48a698",
   "metadata": {},
   "outputs": [],
   "source": [
    "#copia.Poblacion.unique()"
   ]
  },
  {
   "cell_type": "code",
   "execution_count": null,
   "id": "22956dff",
   "metadata": {},
   "outputs": [],
   "source": [
    "## No puedo sacar el simbolo porque es lo que me indica los valores positivos o negativos"
   ]
  },
  {
   "cell_type": "code",
   "execution_count": null,
   "id": "e1bf7757",
   "metadata": {},
   "outputs": [],
   "source": [
    "def clean_symbol(i):\n",
    "    i = i.replace(\"✖\", \"\")\n",
    "    return i"
   ]
  },
  {
   "cell_type": "code",
   "execution_count": null,
   "id": "3e83ad66",
   "metadata": {},
   "outputs": [],
   "source": [
    "def clean_symbol2(i):\n",
    "    i = i.replace(\"✔\", \"\")\n",
    "    return i"
   ]
  },
  {
   "cell_type": "code",
   "execution_count": 38,
   "id": "5edd3c2c",
   "metadata": {},
   "outputs": [
    {
     "data": {
      "text/plain": [
       "array(['✔ Equal', 'No hay dato', 'Ambiguous', '✖ Unequal',\n",
       "       '✖ Single only', 'Married couples only', '✔ Legal', '✖ Illegal',\n",
       "       '✖ Step-child adoption only'], dtype=object)"
      ]
     },
     "execution_count": 38,
     "metadata": {},
     "output_type": "execute_result"
    }
   ],
   "source": [
    "copia.LGBT_adoption_rights.unique()"
   ]
  },
  {
   "cell_type": "code",
   "execution_count": 47,
   "id": "c02a5a15",
   "metadata": {},
   "outputs": [
    {
     "data": {
      "text/html": [
       "<div>\n",
       "<style scoped>\n",
       "    .dataframe tbody tr th:only-of-type {\n",
       "        vertical-align: middle;\n",
       "    }\n",
       "\n",
       "    .dataframe tbody tr th {\n",
       "        vertical-align: top;\n",
       "    }\n",
       "\n",
       "    .dataframe thead th {\n",
       "        text-align: right;\n",
       "    }\n",
       "</style>\n",
       "<table border=\"1\" class=\"dataframe\">\n",
       "  <thead>\n",
       "    <tr style=\"text-align: right;\">\n",
       "      <th></th>\n",
       "      <th>Unnamed: 0</th>\n",
       "      <th>Airport_hub</th>\n",
       "      <th>Intercity_train_connectivity</th>\n",
       "      <th>Gun_related_deaths</th>\n",
       "      <th>Guns_per_residents</th>\n",
       "      <th>Pisa_ranking</th>\n",
       "      <th>Best_university</th>\n",
       "      <th>Monthly_Fitness_Club_Membership</th>\n",
       "      <th>Beer</th>\n",
       "      <th>Monthly_Public_Transport</th>\n",
       "      <th>...</th>\n",
       "      <th>Concert_venues</th>\n",
       "      <th>Museums</th>\n",
       "      <th>Sport_venues</th>\n",
       "      <th>Currency_for_urban_area</th>\n",
       "      <th>GDP_per_capita_uno</th>\n",
       "      <th>Growth</th>\n",
       "      <th>GDP_per_capita_otro</th>\n",
       "      <th>Unemployment</th>\n",
       "      <th>url</th>\n",
       "      <th>Average_Annual_percent_sunshine</th>\n",
       "    </tr>\n",
       "  </thead>\n",
       "  <tbody>\n",
       "    <tr>\n",
       "      <th>0</th>\n",
       "      <td>0</td>\n",
       "      <td>8</td>\n",
       "      <td>0.59</td>\n",
       "      <td>1</td>\n",
       "      <td>12</td>\n",
       "      <td>13</td>\n",
       "      <td>Aarhus University</td>\n",
       "      <td>37.00</td>\n",
       "      <td>1.70</td>\n",
       "      <td>62.00</td>\n",
       "      <td>...</td>\n",
       "      <td>95</td>\n",
       "      <td>18</td>\n",
       "      <td>21</td>\n",
       "      <td>DKK</td>\n",
       "      <td>44342.66</td>\n",
       "      <td>5%</td>\n",
       "      <td>44.343</td>\n",
       "      <td>4%</td>\n",
       "      <td>https://teleport.org/cities/aarhus/</td>\n",
       "      <td>No hay dato</td>\n",
       "    </tr>\n",
       "    <tr>\n",
       "      <th>1</th>\n",
       "      <td>1</td>\n",
       "      <td>26</td>\n",
       "      <td>0.17</td>\n",
       "      <td>1</td>\n",
       "      <td>24</td>\n",
       "      <td>16</td>\n",
       "      <td>University of Adelaide</td>\n",
       "      <td>50.00</td>\n",
       "      <td>4.30</td>\n",
       "      <td>80.00</td>\n",
       "      <td>...</td>\n",
       "      <td>89</td>\n",
       "      <td>37</td>\n",
       "      <td>91</td>\n",
       "      <td>AUD</td>\n",
       "      <td>46433.30</td>\n",
       "      <td>7%</td>\n",
       "      <td>46.433</td>\n",
       "      <td>6%</td>\n",
       "      <td>https://teleport.org/cities/adelaide/</td>\n",
       "      <td>12.6</td>\n",
       "    </tr>\n",
       "    <tr>\n",
       "      <th>2</th>\n",
       "      <td>2</td>\n",
       "      <td>23</td>\n",
       "      <td>0.11</td>\n",
       "      <td>16</td>\n",
       "      <td>328</td>\n",
       "      <td>24</td>\n",
       "      <td>University of New Mexico</td>\n",
       "      <td>52.00</td>\n",
       "      <td>2.90</td>\n",
       "      <td>37.00</td>\n",
       "      <td>...</td>\n",
       "      <td>99</td>\n",
       "      <td>35</td>\n",
       "      <td>10</td>\n",
       "      <td>USD</td>\n",
       "      <td>54596.65</td>\n",
       "      <td>7%</td>\n",
       "      <td>54.597</td>\n",
       "      <td>5%</td>\n",
       "      <td>https://teleport.org/cities/albuquerque/</td>\n",
       "      <td>168</td>\n",
       "    </tr>\n",
       "    <tr>\n",
       "      <th>3</th>\n",
       "      <td>3</td>\n",
       "      <td>45</td>\n",
       "      <td>0.66</td>\n",
       "      <td>1</td>\n",
       "      <td>1</td>\n",
       "      <td>39</td>\n",
       "      <td>427.97</td>\n",
       "      <td>83.00</td>\n",
       "      <td>0.68</td>\n",
       "      <td>19.00</td>\n",
       "      <td>...</td>\n",
       "      <td>68</td>\n",
       "      <td>24</td>\n",
       "      <td>53</td>\n",
       "      <td>KZT</td>\n",
       "      <td>24019.95</td>\n",
       "      <td>9%</td>\n",
       "      <td>24.020</td>\n",
       "      <td>6%</td>\n",
       "      <td>https://teleport.org/cities/almaty/</td>\n",
       "      <td>64</td>\n",
       "    </tr>\n",
       "    <tr>\n",
       "      <th>4</th>\n",
       "      <td>4</td>\n",
       "      <td>237</td>\n",
       "      <td>0.68</td>\n",
       "      <td>1</td>\n",
       "      <td>4</td>\n",
       "      <td>10</td>\n",
       "      <td>University of Amsterdam</td>\n",
       "      <td>49.00</td>\n",
       "      <td>2.10</td>\n",
       "      <td>100.00</td>\n",
       "      <td>...</td>\n",
       "      <td>339</td>\n",
       "      <td>187</td>\n",
       "      <td>154</td>\n",
       "      <td>EUR</td>\n",
       "      <td>47354.53</td>\n",
       "      <td>3%</td>\n",
       "      <td>47.355</td>\n",
       "      <td>6%</td>\n",
       "      <td>https://teleport.org/cities/amsterdam/</td>\n",
       "      <td>12.9</td>\n",
       "    </tr>\n",
       "  </tbody>\n",
       "</table>\n",
       "<p>5 rows × 33 columns</p>\n",
       "</div>"
      ],
      "text/plain": [
       "   Unnamed: 0 Airport_hub Intercity_train_connectivity Gun_related_deaths  \\\n",
       "0           0           8                         0.59                  1   \n",
       "1           1          26                         0.17                  1   \n",
       "2           2          23                         0.11                 16   \n",
       "3           3          45                         0.66                  1   \n",
       "4           4         237                         0.68                  1   \n",
       "\n",
       "  Guns_per_residents Pisa_ranking           Best_university  \\\n",
       "0                 12           13         Aarhus University   \n",
       "1                 24           16    University of Adelaide   \n",
       "2                328           24  University of New Mexico   \n",
       "3                  1           39                    427.97   \n",
       "4                  4           10   University of Amsterdam   \n",
       "\n",
       "  Monthly_Fitness_Club_Membership  Beer Monthly_Public_Transport  ...  \\\n",
       "0                           37.00  1.70                    62.00  ...   \n",
       "1                           50.00  4.30                    80.00  ...   \n",
       "2                           52.00  2.90                    37.00  ...   \n",
       "3                           83.00  0.68                    19.00  ...   \n",
       "4                           49.00  2.10                   100.00  ...   \n",
       "\n",
       "  Concert_venues Museums Sport_venues Currency_for_urban_area  \\\n",
       "0             95      18           21                     DKK   \n",
       "1             89      37           91                     AUD   \n",
       "2             99      35           10                     USD   \n",
       "3             68      24           53                     KZT   \n",
       "4            339     187          154                     EUR   \n",
       "\n",
       "  GDP_per_capita_uno Growth GDP_per_capita_otro Unemployment  \\\n",
       "0           44342.66     5%              44.343           4%   \n",
       "1           46433.30     7%              46.433           6%   \n",
       "2           54596.65     7%              54.597           5%   \n",
       "3           24019.95     9%              24.020           6%   \n",
       "4           47354.53     3%              47.355           6%   \n",
       "\n",
       "                                        url Average_Annual_percent_sunshine  \n",
       "0       https://teleport.org/cities/aarhus/                     No hay dato  \n",
       "1     https://teleport.org/cities/adelaide/                            12.6  \n",
       "2  https://teleport.org/cities/albuquerque/                             168  \n",
       "3       https://teleport.org/cities/almaty/                              64  \n",
       "4    https://teleport.org/cities/amsterdam/                            12.9  \n",
       "\n",
       "[5 rows x 33 columns]"
      ]
     },
     "execution_count": 47,
     "metadata": {},
     "output_type": "execute_result"
    }
   ],
   "source": [
    "copia.head()"
   ]
  },
  {
   "cell_type": "code",
   "execution_count": 53,
   "id": "b65abf72",
   "metadata": {},
   "outputs": [],
   "source": [
    "def clean_no_info(i):\n",
    "    i = i.replace(\"No hay dato\", \"0\")\n",
    "    return i"
   ]
  },
  {
   "cell_type": "code",
   "execution_count": 54,
   "id": "375e54f7",
   "metadata": {},
   "outputs": [],
   "source": [
    "copia[\"Airport_hub\"] = copia[\"Airport_hub\"].apply(clean_no_info)"
   ]
  },
  {
   "cell_type": "code",
   "execution_count": 57,
   "id": "14e631ae",
   "metadata": {},
   "outputs": [],
   "source": [
    "copia[\"Intercity_train_connectivity\"] = copia[\"Intercity_train_connectivity\"].apply(clean_no_info)"
   ]
  },
  {
   "cell_type": "code",
   "execution_count": 59,
   "id": "508b189d",
   "metadata": {},
   "outputs": [],
   "source": [
    "copia[\"Gun_related_deaths\"] = copia[\"Gun_related_deaths\"].apply(clean_no_info)"
   ]
  },
  {
   "cell_type": "code",
   "execution_count": 61,
   "id": "3caf6c0f",
   "metadata": {},
   "outputs": [],
   "source": [
    "copia[\"Guns_per_residents\"] = copia[\"Guns_per_residents\"].apply(clean_no_info)"
   ]
  },
  {
   "cell_type": "code",
   "execution_count": 64,
   "id": "500bdbde",
   "metadata": {},
   "outputs": [],
   "source": [
    "copia[\"Pisa_ranking\"] = copia[\"Pisa_ranking\"].apply(clean_no_info)"
   ]
  },
  {
   "cell_type": "code",
   "execution_count": 73,
   "id": "f84180d1",
   "metadata": {},
   "outputs": [],
   "source": [
    "copia[\"Large_apartment\"] = copia[\"Large_apartment\"].apply(clean_no_info)"
   ]
  },
  {
   "cell_type": "code",
   "execution_count": 74,
   "id": "5455528e",
   "metadata": {},
   "outputs": [],
   "source": [
    "copia[\"Small_apartment\"] = copia[\"Small_apartment\"].apply(clean_no_info)"
   ]
  },
  {
   "cell_type": "code",
   "execution_count": 75,
   "id": "3ba0f96c",
   "metadata": {},
   "outputs": [],
   "source": [
    "copia[\"Medium_apartment\"] = copia[\"Medium_apartment\"].apply(clean_no_info)"
   ]
  },
  {
   "cell_type": "code",
   "execution_count": 80,
   "id": "4600f01c",
   "metadata": {},
   "outputs": [],
   "source": [
    "copia[\"VAT_Sales_Tax\"] = copia[\"VAT_Sales_Tax\"].apply(clean_no_info)"
   ]
  },
  {
   "cell_type": "code",
   "execution_count": 83,
   "id": "d50f918b",
   "metadata": {},
   "outputs": [],
   "source": [
    "copia[\"Art_galleries\"] = copia[\"Art_galleries\"].apply(clean_no_info)"
   ]
  },
  {
   "cell_type": "code",
   "execution_count": 87,
   "id": "72d7bd7b",
   "metadata": {},
   "outputs": [],
   "source": [
    "copia[\"Concert_venues\"] = copia[\"Concert_venues\"].apply(clean_no_info)"
   ]
  },
  {
   "cell_type": "code",
   "execution_count": 86,
   "id": "0be7282c",
   "metadata": {},
   "outputs": [],
   "source": [
    "copia[\"Museums\"] = copia[\"Museums\"].apply(clean_no_info)"
   ]
  },
  {
   "cell_type": "code",
   "execution_count": 89,
   "id": "82a2ac8b",
   "metadata": {},
   "outputs": [],
   "source": [
    "copia[\"Sport_venues\"] = copia[\"Sport_venues\"].apply(clean_no_info)"
   ]
  },
  {
   "cell_type": "code",
   "execution_count": 92,
   "id": "5ba3c535",
   "metadata": {},
   "outputs": [],
   "source": [
    "copia[\"GDP_per_capita_uno\"] = copia[\"GDP_per_capita_uno\"].apply(clean_no_info)"
   ]
  },
  {
   "cell_type": "code",
   "execution_count": 95,
   "id": "51604391",
   "metadata": {},
   "outputs": [],
   "source": [
    "copia[\"GDP_per_capita_otro\"] = copia[\"GDP_per_capita_otro\"].apply(clean_no_info)"
   ]
  },
  {
   "cell_type": "code",
   "execution_count": 97,
   "id": "0df3df75",
   "metadata": {},
   "outputs": [],
   "source": [
    "copia[\"Unemployment\"] = copia[\"Unemployment\"].apply(clean_no_info)"
   ]
  },
  {
   "cell_type": "code",
   "execution_count": 99,
   "id": "a86d18f8",
   "metadata": {},
   "outputs": [],
   "source": [
    "copia[\"Average_Annual_percent_sunshine\"] = copia[\"Average_Annual_percent_sunshine\"].apply(clean_no_info)"
   ]
  },
  {
   "cell_type": "markdown",
   "id": "4fa301cf",
   "metadata": {},
   "source": [
    "#### Algunas de las columnas tienen datos que no se corresponden con la medición de esa columna, por lo que reemplzaremos esos números por 0, dandole la asignación de que no tenemos datos sobre ese lugar."
   ]
  },
  {
   "cell_type": "code",
   "execution_count": 108,
   "id": "b16d536d",
   "metadata": {},
   "outputs": [],
   "source": [
    "def convert(i):\n",
    "    if i != :\n",
    "        i = i.replace(i,0)   \n",
    "    return i"
   ]
  },
  {
   "cell_type": "code",
   "execution_count": 109,
   "id": "d96f0beb",
   "metadata": {},
   "outputs": [
    {
     "data": {
      "text/plain": [
       "array(['8', '26', '23', '45', '237', '38', '0.10', '42', '10', '104',\n",
       "       '217', '44', '39', '0.48', '139', '163', '215', '51', '40', '49',\n",
       "       '142', '152', '102', '76', '16', '64', '103', '169', '7', '149',\n",
       "       '176', '59', '80', '1', '189', '66', '77', '67', '24', '81', '135',\n",
       "       '22', '46', '87', '20', '141', '25', '48', '56', '18', '11', '34',\n",
       "       '126', '30', '190', '97', '17', '137', '116', '144', '117', '79',\n",
       "       '9', '78', '12', '2', '239', '47', '101', '41', '19', '28', '90',\n",
       "       '50', '31', '88', '54', '171', '32', '35', '6', '242', '27', '43',\n",
       "       '52', '115', '71', '133', '159', '155', '160', '357', '62', '158',\n",
       "       '85', '94', '167', '164', '130', '93', '257', '83', '191', '72',\n",
       "       '55', '220', '91', '61', '146', '123', '3', '294', '0', '82',\n",
       "       '317', '15', '121', '57', '36', '68', '109', '111', '4', '29',\n",
       "       '96', '13', '95', '180', '134', '33', '125', '98', '113', '143',\n",
       "       '148', '60', '86', '21'], dtype=object)"
      ]
     },
     "execution_count": 109,
     "metadata": {},
     "output_type": "execute_result"
    }
   ],
   "source": [
    "copia.Airport_hub.unique()"
   ]
  },
  {
   "cell_type": "code",
   "execution_count": 110,
   "id": "7de12c3a",
   "metadata": {},
   "outputs": [
    {
     "ename": "TypeError",
     "evalue": "replace() argument 2 must be str, not int",
     "output_type": "error",
     "traceback": [
      "\u001b[0;31m---------------------------------------------------------------------------\u001b[0m",
      "\u001b[0;31mTypeError\u001b[0m                                 Traceback (most recent call last)",
      "\u001b[0;32m<ipython-input-110-a0e17a676f13>\u001b[0m in \u001b[0;36m<module>\u001b[0;34m\u001b[0m\n\u001b[0;32m----> 1\u001b[0;31m \u001b[0mcopia\u001b[0m\u001b[0;34m[\u001b[0m\u001b[0;34m\"Airport_hub\"\u001b[0m\u001b[0;34m]\u001b[0m \u001b[0;34m=\u001b[0m \u001b[0mcopia\u001b[0m\u001b[0;34m[\u001b[0m\u001b[0;34m\"Airport_hub\"\u001b[0m\u001b[0;34m]\u001b[0m\u001b[0;34m.\u001b[0m\u001b[0mapply\u001b[0m\u001b[0;34m(\u001b[0m\u001b[0mconvert_int\u001b[0m\u001b[0;34m)\u001b[0m\u001b[0;34m\u001b[0m\u001b[0;34m\u001b[0m\u001b[0m\n\u001b[0m",
      "\u001b[0;32m/usr/local/Caskroom/miniconda/base/envs/ironhack2/lib/python3.8/site-packages/pandas/core/series.py\u001b[0m in \u001b[0;36mapply\u001b[0;34m(self, func, convert_dtype, args, **kwargs)\u001b[0m\n\u001b[1;32m   4355\u001b[0m         \u001b[0mdtype\u001b[0m\u001b[0;34m:\u001b[0m \u001b[0mfloat64\u001b[0m\u001b[0;34m\u001b[0m\u001b[0;34m\u001b[0m\u001b[0m\n\u001b[1;32m   4356\u001b[0m         \"\"\"\n\u001b[0;32m-> 4357\u001b[0;31m         \u001b[0;32mreturn\u001b[0m \u001b[0mSeriesApply\u001b[0m\u001b[0;34m(\u001b[0m\u001b[0mself\u001b[0m\u001b[0;34m,\u001b[0m \u001b[0mfunc\u001b[0m\u001b[0;34m,\u001b[0m \u001b[0mconvert_dtype\u001b[0m\u001b[0;34m,\u001b[0m \u001b[0margs\u001b[0m\u001b[0;34m,\u001b[0m \u001b[0mkwargs\u001b[0m\u001b[0;34m)\u001b[0m\u001b[0;34m.\u001b[0m\u001b[0mapply\u001b[0m\u001b[0;34m(\u001b[0m\u001b[0;34m)\u001b[0m\u001b[0;34m\u001b[0m\u001b[0;34m\u001b[0m\u001b[0m\n\u001b[0m\u001b[1;32m   4358\u001b[0m \u001b[0;34m\u001b[0m\u001b[0m\n\u001b[1;32m   4359\u001b[0m     def _reduce(\n",
      "\u001b[0;32m/usr/local/Caskroom/miniconda/base/envs/ironhack2/lib/python3.8/site-packages/pandas/core/apply.py\u001b[0m in \u001b[0;36mapply\u001b[0;34m(self)\u001b[0m\n\u001b[1;32m   1041\u001b[0m             \u001b[0;32mreturn\u001b[0m \u001b[0mself\u001b[0m\u001b[0;34m.\u001b[0m\u001b[0mapply_str\u001b[0m\u001b[0;34m(\u001b[0m\u001b[0;34m)\u001b[0m\u001b[0;34m\u001b[0m\u001b[0;34m\u001b[0m\u001b[0m\n\u001b[1;32m   1042\u001b[0m \u001b[0;34m\u001b[0m\u001b[0m\n\u001b[0;32m-> 1043\u001b[0;31m         \u001b[0;32mreturn\u001b[0m \u001b[0mself\u001b[0m\u001b[0;34m.\u001b[0m\u001b[0mapply_standard\u001b[0m\u001b[0;34m(\u001b[0m\u001b[0;34m)\u001b[0m\u001b[0;34m\u001b[0m\u001b[0;34m\u001b[0m\u001b[0m\n\u001b[0m\u001b[1;32m   1044\u001b[0m \u001b[0;34m\u001b[0m\u001b[0m\n\u001b[1;32m   1045\u001b[0m     \u001b[0;32mdef\u001b[0m \u001b[0magg\u001b[0m\u001b[0;34m(\u001b[0m\u001b[0mself\u001b[0m\u001b[0;34m)\u001b[0m\u001b[0;34m:\u001b[0m\u001b[0;34m\u001b[0m\u001b[0;34m\u001b[0m\u001b[0m\n",
      "\u001b[0;32m/usr/local/Caskroom/miniconda/base/envs/ironhack2/lib/python3.8/site-packages/pandas/core/apply.py\u001b[0m in \u001b[0;36mapply_standard\u001b[0;34m(self)\u001b[0m\n\u001b[1;32m   1096\u001b[0m                 \u001b[0;31m# List[Union[Callable[..., Any], str]]]]]\"; expected\u001b[0m\u001b[0;34m\u001b[0m\u001b[0;34m\u001b[0m\u001b[0;34m\u001b[0m\u001b[0m\n\u001b[1;32m   1097\u001b[0m                 \u001b[0;31m# \"Callable[[Any], Any]\"\u001b[0m\u001b[0;34m\u001b[0m\u001b[0;34m\u001b[0m\u001b[0;34m\u001b[0m\u001b[0m\n\u001b[0;32m-> 1098\u001b[0;31m                 mapped = lib.map_infer(\n\u001b[0m\u001b[1;32m   1099\u001b[0m                     \u001b[0mvalues\u001b[0m\u001b[0;34m,\u001b[0m\u001b[0;34m\u001b[0m\u001b[0;34m\u001b[0m\u001b[0m\n\u001b[1;32m   1100\u001b[0m                     \u001b[0mf\u001b[0m\u001b[0;34m,\u001b[0m  \u001b[0;31m# type: ignore[arg-type]\u001b[0m\u001b[0;34m\u001b[0m\u001b[0;34m\u001b[0m\u001b[0m\n",
      "\u001b[0;32m/usr/local/Caskroom/miniconda/base/envs/ironhack2/lib/python3.8/site-packages/pandas/_libs/lib.pyx\u001b[0m in \u001b[0;36mpandas._libs.lib.map_infer\u001b[0;34m()\u001b[0m\n",
      "\u001b[0;32m<ipython-input-108-b941eaa9f160>\u001b[0m in \u001b[0;36mconvert_int\u001b[0;34m(i)\u001b[0m\n\u001b[1;32m      1\u001b[0m \u001b[0;32mdef\u001b[0m \u001b[0mconvert_int\u001b[0m\u001b[0;34m(\u001b[0m\u001b[0mi\u001b[0m\u001b[0;34m)\u001b[0m\u001b[0;34m:\u001b[0m\u001b[0;34m\u001b[0m\u001b[0;34m\u001b[0m\u001b[0m\n\u001b[1;32m      2\u001b[0m     \u001b[0;32mif\u001b[0m \u001b[0mi\u001b[0m \u001b[0;34m!=\u001b[0m \u001b[0mint\u001b[0m\u001b[0;34m(\u001b[0m\u001b[0mi\u001b[0m\u001b[0;34m)\u001b[0m\u001b[0;34m:\u001b[0m\u001b[0;34m\u001b[0m\u001b[0;34m\u001b[0m\u001b[0m\n\u001b[0;32m----> 3\u001b[0;31m         \u001b[0mi\u001b[0m \u001b[0;34m=\u001b[0m \u001b[0mi\u001b[0m\u001b[0;34m.\u001b[0m\u001b[0mreplace\u001b[0m\u001b[0;34m(\u001b[0m\u001b[0mi\u001b[0m\u001b[0;34m,\u001b[0m\u001b[0;36m0\u001b[0m\u001b[0;34m)\u001b[0m\u001b[0;34m\u001b[0m\u001b[0;34m\u001b[0m\u001b[0m\n\u001b[0m\u001b[1;32m      4\u001b[0m     \u001b[0;32mreturn\u001b[0m \u001b[0mi\u001b[0m\u001b[0;34m\u001b[0m\u001b[0;34m\u001b[0m\u001b[0m\n",
      "\u001b[0;31mTypeError\u001b[0m: replace() argument 2 must be str, not int"
     ]
    }
   ],
   "source": [
    "copia[\"Airport_hub\"] = copia[\"Airport_hub\"].apply(convert_int) "
   ]
  },
  {
   "cell_type": "code",
   "execution_count": null,
   "id": "98b32ab0",
   "metadata": {},
   "outputs": [],
   "source": []
  },
  {
   "cell_type": "markdown",
   "id": "99932053",
   "metadata": {},
   "source": [
    "### A continuación debemos convertir el dtype de las columnas"
   ]
  },
  {
   "cell_type": "code",
   "execution_count": 49,
   "id": "8ca04a7c",
   "metadata": {},
   "outputs": [
    {
     "name": "stdout",
     "output_type": "stream",
     "text": [
      "<class 'pandas.core.frame.DataFrame'>\n",
      "RangeIndex: 262 entries, 0 to 261\n",
      "Data columns (total 33 columns):\n",
      " #   Column                           Non-Null Count  Dtype \n",
      "---  ------                           --------------  ----- \n",
      " 0   Unnamed: 0                       262 non-null    int64 \n",
      " 1   Airport_hub                      262 non-null    object\n",
      " 2   Intercity_train_connectivity     262 non-null    object\n",
      " 3   Gun_related_deaths               262 non-null    object\n",
      " 4   Guns_per_residents               262 non-null    object\n",
      " 5   Pisa_ranking                     262 non-null    object\n",
      " 6   Best_university                  262 non-null    object\n",
      " 7   Monthly_Fitness_Club_Membership  262 non-null    object\n",
      " 8   Beer                             262 non-null    object\n",
      " 9   Monthly_Public_Transport         262 non-null    object\n",
      " 10  Lunch                            262 non-null    object\n",
      " 11  Large_apartment                  262 non-null    object\n",
      " 12  Medium_apartment                 262 non-null    object\n",
      " 13  Small_apartment                  262 non-null    object\n",
      " 14  cities                           262 non-null    object\n",
      " 15  Description                      262 non-null    object\n",
      " 16  Poblacion                        262 non-null    object\n",
      " 17  Homosexuality_acceptance         262 non-null    object\n",
      " 18  LGBT_adoption_rights             262 non-null    object\n",
      " 19  LGBT_homosexuality_rights        262 non-null    object\n",
      " 20  LGBT_marriage_rights             262 non-null    object\n",
      " 21  VAT_Sales_Tax                    262 non-null    object\n",
      " 22  Art_galleries                    262 non-null    object\n",
      " 23  Concert_venues                   262 non-null    object\n",
      " 24  Museums                          262 non-null    object\n",
      " 25  Sport_venues                     262 non-null    object\n",
      " 26  Currency_for_urban_area          262 non-null    object\n",
      " 27  GDP_per_capita_uno               262 non-null    object\n",
      " 28  Growth                           262 non-null    object\n",
      " 29  GDP_per_capita_otro              262 non-null    object\n",
      " 30  Unemployment                     262 non-null    object\n",
      " 31  url                              262 non-null    object\n",
      " 32  Average_Annual_percent_sunshine  262 non-null    object\n",
      "dtypes: int64(1), object(32)\n",
      "memory usage: 67.7+ KB\n"
     ]
    }
   ],
   "source": [
    "copia.info()"
   ]
  },
  {
   "cell_type": "code",
   "execution_count": null,
   "id": "035c2e79",
   "metadata": {},
   "outputs": [],
   "source": [
    "## Con estas columnas hay diversos problemas a solucionar"
   ]
  },
  {
   "cell_type": "code",
   "execution_count": 94,
   "id": "b4cb8650",
   "metadata": {},
   "outputs": [
    {
     "data": {
      "text/plain": [
       "array(['44.343', '46.433', '54.597', '24.020', '47.355', '4%', '19.610',\n",
       "       '8.449', '25.859', '35.152', '17.618', '10.641', 'No hay dato',\n",
       "       '14.354', '33.711', '12.880', '17.986', '39.511', '13.329',\n",
       "       '5.855', '66.937', '45.888', '58.087', '13.430', '35.486',\n",
       "       '40.375', '28.175', '29.925', '42.973', '19.712', '24.942',\n",
       "       '22.582', '10.877', '44.843', '13.046', '17.695', '7.606', '4.979',\n",
       "       '49.195', '16.096', '2.667', '143.427', '64.479', '37.390',\n",
       "       '25.105', '3%', '45.986', '17.881', '7.503', '11.950', '40.347',\n",
       "       '5.635', '54.722', '46.420', '2.376', '8.668', '8.609', '24.654',\n",
       "       '6.031', '6.221', '11.817', '26.975', '29.658', '92.049', '4.736',\n",
       "       '6.962', '18.161', '20.556', '24.805', '3.084', '30.769', '19.455',\n",
       "       '3.263', '11.244', '43.637', '23.707', '52.183', '14.864', '14%',\n",
       "       '8.021', '22.971', '13.012', '9.833', '35.277', '82.762', '13.349',\n",
       "       '17.860', '45.854', '26.999', '5.609', '7.653', '17.114', '32.691',\n",
       "       '11.300', '33.216', '27.051', '7.374', '20.889'], dtype=object)"
      ]
     },
     "execution_count": 94,
     "metadata": {},
     "output_type": "execute_result"
    }
   ],
   "source": [
    "copia.GDP_per_capita_otro.unique()"
   ]
  },
  {
   "cell_type": "code",
   "execution_count": 93,
   "id": "b74fb619",
   "metadata": {},
   "outputs": [
    {
     "data": {
      "text/plain": [
       "array(['5%', '7%', '9%', '3%', '4%', '-1%', '13%', '6%', '12%', '-2%',\n",
       "       '10%', '16%', '8%', '80', '0%', '18%', '1%', '82', '2%', '43%',\n",
       "       '-4%', '11%', '127%', '14%', '-41%', '34%', '-3%', '-39%', '62%',\n",
       "       '17%', '-11%', '36%', '-5%', '-6%'], dtype=object)"
      ]
     },
     "execution_count": 93,
     "metadata": {},
     "output_type": "execute_result"
    }
   ],
   "source": [
    "copia.Growth.unique()"
   ]
  },
  {
   "cell_type": "code",
   "execution_count": 90,
   "id": "0cea4ee3",
   "metadata": {},
   "outputs": [
    {
     "data": {
      "text/plain": [
       "array(['DKK', 'AUD', 'USD', 'KZT', 'EUR', 'TRY', 'PYG', 'NZD', 'AZN',\n",
       "       'IDR', '0.43', 'THB', 'CNY', 'LBP', 'GBP', 'RSD', 'INR', 'NOK',\n",
       "       'CHF', 'COP', 'CZK', 'RON', 'HUF', 'ARS', 'EGP', 'CAD', 'ZAR',\n",
       "       'VEF', 'MAD', 'MDL', 'BRL', 'TZS', 'QAR', 'AED', 'JPY', 'PLN',\n",
       "       'GIP', 'SEK', 'MXN', 'GTQ', 'CUC', 'VND', 'HKD', 'NPR', 'UAH',\n",
       "       'JMD', 'MYR', 'NGN', 'BOB', 'PEN', 'NIO', 'PHP', 'BYN', 'UYU',\n",
       "       'RUB', 'KES', 'No hay dato', 'PAB', 'KHR', 'ISK', 'SAR', 'CRC',\n",
       "       'CLP', 'DOP', 'BAM', 'KRW', 'SGD', 'MKD', 'BGN', 'TWD', 'UZS',\n",
       "       'GEL', 'IRR', 'ILS', 'TND', 'AMD', 'HRK'], dtype=object)"
      ]
     },
     "execution_count": 90,
     "metadata": {},
     "output_type": "execute_result"
    }
   ],
   "source": [
    "copia.Currency_for_urban_area.unique()"
   ]
  },
  {
   "cell_type": "markdown",
   "id": "2b3d9559",
   "metadata": {},
   "source": [
    "#### Por ahora, nos centremos en el resto de columnas que ya podemos convertir"
   ]
  },
  {
   "cell_type": "code",
   "execution_count": 105,
   "id": "1433e788",
   "metadata": {},
   "outputs": [],
   "source": [
    "def convert_int(i):\n",
    "    if i != int(i):\n",
    "        i = i.replace(i,0)   \n",
    "    return i"
   ]
  },
  {
   "cell_type": "code",
   "execution_count": 101,
   "id": "ad4aebb5",
   "metadata": {},
   "outputs": [
    {
     "data": {
      "text/plain": [
       "array(['8', '26', '23', '45', '237', '38', '0.10', '42', '10', '104',\n",
       "       '217', '44', '39', '0.48', '139', '163', '215', '51', '40', '49',\n",
       "       '142', '152', '102', '76', '16', '64', '103', '169', '7', '149',\n",
       "       '176', '59', '80', '1', '189', '66', '77', '67', '24', '81', '135',\n",
       "       '22', '46', '87', '20', '141', '25', '48', '56', '18', '11', '34',\n",
       "       '126', '30', '190', '97', '17', '137', '116', '144', '117', '79',\n",
       "       '9', '78', '12', '2', '239', '47', '101', '41', '19', '28', '90',\n",
       "       '50', '31', '88', '54', '171', '32', '35', '6', '242', '27', '43',\n",
       "       '52', '115', '71', '133', '159', '155', '160', '357', '62', '158',\n",
       "       '85', '94', '167', '164', '130', '93', '257', '83', '191', '72',\n",
       "       '55', '220', '91', '61', '146', '123', '3', '294', '0', '82',\n",
       "       '317', '15', '121', '57', '36', '68', '109', '111', '4', '29',\n",
       "       '96', '13', '95', '180', '134', '33', '125', '98', '113', '143',\n",
       "       '148', '60', '86', '21'], dtype=object)"
      ]
     },
     "execution_count": 101,
     "metadata": {},
     "output_type": "execute_result"
    }
   ],
   "source": [
    "copia.Airport_hub.unique()"
   ]
  },
  {
   "cell_type": "code",
   "execution_count": 104,
   "id": "2ec660b2",
   "metadata": {},
   "outputs": [
    {
     "data": {
      "text/plain": [
       "0        8\n",
       "1       26\n",
       "2       23\n",
       "3       45\n",
       "4      237\n",
       "      ... \n",
       "257     23\n",
       "258     31\n",
       "259     35\n",
       "260     27\n",
       "261    137\n",
       "Name: Airport_hub, Length: 262, dtype: object"
      ]
     },
     "execution_count": 104,
     "metadata": {},
     "output_type": "execute_result"
    }
   ],
   "source": [
    "copia.Airport_hub"
   ]
  },
  {
   "cell_type": "code",
   "execution_count": 102,
   "id": "f3506353",
   "metadata": {},
   "outputs": [
    {
     "ename": "ValueError",
     "evalue": "invalid literal for int() with base 10: '0.10'",
     "output_type": "error",
     "traceback": [
      "\u001b[0;31m---------------------------------------------------------------------------\u001b[0m",
      "\u001b[0;31mValueError\u001b[0m                                Traceback (most recent call last)",
      "\u001b[0;32m<ipython-input-102-0c4b35c58ca7>\u001b[0m in \u001b[0;36m<module>\u001b[0;34m\u001b[0m\n\u001b[0;32m----> 1\u001b[0;31m \u001b[0mcopia\u001b[0m\u001b[0;34m[\u001b[0m\u001b[0;34m\"Airport_hub\"\u001b[0m\u001b[0;34m]\u001b[0m \u001b[0;34m=\u001b[0m \u001b[0mcopia\u001b[0m\u001b[0;34m[\u001b[0m\u001b[0;34m\"Airport_hub\"\u001b[0m\u001b[0;34m]\u001b[0m\u001b[0;34m.\u001b[0m\u001b[0mapply\u001b[0m\u001b[0;34m(\u001b[0m\u001b[0mconvert_int\u001b[0m\u001b[0;34m)\u001b[0m\u001b[0;34m\u001b[0m\u001b[0;34m\u001b[0m\u001b[0m\n\u001b[0m",
      "\u001b[0;32m/usr/local/Caskroom/miniconda/base/envs/ironhack2/lib/python3.8/site-packages/pandas/core/series.py\u001b[0m in \u001b[0;36mapply\u001b[0;34m(self, func, convert_dtype, args, **kwargs)\u001b[0m\n\u001b[1;32m   4355\u001b[0m         \u001b[0mdtype\u001b[0m\u001b[0;34m:\u001b[0m \u001b[0mfloat64\u001b[0m\u001b[0;34m\u001b[0m\u001b[0;34m\u001b[0m\u001b[0m\n\u001b[1;32m   4356\u001b[0m         \"\"\"\n\u001b[0;32m-> 4357\u001b[0;31m         \u001b[0;32mreturn\u001b[0m \u001b[0mSeriesApply\u001b[0m\u001b[0;34m(\u001b[0m\u001b[0mself\u001b[0m\u001b[0;34m,\u001b[0m \u001b[0mfunc\u001b[0m\u001b[0;34m,\u001b[0m \u001b[0mconvert_dtype\u001b[0m\u001b[0;34m,\u001b[0m \u001b[0margs\u001b[0m\u001b[0;34m,\u001b[0m \u001b[0mkwargs\u001b[0m\u001b[0;34m)\u001b[0m\u001b[0;34m.\u001b[0m\u001b[0mapply\u001b[0m\u001b[0;34m(\u001b[0m\u001b[0;34m)\u001b[0m\u001b[0;34m\u001b[0m\u001b[0;34m\u001b[0m\u001b[0m\n\u001b[0m\u001b[1;32m   4358\u001b[0m \u001b[0;34m\u001b[0m\u001b[0m\n\u001b[1;32m   4359\u001b[0m     def _reduce(\n",
      "\u001b[0;32m/usr/local/Caskroom/miniconda/base/envs/ironhack2/lib/python3.8/site-packages/pandas/core/apply.py\u001b[0m in \u001b[0;36mapply\u001b[0;34m(self)\u001b[0m\n\u001b[1;32m   1041\u001b[0m             \u001b[0;32mreturn\u001b[0m \u001b[0mself\u001b[0m\u001b[0;34m.\u001b[0m\u001b[0mapply_str\u001b[0m\u001b[0;34m(\u001b[0m\u001b[0;34m)\u001b[0m\u001b[0;34m\u001b[0m\u001b[0;34m\u001b[0m\u001b[0m\n\u001b[1;32m   1042\u001b[0m \u001b[0;34m\u001b[0m\u001b[0m\n\u001b[0;32m-> 1043\u001b[0;31m         \u001b[0;32mreturn\u001b[0m \u001b[0mself\u001b[0m\u001b[0;34m.\u001b[0m\u001b[0mapply_standard\u001b[0m\u001b[0;34m(\u001b[0m\u001b[0;34m)\u001b[0m\u001b[0;34m\u001b[0m\u001b[0;34m\u001b[0m\u001b[0m\n\u001b[0m\u001b[1;32m   1044\u001b[0m \u001b[0;34m\u001b[0m\u001b[0m\n\u001b[1;32m   1045\u001b[0m     \u001b[0;32mdef\u001b[0m \u001b[0magg\u001b[0m\u001b[0;34m(\u001b[0m\u001b[0mself\u001b[0m\u001b[0;34m)\u001b[0m\u001b[0;34m:\u001b[0m\u001b[0;34m\u001b[0m\u001b[0;34m\u001b[0m\u001b[0m\n",
      "\u001b[0;32m/usr/local/Caskroom/miniconda/base/envs/ironhack2/lib/python3.8/site-packages/pandas/core/apply.py\u001b[0m in \u001b[0;36mapply_standard\u001b[0;34m(self)\u001b[0m\n\u001b[1;32m   1096\u001b[0m                 \u001b[0;31m# List[Union[Callable[..., Any], str]]]]]\"; expected\u001b[0m\u001b[0;34m\u001b[0m\u001b[0;34m\u001b[0m\u001b[0;34m\u001b[0m\u001b[0m\n\u001b[1;32m   1097\u001b[0m                 \u001b[0;31m# \"Callable[[Any], Any]\"\u001b[0m\u001b[0;34m\u001b[0m\u001b[0;34m\u001b[0m\u001b[0;34m\u001b[0m\u001b[0m\n\u001b[0;32m-> 1098\u001b[0;31m                 mapped = lib.map_infer(\n\u001b[0m\u001b[1;32m   1099\u001b[0m                     \u001b[0mvalues\u001b[0m\u001b[0;34m,\u001b[0m\u001b[0;34m\u001b[0m\u001b[0;34m\u001b[0m\u001b[0m\n\u001b[1;32m   1100\u001b[0m                     \u001b[0mf\u001b[0m\u001b[0;34m,\u001b[0m  \u001b[0;31m# type: ignore[arg-type]\u001b[0m\u001b[0;34m\u001b[0m\u001b[0;34m\u001b[0m\u001b[0m\n",
      "\u001b[0;32m/usr/local/Caskroom/miniconda/base/envs/ironhack2/lib/python3.8/site-packages/pandas/_libs/lib.pyx\u001b[0m in \u001b[0;36mpandas._libs.lib.map_infer\u001b[0;34m()\u001b[0m\n",
      "\u001b[0;32m<ipython-input-100-fedb20996c56>\u001b[0m in \u001b[0;36mconvert_int\u001b[0;34m(i)\u001b[0m\n\u001b[1;32m      1\u001b[0m \u001b[0;32mdef\u001b[0m \u001b[0mconvert_int\u001b[0m\u001b[0;34m(\u001b[0m\u001b[0mi\u001b[0m\u001b[0;34m)\u001b[0m\u001b[0;34m:\u001b[0m\u001b[0;34m\u001b[0m\u001b[0;34m\u001b[0m\u001b[0m\n\u001b[0;32m----> 2\u001b[0;31m     \u001b[0mi\u001b[0m \u001b[0;34m=\u001b[0m \u001b[0mint\u001b[0m\u001b[0;34m(\u001b[0m\u001b[0mi\u001b[0m\u001b[0;34m)\u001b[0m\u001b[0;34m\u001b[0m\u001b[0;34m\u001b[0m\u001b[0m\n\u001b[0m\u001b[1;32m      3\u001b[0m     \u001b[0;32mreturn\u001b[0m \u001b[0mi\u001b[0m\u001b[0;34m\u001b[0m\u001b[0;34m\u001b[0m\u001b[0m\n",
      "\u001b[0;31mValueError\u001b[0m: invalid literal for int() with base 10: '0.10'"
     ]
    }
   ],
   "source": [
    "copia[\"Airport_hub\"] = copia[\"Airport_hub\"].apply(convert_int)"
   ]
  },
  {
   "cell_type": "code",
   "execution_count": null,
   "id": "29ef3879",
   "metadata": {},
   "outputs": [],
   "source": []
  }
 ],
 "metadata": {
  "kernelspec": {
   "display_name": "ironhack2",
   "language": "python",
   "name": "ironhack2"
  },
  "language_info": {
   "codemirror_mode": {
    "name": "ipython",
    "version": 3
   },
   "file_extension": ".py",
   "mimetype": "text/x-python",
   "name": "python",
   "nbconvert_exporter": "python",
   "pygments_lexer": "ipython3",
   "version": "3.8.5"
  }
 },
 "nbformat": 4,
 "nbformat_minor": 5
}
