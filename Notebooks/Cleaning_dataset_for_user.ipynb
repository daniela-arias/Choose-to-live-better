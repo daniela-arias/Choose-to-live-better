{
 "cells": [
  {
   "cell_type": "markdown",
   "id": "2502386b",
   "metadata": {},
   "source": [
    "## 1. Import libraries"
   ]
  },
  {
   "cell_type": "code",
   "execution_count": 1,
   "id": "3e67339b",
   "metadata": {},
   "outputs": [],
   "source": [
    "import requests\n",
    "from selenium import webdriver\n",
    "from time import sleep\n",
    "from selenium.webdriver.chrome.options import Options\n",
    "from webdriver_manager.chrome import ChromeDriverManager\n",
    "from bs4 import BeautifulSoup\n",
    "import pandas as pd\n",
    "import sys\n",
    "sys.path.append('../')\n",
    "import numpy as np"
   ]
  },
  {
   "cell_type": "markdown",
   "id": "42a49636",
   "metadata": {},
   "source": [
    "## 2. Import Data"
   ]
  },
  {
   "cell_type": "code",
   "execution_count": 2,
   "id": "3b9b5aa6",
   "metadata": {},
   "outputs": [],
   "source": [
    "df = pd.read_csv(\"../Data/ultimo_web_scrapping.csv\")"
   ]
  },
  {
   "cell_type": "markdown",
   "id": "afb3239e",
   "metadata": {},
   "source": [
    "## 3. We explore the dataset"
   ]
  },
  {
   "cell_type": "code",
   "execution_count": 3,
   "id": "8734b6c1",
   "metadata": {},
   "outputs": [
    {
     "data": {
      "text/html": [
       "<div>\n",
       "<style scoped>\n",
       "    .dataframe tbody tr th:only-of-type {\n",
       "        vertical-align: middle;\n",
       "    }\n",
       "\n",
       "    .dataframe tbody tr th {\n",
       "        vertical-align: top;\n",
       "    }\n",
       "\n",
       "    .dataframe thead th {\n",
       "        text-align: right;\n",
       "    }\n",
       "</style>\n",
       "<table border=\"1\" class=\"dataframe\">\n",
       "  <thead>\n",
       "    <tr style=\"text-align: right;\">\n",
       "      <th></th>\n",
       "      <th>Unnamed: 0</th>\n",
       "      <th>Airport_hub</th>\n",
       "      <th>Intercity_train_connectivity</th>\n",
       "      <th>Gun_related_deaths</th>\n",
       "      <th>Guns_per_residents</th>\n",
       "      <th>Pisa_ranking</th>\n",
       "      <th>Best_university</th>\n",
       "      <th>Monthly_Fitness_Club_Membership</th>\n",
       "      <th>Beer</th>\n",
       "      <th>Monthly_Public_Transport</th>\n",
       "      <th>...</th>\n",
       "      <th>Concert_venues</th>\n",
       "      <th>Museums</th>\n",
       "      <th>Sport_venues</th>\n",
       "      <th>Currency_for_urban_area</th>\n",
       "      <th>GDP_per_capita_uno</th>\n",
       "      <th>Growth</th>\n",
       "      <th>GDP_per_capita_otro</th>\n",
       "      <th>Unemployment</th>\n",
       "      <th>url</th>\n",
       "      <th>Average_Annual_percent_sunshine</th>\n",
       "    </tr>\n",
       "  </thead>\n",
       "  <tbody>\n",
       "    <tr>\n",
       "      <th>0</th>\n",
       "      <td>0</td>\n",
       "      <td>8</td>\n",
       "      <td>0.59</td>\n",
       "      <td>1</td>\n",
       "      <td>12</td>\n",
       "      <td>13</td>\n",
       "      <td>Aarhus University</td>\n",
       "      <td>$37.00</td>\n",
       "      <td>$1.70</td>\n",
       "      <td>$62.00</td>\n",
       "      <td>...</td>\n",
       "      <td>95</td>\n",
       "      <td>18</td>\n",
       "      <td>21</td>\n",
       "      <td>DKK</td>\n",
       "      <td>$44342.66</td>\n",
       "      <td>5%</td>\n",
       "      <td>$44,343</td>\n",
       "      <td>4%</td>\n",
       "      <td>https://teleport.org/cities/aarhus/</td>\n",
       "      <td>No hay dato</td>\n",
       "    </tr>\n",
       "    <tr>\n",
       "      <th>1</th>\n",
       "      <td>1</td>\n",
       "      <td>26</td>\n",
       "      <td>0.17</td>\n",
       "      <td>1</td>\n",
       "      <td>24</td>\n",
       "      <td>16</td>\n",
       "      <td>University of Adelaide</td>\n",
       "      <td>$50.00</td>\n",
       "      <td>$4.30</td>\n",
       "      <td>$80.00</td>\n",
       "      <td>...</td>\n",
       "      <td>89</td>\n",
       "      <td>37</td>\n",
       "      <td>91</td>\n",
       "      <td>AUD</td>\n",
       "      <td>$46433.30</td>\n",
       "      <td>7%</td>\n",
       "      <td>$46,433</td>\n",
       "      <td>6%</td>\n",
       "      <td>https://teleport.org/cities/adelaide/</td>\n",
       "      <td>12.6</td>\n",
       "    </tr>\n",
       "    <tr>\n",
       "      <th>2</th>\n",
       "      <td>2</td>\n",
       "      <td>23</td>\n",
       "      <td>0.11</td>\n",
       "      <td>16</td>\n",
       "      <td>328</td>\n",
       "      <td>24</td>\n",
       "      <td>University of New Mexico</td>\n",
       "      <td>$52.00</td>\n",
       "      <td>$2.90</td>\n",
       "      <td>$37.00</td>\n",
       "      <td>...</td>\n",
       "      <td>99</td>\n",
       "      <td>35</td>\n",
       "      <td>10</td>\n",
       "      <td>USD</td>\n",
       "      <td>$54596.65</td>\n",
       "      <td>7%</td>\n",
       "      <td>$54,597</td>\n",
       "      <td>5%</td>\n",
       "      <td>https://teleport.org/cities/albuquerque/</td>\n",
       "      <td>168</td>\n",
       "    </tr>\n",
       "  </tbody>\n",
       "</table>\n",
       "<p>3 rows × 33 columns</p>\n",
       "</div>"
      ],
      "text/plain": [
       "   Unnamed: 0 Airport_hub Intercity_train_connectivity Gun_related_deaths  \\\n",
       "0           0           8                         0.59                  1   \n",
       "1           1          26                         0.17                  1   \n",
       "2           2          23                         0.11                 16   \n",
       "\n",
       "  Guns_per_residents Pisa_ranking           Best_university  \\\n",
       "0                 12           13         Aarhus University   \n",
       "1                 24           16    University of Adelaide   \n",
       "2                328           24  University of New Mexico   \n",
       "\n",
       "  Monthly_Fitness_Club_Membership   Beer Monthly_Public_Transport  ...  \\\n",
       "0                          $37.00  $1.70                   $62.00  ...   \n",
       "1                          $50.00  $4.30                   $80.00  ...   \n",
       "2                          $52.00  $2.90                   $37.00  ...   \n",
       "\n",
       "  Concert_venues Museums Sport_venues Currency_for_urban_area  \\\n",
       "0             95      18           21                     DKK   \n",
       "1             89      37           91                     AUD   \n",
       "2             99      35           10                     USD   \n",
       "\n",
       "  GDP_per_capita_uno Growth GDP_per_capita_otro Unemployment  \\\n",
       "0          $44342.66     5%             $44,343           4%   \n",
       "1          $46433.30     7%             $46,433           6%   \n",
       "2          $54596.65     7%             $54,597           5%   \n",
       "\n",
       "                                        url Average_Annual_percent_sunshine  \n",
       "0       https://teleport.org/cities/aarhus/                     No hay dato  \n",
       "1     https://teleport.org/cities/adelaide/                            12.6  \n",
       "2  https://teleport.org/cities/albuquerque/                             168  \n",
       "\n",
       "[3 rows x 33 columns]"
      ]
     },
     "execution_count": 3,
     "metadata": {},
     "output_type": "execute_result"
    }
   ],
   "source": [
    "df.head(3)"
   ]
  },
  {
   "cell_type": "code",
   "execution_count": 4,
   "id": "25482dea",
   "metadata": {},
   "outputs": [
    {
     "data": {
      "text/plain": [
       "(262, 33)"
      ]
     },
     "execution_count": 4,
     "metadata": {},
     "output_type": "execute_result"
    }
   ],
   "source": [
    "df.shape"
   ]
  },
  {
   "cell_type": "code",
   "execution_count": 5,
   "id": "e84300b8",
   "metadata": {},
   "outputs": [
    {
     "name": "stdout",
     "output_type": "stream",
     "text": [
      "<class 'pandas.core.frame.DataFrame'>\n",
      "RangeIndex: 262 entries, 0 to 261\n",
      "Data columns (total 33 columns):\n",
      " #   Column                           Non-Null Count  Dtype \n",
      "---  ------                           --------------  ----- \n",
      " 0   Unnamed: 0                       262 non-null    int64 \n",
      " 1   Airport_hub                      262 non-null    object\n",
      " 2   Intercity_train_connectivity     262 non-null    object\n",
      " 3   Gun_related_deaths               262 non-null    object\n",
      " 4   Guns_per_residents               262 non-null    object\n",
      " 5   Pisa_ranking                     262 non-null    object\n",
      " 6   Best_university                  262 non-null    object\n",
      " 7   Monthly_Fitness_Club_Membership  261 non-null    object\n",
      " 8   Beer                             261 non-null    object\n",
      " 9   Monthly_Public_Transport         261 non-null    object\n",
      " 10  Lunch                            261 non-null    object\n",
      " 11  Large_apartment                  262 non-null    object\n",
      " 12  Medium_apartment                 262 non-null    object\n",
      " 13  Small_apartment                  262 non-null    object\n",
      " 14  cities                           262 non-null    object\n",
      " 15  Description                      262 non-null    object\n",
      " 16  Poblacion                        262 non-null    object\n",
      " 17  Homosexuality_acceptance         262 non-null    object\n",
      " 18  LGBT_adoption_rights             254 non-null    object\n",
      " 19  LGBT_homosexuality_rights        262 non-null    object\n",
      " 20  LGBT_marriage_rights             262 non-null    object\n",
      " 21  VAT_Sales_Tax                    262 non-null    object\n",
      " 22  Art_galleries                    262 non-null    object\n",
      " 23  Concert_venues                   262 non-null    object\n",
      " 24  Museums                          262 non-null    object\n",
      " 25  Sport_venues                     262 non-null    object\n",
      " 26  Currency_for_urban_area          262 non-null    object\n",
      " 27  GDP_per_capita_uno               262 non-null    object\n",
      " 28  Growth                           262 non-null    object\n",
      " 29  GDP_per_capita_otro              262 non-null    object\n",
      " 30  Unemployment                     262 non-null    object\n",
      " 31  url                              262 non-null    object\n",
      " 32  Average_Annual_percent_sunshine  262 non-null    object\n",
      "dtypes: int64(1), object(32)\n",
      "memory usage: 67.7+ KB\n"
     ]
    }
   ],
   "source": [
    "df.info()"
   ]
  },
  {
   "cell_type": "markdown",
   "id": "579e00f1",
   "metadata": {},
   "source": [
    "#### Podemos observar que la mayoria de datos son tipo object, por lo que tendremos que convertir las columnas a sus respectivos dtypes."
   ]
  },
  {
   "cell_type": "code",
   "execution_count": 6,
   "id": "cdaef9ca",
   "metadata": {},
   "outputs": [
    {
     "data": {
      "text/plain": [
       "Unnamed: 0                         0\n",
       "Airport_hub                        0\n",
       "Intercity_train_connectivity       0\n",
       "Gun_related_deaths                 0\n",
       "Guns_per_residents                 0\n",
       "Pisa_ranking                       0\n",
       "Best_university                    0\n",
       "Monthly_Fitness_Club_Membership    1\n",
       "Beer                               1\n",
       "Monthly_Public_Transport           1\n",
       "Lunch                              1\n",
       "Large_apartment                    0\n",
       "Medium_apartment                   0\n",
       "Small_apartment                    0\n",
       "cities                             0\n",
       "Description                        0\n",
       "Poblacion                          0\n",
       "Homosexuality_acceptance           0\n",
       "LGBT_adoption_rights               8\n",
       "LGBT_homosexuality_rights          0\n",
       "LGBT_marriage_rights               0\n",
       "VAT_Sales_Tax                      0\n",
       "Art_galleries                      0\n",
       "Concert_venues                     0\n",
       "Museums                            0\n",
       "Sport_venues                       0\n",
       "Currency_for_urban_area            0\n",
       "GDP_per_capita_uno                 0\n",
       "Growth                             0\n",
       "GDP_per_capita_otro                0\n",
       "Unemployment                       0\n",
       "url                                0\n",
       "Average_Annual_percent_sunshine    0\n",
       "dtype: int64"
      ]
     },
     "execution_count": 6,
     "metadata": {},
     "output_type": "execute_result"
    }
   ],
   "source": [
    "pd.isna(df).sum()\n"
   ]
  },
  {
   "cell_type": "markdown",
   "id": "1cb59190",
   "metadata": {},
   "source": [
    "#### Algunos de los valores presentes son nan, por lo que deberemos reemplazar la información en esos lugares."
   ]
  },
  {
   "cell_type": "code",
   "execution_count": 7,
   "id": "f774e191",
   "metadata": {},
   "outputs": [],
   "source": [
    "#df.LGBT_adoption_rights.unique()"
   ]
  },
  {
   "cell_type": "code",
   "execution_count": 8,
   "id": "055669d8",
   "metadata": {},
   "outputs": [],
   "source": [
    "#df.Lunch.unique()"
   ]
  },
  {
   "cell_type": "code",
   "execution_count": 9,
   "id": "a832bc45",
   "metadata": {},
   "outputs": [],
   "source": [
    "#df.Monthly_Fitness_Club_Membership.unique()"
   ]
  },
  {
   "cell_type": "code",
   "execution_count": 10,
   "id": "9a869409",
   "metadata": {},
   "outputs": [],
   "source": [
    "#df.Monthly_Public_Transport.unique()"
   ]
  },
  {
   "cell_type": "code",
   "execution_count": 11,
   "id": "92fef853",
   "metadata": {},
   "outputs": [],
   "source": [
    "#df.Beer.unique()"
   ]
  },
  {
   "cell_type": "code",
   "execution_count": 12,
   "id": "28dfd41a",
   "metadata": {},
   "outputs": [],
   "source": [
    "df['Beer'] = df['Beer'].replace(np.nan, 0)"
   ]
  },
  {
   "cell_type": "code",
   "execution_count": 13,
   "id": "b2afe5d2",
   "metadata": {},
   "outputs": [],
   "source": [
    "df['Monthly_Fitness_Club_Membership'] = df['Monthly_Fitness_Club_Membership'].replace(np.nan, 0)"
   ]
  },
  {
   "cell_type": "code",
   "execution_count": 14,
   "id": "245afa46",
   "metadata": {},
   "outputs": [],
   "source": [
    "df[\"Lunch\"] = df[\"Lunch\"].replace(np.nan, 0)"
   ]
  },
  {
   "cell_type": "code",
   "execution_count": 15,
   "id": "c2051d12",
   "metadata": {},
   "outputs": [],
   "source": [
    "df[\"LGBT_adoption_rights\"] = df[\"LGBT_adoption_rights\"].replace(np.nan, \"No hay dato\")"
   ]
  },
  {
   "cell_type": "code",
   "execution_count": 16,
   "id": "472b5572",
   "metadata": {},
   "outputs": [],
   "source": [
    "df[\"Monthly_Public_Transport\"] = df[\"Monthly_Public_Transport\"].replace(np.nan, 0)"
   ]
  },
  {
   "cell_type": "code",
   "execution_count": 17,
   "id": "778cf077",
   "metadata": {},
   "outputs": [],
   "source": [
    "df[\"Monthly_Public_Transport\"] = df[\"Monthly_Public_Transport\"].replace('No hay dato', 0)"
   ]
  },
  {
   "cell_type": "code",
   "execution_count": 18,
   "id": "2d647fd4",
   "metadata": {},
   "outputs": [
    {
     "data": {
      "text/plain": [
       "Unnamed: 0                         0\n",
       "Airport_hub                        0\n",
       "Intercity_train_connectivity       0\n",
       "Gun_related_deaths                 0\n",
       "Guns_per_residents                 0\n",
       "Pisa_ranking                       0\n",
       "Best_university                    0\n",
       "Monthly_Fitness_Club_Membership    0\n",
       "Beer                               0\n",
       "Monthly_Public_Transport           0\n",
       "Lunch                              0\n",
       "Large_apartment                    0\n",
       "Medium_apartment                   0\n",
       "Small_apartment                    0\n",
       "cities                             0\n",
       "Description                        0\n",
       "Poblacion                          0\n",
       "Homosexuality_acceptance           0\n",
       "LGBT_adoption_rights               0\n",
       "LGBT_homosexuality_rights          0\n",
       "LGBT_marriage_rights               0\n",
       "VAT_Sales_Tax                      0\n",
       "Art_galleries                      0\n",
       "Concert_venues                     0\n",
       "Museums                            0\n",
       "Sport_venues                       0\n",
       "Currency_for_urban_area            0\n",
       "GDP_per_capita_uno                 0\n",
       "Growth                             0\n",
       "GDP_per_capita_otro                0\n",
       "Unemployment                       0\n",
       "url                                0\n",
       "Average_Annual_percent_sunshine    0\n",
       "dtype: int64"
      ]
     },
     "execution_count": 18,
     "metadata": {},
     "output_type": "execute_result"
    }
   ],
   "source": [
    "pd.isna(df).sum()\n"
   ]
  },
  {
   "cell_type": "code",
   "execution_count": 19,
   "id": "eaeaabce",
   "metadata": {},
   "outputs": [],
   "source": [
    "copia = df.copy()"
   ]
  },
  {
   "cell_type": "markdown",
   "id": "19264744",
   "metadata": {},
   "source": [
    "### Para poder trabajar con los datos debemos quitar símbolos y hacer una limpieza de las columnas"
   ]
  },
  {
   "cell_type": "code",
   "execution_count": 20,
   "id": "1b55e44c",
   "metadata": {},
   "outputs": [],
   "source": [
    "def delete_price(i):\n",
    "    i = str(i).replace('$', \"\")\n",
    "    return i"
   ]
  },
  {
   "cell_type": "code",
   "execution_count": 21,
   "id": "0bdc963e",
   "metadata": {},
   "outputs": [],
   "source": [
    "copia['GDP_per_capita_otro'] = copia['GDP_per_capita_otro'].apply(delete_price)"
   ]
  },
  {
   "cell_type": "code",
   "execution_count": 22,
   "id": "ef22b5b7",
   "metadata": {},
   "outputs": [],
   "source": [
    "copia['Monthly_Fitness_Club_Membership'] = copia['Monthly_Fitness_Club_Membership'].apply(delete_price)"
   ]
  },
  {
   "cell_type": "code",
   "execution_count": 23,
   "id": "478a0686",
   "metadata": {},
   "outputs": [],
   "source": [
    "copia['Beer'] = copia['Beer'].apply(delete_price)"
   ]
  },
  {
   "cell_type": "code",
   "execution_count": 24,
   "id": "dedd69c1",
   "metadata": {},
   "outputs": [],
   "source": [
    "copia['Monthly_Public_Transport'] = copia['Monthly_Public_Transport'].apply(delete_price)"
   ]
  },
  {
   "cell_type": "code",
   "execution_count": 25,
   "id": "b6d933e1",
   "metadata": {},
   "outputs": [],
   "source": [
    "copia['GDP_per_capita_uno'] = copia['GDP_per_capita_uno'].apply(delete_price)"
   ]
  },
  {
   "cell_type": "code",
   "execution_count": 26,
   "id": "84868bff",
   "metadata": {},
   "outputs": [],
   "source": [
    "copia['Lunch'] = copia['Lunch'].apply(delete_price)"
   ]
  },
  {
   "cell_type": "code",
   "execution_count": 27,
   "id": "b0bbb7c7",
   "metadata": {},
   "outputs": [],
   "source": [
    "copia['Large_apartment'] = copia['Large_apartment'].apply(delete_price)"
   ]
  },
  {
   "cell_type": "code",
   "execution_count": 28,
   "id": "c37ea86a",
   "metadata": {},
   "outputs": [],
   "source": [
    "copia['Medium_apartment'] = copia['Medium_apartment'].apply(delete_price)"
   ]
  },
  {
   "cell_type": "code",
   "execution_count": 29,
   "id": "38f6b10f",
   "metadata": {},
   "outputs": [],
   "source": [
    "copia['Small_apartment'] = copia['Small_apartment'].apply(delete_price)"
   ]
  },
  {
   "cell_type": "code",
   "execution_count": 31,
   "id": "4c48c79f",
   "metadata": {},
   "outputs": [],
   "source": [
    "def convertir(i):\n",
    "    i = i.replace(\",\", \".\")\n",
    "    return i"
   ]
  },
  {
   "cell_type": "code",
   "execution_count": 32,
   "id": "9b3bd22e",
   "metadata": {},
   "outputs": [],
   "source": [
    "copia[\"GDP_per_capita_otro\"] = copia[\"GDP_per_capita_otro\"].apply(convertir)"
   ]
  },
  {
   "cell_type": "code",
   "execution_count": 33,
   "id": "e16b3dbd",
   "metadata": {},
   "outputs": [],
   "source": [
    "def quitar(i):\n",
    "    i = i.replace(\",\", \"\")\n",
    "    return i"
   ]
  },
  {
   "cell_type": "code",
   "execution_count": 34,
   "id": "bab81999",
   "metadata": {},
   "outputs": [],
   "source": [
    "copia[\"Poblacion\"] = copia[\"Poblacion\"].apply(quitar)"
   ]
  },
  {
   "cell_type": "code",
   "execution_count": 139,
   "id": "58915bd2",
   "metadata": {},
   "outputs": [],
   "source": [
    "def clean_symbol(i):\n",
    "    i = i.replace(\"✖\", \"\")\n",
    "    return i"
   ]
  },
  {
   "cell_type": "code",
   "execution_count": 142,
   "id": "8dc8a7cd",
   "metadata": {},
   "outputs": [],
   "source": [
    "copia[\"LGBT_adoption_rights\"] = copia[\"LGBT_adoption_rights\"].apply(clean_symbol)"
   ]
  },
  {
   "cell_type": "code",
   "execution_count": 145,
   "id": "4e309218",
   "metadata": {},
   "outputs": [],
   "source": [
    "copia[\"LGBT_homosexuality_rights\"] = copia[\"LGBT_homosexuality_rights\"].apply(clean_symbol)"
   ]
  },
  {
   "cell_type": "code",
   "execution_count": 148,
   "id": "771a9585",
   "metadata": {},
   "outputs": [],
   "source": [
    "copia[\"LGBT_marriage_rights\"] = copia[\"LGBT_marriage_rights\"].apply(clean_symbol)"
   ]
  },
  {
   "cell_type": "code",
   "execution_count": 140,
   "id": "8748cced",
   "metadata": {},
   "outputs": [],
   "source": [
    "def clean_symbol2(i):\n",
    "    i = i.replace(\"✔\", \"\")\n",
    "    return i"
   ]
  },
  {
   "cell_type": "code",
   "execution_count": null,
   "id": "85f6e62f",
   "metadata": {},
   "outputs": [],
   "source": [
    "copia[\"LGBT_adoption_rights\"] = copia[\"LGBT_adoption_rights\"].apply(clean_symbol2)"
   ]
  },
  {
   "cell_type": "code",
   "execution_count": 146,
   "id": "b7e4156f",
   "metadata": {},
   "outputs": [],
   "source": [
    "copia[\"LGBT_homosexuality_rights\"] = copia[\"LGBT_homosexuality_rights\"].apply(clean_symbol2)"
   ]
  },
  {
   "cell_type": "code",
   "execution_count": 149,
   "id": "75d6069a",
   "metadata": {},
   "outputs": [],
   "source": [
    "copia[\"LGBT_marriage_rights\"] = copia[\"LGBT_marriage_rights\"].apply(clean_symbol2)"
   ]
  },
  {
   "cell_type": "code",
   "execution_count": 36,
   "id": "2cd18ad0",
   "metadata": {},
   "outputs": [
    {
     "data": {
      "text/html": [
       "<div>\n",
       "<style scoped>\n",
       "    .dataframe tbody tr th:only-of-type {\n",
       "        vertical-align: middle;\n",
       "    }\n",
       "\n",
       "    .dataframe tbody tr th {\n",
       "        vertical-align: top;\n",
       "    }\n",
       "\n",
       "    .dataframe thead th {\n",
       "        text-align: right;\n",
       "    }\n",
       "</style>\n",
       "<table border=\"1\" class=\"dataframe\">\n",
       "  <thead>\n",
       "    <tr style=\"text-align: right;\">\n",
       "      <th></th>\n",
       "      <th>Unnamed: 0</th>\n",
       "      <th>Airport_hub</th>\n",
       "      <th>Intercity_train_connectivity</th>\n",
       "      <th>Gun_related_deaths</th>\n",
       "      <th>Guns_per_residents</th>\n",
       "      <th>Pisa_ranking</th>\n",
       "      <th>Best_university</th>\n",
       "      <th>Monthly_Fitness_Club_Membership</th>\n",
       "      <th>Beer</th>\n",
       "      <th>Monthly_Public_Transport</th>\n",
       "      <th>...</th>\n",
       "      <th>Concert_venues</th>\n",
       "      <th>Museums</th>\n",
       "      <th>Sport_venues</th>\n",
       "      <th>Currency_for_urban_area</th>\n",
       "      <th>GDP_per_capita_uno</th>\n",
       "      <th>Growth</th>\n",
       "      <th>GDP_per_capita_otro</th>\n",
       "      <th>Unemployment</th>\n",
       "      <th>url</th>\n",
       "      <th>Average_Annual_percent_sunshine</th>\n",
       "    </tr>\n",
       "  </thead>\n",
       "  <tbody>\n",
       "    <tr>\n",
       "      <th>0</th>\n",
       "      <td>0</td>\n",
       "      <td>8</td>\n",
       "      <td>0.59</td>\n",
       "      <td>1</td>\n",
       "      <td>12</td>\n",
       "      <td>13</td>\n",
       "      <td>Aarhus University</td>\n",
       "      <td>37.00</td>\n",
       "      <td>1.70</td>\n",
       "      <td>62.00</td>\n",
       "      <td>...</td>\n",
       "      <td>95</td>\n",
       "      <td>18</td>\n",
       "      <td>21</td>\n",
       "      <td>DKK</td>\n",
       "      <td>44342.66</td>\n",
       "      <td>5%</td>\n",
       "      <td>44.343</td>\n",
       "      <td>4%</td>\n",
       "      <td>https://teleport.org/cities/aarhus/</td>\n",
       "      <td>No hay dato</td>\n",
       "    </tr>\n",
       "    <tr>\n",
       "      <th>1</th>\n",
       "      <td>1</td>\n",
       "      <td>26</td>\n",
       "      <td>0.17</td>\n",
       "      <td>1</td>\n",
       "      <td>24</td>\n",
       "      <td>16</td>\n",
       "      <td>University of Adelaide</td>\n",
       "      <td>50.00</td>\n",
       "      <td>4.30</td>\n",
       "      <td>80.00</td>\n",
       "      <td>...</td>\n",
       "      <td>89</td>\n",
       "      <td>37</td>\n",
       "      <td>91</td>\n",
       "      <td>AUD</td>\n",
       "      <td>46433.30</td>\n",
       "      <td>7%</td>\n",
       "      <td>46.433</td>\n",
       "      <td>6%</td>\n",
       "      <td>https://teleport.org/cities/adelaide/</td>\n",
       "      <td>12.6</td>\n",
       "    </tr>\n",
       "    <tr>\n",
       "      <th>2</th>\n",
       "      <td>2</td>\n",
       "      <td>23</td>\n",
       "      <td>0.11</td>\n",
       "      <td>16</td>\n",
       "      <td>328</td>\n",
       "      <td>24</td>\n",
       "      <td>University of New Mexico</td>\n",
       "      <td>52.00</td>\n",
       "      <td>2.90</td>\n",
       "      <td>37.00</td>\n",
       "      <td>...</td>\n",
       "      <td>99</td>\n",
       "      <td>35</td>\n",
       "      <td>10</td>\n",
       "      <td>USD</td>\n",
       "      <td>54596.65</td>\n",
       "      <td>7%</td>\n",
       "      <td>54.597</td>\n",
       "      <td>5%</td>\n",
       "      <td>https://teleport.org/cities/albuquerque/</td>\n",
       "      <td>168</td>\n",
       "    </tr>\n",
       "    <tr>\n",
       "      <th>3</th>\n",
       "      <td>3</td>\n",
       "      <td>45</td>\n",
       "      <td>0.66</td>\n",
       "      <td>1</td>\n",
       "      <td>1</td>\n",
       "      <td>39</td>\n",
       "      <td>427.97</td>\n",
       "      <td>83.00</td>\n",
       "      <td>0.68</td>\n",
       "      <td>19.00</td>\n",
       "      <td>...</td>\n",
       "      <td>68</td>\n",
       "      <td>24</td>\n",
       "      <td>53</td>\n",
       "      <td>KZT</td>\n",
       "      <td>24019.95</td>\n",
       "      <td>9%</td>\n",
       "      <td>24.020</td>\n",
       "      <td>6%</td>\n",
       "      <td>https://teleport.org/cities/almaty/</td>\n",
       "      <td>64</td>\n",
       "    </tr>\n",
       "    <tr>\n",
       "      <th>4</th>\n",
       "      <td>4</td>\n",
       "      <td>237</td>\n",
       "      <td>0.68</td>\n",
       "      <td>1</td>\n",
       "      <td>4</td>\n",
       "      <td>10</td>\n",
       "      <td>University of Amsterdam</td>\n",
       "      <td>49.00</td>\n",
       "      <td>2.10</td>\n",
       "      <td>100.00</td>\n",
       "      <td>...</td>\n",
       "      <td>339</td>\n",
       "      <td>187</td>\n",
       "      <td>154</td>\n",
       "      <td>EUR</td>\n",
       "      <td>47354.53</td>\n",
       "      <td>3%</td>\n",
       "      <td>47.355</td>\n",
       "      <td>6%</td>\n",
       "      <td>https://teleport.org/cities/amsterdam/</td>\n",
       "      <td>12.9</td>\n",
       "    </tr>\n",
       "  </tbody>\n",
       "</table>\n",
       "<p>5 rows × 33 columns</p>\n",
       "</div>"
      ],
      "text/plain": [
       "   Unnamed: 0 Airport_hub Intercity_train_connectivity Gun_related_deaths  \\\n",
       "0           0           8                         0.59                  1   \n",
       "1           1          26                         0.17                  1   \n",
       "2           2          23                         0.11                 16   \n",
       "3           3          45                         0.66                  1   \n",
       "4           4         237                         0.68                  1   \n",
       "\n",
       "  Guns_per_residents Pisa_ranking           Best_university  \\\n",
       "0                 12           13         Aarhus University   \n",
       "1                 24           16    University of Adelaide   \n",
       "2                328           24  University of New Mexico   \n",
       "3                  1           39                    427.97   \n",
       "4                  4           10   University of Amsterdam   \n",
       "\n",
       "  Monthly_Fitness_Club_Membership  Beer Monthly_Public_Transport  ...  \\\n",
       "0                           37.00  1.70                    62.00  ...   \n",
       "1                           50.00  4.30                    80.00  ...   \n",
       "2                           52.00  2.90                    37.00  ...   \n",
       "3                           83.00  0.68                    19.00  ...   \n",
       "4                           49.00  2.10                   100.00  ...   \n",
       "\n",
       "  Concert_venues Museums Sport_venues Currency_for_urban_area  \\\n",
       "0             95      18           21                     DKK   \n",
       "1             89      37           91                     AUD   \n",
       "2             99      35           10                     USD   \n",
       "3             68      24           53                     KZT   \n",
       "4            339     187          154                     EUR   \n",
       "\n",
       "  GDP_per_capita_uno Growth GDP_per_capita_otro Unemployment  \\\n",
       "0           44342.66     5%              44.343           4%   \n",
       "1           46433.30     7%              46.433           6%   \n",
       "2           54596.65     7%              54.597           5%   \n",
       "3           24019.95     9%              24.020           6%   \n",
       "4           47354.53     3%              47.355           6%   \n",
       "\n",
       "                                        url Average_Annual_percent_sunshine  \n",
       "0       https://teleport.org/cities/aarhus/                     No hay dato  \n",
       "1     https://teleport.org/cities/adelaide/                            12.6  \n",
       "2  https://teleport.org/cities/albuquerque/                             168  \n",
       "3       https://teleport.org/cities/almaty/                              64  \n",
       "4    https://teleport.org/cities/amsterdam/                            12.9  \n",
       "\n",
       "[5 rows x 33 columns]"
      ]
     },
     "execution_count": 36,
     "metadata": {},
     "output_type": "execute_result"
    }
   ],
   "source": [
    "copia.head()"
   ]
  },
  {
   "cell_type": "code",
   "execution_count": 37,
   "id": "4038e862",
   "metadata": {},
   "outputs": [],
   "source": [
    "def clean_no_info(i):\n",
    "    i = i.replace(\"No hay dato\", \"0\")\n",
    "    return i"
   ]
  },
  {
   "cell_type": "code",
   "execution_count": 38,
   "id": "1c1b4b3b",
   "metadata": {},
   "outputs": [],
   "source": [
    "copia[\"Airport_hub\"] = copia[\"Airport_hub\"].apply(clean_no_info)"
   ]
  },
  {
   "cell_type": "code",
   "execution_count": 39,
   "id": "9e959590",
   "metadata": {},
   "outputs": [],
   "source": [
    "copia[\"Intercity_train_connectivity\"] = copia[\"Intercity_train_connectivity\"].apply(clean_no_info)"
   ]
  },
  {
   "cell_type": "code",
   "execution_count": 40,
   "id": "00b3f52b",
   "metadata": {},
   "outputs": [],
   "source": [
    "copia[\"Gun_related_deaths\"] = copia[\"Gun_related_deaths\"].apply(clean_no_info)"
   ]
  },
  {
   "cell_type": "code",
   "execution_count": 41,
   "id": "43ac8c18",
   "metadata": {},
   "outputs": [],
   "source": [
    "copia[\"Guns_per_residents\"] = copia[\"Guns_per_residents\"].apply(clean_no_info)"
   ]
  },
  {
   "cell_type": "code",
   "execution_count": 42,
   "id": "ad0cad4d",
   "metadata": {},
   "outputs": [],
   "source": [
    "copia[\"Pisa_ranking\"] = copia[\"Pisa_ranking\"].apply(clean_no_info)"
   ]
  },
  {
   "cell_type": "code",
   "execution_count": 43,
   "id": "430d1fa5",
   "metadata": {},
   "outputs": [],
   "source": [
    "copia[\"Large_apartment\"] = copia[\"Large_apartment\"].apply(clean_no_info)"
   ]
  },
  {
   "cell_type": "code",
   "execution_count": 44,
   "id": "3b5f6cec",
   "metadata": {},
   "outputs": [],
   "source": [
    "copia[\"Small_apartment\"] = copia[\"Small_apartment\"].apply(clean_no_info)"
   ]
  },
  {
   "cell_type": "code",
   "execution_count": 45,
   "id": "19d640db",
   "metadata": {},
   "outputs": [],
   "source": [
    "copia[\"Medium_apartment\"] = copia[\"Medium_apartment\"].apply(clean_no_info)"
   ]
  },
  {
   "cell_type": "code",
   "execution_count": 46,
   "id": "76046be8",
   "metadata": {},
   "outputs": [],
   "source": [
    "copia[\"VAT_Sales_Tax\"] = copia[\"VAT_Sales_Tax\"].apply(clean_no_info)"
   ]
  },
  {
   "cell_type": "code",
   "execution_count": 47,
   "id": "186ae21b",
   "metadata": {},
   "outputs": [],
   "source": [
    "copia[\"Art_galleries\"] = copia[\"Art_galleries\"].apply(clean_no_info)"
   ]
  },
  {
   "cell_type": "code",
   "execution_count": 48,
   "id": "e0c1846d",
   "metadata": {},
   "outputs": [],
   "source": [
    "copia[\"Concert_venues\"] = copia[\"Concert_venues\"].apply(clean_no_info)"
   ]
  },
  {
   "cell_type": "code",
   "execution_count": 49,
   "id": "d7e2f67d",
   "metadata": {},
   "outputs": [],
   "source": [
    "copia[\"Museums\"] = copia[\"Museums\"].apply(clean_no_info)"
   ]
  },
  {
   "cell_type": "code",
   "execution_count": 50,
   "id": "1e04fc68",
   "metadata": {},
   "outputs": [],
   "source": [
    "copia[\"Sport_venues\"] = copia[\"Sport_venues\"].apply(clean_no_info)"
   ]
  },
  {
   "cell_type": "code",
   "execution_count": 51,
   "id": "c8120faf",
   "metadata": {},
   "outputs": [],
   "source": [
    "copia[\"GDP_per_capita_uno\"] = copia[\"GDP_per_capita_uno\"].apply(clean_no_info)"
   ]
  },
  {
   "cell_type": "code",
   "execution_count": 52,
   "id": "2bfc34bd",
   "metadata": {},
   "outputs": [],
   "source": [
    "copia[\"GDP_per_capita_otro\"] = copia[\"GDP_per_capita_otro\"].apply(clean_no_info)"
   ]
  },
  {
   "cell_type": "code",
   "execution_count": 53,
   "id": "15817228",
   "metadata": {},
   "outputs": [],
   "source": [
    "copia[\"Unemployment\"] = copia[\"Unemployment\"].apply(clean_no_info)"
   ]
  },
  {
   "cell_type": "code",
   "execution_count": 54,
   "id": "0e2d555e",
   "metadata": {},
   "outputs": [],
   "source": [
    "copia[\"Average_Annual_percent_sunshine\"] = copia[\"Average_Annual_percent_sunshine\"].apply(clean_no_info)"
   ]
  },
  {
   "cell_type": "code",
   "execution_count": 93,
   "id": "652c9ee3",
   "metadata": {},
   "outputs": [],
   "source": [
    "copia[\"Homosexuality_acceptance\"] = copia[\"Homosexuality_acceptance\"].apply(clean_no_info)"
   ]
  },
  {
   "cell_type": "code",
   "execution_count": 157,
   "id": "0f4ac9e0",
   "metadata": {},
   "outputs": [
    {
     "data": {
      "text/plain": [
       "array(['Aarhus University', 'University of Adelaide',\n",
       "       'University of New Mexico', '427.97', 'University of Amsterdam',\n",
       "       '478.04', 'No hay dato', 'Bilkent University',\n",
       "       'National and Kapodistrian University of Athens',\n",
       "       'Georgia Institute of Technology', 'University of Auckland',\n",
       "       'University of Texas at Austin', '362.42',\n",
       "       'Johns Hopkins University', 'Mahidol University',\n",
       "       'Autonomous University of Barcelona', 'Peking University',\n",
       "       'American University of Beirut', 'Queen’s University Belfast',\n",
       "       'University of Belgrade', 'Indian Institute of Science',\n",
       "       'University of Bergen', 'Humboldt University of Berlin',\n",
       "       'University of Bern', '490.84', 'University of Birmingham',\n",
       "       'University of the Andes', 'University of Bologna',\n",
       "       'University of Bordeaux', 'Massachusetts Institute of Technology',\n",
       "       'University of Colorado Boulder', 'Montana State University',\n",
       "       'Comenius University in Bratislava', 'University of Sussex',\n",
       "       'University of Queensland', 'University of Bristol',\n",
       "       'Masaryk University', 'KU Leuven', 'University of Bucharest',\n",
       "       'Semmelweis University', '391.41', 'University at Buffalo',\n",
       "       'Cairo University', 'University of Calgary',\n",
       "       'University of Cambridge', 'University of Cape Town',\n",
       "       'Cardiff University', 'Indian Institute of Technology Madras',\n",
       "       'Chiang Mai University', 'University of Chicago', '40',\n",
       "       'University of Canterbury', 'University of Cincinnati',\n",
       "       'Case Western Reserve University', 'Babeş-Bolyai University',\n",
       "       'University of Cologne', 'Ohio State University',\n",
       "       'University of Copenhagen', 'University College Cork',\n",
       "       'Federal University of Paraná (UFPR)',\n",
       "       'University of Texas at Dallas',\n",
       "       'Indian Institute of Technology Delhi', 'University of Michigan',\n",
       "       'Qatar University', 'TU Dresden', 'American University of Sharjah',\n",
       "       'Trinity College Dublin', '517.09', 'University of Edinburgh',\n",
       "       'University of Alberta', 'Eindhoven University of Technology',\n",
       "       'University of Oregon', 'University of Florence',\n",
       "       'Federal University of Santa Catarina',\n",
       "       'Colorado State University', 'Goethe University Frankfurt',\n",
       "       'Kyushu University', 'Gdańsk University of Technology',\n",
       "       'University of Geneva', 'University of Glasgow',\n",
       "       'University of Gothenburg', 'Joseph Fourier University', '413.57',\n",
       "       'Dalhousie University', 'Leibniz University of Hanover',\n",
       "       'Aalto University', '508.97', 'University of Hong Kong',\n",
       "       'University of Hawai’i at Mānoa', 'Rice University',\n",
       "       'University of Innsbruck', 'Koç University',\n",
       "       'University of Indonesia', 'University of the Witwatersrand',\n",
       "       'Karlsruhe Institute of Technology',\n",
       "       'Taras Shevchenko National University of Kyiv',\n",
       "       'University of Tennessee, Knoxville',\n",
       "       'AGH University of Science and Technology',\n",
       "       'Universiti Putra Malaysia', 'Kyoto University',\n",
       "       'École Polytechnique Fédérale de Lausanne', 'University of Leeds',\n",
       "       'Lille 1 University – Science and Technology', '365.47',\n",
       "       'Instituto Superior Técnico Lisboa', 'University of Liverpool',\n",
       "       'University of Ljubljana', 'Imperial College London',\n",
       "       'California Institute of Technology', '494.80',\n",
       "       'École Normale Supérieure de Lyon',\n",
       "       'University of Wisconsin-Madison',\n",
       "       'Autonomous University of Madrid', '481.75',\n",
       "       'University of Manchester', 'Aix-Marseille University',\n",
       "       'University of Antioquia', 'University of Melbourne',\n",
       "       'National Autonomous University of Mexico', 'University of Miami',\n",
       "       'Polytechnic University of Milan', 'Medical College of Wisconsin',\n",
       "       'University of Minnesota', 'Belarusian State University', '410.98',\n",
       "       'McGill University', 'Lomonosov Moscow State University',\n",
       "       'Indian Institute of Technology Bombay', 'LMU Munich',\n",
       "       'University of Nairobi', 'University of Nantes',\n",
       "       'University of Naples Federico II', 'Vanderbilt University',\n",
       "       'Tulane University', 'Columbia University',\n",
       "       'University of Nice Sophia Antipolis', 'University of Cyprus',\n",
       "       'University of Nebraska Medical Center', 'Osaka University',\n",
       "       'University of Oslo', 'University of Ottawa', 'University of Oulu',\n",
       "       'University of Oxford', 'École Normale Supérieure',\n",
       "       'University of Western Australia', 'University of Pennsylvania',\n",
       "       'Arizona State University', '418.52', 'Carnegie Mellon University',\n",
       "       'Oregon Health and Science University', 'University of Porto',\n",
       "       'Pontifical Catholic University of Rio Grande do Sul (PUCRS)',\n",
       "       'Charles University in Prague', 'Brown University',\n",
       "       'Laval University', 'Duke University', 'University of Iceland',\n",
       "       'University of Latvia',\n",
       "       'Pontifical Catholic University of Rio de Janeiro (PUC-Rio)',\n",
       "       'King Saud University', 'University of Rochester',\n",
       "       'Sapienza University of Rome', '531.84',\n",
       "       'Saint Petersburg State University', 'University of Utah',\n",
       "       'University of Texas at San Antonio',\n",
       "       'University of California, San Diego', 'Stanford University',\n",
       "       '406.48', 'Pontifical Catholic University of Chile', '55',\n",
       "       'University of São Paulo', 'University of Saskatchewan',\n",
       "       'University of Washington', 'Seoul National University',\n",
       "       'University of Seville', 'Fudan University',\n",
       "       'National University of Singapore', '53', '442.60',\n",
       "       'Washington University in St Louis', 'Karolinska Institute',\n",
       "       'University of Stuttgart', 'University of Sydney',\n",
       "       'National Taiwan University', 'Tallinn University of Technology',\n",
       "       'University of South Florida', 'University of Tampere',\n",
       "       'University of Tartu', '45', 'Sharif University of Technology',\n",
       "       'Tel Aviv University', 'Aristotle University of Thessaloniki',\n",
       "       'University of Tokyo', 'University of Toronto',\n",
       "       'Toulouse 1 Capitole University', '377.83',\n",
       "       'Polytechnic University of Turin', 'University of Turku',\n",
       "       'Uppsala University', 'Utrecht University',\n",
       "       'University of Valencia', '26', 'University of British Columbia',\n",
       "       'University of Victoria', 'University of Vienna',\n",
       "       'Vilnius University', 'Warsaw University of Technology',\n",
       "       'University of Maryland, College Park',\n",
       "       'Victoria University of Wellington', 'University of Manitoba',\n",
       "       '518.54', '480.08',\n",
       "       'ETH Zurich – Swiss Federal Institute of Technology Zurich'],\n",
       "      dtype=object)"
      ]
     },
     "execution_count": 157,
     "metadata": {},
     "output_type": "execute_result"
    }
   ],
   "source": [
    "copia.Best_university.unique()"
   ]
  },
  {
   "cell_type": "code",
   "execution_count": 167,
   "id": "4f03cc1c",
   "metadata": {},
   "outputs": [],
   "source": [
    "import re\n",
    "\n",
    "def replace_num(list):\n",
    "    for i in list:\n",
    "        if i == (re.findall(\"\\d+\",i)):\n",
    "            i = i.replace(\"No hay dato\")\n",
    "        return i"
   ]
  },
  {
   "cell_type": "code",
   "execution_count": 168,
   "id": "04d5ae4b",
   "metadata": {},
   "outputs": [],
   "source": [
    "algunos = ['University of Bern', '490.84', 'University of Birmingham',\n",
    "       'University of the Andes', 'University of Bologna',\n",
    "       'University of Bordeaux', 'Massachusetts Institute of Technology',\n",
    "       'University of Colorado Boulder', 'Montana State University',\n",
    "       'Comenius University in Bratislava', 'University of Sussex',\n",
    "       'University of Queensland', 'University of Bristol',\n",
    "       'Masaryk University', 'KU Leuven', 'University of Bucharest',\n",
    "       'Semmelweis University', '391.41', 'University at Buffalo']"
   ]
  },
  {
   "cell_type": "code",
   "execution_count": 170,
   "id": "76aa869a",
   "metadata": {},
   "outputs": [],
   "source": [
    "x=replace_num(algunos)"
   ]
  },
  {
   "cell_type": "code",
   "execution_count": 171,
   "id": "daef2b3b",
   "metadata": {},
   "outputs": [
    {
     "data": {
      "text/plain": [
       "'University of Bern'"
      ]
     },
     "execution_count": 171,
     "metadata": {},
     "output_type": "execute_result"
    }
   ],
   "source": [
    "x"
   ]
  },
  {
   "cell_type": "markdown",
   "id": "42c0ef9f",
   "metadata": {},
   "source": [
    "#### Algunas de las columnas tienen datos que no se corresponden con la medición de esa columna, por lo que reemplzaremos esos números por 0, dandole la asignación de que no tenemos datos sobre ese lugar."
   ]
  },
  {
   "cell_type": "markdown",
   "id": "b2f30ea3",
   "metadata": {},
   "source": [
    "### Continuamos la limpieza de nuestros datos:"
   ]
  },
  {
   "cell_type": "code",
   "execution_count": 55,
   "id": "cd4ae2b3",
   "metadata": {},
   "outputs": [],
   "source": [
    "def change(x):\n",
    "    x = str(x).split('.')[0]\n",
    "    return x"
   ]
  },
  {
   "cell_type": "code",
   "execution_count": 57,
   "id": "5fedc078",
   "metadata": {},
   "outputs": [],
   "source": [
    "copia[\"Airport_hub\"] = copia[\"Airport_hub\"].apply(change) "
   ]
  },
  {
   "cell_type": "code",
   "execution_count": 102,
   "id": "6306f60c",
   "metadata": {},
   "outputs": [],
   "source": [
    "copia[\"Pisa_ranking\"] =copia[\"Pisa_ranking\"].apply(change) "
   ]
  },
  {
   "cell_type": "code",
   "execution_count": 101,
   "id": "2ee335cf",
   "metadata": {},
   "outputs": [],
   "source": [
    "copia[\"Concert_venues\"] = copia[\"Concert_venues\"].apply(change)"
   ]
  },
  {
   "cell_type": "code",
   "execution_count": 109,
   "id": "28d4b67c",
   "metadata": {},
   "outputs": [],
   "source": [
    "copia[\"Museums\"] = copia[\"Museums\"].apply(change)"
   ]
  },
  {
   "cell_type": "code",
   "execution_count": 115,
   "id": "60b1aaf1",
   "metadata": {},
   "outputs": [],
   "source": [
    "copia[\"Sport_venues\"] = copia[\"Sport_venues\"].apply(change)"
   ]
  },
  {
   "cell_type": "markdown",
   "id": "b5a7b9c1",
   "metadata": {},
   "source": [
    "### A continuación debemos convertir el dtype de las columnas"
   ]
  },
  {
   "cell_type": "code",
   "execution_count": null,
   "id": "1f8a70da",
   "metadata": {},
   "outputs": [],
   "source": [
    "copia.info()"
   ]
  },
  {
   "cell_type": "code",
   "execution_count": null,
   "id": "31b51f52",
   "metadata": {},
   "outputs": [],
   "source": [
    "copia.head()"
   ]
  },
  {
   "cell_type": "code",
   "execution_count": null,
   "id": "f7b2446f",
   "metadata": {},
   "outputs": [],
   "source": [
    "## Con estas columnas hay diversos problemas a solucionar"
   ]
  },
  {
   "cell_type": "code",
   "execution_count": 117,
   "id": "79780dad",
   "metadata": {},
   "outputs": [
    {
     "data": {
      "text/plain": [
       "array(['DKK', 'AUD', 'USD', 'KZT', 'EUR', 'TRY', 'PYG', 'NZD', 'AZN',\n",
       "       'IDR', '0.43', 'THB', 'CNY', 'LBP', 'GBP', 'RSD', 'INR', 'NOK',\n",
       "       'CHF', 'COP', 'CZK', 'RON', 'HUF', 'ARS', 'EGP', 'CAD', 'ZAR',\n",
       "       'VEF', 'MAD', 'MDL', 'BRL', 'TZS', 'QAR', 'AED', 'JPY', 'PLN',\n",
       "       'GIP', 'SEK', 'MXN', 'GTQ', 'CUC', 'VND', 'HKD', 'NPR', 'UAH',\n",
       "       'JMD', 'MYR', 'NGN', 'BOB', 'PEN', 'NIO', 'PHP', 'BYN', 'UYU',\n",
       "       'RUB', 'KES', 'No hay dato', 'PAB', 'KHR', 'ISK', 'SAR', 'CRC',\n",
       "       'CLP', 'DOP', 'BAM', 'KRW', 'SGD', 'MKD', 'BGN', 'TWD', 'UZS',\n",
       "       'GEL', 'IRR', 'ILS', 'TND', 'AMD', 'HRK'], dtype=object)"
      ]
     },
     "execution_count": 117,
     "metadata": {},
     "output_type": "execute_result"
    }
   ],
   "source": [
    "copia.Currency_for_urban_area.unique()"
   ]
  },
  {
   "cell_type": "code",
   "execution_count": 119,
   "id": "b3f5770d",
   "metadata": {},
   "outputs": [
    {
     "data": {
      "text/plain": [
       "array(['5%', '7%', '9%', '3%', '4%', '-1%', '13%', '6%', '12%', '-2%',\n",
       "       '10%', '16%', '8%', '80', '0%', '18%', '1%', '82', '2%', '43%',\n",
       "       '-4%', '11%', '127%', '14%', '-41%', '34%', '-3%', '-39%', '62%',\n",
       "       '17%', '-11%', '36%', '-5%', '-6%'], dtype=object)"
      ]
     },
     "execution_count": 119,
     "metadata": {},
     "output_type": "execute_result"
    }
   ],
   "source": [
    "copia.Growth.unique()"
   ]
  },
  {
   "cell_type": "code",
   "execution_count": 120,
   "id": "ef19603c",
   "metadata": {},
   "outputs": [
    {
     "data": {
      "text/plain": [
       "array(['4%', '6%', '5%', '0', '10%', '25%', '1%', '20%', '19%', '8%',\n",
       "       '3%', '11%', '7%', '13%', '27%', '2%', '9%', '46%', '14%', '24%',\n",
       "       '12%', '40%', '0%', '43%', '15%', '18%', '16%'], dtype=object)"
      ]
     },
     "execution_count": 120,
     "metadata": {},
     "output_type": "execute_result"
    }
   ],
   "source": [
    "copia.Unemployment.unique()"
   ]
  },
  {
   "cell_type": "code",
   "execution_count": 138,
   "id": "77be11fd",
   "metadata": {},
   "outputs": [
    {
     "data": {
      "text/plain": [
       "array(['Aarhus University', 'University of Adelaide',\n",
       "       'University of New Mexico', '427.97', 'University of Amsterdam',\n",
       "       '478.04', 'No hay dato', 'Bilkent University',\n",
       "       'National and Kapodistrian University of Athens',\n",
       "       'Georgia Institute of Technology', 'University of Auckland',\n",
       "       'University of Texas at Austin', '362.42',\n",
       "       'Johns Hopkins University', 'Mahidol University',\n",
       "       'Autonomous University of Barcelona', 'Peking University',\n",
       "       'American University of Beirut', 'Queen’s University Belfast',\n",
       "       'University of Belgrade', 'Indian Institute of Science',\n",
       "       'University of Bergen', 'Humboldt University of Berlin',\n",
       "       'University of Bern', '490.84', 'University of Birmingham',\n",
       "       'University of the Andes', 'University of Bologna',\n",
       "       'University of Bordeaux', 'Massachusetts Institute of Technology',\n",
       "       'University of Colorado Boulder', 'Montana State University',\n",
       "       'Comenius University in Bratislava', 'University of Sussex',\n",
       "       'University of Queensland', 'University of Bristol',\n",
       "       'Masaryk University', 'KU Leuven', 'University of Bucharest',\n",
       "       'Semmelweis University', '391.41', 'University at Buffalo',\n",
       "       'Cairo University', 'University of Calgary',\n",
       "       'University of Cambridge', 'University of Cape Town',\n",
       "       'Cardiff University', 'Indian Institute of Technology Madras',\n",
       "       'Chiang Mai University', 'University of Chicago', '40',\n",
       "       'University of Canterbury', 'University of Cincinnati',\n",
       "       'Case Western Reserve University', 'Babeş-Bolyai University',\n",
       "       'University of Cologne', 'Ohio State University',\n",
       "       'University of Copenhagen', 'University College Cork',\n",
       "       'Federal University of Paraná (UFPR)',\n",
       "       'University of Texas at Dallas',\n",
       "       'Indian Institute of Technology Delhi', 'University of Michigan',\n",
       "       'Qatar University', 'TU Dresden', 'American University of Sharjah',\n",
       "       'Trinity College Dublin', '517.09', 'University of Edinburgh',\n",
       "       'University of Alberta', 'Eindhoven University of Technology',\n",
       "       'University of Oregon', 'University of Florence',\n",
       "       'Federal University of Santa Catarina',\n",
       "       'Colorado State University', 'Goethe University Frankfurt',\n",
       "       'Kyushu University', 'Gdańsk University of Technology',\n",
       "       'University of Geneva', 'University of Glasgow',\n",
       "       'University of Gothenburg', 'Joseph Fourier University', '413.57',\n",
       "       'Dalhousie University', 'Leibniz University of Hanover',\n",
       "       'Aalto University', '508.97', 'University of Hong Kong',\n",
       "       'University of Hawai’i at Mānoa', 'Rice University',\n",
       "       'University of Innsbruck', 'Koç University',\n",
       "       'University of Indonesia', 'University of the Witwatersrand',\n",
       "       'Karlsruhe Institute of Technology',\n",
       "       'Taras Shevchenko National University of Kyiv',\n",
       "       'University of Tennessee, Knoxville',\n",
       "       'AGH University of Science and Technology',\n",
       "       'Universiti Putra Malaysia', 'Kyoto University',\n",
       "       'École Polytechnique Fédérale de Lausanne', 'University of Leeds',\n",
       "       'Lille 1 University – Science and Technology', '365.47',\n",
       "       'Instituto Superior Técnico Lisboa', 'University of Liverpool',\n",
       "       'University of Ljubljana', 'Imperial College London',\n",
       "       'California Institute of Technology', '494.80',\n",
       "       'École Normale Supérieure de Lyon',\n",
       "       'University of Wisconsin-Madison',\n",
       "       'Autonomous University of Madrid', '481.75',\n",
       "       'University of Manchester', 'Aix-Marseille University',\n",
       "       'University of Antioquia', 'University of Melbourne',\n",
       "       'National Autonomous University of Mexico', 'University of Miami',\n",
       "       'Polytechnic University of Milan', 'Medical College of Wisconsin',\n",
       "       'University of Minnesota', 'Belarusian State University', '410.98',\n",
       "       'McGill University', 'Lomonosov Moscow State University',\n",
       "       'Indian Institute of Technology Bombay', 'LMU Munich',\n",
       "       'University of Nairobi', 'University of Nantes',\n",
       "       'University of Naples Federico II', 'Vanderbilt University',\n",
       "       'Tulane University', 'Columbia University',\n",
       "       'University of Nice Sophia Antipolis', 'University of Cyprus',\n",
       "       'University of Nebraska Medical Center', 'Osaka University',\n",
       "       'University of Oslo', 'University of Ottawa', 'University of Oulu',\n",
       "       'University of Oxford', 'École Normale Supérieure',\n",
       "       'University of Western Australia', 'University of Pennsylvania',\n",
       "       'Arizona State University', '418.52', 'Carnegie Mellon University',\n",
       "       'Oregon Health and Science University', 'University of Porto',\n",
       "       'Pontifical Catholic University of Rio Grande do Sul (PUCRS)',\n",
       "       'Charles University in Prague', 'Brown University',\n",
       "       'Laval University', 'Duke University', 'University of Iceland',\n",
       "       'University of Latvia',\n",
       "       'Pontifical Catholic University of Rio de Janeiro (PUC-Rio)',\n",
       "       'King Saud University', 'University of Rochester',\n",
       "       'Sapienza University of Rome', '531.84',\n",
       "       'Saint Petersburg State University', 'University of Utah',\n",
       "       'University of Texas at San Antonio',\n",
       "       'University of California, San Diego', 'Stanford University',\n",
       "       '406.48', 'Pontifical Catholic University of Chile', '55',\n",
       "       'University of São Paulo', 'University of Saskatchewan',\n",
       "       'University of Washington', 'Seoul National University',\n",
       "       'University of Seville', 'Fudan University',\n",
       "       'National University of Singapore', '53', '442.60',\n",
       "       'Washington University in St Louis', 'Karolinska Institute',\n",
       "       'University of Stuttgart', 'University of Sydney',\n",
       "       'National Taiwan University', 'Tallinn University of Technology',\n",
       "       'University of South Florida', 'University of Tampere',\n",
       "       'University of Tartu', '45', 'Sharif University of Technology',\n",
       "       'Tel Aviv University', 'Aristotle University of Thessaloniki',\n",
       "       'University of Tokyo', 'University of Toronto',\n",
       "       'Toulouse 1 Capitole University', '377.83',\n",
       "       'Polytechnic University of Turin', 'University of Turku',\n",
       "       'Uppsala University', 'Utrecht University',\n",
       "       'University of Valencia', '26', 'University of British Columbia',\n",
       "       'University of Victoria', 'University of Vienna',\n",
       "       'Vilnius University', 'Warsaw University of Technology',\n",
       "       'University of Maryland, College Park',\n",
       "       'Victoria University of Wellington', 'University of Manitoba',\n",
       "       '518.54', '480.08',\n",
       "       'ETH Zurich – Swiss Federal Institute of Technology Zurich'],\n",
       "      dtype=object)"
      ]
     },
     "execution_count": 138,
     "metadata": {},
     "output_type": "execute_result"
    }
   ],
   "source": [
    "copia.Best_university.unique()"
   ]
  },
  {
   "cell_type": "markdown",
   "id": "5b6a1532",
   "metadata": {},
   "source": [
    "#### Por ahora, nos centremos en el resto de columnas que ya podemos convertir"
   ]
  },
  {
   "cell_type": "code",
   "execution_count": 67,
   "id": "ef0aabf7",
   "metadata": {},
   "outputs": [
    {
     "name": "stdout",
     "output_type": "stream",
     "text": [
      "<class 'pandas.core.frame.DataFrame'>\n",
      "RangeIndex: 262 entries, 0 to 261\n",
      "Data columns (total 34 columns):\n",
      " #   Column                           Non-Null Count  Dtype \n",
      "---  ------                           --------------  ----- \n",
      " 0   Unnamed: 0                       262 non-null    int64 \n",
      " 1   Airport_hub                      262 non-null    object\n",
      " 2   Intercity_train_connectivity     262 non-null    object\n",
      " 3   Gun_related_deaths               262 non-null    object\n",
      " 4   Guns_per_residents               262 non-null    object\n",
      " 5   Pisa_ranking                     262 non-null    object\n",
      " 6   Best_university                  262 non-null    object\n",
      " 7   Monthly_Fitness_Club_Membership  262 non-null    object\n",
      " 8   Beer                             262 non-null    object\n",
      " 9   Monthly_Public_Transport         262 non-null    object\n",
      " 10  Lunch                            262 non-null    object\n",
      " 11  Large_apartment                  262 non-null    object\n",
      " 12  Medium_apartment                 262 non-null    int64 \n",
      " 13  Small_apartment                  262 non-null    object\n",
      " 14  cities                           262 non-null    object\n",
      " 15  Description                      262 non-null    object\n",
      " 16  Poblacion                        262 non-null    object\n",
      " 17  Homosexuality_acceptance         262 non-null    object\n",
      " 18  LGBT_adoption_rights             262 non-null    object\n",
      " 19  LGBT_homosexuality_rights        262 non-null    object\n",
      " 20  LGBT_marriage_rights             262 non-null    object\n",
      " 21  VAT_Sales_Tax                    262 non-null    object\n",
      " 22  Art_galleries                    262 non-null    object\n",
      " 23  Concert_venues                   262 non-null    object\n",
      " 24  Museums                          262 non-null    object\n",
      " 25  Sport_venues                     262 non-null    object\n",
      " 26  Currency_for_urban_area          262 non-null    object\n",
      " 27  GDP_per_capita_uno               262 non-null    object\n",
      " 28  Growth                           262 non-null    object\n",
      " 29  GDP_per_capita_otro              262 non-null    object\n",
      " 30  Unemployment                     262 non-null    object\n",
      " 31  url                              262 non-null    object\n",
      " 32  Average_Annual_percent_sunshine  262 non-null    object\n",
      " 33  Small_apart                      262 non-null    int64 \n",
      "dtypes: int64(3), object(31)\n",
      "memory usage: 69.7+ KB\n"
     ]
    }
   ],
   "source": [
    "copia.info()"
   ]
  },
  {
   "cell_type": "code",
   "execution_count": 70,
   "id": "a8128f7f",
   "metadata": {},
   "outputs": [],
   "source": [
    "copia[\"Small_apartment\"] = copia[\"Small_apartment\"].astype(dtype=int)"
   ]
  },
  {
   "cell_type": "code",
   "execution_count": 66,
   "id": "b19849bc",
   "metadata": {},
   "outputs": [],
   "source": [
    "copia[\"Medium_apartment\"] = copia[\"Medium_apartment\"].astype(dtype=int)"
   ]
  },
  {
   "cell_type": "code",
   "execution_count": 71,
   "id": "bfe9fe20",
   "metadata": {},
   "outputs": [],
   "source": [
    "copia[\"Large_apartment\"] = copia[\"Large_apartment\"].astype(dtype=int)"
   ]
  },
  {
   "cell_type": "code",
   "execution_count": 73,
   "id": "1cd4a982",
   "metadata": {},
   "outputs": [],
   "source": [
    "copia[\"Airport_hub\"] = copia[\"Airport_hub\"].astype(dtype=int)"
   ]
  },
  {
   "cell_type": "code",
   "execution_count": 76,
   "id": "66a03b09",
   "metadata": {},
   "outputs": [],
   "source": [
    "copia[\"Gun_related_deaths\"] = copia[\"Gun_related_deaths\"].astype(dtype=int)"
   ]
  },
  {
   "cell_type": "code",
   "execution_count": 78,
   "id": "f94be9ea",
   "metadata": {},
   "outputs": [],
   "source": [
    "copia[\"Guns_per_residents\"] = copia[\"Guns_per_residents\"].astype(dtype=int)"
   ]
  },
  {
   "cell_type": "code",
   "execution_count": 104,
   "id": "633b626c",
   "metadata": {},
   "outputs": [],
   "source": [
    "copia[\"Pisa_ranking\"] = copia[\"Pisa_ranking\"].astype(dtype=int)"
   ]
  },
  {
   "cell_type": "code",
   "execution_count": 107,
   "id": "1f070537",
   "metadata": {},
   "outputs": [],
   "source": [
    "#copia[\"Monthly_Fitness_Club_Membership\"] = copia[\"Monthly_Fitness_Club_Membership\"].astype(dtype=int)"
   ]
  },
  {
   "cell_type": "code",
   "execution_count": 116,
   "id": "71b9acb1",
   "metadata": {},
   "outputs": [],
   "source": [
    "#copia.Monthly_Fitness_Club_Membership.unique()"
   ]
  },
  {
   "cell_type": "code",
   "execution_count": 91,
   "id": "8d56315c",
   "metadata": {},
   "outputs": [],
   "source": [
    "copia[\"Poblacion\"] = copia[\"Poblacion\"].astype(dtype=int)"
   ]
  },
  {
   "cell_type": "code",
   "execution_count": 97,
   "id": "a0d86de2",
   "metadata": {},
   "outputs": [],
   "source": [
    "copia[\"Art_galleries\"] = copia[\"Art_galleries\"].astype(dtype=int)"
   ]
  },
  {
   "cell_type": "code",
   "execution_count": 103,
   "id": "3ccff4ec",
   "metadata": {},
   "outputs": [],
   "source": [
    "copia[\"Concert_venues\"] = copia[\"Concert_venues\"].astype(dtype=int)"
   ]
  },
  {
   "cell_type": "code",
   "execution_count": 110,
   "id": "181c3daf",
   "metadata": {},
   "outputs": [],
   "source": [
    "copia[\"Museums\"] = copia[\"Museums\"].astype(dtype=int)"
   ]
  },
  {
   "cell_type": "code",
   "execution_count": 136,
   "id": "88b3cb58",
   "metadata": {},
   "outputs": [],
   "source": [
    "copia[\"Sport_venues\"] = copia[\"Sport_venues\"].astype(dtype=int)"
   ]
  },
  {
   "cell_type": "code",
   "execution_count": 80,
   "id": "8886c46f",
   "metadata": {},
   "outputs": [
    {
     "data": {
      "text/html": [
       "<div>\n",
       "<style scoped>\n",
       "    .dataframe tbody tr th:only-of-type {\n",
       "        vertical-align: middle;\n",
       "    }\n",
       "\n",
       "    .dataframe tbody tr th {\n",
       "        vertical-align: top;\n",
       "    }\n",
       "\n",
       "    .dataframe thead th {\n",
       "        text-align: right;\n",
       "    }\n",
       "</style>\n",
       "<table border=\"1\" class=\"dataframe\">\n",
       "  <thead>\n",
       "    <tr style=\"text-align: right;\">\n",
       "      <th></th>\n",
       "      <th>Unnamed: 0</th>\n",
       "      <th>Airport_hub</th>\n",
       "      <th>Intercity_train_connectivity</th>\n",
       "      <th>Gun_related_deaths</th>\n",
       "      <th>Guns_per_residents</th>\n",
       "      <th>Pisa_ranking</th>\n",
       "      <th>Best_university</th>\n",
       "      <th>Monthly_Fitness_Club_Membership</th>\n",
       "      <th>Beer</th>\n",
       "      <th>Monthly_Public_Transport</th>\n",
       "      <th>...</th>\n",
       "      <th>Museums</th>\n",
       "      <th>Sport_venues</th>\n",
       "      <th>Currency_for_urban_area</th>\n",
       "      <th>GDP_per_capita_uno</th>\n",
       "      <th>Growth</th>\n",
       "      <th>GDP_per_capita_otro</th>\n",
       "      <th>Unemployment</th>\n",
       "      <th>url</th>\n",
       "      <th>Average_Annual_percent_sunshine</th>\n",
       "      <th>Small_apart</th>\n",
       "    </tr>\n",
       "  </thead>\n",
       "  <tbody>\n",
       "    <tr>\n",
       "      <th>0</th>\n",
       "      <td>0</td>\n",
       "      <td>8</td>\n",
       "      <td>0.59</td>\n",
       "      <td>1</td>\n",
       "      <td>12</td>\n",
       "      <td>13</td>\n",
       "      <td>Aarhus University</td>\n",
       "      <td>37.00</td>\n",
       "      <td>1.70</td>\n",
       "      <td>62.00</td>\n",
       "      <td>...</td>\n",
       "      <td>18</td>\n",
       "      <td>21</td>\n",
       "      <td>DKK</td>\n",
       "      <td>44342.66</td>\n",
       "      <td>5%</td>\n",
       "      <td>44.343</td>\n",
       "      <td>4%</td>\n",
       "      <td>https://teleport.org/cities/aarhus/</td>\n",
       "      <td>0</td>\n",
       "      <td>840</td>\n",
       "    </tr>\n",
       "    <tr>\n",
       "      <th>1</th>\n",
       "      <td>1</td>\n",
       "      <td>26</td>\n",
       "      <td>0.17</td>\n",
       "      <td>1</td>\n",
       "      <td>24</td>\n",
       "      <td>16</td>\n",
       "      <td>University of Adelaide</td>\n",
       "      <td>50.00</td>\n",
       "      <td>4.30</td>\n",
       "      <td>80.00</td>\n",
       "      <td>...</td>\n",
       "      <td>37</td>\n",
       "      <td>91</td>\n",
       "      <td>AUD</td>\n",
       "      <td>46433.30</td>\n",
       "      <td>7%</td>\n",
       "      <td>46.433</td>\n",
       "      <td>6%</td>\n",
       "      <td>https://teleport.org/cities/adelaide/</td>\n",
       "      <td>12.6</td>\n",
       "      <td>1000</td>\n",
       "    </tr>\n",
       "    <tr>\n",
       "      <th>2</th>\n",
       "      <td>2</td>\n",
       "      <td>23</td>\n",
       "      <td>0.11</td>\n",
       "      <td>16</td>\n",
       "      <td>328</td>\n",
       "      <td>24</td>\n",
       "      <td>University of New Mexico</td>\n",
       "      <td>52.00</td>\n",
       "      <td>2.90</td>\n",
       "      <td>37.00</td>\n",
       "      <td>...</td>\n",
       "      <td>35</td>\n",
       "      <td>10</td>\n",
       "      <td>USD</td>\n",
       "      <td>54596.65</td>\n",
       "      <td>7%</td>\n",
       "      <td>54.597</td>\n",
       "      <td>5%</td>\n",
       "      <td>https://teleport.org/cities/albuquerque/</td>\n",
       "      <td>168</td>\n",
       "      <td>760</td>\n",
       "    </tr>\n",
       "    <tr>\n",
       "      <th>3</th>\n",
       "      <td>3</td>\n",
       "      <td>45</td>\n",
       "      <td>0.66</td>\n",
       "      <td>1</td>\n",
       "      <td>1</td>\n",
       "      <td>39</td>\n",
       "      <td>427.97</td>\n",
       "      <td>83.00</td>\n",
       "      <td>0.68</td>\n",
       "      <td>19.00</td>\n",
       "      <td>...</td>\n",
       "      <td>24</td>\n",
       "      <td>53</td>\n",
       "      <td>KZT</td>\n",
       "      <td>24019.95</td>\n",
       "      <td>9%</td>\n",
       "      <td>24.020</td>\n",
       "      <td>6%</td>\n",
       "      <td>https://teleport.org/cities/almaty/</td>\n",
       "      <td>64</td>\n",
       "      <td>340</td>\n",
       "    </tr>\n",
       "    <tr>\n",
       "      <th>4</th>\n",
       "      <td>4</td>\n",
       "      <td>237</td>\n",
       "      <td>0.68</td>\n",
       "      <td>1</td>\n",
       "      <td>4</td>\n",
       "      <td>10</td>\n",
       "      <td>University of Amsterdam</td>\n",
       "      <td>49.00</td>\n",
       "      <td>2.10</td>\n",
       "      <td>100.00</td>\n",
       "      <td>...</td>\n",
       "      <td>187</td>\n",
       "      <td>154</td>\n",
       "      <td>EUR</td>\n",
       "      <td>47354.53</td>\n",
       "      <td>3%</td>\n",
       "      <td>47.355</td>\n",
       "      <td>6%</td>\n",
       "      <td>https://teleport.org/cities/amsterdam/</td>\n",
       "      <td>12.9</td>\n",
       "      <td>1600</td>\n",
       "    </tr>\n",
       "  </tbody>\n",
       "</table>\n",
       "<p>5 rows × 34 columns</p>\n",
       "</div>"
      ],
      "text/plain": [
       "   Unnamed: 0  Airport_hub Intercity_train_connectivity  Gun_related_deaths  \\\n",
       "0           0            8                         0.59                   1   \n",
       "1           1           26                         0.17                   1   \n",
       "2           2           23                         0.11                  16   \n",
       "3           3           45                         0.66                   1   \n",
       "4           4          237                         0.68                   1   \n",
       "\n",
       "   Guns_per_residents Pisa_ranking           Best_university  \\\n",
       "0                  12           13         Aarhus University   \n",
       "1                  24           16    University of Adelaide   \n",
       "2                 328           24  University of New Mexico   \n",
       "3                   1           39                    427.97   \n",
       "4                   4           10   University of Amsterdam   \n",
       "\n",
       "  Monthly_Fitness_Club_Membership  Beer Monthly_Public_Transport  ... Museums  \\\n",
       "0                           37.00  1.70                    62.00  ...      18   \n",
       "1                           50.00  4.30                    80.00  ...      37   \n",
       "2                           52.00  2.90                    37.00  ...      35   \n",
       "3                           83.00  0.68                    19.00  ...      24   \n",
       "4                           49.00  2.10                   100.00  ...     187   \n",
       "\n",
       "   Sport_venues  Currency_for_urban_area  GDP_per_capita_uno Growth  \\\n",
       "0            21                      DKK            44342.66     5%   \n",
       "1            91                      AUD            46433.30     7%   \n",
       "2            10                      USD            54596.65     7%   \n",
       "3            53                      KZT            24019.95     9%   \n",
       "4           154                      EUR            47354.53     3%   \n",
       "\n",
       "  GDP_per_capita_otro Unemployment                                       url  \\\n",
       "0              44.343           4%       https://teleport.org/cities/aarhus/   \n",
       "1              46.433           6%     https://teleport.org/cities/adelaide/   \n",
       "2              54.597           5%  https://teleport.org/cities/albuquerque/   \n",
       "3              24.020           6%       https://teleport.org/cities/almaty/   \n",
       "4              47.355           6%    https://teleport.org/cities/amsterdam/   \n",
       "\n",
       "  Average_Annual_percent_sunshine Small_apart  \n",
       "0                               0         840  \n",
       "1                            12.6        1000  \n",
       "2                             168         760  \n",
       "3                              64         340  \n",
       "4                            12.9        1600  \n",
       "\n",
       "[5 rows x 34 columns]"
      ]
     },
     "execution_count": 80,
     "metadata": {},
     "output_type": "execute_result"
    }
   ],
   "source": [
    "copia.head()"
   ]
  },
  {
   "cell_type": "code",
   "execution_count": 121,
   "id": "cc8a8750",
   "metadata": {},
   "outputs": [
    {
     "data": {
      "text/plain": [
       "array(['0', '12.6', '168', '64', '12.9', '61', '243', '101', '12.5',\n",
       "       '266.7', '110', '182.9', '116', '12.7', '207', '73', '209.5', '75',\n",
       "       '113', '160', '213', '35', '120', '288', '12.8', '98', '324',\n",
       "       '326', '124', '54', '297.1', '254', '260', '259', '111', '105',\n",
       "       '84', '238.3', '82', '66', '138', '127', '72', '13', '161', '228',\n",
       "       '136', '115', '76', '298', '337', '174', '227.8', '288.2', '281',\n",
       "       '282', '225', '330', '302', '90', '181', '44', '198', '13.2',\n",
       "       '277.1', '222', '200', '296', '265', '13.3', '91', '88', '95',\n",
       "       '246', '121', '285', '97', '217', '312', '65', '211', '290', '218',\n",
       "       '89', '241.4', '147', '93', '31', '94', '107', '252', '118', '96',\n",
       "       '103', '336', '139', '177', '246.7', '13.5', '102', '180', '58',\n",
       "       '68', '242', '99', '13.6', '100', '13.1', '130', '125', '106',\n",
       "       '271', '70', '236', '299.5', '71', '250', '129', '287', '291',\n",
       "       '13.4', '199.9', '213.1', '172', '49.4', '286', '36'], dtype=object)"
      ]
     },
     "execution_count": 121,
     "metadata": {},
     "output_type": "execute_result"
    }
   ],
   "source": [
    "copia.Average_Annual_percent_sunshine.unique()"
   ]
  },
  {
   "cell_type": "code",
   "execution_count": 122,
   "id": "92990c75",
   "metadata": {},
   "outputs": [],
   "source": [
    "copia[\"Intercity_train_connectivity\"] = copia[\"Intercity_train_connectivity\"].astype(dtype=float)"
   ]
  },
  {
   "cell_type": "code",
   "execution_count": 134,
   "id": "2372b23e",
   "metadata": {},
   "outputs": [],
   "source": [
    "copia[\"Monthly_Fitness_Club_Membership\"] = copia[\"Monthly_Fitness_Club_Membership\"].astype(dtype=float)"
   ]
  },
  {
   "cell_type": "code",
   "execution_count": 124,
   "id": "b8e0b993",
   "metadata": {},
   "outputs": [],
   "source": [
    "copia[\"Beer\"] = copia[\"Beer\"].astype(dtype=float)"
   ]
  },
  {
   "cell_type": "code",
   "execution_count": 125,
   "id": "79d8168c",
   "metadata": {},
   "outputs": [],
   "source": [
    "copia[\"Lunch\"] = copia[\"Lunch\"].astype(dtype=float)"
   ]
  },
  {
   "cell_type": "code",
   "execution_count": 126,
   "id": "2314aeae",
   "metadata": {},
   "outputs": [],
   "source": [
    "copia[\"Monthly_Public_Transport\"] = copia[\"Monthly_Public_Transport\"].astype(dtype=float)"
   ]
  },
  {
   "cell_type": "code",
   "execution_count": 127,
   "id": "06aa69f7",
   "metadata": {},
   "outputs": [],
   "source": [
    "copia[\"Homosexuality_acceptance\"] = copia[\"Homosexuality_acceptance\"].astype(dtype=float)"
   ]
  },
  {
   "cell_type": "code",
   "execution_count": 128,
   "id": "9ef5e8ef",
   "metadata": {},
   "outputs": [],
   "source": [
    "copia[\"VAT_Sales_Tax\"] = copia[\"VAT_Sales_Tax\"].astype(dtype=float)"
   ]
  },
  {
   "cell_type": "code",
   "execution_count": 130,
   "id": "811de099",
   "metadata": {},
   "outputs": [],
   "source": [
    "copia[\"Average_Annual_percent_sunshine\"] = copia[\"Average_Annual_percent_sunshine\"].astype(dtype=float)"
   ]
  },
  {
   "cell_type": "code",
   "execution_count": 154,
   "id": "2ffb0558",
   "metadata": {},
   "outputs": [],
   "source": [
    "copia[\"GDP_per_capita_uno\"] =copia[\"GDP_per_capita_uno\"].astype(dtype=float)"
   ]
  },
  {
   "cell_type": "markdown",
   "id": "f0c1e2b8",
   "metadata": {},
   "source": [
    "### A continuación eliminaremos algunas columnas que no utilizaremos"
   ]
  },
  {
   "cell_type": "code",
   "execution_count": 131,
   "id": "6e67f688",
   "metadata": {},
   "outputs": [],
   "source": [
    "copia.drop([\"Unnamed: 0\", \"GDP_per_capita_otro\", \"Small_apart\"], axis=1, inplace=True)"
   ]
  },
  {
   "cell_type": "code",
   "execution_count": 132,
   "id": "85a29d03",
   "metadata": {},
   "outputs": [
    {
     "data": {
      "text/html": [
       "<div>\n",
       "<style scoped>\n",
       "    .dataframe tbody tr th:only-of-type {\n",
       "        vertical-align: middle;\n",
       "    }\n",
       "\n",
       "    .dataframe tbody tr th {\n",
       "        vertical-align: top;\n",
       "    }\n",
       "\n",
       "    .dataframe thead th {\n",
       "        text-align: right;\n",
       "    }\n",
       "</style>\n",
       "<table border=\"1\" class=\"dataframe\">\n",
       "  <thead>\n",
       "    <tr style=\"text-align: right;\">\n",
       "      <th></th>\n",
       "      <th>Airport_hub</th>\n",
       "      <th>Intercity_train_connectivity</th>\n",
       "      <th>Gun_related_deaths</th>\n",
       "      <th>Guns_per_residents</th>\n",
       "      <th>Pisa_ranking</th>\n",
       "      <th>Best_university</th>\n",
       "      <th>Monthly_Fitness_Club_Membership</th>\n",
       "      <th>Beer</th>\n",
       "      <th>Monthly_Public_Transport</th>\n",
       "      <th>Lunch</th>\n",
       "      <th>...</th>\n",
       "      <th>Art_galleries</th>\n",
       "      <th>Concert_venues</th>\n",
       "      <th>Museums</th>\n",
       "      <th>Sport_venues</th>\n",
       "      <th>Currency_for_urban_area</th>\n",
       "      <th>GDP_per_capita_uno</th>\n",
       "      <th>Growth</th>\n",
       "      <th>Unemployment</th>\n",
       "      <th>url</th>\n",
       "      <th>Average_Annual_percent_sunshine</th>\n",
       "    </tr>\n",
       "  </thead>\n",
       "  <tbody>\n",
       "    <tr>\n",
       "      <th>0</th>\n",
       "      <td>8</td>\n",
       "      <td>0.59</td>\n",
       "      <td>1</td>\n",
       "      <td>12</td>\n",
       "      <td>13</td>\n",
       "      <td>Aarhus University</td>\n",
       "      <td>37.00</td>\n",
       "      <td>1.70</td>\n",
       "      <td>62.0</td>\n",
       "      <td>15.0</td>\n",
       "      <td>...</td>\n",
       "      <td>51</td>\n",
       "      <td>95</td>\n",
       "      <td>18</td>\n",
       "      <td>21</td>\n",
       "      <td>DKK</td>\n",
       "      <td>44342.66</td>\n",
       "      <td>5%</td>\n",
       "      <td>4%</td>\n",
       "      <td>https://teleport.org/cities/aarhus/</td>\n",
       "      <td>0.0</td>\n",
       "    </tr>\n",
       "    <tr>\n",
       "      <th>1</th>\n",
       "      <td>26</td>\n",
       "      <td>0.17</td>\n",
       "      <td>1</td>\n",
       "      <td>24</td>\n",
       "      <td>16</td>\n",
       "      <td>University of Adelaide</td>\n",
       "      <td>50.00</td>\n",
       "      <td>4.30</td>\n",
       "      <td>80.0</td>\n",
       "      <td>13.0</td>\n",
       "      <td>...</td>\n",
       "      <td>82</td>\n",
       "      <td>89</td>\n",
       "      <td>37</td>\n",
       "      <td>91</td>\n",
       "      <td>AUD</td>\n",
       "      <td>46433.30</td>\n",
       "      <td>7%</td>\n",
       "      <td>6%</td>\n",
       "      <td>https://teleport.org/cities/adelaide/</td>\n",
       "      <td>12.6</td>\n",
       "    </tr>\n",
       "    <tr>\n",
       "      <th>2</th>\n",
       "      <td>23</td>\n",
       "      <td>0.11</td>\n",
       "      <td>16</td>\n",
       "      <td>328</td>\n",
       "      <td>24</td>\n",
       "      <td>University of New Mexico</td>\n",
       "      <td>52.00</td>\n",
       "      <td>2.90</td>\n",
       "      <td>37.0</td>\n",
       "      <td>12.0</td>\n",
       "      <td>...</td>\n",
       "      <td>127</td>\n",
       "      <td>99</td>\n",
       "      <td>35</td>\n",
       "      <td>10</td>\n",
       "      <td>USD</td>\n",
       "      <td>54596.65</td>\n",
       "      <td>7%</td>\n",
       "      <td>5%</td>\n",
       "      <td>https://teleport.org/cities/albuquerque/</td>\n",
       "      <td>168.0</td>\n",
       "    </tr>\n",
       "    <tr>\n",
       "      <th>3</th>\n",
       "      <td>45</td>\n",
       "      <td>0.66</td>\n",
       "      <td>1</td>\n",
       "      <td>1</td>\n",
       "      <td>39</td>\n",
       "      <td>427.97</td>\n",
       "      <td>83.00</td>\n",
       "      <td>0.68</td>\n",
       "      <td>19.0</td>\n",
       "      <td>5.7</td>\n",
       "      <td>...</td>\n",
       "      <td>61</td>\n",
       "      <td>68</td>\n",
       "      <td>24</td>\n",
       "      <td>53</td>\n",
       "      <td>KZT</td>\n",
       "      <td>24019.95</td>\n",
       "      <td>9%</td>\n",
       "      <td>6%</td>\n",
       "      <td>https://teleport.org/cities/almaty/</td>\n",
       "      <td>64.0</td>\n",
       "    </tr>\n",
       "    <tr>\n",
       "      <th>4</th>\n",
       "      <td>237</td>\n",
       "      <td>0.68</td>\n",
       "      <td>1</td>\n",
       "      <td>4</td>\n",
       "      <td>10</td>\n",
       "      <td>University of Amsterdam</td>\n",
       "      <td>49.00</td>\n",
       "      <td>2.10</td>\n",
       "      <td>100.0</td>\n",
       "      <td>18.0</td>\n",
       "      <td>...</td>\n",
       "      <td>284</td>\n",
       "      <td>339</td>\n",
       "      <td>187</td>\n",
       "      <td>154</td>\n",
       "      <td>EUR</td>\n",
       "      <td>47354.53</td>\n",
       "      <td>3%</td>\n",
       "      <td>6%</td>\n",
       "      <td>https://teleport.org/cities/amsterdam/</td>\n",
       "      <td>12.9</td>\n",
       "    </tr>\n",
       "  </tbody>\n",
       "</table>\n",
       "<p>5 rows × 31 columns</p>\n",
       "</div>"
      ],
      "text/plain": [
       "   Airport_hub  Intercity_train_connectivity  Gun_related_deaths  \\\n",
       "0            8                          0.59                   1   \n",
       "1           26                          0.17                   1   \n",
       "2           23                          0.11                  16   \n",
       "3           45                          0.66                   1   \n",
       "4          237                          0.68                   1   \n",
       "\n",
       "   Guns_per_residents  Pisa_ranking           Best_university  \\\n",
       "0                  12            13         Aarhus University   \n",
       "1                  24            16    University of Adelaide   \n",
       "2                 328            24  University of New Mexico   \n",
       "3                   1            39                    427.97   \n",
       "4                   4            10   University of Amsterdam   \n",
       "\n",
       "  Monthly_Fitness_Club_Membership  Beer  Monthly_Public_Transport  Lunch  ...  \\\n",
       "0                           37.00  1.70                      62.0   15.0  ...   \n",
       "1                           50.00  4.30                      80.0   13.0  ...   \n",
       "2                           52.00  2.90                      37.0   12.0  ...   \n",
       "3                           83.00  0.68                      19.0    5.7  ...   \n",
       "4                           49.00  2.10                     100.0   18.0  ...   \n",
       "\n",
       "   Art_galleries  Concert_venues  Museums Sport_venues  \\\n",
       "0             51              95       18           21   \n",
       "1             82              89       37           91   \n",
       "2            127              99       35           10   \n",
       "3             61              68       24           53   \n",
       "4            284             339      187          154   \n",
       "\n",
       "  Currency_for_urban_area  GDP_per_capita_uno  Growth Unemployment  \\\n",
       "0                     DKK            44342.66      5%           4%   \n",
       "1                     AUD            46433.30      7%           6%   \n",
       "2                     USD            54596.65      7%           5%   \n",
       "3                     KZT            24019.95      9%           6%   \n",
       "4                     EUR            47354.53      3%           6%   \n",
       "\n",
       "                                        url Average_Annual_percent_sunshine  \n",
       "0       https://teleport.org/cities/aarhus/                             0.0  \n",
       "1     https://teleport.org/cities/adelaide/                            12.6  \n",
       "2  https://teleport.org/cities/albuquerque/                           168.0  \n",
       "3       https://teleport.org/cities/almaty/                            64.0  \n",
       "4    https://teleport.org/cities/amsterdam/                            12.9  \n",
       "\n",
       "[5 rows x 31 columns]"
      ]
     },
     "execution_count": 132,
     "metadata": {},
     "output_type": "execute_result"
    }
   ],
   "source": [
    "copia.head()"
   ]
  },
  {
   "cell_type": "code",
   "execution_count": 155,
   "id": "c0c3e584",
   "metadata": {},
   "outputs": [
    {
     "name": "stdout",
     "output_type": "stream",
     "text": [
      "<class 'pandas.core.frame.DataFrame'>\n",
      "RangeIndex: 262 entries, 0 to 261\n",
      "Data columns (total 31 columns):\n",
      " #   Column                           Non-Null Count  Dtype  \n",
      "---  ------                           --------------  -----  \n",
      " 0   Airport_hub                      262 non-null    int64  \n",
      " 1   Intercity_train_connectivity     262 non-null    float64\n",
      " 2   Gun_related_deaths               262 non-null    int64  \n",
      " 3   Guns_per_residents               262 non-null    int64  \n",
      " 4   Pisa_ranking                     262 non-null    int64  \n",
      " 5   Best_university                  262 non-null    object \n",
      " 6   Monthly_Fitness_Club_Membership  262 non-null    float64\n",
      " 7   Beer                             262 non-null    float64\n",
      " 8   Monthly_Public_Transport         262 non-null    float64\n",
      " 9   Lunch                            262 non-null    float64\n",
      " 10  Large_apartment                  262 non-null    int64  \n",
      " 11  Medium_apartment                 262 non-null    int64  \n",
      " 12  Small_apartment                  262 non-null    int64  \n",
      " 13  cities                           262 non-null    object \n",
      " 14  Description                      262 non-null    object \n",
      " 15  Poblacion                        262 non-null    int64  \n",
      " 16  Homosexuality_acceptance         262 non-null    float64\n",
      " 17  LGBT_adoption_rights             262 non-null    object \n",
      " 18  LGBT_homosexuality_rights        262 non-null    object \n",
      " 19  LGBT_marriage_rights             262 non-null    object \n",
      " 20  VAT_Sales_Tax                    262 non-null    float64\n",
      " 21  Art_galleries                    262 non-null    int64  \n",
      " 22  Concert_venues                   262 non-null    int64  \n",
      " 23  Museums                          262 non-null    int64  \n",
      " 24  Sport_venues                     262 non-null    int64  \n",
      " 25  Currency_for_urban_area          262 non-null    object \n",
      " 26  GDP_per_capita_uno               262 non-null    float64\n",
      " 27  Growth                           262 non-null    object \n",
      " 28  Unemployment                     262 non-null    object \n",
      " 29  url                              262 non-null    object \n",
      " 30  Average_Annual_percent_sunshine  262 non-null    float64\n",
      "dtypes: float64(9), int64(12), object(10)\n",
      "memory usage: 63.6+ KB\n"
     ]
    }
   ],
   "source": [
    "copia.info()"
   ]
  },
  {
   "cell_type": "code",
   "execution_count": null,
   "id": "3fd1fc26",
   "metadata": {},
   "outputs": [],
   "source": []
  }
 ],
 "metadata": {
  "kernelspec": {
   "display_name": "ironhack2",
   "language": "python",
   "name": "ironhack2"
  },
  "language_info": {
   "codemirror_mode": {
    "name": "ipython",
    "version": 3
   },
   "file_extension": ".py",
   "mimetype": "text/x-python",
   "name": "python",
   "nbconvert_exporter": "python",
   "pygments_lexer": "ipython3",
   "version": "3.8.5"
  }
 },
 "nbformat": 4,
 "nbformat_minor": 5
}
